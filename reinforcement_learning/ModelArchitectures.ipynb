{
 "cells": [
  {
   "cell_type": "markdown",
   "metadata": {},
   "source": [
    "---\n",
    "# Model Architectures\n",
    "----\n",
    "\n",
    "Build, simulate & test different architectures for the model.\n",
    "\n",
    "-> [model theory](https://ccn.studentorg.berkeley.edu/pdfs/papers/WilsonCollins_modelFitting.pdf)\n",
    "\n",
    "---\n",
    "```\n",
    ": zach.wolpe@medibio.com.au\n",
    ": 02.07.2024\n",
    "```\n",
    "---\n"
   ]
  },
  {
   "cell_type": "code",
   "execution_count": null,
   "metadata": {},
   "outputs": [],
   "source": [
    "import plotly.graph_objects as go\n",
    "from scipy.optimize import minimize # finding optimal params in models\n",
    "from scipy import stats             # statistical tools\n",
    "import numpy as np                  # matrix/array functions\n",
    "import pandas as pd                 # loading and manipulating data\n",
    "import ipywidgets as widgets        # interactive display\n",
    "import matplotlib.pyplot as plt     # plotting\n",
    "%matplotlib inline\n",
    "from tqdm import tqdm\n",
    "\n",
    "np.random.seed(2021)                # set seed for reproducibility\n",
    "\n",
    "\n",
    "from plotly.subplots import make_subplots\n",
    "import plotly.graph_objects as go\n",
    "\n",
    "\n",
    "from src.rescorla_wagner_model import (RoscorlaWagner)\n",
    "from src.rescorla_wagner_model_plots import (RescorlaWagnerPlots)\n",
    "from src.rescorla_wagner_model_simulation import (RescorlaWagnerSimulate)\n",
    "from src.rescorla_wagner_model_diagnostics import (RoscorlaWagerModelDiagnostics)\n",
    "\n",
    "from src.cog_sci_learning_model_base import (MultiArmedBanditModels, add_diag_line)\n",
    "\n"
   ]
  },
  {
   "cell_type": "code",
   "execution_count": null,
   "metadata": {},
   "outputs": [],
   "source": [
    "from src.rescorla_wagner_model import (RoscorlaWagner)\n",
    "from src.rescorla_wagner_model_plots import (RescorlaWagnerPlots)\n",
    "from src.rescorla_wagner_model_simulation import (RescorlaWagnerSimulate)\n",
    "from src.rescorla_wagner_model_diagnostics import (RoscorlaWagerModelDiagnostics)"
   ]
  },
  {
   "cell_type": "code",
   "execution_count": null,
   "metadata": {},
   "outputs": [],
   "source": [
    "\n",
    "from src.cog_sci_random_response_model import (RandomResponseModel)\n",
    "from src.cog_sci_win_stay_lose_shift_model import (WinStayLoseShiftModel)\n",
    "from src.cog_sci_learning_model_base import (MultiArmedBanditModels)\n",
    "from src.cog_sci_roscorla_wagner_model import RoscorlaWagnerModel\n",
    "\n",
    "\n",
    "np.random.seed(2021)                # set seed for reproducibility"
   ]
  },
  {
   "cell_type": "markdown",
   "metadata": {},
   "source": [
    "---\n",
    "## Model 1: Random Responding\n",
    "---"
   ]
  },
  {
   "cell_type": "markdown",
   "metadata": {},
   "source": [
    "### Initialize"
   ]
  },
  {
   "cell_type": "code",
   "execution_count": null,
   "metadata": {},
   "outputs": [],
   "source": [
    "b = 0.3\n",
    "rr = RandomResponseModel()\n",
    "rr.simulate(b, N=1000)\n",
    "rr.simulated_params\n",
    "# rr.simulated_experiment"
   ]
  },
  {
   "cell_type": "markdown",
   "metadata": {},
   "source": [
    "### Example fit"
   ]
  },
  {
   "cell_type": "code",
   "execution_count": null,
   "metadata": {},
   "outputs": [],
   "source": [
    "b_bounds = (0,1)\n",
    "action = rr.simulated_experiment['action']\n",
    "reward = rr.simulated_experiment['reward']\n",
    "\n",
    "# brute force and scikit optim\n",
    "res_brute = rr.optimize_brute_force(loss_function=rr.neg_log_likelihood, bounds=b_bounds, actions=action, rewards=reward)\n",
    "b_hat_brute_force = res_brute['b_pred']\n",
    "\n",
    "_, _, b_hat_scikit = rr.optimize_scikit(loss_function=rr.neg_log_likelihood, init_guess=[0.5], args=(action, reward), bounds=[b_bounds])\n",
    "b_hat_scikit = b_hat_scikit[0]\n",
    "\n",
    "res_brute, b_hat_scikit"
   ]
  },
  {
   "cell_type": "code",
   "execution_count": null,
   "metadata": {},
   "outputs": [],
   "source": [
    "res = rr.optimize_scikit(loss_function=rr.neg_log_likelihood, init_guess=[0.5], args=(action, reward), bounds=[b_bounds])\n",
    "res"
   ]
  },
  {
   "cell_type": "markdown",
   "metadata": {},
   "source": [
    "### Examine Likelihood"
   ]
  },
  {
   "cell_type": "code",
   "execution_count": null,
   "metadata": {},
   "outputs": [],
   "source": [
    "rr.plot_neg_log_likelihood(b_true=b);"
   ]
  },
  {
   "cell_type": "markdown",
   "metadata": {},
   "source": [
    "### Compare Optimization Procedures"
   ]
  },
  {
   "cell_type": "code",
   "execution_count": null,
   "metadata": {},
   "outputs": [],
   "source": [
    "results, res_plot = rr.compare_fitting_procedures()\n",
    "res_plot;"
   ]
  },
  {
   "cell_type": "markdown",
   "metadata": {},
   "source": [
    "### Sensitivity Analysis: Parameter Recovery"
   ]
  },
  {
   "cell_type": "code",
   "execution_count": null,
   "metadata": {},
   "outputs": [],
   "source": [
    "res, plot = rr.perform_sensitivity_analysis()\n",
    "print(res.head(2))\n",
    "plot.show()"
   ]
  },
  {
   "cell_type": "code",
   "execution_count": null,
   "metadata": {},
   "outputs": [],
   "source": [
    "\n"
   ]
  },
  {
   "cell_type": "markdown",
   "metadata": {},
   "source": [
    "----\n",
    "# Model 2. Noisy win-stay-lose-shift\n",
    "----"
   ]
  },
  {
   "cell_type": "markdown",
   "metadata": {},
   "source": [
    "### Init"
   ]
  },
  {
   "cell_type": "code",
   "execution_count": null,
   "metadata": {},
   "outputs": [],
   "source": [
    "wsls = WinStayLoseShiftModel()\n",
    "EPSILON = 0.3\n",
    "wsls.simulate(EPSILON, N=1000, noise=0)\n",
    "wsls.simulated_experiment\n",
    "wsls.simulated_params\n",
    "\n",
    "\n",
    "action = wsls.simulated_experiment['action']\n",
    "reward = wsls.simulated_experiment['reward']\n",
    "wsls.neg_log_likelihood(0.4, action, reward)\n",
    "wsls.plot_neg_log_likelihood(EPSILON)"
   ]
  },
  {
   "cell_type": "markdown",
   "metadata": {},
   "source": [
    "### Compare Optimisation Strategies"
   ]
  },
  {
   "cell_type": "code",
   "execution_count": null,
   "metadata": {},
   "outputs": [],
   "source": [
    "_, f = wsls.compare_fitting_procedures()\n",
    "f"
   ]
  },
  {
   "cell_type": "code",
   "execution_count": null,
   "metadata": {},
   "outputs": [],
   "source": [
    "wsls.perform_sensitivity_analysis()"
   ]
  },
  {
   "cell_type": "markdown",
   "metadata": {},
   "source": [
    "---\n",
    "# Model 3. Roscorla Wagner Model\n",
    "---"
   ]
  },
  {
   "cell_type": "markdown",
   "metadata": {},
   "source": [
    "### Instantiate"
   ]
  },
  {
   "cell_type": "code",
   "execution_count": null,
   "metadata": {},
   "outputs": [],
   "source": [
    "rwm = RoscorlaWagnerModel()\n",
    "ALPHA = 0.2\n",
    "THETA = 3\n",
    "N = 1000\n",
    "rwm.simulate(ALPHA, THETA, N=N, noise=True)\n",
    "rwm.simulated_experiment\n",
    "rwm.simulated_params\n",
    "\n",
    "\n",
    "# simulated experiment\n",
    "action = rwm.simulated_experiment['action']\n",
    "reward = rwm.simulated_experiment['reward']\n",
    "rwm.neg_log_likelihood((ALPHA, THETA), action, reward)\n"
   ]
  },
  {
   "cell_type": "markdown",
   "metadata": {},
   "source": [
    "## Perform Sensitivity Analysis"
   ]
  },
  {
   "cell_type": "code",
   "execution_count": null,
   "metadata": {},
   "outputs": [],
   "source": [
    "# Se    nsitivity Analysis: Parameter Recovery\n",
    "res, plot = rwm.perform_sensitivity_analysis(\n",
    "    # alpha_range=np.linspace(0, 1, 10), # [0.4], #np.linspace(0, 1, 10),\n",
    "    # theta_range = np.linspace(0.1, 10, 10), # [7], # np.linspace(0.1, 10, 10),\n",
    "    alpha_range=np.linspace(0.1, 1, 10), \n",
    "    theta_range=np.linspace(1, 10, 10),\n",
    "    N=1000,\n",
    "    log_progress=True)\n",
    "print(res.head(2))\n",
    "plot.show()"
   ]
  },
  {
   "cell_type": "markdown",
   "metadata": {},
   "source": [
    "## Compare Fitting Procedures"
   ]
  },
  {
   "cell_type": "code",
   "execution_count": null,
   "metadata": {},
   "outputs": [],
   "source": [
    "\n",
    "# Compare Optimization Procedures\n",
    "results, res_plot =rwm.compare_fitting_procedures(\n",
    "    alpha_range=np.linspace(0.1, 1, 10), \n",
    "    theta_range=np.linspace(1, 10, 10),\n",
    "    fit_brute_force=True,\n",
    "    # fit_scikit=True,\n",
    "    bounds = [(0.1, 1), (1, 10)],\n",
    "    N=1000\n",
    ")\n",
    "res_plot.show();\n",
    "\n",
    "results"
   ]
  },
  {
   "cell_type": "markdown",
   "metadata": {},
   "source": [
    "## re-simulate"
   ]
  },
  {
   "cell_type": "code",
   "execution_count": null,
   "metadata": {},
   "outputs": [],
   "source": [
    "rwm.simulate(0.2, 3, N=1000, noise=True)\n",
    "plt.figure(figsize=(10, 6))\n",
    "rwm.plot_reward()\n",
    "plt.show();\n",
    "plt.figure(figsize=(10, 6))\n",
    "rwm.plot_Q_estimates();\n",
    "plt.show();\n"
   ]
  },
  {
   "cell_type": "markdown",
   "metadata": {},
   "source": [
    "## Visual Log Likelihood Space"
   ]
  },
  {
   "cell_type": "code",
   "execution_count": null,
   "metadata": {},
   "outputs": [],
   "source": [
    "# rwm.simulate(ALPHA, THETA, N=100, noise=True)\n",
    "\n",
    "# Examine Likelihood\n",
    "plt, negll, theta_pred, theta_range, alpha_pred, alpha_range = rwm.plot_neg_log_likelihood()"
   ]
  },
  {
   "cell_type": "markdown",
   "metadata": {},
   "source": [
    "## Brute Force Search"
   ]
  },
  {
   "cell_type": "code",
   "execution_count": null,
   "metadata": {},
   "outputs": [],
   "source": [
    "# # test optimization procedures\n",
    "alpha_bounds = (0,1)\n",
    "theta_bounds = (.1,10)\n",
    "bounds = (alpha_bounds, theta_bounds)\n",
    "\n",
    "# # brute force and scikit optim\n",
    "brute_force_results = \\\n",
    "    rwm.optimize_brute_force(loss_function=rwm.neg_log_likelihood, bounds=bounds, actions=action, rewards=reward)\n",
    "alpha_hat_brute_force = brute_force_results['alpha_pred']\n",
    "theta_hat_brute_force = brute_force_results['theta_pred']\n",
    "BIC_brute_force = brute_force_results['BIC']\n",
    "\n",
    "def log_results(alpha_true, theta_true, alpha_pred, theta_pred, BIC=None, name=None):\n",
    "    msg = f\"\"\"\n",
    "    ----------------------------------------------------------------------------------\n",
    "        : optimistion class: {name}\n",
    "\n",
    "        : alpha (true):                     {alpha_true}\n",
    "        : theta (true):                     {theta_true}\n",
    "        : alpha (pred):                     {alpha_pred}\n",
    "        : theta (pred):                     {theta_pred}\n",
    "        : BIC:                              {BIC}\n",
    "    ----------------------------------------------------------------------------------\n",
    "    \"\"\"\n",
    "    print(msg)\n",
    "\n",
    "log_results(ALPHA, THETA, alpha_hat_brute_force, theta_hat_brute_force, BIC_brute_force, 'Brute Force')"
   ]
  },
  {
   "cell_type": "markdown",
   "metadata": {},
   "source": [
    "## Scikit Optimize"
   ]
  },
  {
   "cell_type": "code",
   "execution_count": null,
   "metadata": {},
   "outputs": [],
   "source": [
    "\n",
    "negLL, params_opt, BIC, optimal_init_params = rwm.optimize_scikit_model_over_init_parameters(\n",
    "        actions=action,\n",
    "        rewards=reward,\n",
    "        loss_function=None,\n",
    "        alpha_init_range=np.linspace(0, 1, 5),\n",
    "        theta_init_range=np.linspace(.1, 10, 7),\n",
    "        bounds=((0,1), (1,12)),\n",
    "        log_progress=True\n",
    "        )\n",
    "alpha_hat_sci_opt, theta_hat_sci_opt = params_opt\n",
    "print('optimal_init_params: ', optimal_init_params)\n",
    "        \n",
    "\n",
    "log_results(ALPHA, THETA, alpha_hat_sci_opt, theta_hat_sci_opt, BIC, 'Scikit')"
   ]
  },
  {
   "cell_type": "code",
   "execution_count": null,
   "metadata": {},
   "outputs": [],
   "source": [
    "log_results(ALPHA, THETA, alpha_hat_sci_opt, theta_hat_sci_opt, BIC, 'Scikit')"
   ]
  },
  {
   "cell_type": "markdown",
   "metadata": {},
   "source": [
    "## Scikit Single Run (unreliable)"
   ]
  },
  {
   "cell_type": "code",
   "execution_count": null,
   "metadata": {},
   "outputs": [],
   "source": [
    "_, _, params = rwm.optimize_scikit(\n",
    "    loss_function=rwm.neg_log_likelihood,\n",
    "    init_guess=[0.2, 1],\n",
    "    args=(action, reward),\n",
    "    bounds=bounds)\n",
    "\n",
    "params, ALPHA, THETA"
   ]
  },
  {
   "cell_type": "code",
   "execution_count": null,
   "metadata": {},
   "outputs": [],
   "source": []
  },
  {
   "cell_type": "code",
   "execution_count": null,
   "metadata": {},
   "outputs": [],
   "source": []
  },
  {
   "cell_type": "code",
   "execution_count": null,
   "metadata": {},
   "outputs": [],
   "source": []
  }
 ],
 "metadata": {
  "kernelspec": {
   "display_name": "Python 3",
   "language": "python",
   "name": "python3"
  },
  "language_info": {
   "codemirror_mode": {
    "name": "ipython",
    "version": 3
   },
   "file_extension": ".py",
   "mimetype": "text/x-python",
   "name": "python",
   "nbconvert_exporter": "python",
   "pygments_lexer": "ipython3",
   "version": "3.12.0"
  }
 },
 "nbformat": 4,
 "nbformat_minor": 2
}
