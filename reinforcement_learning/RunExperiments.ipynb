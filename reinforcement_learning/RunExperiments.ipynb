{
 "cells": [
  {
   "cell_type": "markdown",
   "metadata": {},
   "source": [
    "# Run Experiments on our Data\n",
    "\n",
    "\n",
    "---\n",
    "```\n",
    ": zach.wolpe@medibio.com.au\n",
    ": 09.07.24\n",
    "```\n",
    "---\n"
   ]
  },
  {
   "cell_type": "markdown",
   "metadata": {},
   "source": [
    "---\n",
    "# 0. Imports & Config\n",
    "---"
   ]
  },
  {
   "cell_type": "code",
   "execution_count": 1,
   "metadata": {},
   "outputs": [],
   "source": [
    "import plotly.graph_objects as go\n",
    "import plotly.express as px\n",
    "from tqdm import tqdm\n",
    "import pandas as pd\n",
    "\n",
    "import numpy as np\n",
    "import statistics\n",
    "import scipy.io\n",
    "import logging\n",
    "import pprint\n",
    "import os\n",
    "from collections import Counter\n",
    "import time\n",
    "import sys\n",
    "\n",
    "import mlflow\n",
    "# internals\n",
    "from src.helpers import log_rat_metadata, log_sequence_data, load_config\n",
    "from src.query_dataset import (QuerySequenceData, load_data)"
   ]
  },
  {
   "cell_type": "code",
   "execution_count": 2,
   "metadata": {},
   "outputs": [],
   "source": [
    "from src.rescorla_wagner_model import (RoscorlaWagner)\n",
    "from src.rescorla_wagner_model_plots import (RescorlaWagnerPlots)\n",
    "from src.rescorla_wagner_model_simulation import (RescorlaWagnerSimulate)\n",
    "from src.rescorla_wagner_model_diagnostics import (RoscorlaWagerModelDiagnostics)"
   ]
  },
  {
   "cell_type": "code",
   "execution_count": 3,
   "metadata": {},
   "outputs": [],
   "source": [
    "from src.cog_sci_random_response_model import (RandomResponseModel)\n",
    "from src.cog_sci_win_stay_lose_shift_model import (WinStayLoseShiftModel)\n",
    "from src.cog_sci_learning_model_base import (MultiArmedBanditModels)\n",
    "from src.cog_sci_roscorla_wagner_model import RoscorlaWagnerModel"
   ]
  },
  {
   "cell_type": "code",
   "execution_count": 4,
   "metadata": {},
   "outputs": [],
   "source": [
    "from src.launch_experiments import (\n",
    "    # helpers\n",
    "    print_unique_keys, \n",
    "    extract_experiment,\n",
    "    run_experiment_model_1,\n",
    "    run_experiment_model_2,\n",
    "    run_experiment_model_3,\n",
    "    init_results,\n",
    "    update_results,\n",
    "    compute_experiment_features,\n",
    "    print_progress_bar,\n",
    "    generate_experiment,\n",
    "    run_experiment,\n",
    "    run_experiment_suite,\n",
    "\n",
    "    # configure experiments\n",
    "    build_experiment_set_v2,\n",
    "    configure_mlflow_tracking,\n",
    "\n",
    "    # filter and select model\n",
    "    filter_results,\n",
    "    select_model,\n",
    "    filter_results_select_model,\n",
    "    save_results,\n",
    "\n",
    "    # Data Quality and Optimisation Checks\n",
    "    extract_experiment_for_data_quality,\n",
    "    compute_experiment_stats,\n",
    "    compute_reward_per_session,\n",
    "    plot_reward_per_session,\n",
    "    optimize_model_2,\n",
    "    plot_prob_success,\n",
    "\n",
    "    # Run data quality check\n",
    "    run_data_quality_check, \n",
    "\n",
    "    # execute experiments\n",
    "    exe_experiment,\n",
    ")"
   ]
  },
  {
   "cell_type": "code",
   "execution_count": 5,
   "metadata": {},
   "outputs": [],
   "source": [
    "logging.basicConfig(level=logging.INFO)"
   ]
  },
  {
   "cell_type": "markdown",
   "metadata": {},
   "source": [
    "---\n",
    "# 1. Run Experiment Helpers\n",
    "----"
   ]
  },
  {
   "cell_type": "code",
   "execution_count": 6,
   "metadata": {},
   "outputs": [],
   "source": [
    "logging.basicConfig(level=logging.INFO)\n",
    "np.random.seed(2024) # set seed for reproducibility\n",
    "_config = load_config('config.yaml') # load yaml config\n"
   ]
  },
  {
   "cell_type": "markdown",
   "metadata": {},
   "source": [
    "---\n",
    "# Previous Subsections\n",
    "\n",
    "\n",
    "> 2. Configure Experiment\n",
    "> 3. Filter, Select Model & Save Experiments\n",
    "> 4. Check Data Quality & Optimisation Space"
   ]
  },
  {
   "cell_type": "markdown",
   "metadata": {},
   "source": [
    "---\n",
    "# 5. Instantiate: Run Data Quality Checks\n",
    "----"
   ]
  },
  {
   "cell_type": "code",
   "execution_count": 7,
   "metadata": {},
   "outputs": [
    {
     "name": "stderr",
     "output_type": "stream",
     "text": [
      "INFO:root:StimCode (571): [0. 1.]\n"
     ]
    },
    {
     "name": "stderr",
     "output_type": "stream",
     "text": [
      "INFO:root:RespCode (571): [1. 2. 3. 4.]\n"
     ]
    },
    {
     "name": "stdout",
     "output_type": "stream",
     "text": [
      "\n",
      "    ----------------------------------------\n",
      "    Experiment:\n",
      "    -----------\n",
      "\n",
      "        - subjectID:            422\n",
      "        - sessionType:          EDS\n",
      "        - sessionNum:           None\n",
      "        - n_samples:            9000\n",
      "        - n_sessions:           15\n",
      "        - samples_per_session:  600.0\n",
      "        - avg_reward_rate:      0.74933\n",
      "    ----------------------------------------\n",
      "    \n",
      "N (total):9000 - Reward rates: [0.7083333333333334, 0.7166666666666667, 0.765, 0.8833333333333333, 0.88, 0.9416666666666667, 0.6383333333333333, 0.64, 0.6283333333333333, 0.6933333333333334, 0.6683333333333333, 0.74, 0.74, 0.7416666666666667, 0.855]\n"
     ]
    },
    {
     "data": {
      "application/vnd.plotly.v1+json": {
       "config": {
        "plotlyServerURL": "https://plot.ly"
       },
       "data": [
        {
         "marker": {
          "color": "lightblue",
          "size": 2
         },
         "mode": "lines+markers",
         "type": "scatter",
         "x": [
          0,
          1,
          2,
          3,
          4,
          5,
          6,
          7,
          8,
          9,
          10,
          11,
          12,
          13,
          14
         ],
         "y": [
          0.7083333333333334,
          0.7166666666666667,
          0.765,
          0.8833333333333333,
          0.88,
          0.9416666666666667,
          0.6383333333333333,
          0.64,
          0.6283333333333333,
          0.6933333333333334,
          0.6683333333333333,
          0.74,
          0.74,
          0.7416666666666667,
          0.855
         ]
        },
        {
         "marker": {
          "color": "red",
          "size": 8
         },
         "mode": "markers",
         "type": "scatter",
         "x": [
          0,
          1,
          2,
          3,
          4,
          5,
          6,
          7,
          8,
          9,
          10,
          11,
          12,
          13,
          14
         ],
         "y": [
          0.7083333333333334,
          0.7166666666666667,
          0.765,
          0.8833333333333333,
          0.88,
          0.9416666666666667,
          0.6383333333333333,
          0.64,
          0.6283333333333333,
          0.6933333333333334,
          0.6683333333333333,
          0.74,
          0.74,
          0.7416666666666667,
          0.855
         ]
        }
       ],
       "layout": {
        "shapes": [
         {
          "line": {
           "color": "red",
           "width": 1
          },
          "type": "line",
          "x0": 0,
          "x1": 0,
          "y0": 0,
          "y1": 0.7083333333333334
         },
         {
          "line": {
           "color": "red",
           "width": 1
          },
          "type": "line",
          "x0": 1,
          "x1": 1,
          "y0": 0,
          "y1": 0.7166666666666667
         },
         {
          "line": {
           "color": "red",
           "width": 1
          },
          "type": "line",
          "x0": 2,
          "x1": 2,
          "y0": 0,
          "y1": 0.765
         },
         {
          "line": {
           "color": "red",
           "width": 1
          },
          "type": "line",
          "x0": 3,
          "x1": 3,
          "y0": 0,
          "y1": 0.8833333333333333
         },
         {
          "line": {
           "color": "red",
           "width": 1
          },
          "type": "line",
          "x0": 4,
          "x1": 4,
          "y0": 0,
          "y1": 0.88
         },
         {
          "line": {
           "color": "red",
           "width": 1
          },
          "type": "line",
          "x0": 5,
          "x1": 5,
          "y0": 0,
          "y1": 0.9416666666666667
         },
         {
          "line": {
           "color": "red",
           "width": 1
          },
          "type": "line",
          "x0": 6,
          "x1": 6,
          "y0": 0,
          "y1": 0.6383333333333333
         },
         {
          "line": {
           "color": "red",
           "width": 1
          },
          "type": "line",
          "x0": 7,
          "x1": 7,
          "y0": 0,
          "y1": 0.64
         },
         {
          "line": {
           "color": "red",
           "width": 1
          },
          "type": "line",
          "x0": 8,
          "x1": 8,
          "y0": 0,
          "y1": 0.6283333333333333
         },
         {
          "line": {
           "color": "red",
           "width": 1
          },
          "type": "line",
          "x0": 9,
          "x1": 9,
          "y0": 0,
          "y1": 0.6933333333333334
         },
         {
          "line": {
           "color": "red",
           "width": 1
          },
          "type": "line",
          "x0": 10,
          "x1": 10,
          "y0": 0,
          "y1": 0.6683333333333333
         },
         {
          "line": {
           "color": "red",
           "width": 1
          },
          "type": "line",
          "x0": 11,
          "x1": 11,
          "y0": 0,
          "y1": 0.74
         },
         {
          "line": {
           "color": "red",
           "width": 1
          },
          "type": "line",
          "x0": 12,
          "x1": 12,
          "y0": 0,
          "y1": 0.74
         },
         {
          "line": {
           "color": "red",
           "width": 1
          },
          "type": "line",
          "x0": 13,
          "x1": 13,
          "y0": 0,
          "y1": 0.7416666666666667
         },
         {
          "line": {
           "color": "red",
           "width": 1
          },
          "type": "line",
          "x0": 14,
          "x1": 14,
          "y0": 0,
          "y1": 0.855
         }
        ],
        "showlegend": false,
        "template": {
         "data": {
          "bar": [
           {
            "error_x": {
             "color": "#f2f5fa"
            },
            "error_y": {
             "color": "#f2f5fa"
            },
            "marker": {
             "line": {
              "color": "rgb(17,17,17)",
              "width": 0.5
             },
             "pattern": {
              "fillmode": "overlay",
              "size": 10,
              "solidity": 0.2
             }
            },
            "type": "bar"
           }
          ],
          "barpolar": [
           {
            "marker": {
             "line": {
              "color": "rgb(17,17,17)",
              "width": 0.5
             },
             "pattern": {
              "fillmode": "overlay",
              "size": 10,
              "solidity": 0.2
             }
            },
            "type": "barpolar"
           }
          ],
          "carpet": [
           {
            "aaxis": {
             "endlinecolor": "#A2B1C6",
             "gridcolor": "#506784",
             "linecolor": "#506784",
             "minorgridcolor": "#506784",
             "startlinecolor": "#A2B1C6"
            },
            "baxis": {
             "endlinecolor": "#A2B1C6",
             "gridcolor": "#506784",
             "linecolor": "#506784",
             "minorgridcolor": "#506784",
             "startlinecolor": "#A2B1C6"
            },
            "type": "carpet"
           }
          ],
          "choropleth": [
           {
            "colorbar": {
             "outlinewidth": 0,
             "ticks": ""
            },
            "type": "choropleth"
           }
          ],
          "contour": [
           {
            "colorbar": {
             "outlinewidth": 0,
             "ticks": ""
            },
            "colorscale": [
             [
              0,
              "#0d0887"
             ],
             [
              0.1111111111111111,
              "#46039f"
             ],
             [
              0.2222222222222222,
              "#7201a8"
             ],
             [
              0.3333333333333333,
              "#9c179e"
             ],
             [
              0.4444444444444444,
              "#bd3786"
             ],
             [
              0.5555555555555556,
              "#d8576b"
             ],
             [
              0.6666666666666666,
              "#ed7953"
             ],
             [
              0.7777777777777778,
              "#fb9f3a"
             ],
             [
              0.8888888888888888,
              "#fdca26"
             ],
             [
              1,
              "#f0f921"
             ]
            ],
            "type": "contour"
           }
          ],
          "contourcarpet": [
           {
            "colorbar": {
             "outlinewidth": 0,
             "ticks": ""
            },
            "type": "contourcarpet"
           }
          ],
          "heatmap": [
           {
            "colorbar": {
             "outlinewidth": 0,
             "ticks": ""
            },
            "colorscale": [
             [
              0,
              "#0d0887"
             ],
             [
              0.1111111111111111,
              "#46039f"
             ],
             [
              0.2222222222222222,
              "#7201a8"
             ],
             [
              0.3333333333333333,
              "#9c179e"
             ],
             [
              0.4444444444444444,
              "#bd3786"
             ],
             [
              0.5555555555555556,
              "#d8576b"
             ],
             [
              0.6666666666666666,
              "#ed7953"
             ],
             [
              0.7777777777777778,
              "#fb9f3a"
             ],
             [
              0.8888888888888888,
              "#fdca26"
             ],
             [
              1,
              "#f0f921"
             ]
            ],
            "type": "heatmap"
           }
          ],
          "heatmapgl": [
           {
            "colorbar": {
             "outlinewidth": 0,
             "ticks": ""
            },
            "colorscale": [
             [
              0,
              "#0d0887"
             ],
             [
              0.1111111111111111,
              "#46039f"
             ],
             [
              0.2222222222222222,
              "#7201a8"
             ],
             [
              0.3333333333333333,
              "#9c179e"
             ],
             [
              0.4444444444444444,
              "#bd3786"
             ],
             [
              0.5555555555555556,
              "#d8576b"
             ],
             [
              0.6666666666666666,
              "#ed7953"
             ],
             [
              0.7777777777777778,
              "#fb9f3a"
             ],
             [
              0.8888888888888888,
              "#fdca26"
             ],
             [
              1,
              "#f0f921"
             ]
            ],
            "type": "heatmapgl"
           }
          ],
          "histogram": [
           {
            "marker": {
             "pattern": {
              "fillmode": "overlay",
              "size": 10,
              "solidity": 0.2
             }
            },
            "type": "histogram"
           }
          ],
          "histogram2d": [
           {
            "colorbar": {
             "outlinewidth": 0,
             "ticks": ""
            },
            "colorscale": [
             [
              0,
              "#0d0887"
             ],
             [
              0.1111111111111111,
              "#46039f"
             ],
             [
              0.2222222222222222,
              "#7201a8"
             ],
             [
              0.3333333333333333,
              "#9c179e"
             ],
             [
              0.4444444444444444,
              "#bd3786"
             ],
             [
              0.5555555555555556,
              "#d8576b"
             ],
             [
              0.6666666666666666,
              "#ed7953"
             ],
             [
              0.7777777777777778,
              "#fb9f3a"
             ],
             [
              0.8888888888888888,
              "#fdca26"
             ],
             [
              1,
              "#f0f921"
             ]
            ],
            "type": "histogram2d"
           }
          ],
          "histogram2dcontour": [
           {
            "colorbar": {
             "outlinewidth": 0,
             "ticks": ""
            },
            "colorscale": [
             [
              0,
              "#0d0887"
             ],
             [
              0.1111111111111111,
              "#46039f"
             ],
             [
              0.2222222222222222,
              "#7201a8"
             ],
             [
              0.3333333333333333,
              "#9c179e"
             ],
             [
              0.4444444444444444,
              "#bd3786"
             ],
             [
              0.5555555555555556,
              "#d8576b"
             ],
             [
              0.6666666666666666,
              "#ed7953"
             ],
             [
              0.7777777777777778,
              "#fb9f3a"
             ],
             [
              0.8888888888888888,
              "#fdca26"
             ],
             [
              1,
              "#f0f921"
             ]
            ],
            "type": "histogram2dcontour"
           }
          ],
          "mesh3d": [
           {
            "colorbar": {
             "outlinewidth": 0,
             "ticks": ""
            },
            "type": "mesh3d"
           }
          ],
          "parcoords": [
           {
            "line": {
             "colorbar": {
              "outlinewidth": 0,
              "ticks": ""
             }
            },
            "type": "parcoords"
           }
          ],
          "pie": [
           {
            "automargin": true,
            "type": "pie"
           }
          ],
          "scatter": [
           {
            "marker": {
             "line": {
              "color": "#283442"
             }
            },
            "type": "scatter"
           }
          ],
          "scatter3d": [
           {
            "line": {
             "colorbar": {
              "outlinewidth": 0,
              "ticks": ""
             }
            },
            "marker": {
             "colorbar": {
              "outlinewidth": 0,
              "ticks": ""
             }
            },
            "type": "scatter3d"
           }
          ],
          "scattercarpet": [
           {
            "marker": {
             "colorbar": {
              "outlinewidth": 0,
              "ticks": ""
             }
            },
            "type": "scattercarpet"
           }
          ],
          "scattergeo": [
           {
            "marker": {
             "colorbar": {
              "outlinewidth": 0,
              "ticks": ""
             }
            },
            "type": "scattergeo"
           }
          ],
          "scattergl": [
           {
            "marker": {
             "line": {
              "color": "#283442"
             }
            },
            "type": "scattergl"
           }
          ],
          "scattermapbox": [
           {
            "marker": {
             "colorbar": {
              "outlinewidth": 0,
              "ticks": ""
             }
            },
            "type": "scattermapbox"
           }
          ],
          "scatterpolar": [
           {
            "marker": {
             "colorbar": {
              "outlinewidth": 0,
              "ticks": ""
             }
            },
            "type": "scatterpolar"
           }
          ],
          "scatterpolargl": [
           {
            "marker": {
             "colorbar": {
              "outlinewidth": 0,
              "ticks": ""
             }
            },
            "type": "scatterpolargl"
           }
          ],
          "scatterternary": [
           {
            "marker": {
             "colorbar": {
              "outlinewidth": 0,
              "ticks": ""
             }
            },
            "type": "scatterternary"
           }
          ],
          "surface": [
           {
            "colorbar": {
             "outlinewidth": 0,
             "ticks": ""
            },
            "colorscale": [
             [
              0,
              "#0d0887"
             ],
             [
              0.1111111111111111,
              "#46039f"
             ],
             [
              0.2222222222222222,
              "#7201a8"
             ],
             [
              0.3333333333333333,
              "#9c179e"
             ],
             [
              0.4444444444444444,
              "#bd3786"
             ],
             [
              0.5555555555555556,
              "#d8576b"
             ],
             [
              0.6666666666666666,
              "#ed7953"
             ],
             [
              0.7777777777777778,
              "#fb9f3a"
             ],
             [
              0.8888888888888888,
              "#fdca26"
             ],
             [
              1,
              "#f0f921"
             ]
            ],
            "type": "surface"
           }
          ],
          "table": [
           {
            "cells": {
             "fill": {
              "color": "#506784"
             },
             "line": {
              "color": "rgb(17,17,17)"
             }
            },
            "header": {
             "fill": {
              "color": "#2a3f5f"
             },
             "line": {
              "color": "rgb(17,17,17)"
             }
            },
            "type": "table"
           }
          ]
         },
         "layout": {
          "annotationdefaults": {
           "arrowcolor": "#f2f5fa",
           "arrowhead": 0,
           "arrowwidth": 1
          },
          "autotypenumbers": "strict",
          "coloraxis": {
           "colorbar": {
            "outlinewidth": 0,
            "ticks": ""
           }
          },
          "colorscale": {
           "diverging": [
            [
             0,
             "#8e0152"
            ],
            [
             0.1,
             "#c51b7d"
            ],
            [
             0.2,
             "#de77ae"
            ],
            [
             0.3,
             "#f1b6da"
            ],
            [
             0.4,
             "#fde0ef"
            ],
            [
             0.5,
             "#f7f7f7"
            ],
            [
             0.6,
             "#e6f5d0"
            ],
            [
             0.7,
             "#b8e186"
            ],
            [
             0.8,
             "#7fbc41"
            ],
            [
             0.9,
             "#4d9221"
            ],
            [
             1,
             "#276419"
            ]
           ],
           "sequential": [
            [
             0,
             "#0d0887"
            ],
            [
             0.1111111111111111,
             "#46039f"
            ],
            [
             0.2222222222222222,
             "#7201a8"
            ],
            [
             0.3333333333333333,
             "#9c179e"
            ],
            [
             0.4444444444444444,
             "#bd3786"
            ],
            [
             0.5555555555555556,
             "#d8576b"
            ],
            [
             0.6666666666666666,
             "#ed7953"
            ],
            [
             0.7777777777777778,
             "#fb9f3a"
            ],
            [
             0.8888888888888888,
             "#fdca26"
            ],
            [
             1,
             "#f0f921"
            ]
           ],
           "sequentialminus": [
            [
             0,
             "#0d0887"
            ],
            [
             0.1111111111111111,
             "#46039f"
            ],
            [
             0.2222222222222222,
             "#7201a8"
            ],
            [
             0.3333333333333333,
             "#9c179e"
            ],
            [
             0.4444444444444444,
             "#bd3786"
            ],
            [
             0.5555555555555556,
             "#d8576b"
            ],
            [
             0.6666666666666666,
             "#ed7953"
            ],
            [
             0.7777777777777778,
             "#fb9f3a"
            ],
            [
             0.8888888888888888,
             "#fdca26"
            ],
            [
             1,
             "#f0f921"
            ]
           ]
          },
          "colorway": [
           "#636efa",
           "#EF553B",
           "#00cc96",
           "#ab63fa",
           "#FFA15A",
           "#19d3f3",
           "#FF6692",
           "#B6E880",
           "#FF97FF",
           "#FECB52"
          ],
          "font": {
           "color": "#f2f5fa"
          },
          "geo": {
           "bgcolor": "rgb(17,17,17)",
           "lakecolor": "rgb(17,17,17)",
           "landcolor": "rgb(17,17,17)",
           "showlakes": true,
           "showland": true,
           "subunitcolor": "#506784"
          },
          "hoverlabel": {
           "align": "left"
          },
          "hovermode": "closest",
          "mapbox": {
           "style": "dark"
          },
          "paper_bgcolor": "rgb(17,17,17)",
          "plot_bgcolor": "rgb(17,17,17)",
          "polar": {
           "angularaxis": {
            "gridcolor": "#506784",
            "linecolor": "#506784",
            "ticks": ""
           },
           "bgcolor": "rgb(17,17,17)",
           "radialaxis": {
            "gridcolor": "#506784",
            "linecolor": "#506784",
            "ticks": ""
           }
          },
          "scene": {
           "xaxis": {
            "backgroundcolor": "rgb(17,17,17)",
            "gridcolor": "#506784",
            "gridwidth": 2,
            "linecolor": "#506784",
            "showbackground": true,
            "ticks": "",
            "zerolinecolor": "#C8D4E3"
           },
           "yaxis": {
            "backgroundcolor": "rgb(17,17,17)",
            "gridcolor": "#506784",
            "gridwidth": 2,
            "linecolor": "#506784",
            "showbackground": true,
            "ticks": "",
            "zerolinecolor": "#C8D4E3"
           },
           "zaxis": {
            "backgroundcolor": "rgb(17,17,17)",
            "gridcolor": "#506784",
            "gridwidth": 2,
            "linecolor": "#506784",
            "showbackground": true,
            "ticks": "",
            "zerolinecolor": "#C8D4E3"
           }
          },
          "shapedefaults": {
           "line": {
            "color": "#f2f5fa"
           }
          },
          "sliderdefaults": {
           "bgcolor": "#C8D4E3",
           "bordercolor": "rgb(17,17,17)",
           "borderwidth": 1,
           "tickwidth": 0
          },
          "ternary": {
           "aaxis": {
            "gridcolor": "#506784",
            "linecolor": "#506784",
            "ticks": ""
           },
           "baxis": {
            "gridcolor": "#506784",
            "linecolor": "#506784",
            "ticks": ""
           },
           "bgcolor": "rgb(17,17,17)",
           "caxis": {
            "gridcolor": "#506784",
            "linecolor": "#506784",
            "ticks": ""
           }
          },
          "title": {
           "x": 0.05
          },
          "updatemenudefaults": {
           "bgcolor": "#506784",
           "borderwidth": 0
          },
          "xaxis": {
           "automargin": true,
           "gridcolor": "#283442",
           "linecolor": "#506784",
           "ticks": "",
           "title": {
            "standoff": 15
           },
           "zerolinecolor": "#283442",
           "zerolinewidth": 2
          },
          "yaxis": {
           "automargin": true,
           "gridcolor": "#283442",
           "linecolor": "#506784",
           "ticks": "",
           "title": {
            "standoff": 15
           },
           "zerolinecolor": "#283442",
           "zerolinewidth": 2
          }
         }
        },
        "title": {
         "text": "Reward Rate per Session. Avg reward: 0.74933"
        },
        "xaxis": {
         "title": {
          "text": "Session"
         }
        },
        "yaxis": {
         "range": [
          0,
          1
         ],
         "title": {
          "text": "Reward Rate"
         }
        }
       }
      }
     },
     "metadata": {},
     "output_type": "display_data"
    },
    {
     "name": "stderr",
     "output_type": "stream",
     "text": [
      "INFO:root:StimCode (571): [0. 1.]\n",
      "INFO:root:RespCode (571): [1. 2. 3. 4.]\n"
     ]
    },
    {
     "name": "stdout",
     "output_type": "stream",
     "text": [
      "Optimisation results: [1.], [1.], 1.0\n"
     ]
    },
    {
     "data": {
      "application/vnd.plotly.v1+json": {
       "config": {
        "plotlyServerURL": "https://plot.ly"
       },
       "data": [
        {
         "line": {
          "color": "darkblue",
          "dash": "dash"
         },
         "mode": "lines",
         "name": "Prob of Success.",
         "type": "scatter",
         "x": [
          0,
          30,
          60,
          90,
          120,
          150,
          180,
          210,
          240,
          270,
          300,
          330,
          360,
          390,
          420,
          450,
          480,
          510,
          540,
          570,
          600,
          630,
          660,
          690,
          720,
          750,
          780,
          810,
          840,
          870,
          900,
          930,
          960,
          990,
          1020,
          1050,
          1080,
          1110,
          1140,
          1170,
          1200,
          1230,
          1260,
          1290,
          1320,
          1350,
          1380,
          1410,
          1440,
          1470,
          1500,
          1530,
          1560,
          1590,
          1620,
          1650,
          1680,
          1710,
          1740,
          1770,
          1800,
          1830,
          1860,
          1890,
          1920,
          1950,
          1980,
          2010,
          2040,
          2070,
          2100,
          2130,
          2160,
          2190,
          2220,
          2250,
          2280,
          2310,
          2340,
          2370,
          2400,
          2430,
          2460,
          2490,
          2520,
          2550,
          2580,
          2610,
          2640,
          2670,
          2700,
          2730,
          2760,
          2790,
          2820,
          2850,
          2880,
          2910,
          2940,
          2970,
          3000,
          3030,
          3060,
          3090,
          3120,
          3150,
          3180,
          3210,
          3240,
          3270,
          3300,
          3330,
          3360,
          3390,
          3420,
          3450,
          3480,
          3510,
          3540,
          3570,
          3600,
          3630,
          3660,
          3690,
          3720,
          3750,
          3780,
          3810,
          3840,
          3870,
          3900,
          3930,
          3960,
          3990,
          4020,
          4050,
          4080,
          4110,
          4140,
          4170,
          4200,
          4230,
          4260,
          4290,
          4320,
          4350,
          4380,
          4410,
          4440,
          4470,
          4500,
          4530,
          4560,
          4590,
          4620,
          4650,
          4680,
          4710,
          4740,
          4770,
          4800,
          4830,
          4860,
          4890,
          4920,
          4950,
          4980,
          5010,
          5040,
          5070,
          5100,
          5130,
          5160,
          5190,
          5220,
          5250,
          5280,
          5310,
          5340,
          5370,
          5400,
          5430,
          5460,
          5490,
          5520,
          5550,
          5580,
          5610,
          5640,
          5670,
          5700,
          5730,
          5760,
          5790,
          5820,
          5850,
          5880,
          5910,
          5940,
          5970,
          6000,
          6030,
          6060,
          6090,
          6120,
          6150,
          6180,
          6210,
          6240,
          6270,
          6300,
          6330,
          6360,
          6390,
          6420,
          6450,
          6480,
          6510,
          6540,
          6570,
          6600,
          6630,
          6660,
          6690,
          6720,
          6750,
          6780,
          6810,
          6840,
          6870,
          6900,
          6930,
          6960,
          6990,
          7020,
          7050,
          7080,
          7110,
          7140,
          7170,
          7200,
          7230,
          7260,
          7290,
          7320,
          7350,
          7380,
          7410,
          7440,
          7470,
          7500,
          7530,
          7560,
          7590,
          7620,
          7650,
          7680,
          7710,
          7740,
          7770,
          7800,
          7830,
          7860,
          7890,
          7920,
          7950,
          7980,
          8010,
          8040,
          8070,
          8100,
          8130,
          8160,
          8190,
          8220,
          8250,
          8280,
          8310,
          8340,
          8370,
          8400,
          8430,
          8460,
          8490,
          8520,
          8550,
          8580,
          8610,
          8640,
          8670,
          8700,
          8730,
          8760,
          8790,
          8820,
          8850,
          8880,
          8910,
          8940,
          8970
         ],
         "y": [
          0.8333333333333334,
          0.9666666666666667,
          0.9,
          1,
          0.9,
          0.9666666666666667,
          0.8,
          0.36666666666666664,
          0.5666666666666667,
          0.4666666666666667,
          0.6,
          0.5666666666666667,
          0.6666666666666666,
          0.6666666666666666,
          0.6666666666666666,
          0.7333333333333333,
          0.5666666666666667,
          0.6333333333333333,
          0.7,
          0.6,
          0.7666666666666667,
          0.7333333333333333,
          0.7,
          0.7333333333333333,
          0.9,
          0.7,
          0.7,
          0.6666666666666666,
          0.6666666666666666,
          0.7666666666666667,
          0.8666666666666667,
          0.7666666666666667,
          0.6,
          0.6333333333333333,
          0.7,
          0.6666666666666666,
          0.7333333333333333,
          0.7333333333333333,
          0.5666666666666667,
          0.7333333333333333,
          0.7666666666666667,
          0.6,
          0.7333333333333333,
          0.7333333333333333,
          0.7666666666666667,
          0.8,
          0.7,
          0.7,
          0.8,
          0.8333333333333334,
          0.6666666666666666,
          0.8,
          0.7666666666666667,
          0.7,
          0.8666666666666667,
          0.8333333333333334,
          0.8333333333333334,
          0.7333333333333333,
          0.8666666666666667,
          0.8,
          0.7666666666666667,
          0.7666666666666667,
          0.6666666666666666,
          0.8,
          0.8666666666666667,
          0.8333333333333334,
          0.8,
          0.9,
          1,
          0.9666666666666667,
          0.9,
          0.9666666666666667,
          0.9666666666666667,
          0.9666666666666667,
          0.8666666666666667,
          0.9333333333333333,
          0.9333333333333333,
          0.9666666666666667,
          0.8666666666666667,
          0.9333333333333333,
          0.8666666666666667,
          0.7333333333333333,
          0.8,
          0.8666666666666667,
          0.9,
          0.8666666666666667,
          0.8333333333333334,
          0.8666666666666667,
          0.8666666666666667,
          0.9333333333333333,
          0.9333333333333333,
          0.8,
          0.9333333333333333,
          0.9666666666666667,
          0.9666666666666667,
          0.8333333333333334,
          0.9666666666666667,
          0.9333333333333333,
          0.9333333333333333,
          0.8,
          0.8333333333333334,
          0.8666666666666667,
          0.9666666666666667,
          0.9333333333333333,
          0.9333333333333333,
          0.9666666666666667,
          1,
          1,
          0.9666666666666667,
          0.9666666666666667,
          0.9666666666666667,
          0.8333333333333334,
          0.9333333333333333,
          0.9,
          0.9666666666666667,
          1,
          0.9666666666666667,
          0.9333333333333333,
          0.9666666666666667,
          0.9333333333333333,
          0.8666666666666667,
          0.7333333333333333,
          0.8,
          0.8333333333333334,
          0.8666666666666667,
          0.9,
          0.7666666666666667,
          0.6,
          0.5333333333333333,
          0.6333333333333333,
          0.7333333333333333,
          0.5333333333333333,
          0.5,
          0.4666666666666667,
          0.5,
          0.5,
          0.5333333333333333,
          0.5,
          0.5,
          0.4666666666666667,
          0.8333333333333334,
          0.6333333333333333,
          0.6333333333333333,
          0.7333333333333333,
          0.7666666666666667,
          0.5666666666666667,
          0.6666666666666666,
          0.6666666666666666,
          0.5666666666666667,
          0.7333333333333333,
          0.6666666666666666,
          0.5333333333333333,
          0.6,
          0.6333333333333333,
          0.5333333333333333,
          0.6333333333333333,
          0.6333333333333333,
          0.6666666666666666,
          0.4,
          0.7,
          0.7333333333333333,
          0.4,
          0.5333333333333333,
          0.6666666666666666,
          0.7,
          0.5666666666666667,
          0.6666666666666666,
          0.6,
          0.6666666666666666,
          0.7666666666666667,
          0.5,
          0.5333333333333333,
          0.7333333333333333,
          0.6333333333333333,
          0.6,
          0.7,
          0.6666666666666666,
          0.6666666666666666,
          0.6,
          0.6333333333333333,
          0.7333333333333333,
          0.7333333333333333,
          0.7,
          0.7333333333333333,
          0.8,
          0.9333333333333333,
          0.8333333333333334,
          0.6666666666666666,
          0.6333333333333333,
          0.5,
          0.7,
          0.6333333333333333,
          0.6,
          0.6666666666666666,
          0.7333333333333333,
          0.4666666666666667,
          0.6666666666666666,
          0.6666666666666666,
          0.6666666666666666,
          0.8,
          0.7333333333333333,
          0.7666666666666667,
          0.6,
          0.6,
          0.5333333333333333,
          0.6333333333333333,
          0.6333333333333333,
          0.7,
          0.7,
          0.7,
          0.5333333333333333,
          0.6666666666666666,
          0.6333333333333333,
          0.8,
          0.7333333333333333,
          0.6333333333333333,
          0.5333333333333333,
          0.6,
          0.8333333333333334,
          0.8,
          0.9333333333333333,
          0.7333333333333333,
          0.6666666666666666,
          0.6333333333333333,
          0.7333333333333333,
          0.6666666666666666,
          0.7666666666666667,
          0.6666666666666666,
          0.8333333333333334,
          0.6666666666666666,
          0.6333333333333333,
          0.7,
          0.8,
          0.8,
          0.8666666666666667,
          0.6,
          0.7,
          0.7,
          0.9666666666666667,
          0.7333333333333333,
          0.7666666666666667,
          0.7666666666666667,
          0.7,
          0.8,
          0.6666666666666666,
          0.7666666666666667,
          0.6666666666666666,
          0.7,
          0.7666666666666667,
          0.7333333333333333,
          0.7666666666666667,
          0.8333333333333334,
          0.5666666666666667,
          0.8333333333333334,
          0.7666666666666667,
          0.8666666666666667,
          0.8666666666666667,
          0.7,
          0.7333333333333333,
          0.5333333333333333,
          0.8666666666666667,
          0.7,
          0.6333333333333333,
          0.7,
          0.7333333333333333,
          0.6666666666666666,
          0.6333333333333333,
          0.7666666666666667,
          0.6666666666666666,
          0.7,
          0.8,
          0.7333333333333333,
          0.8333333333333334,
          0.8333333333333334,
          0.7666666666666667,
          0.9666666666666667,
          0.6666666666666666,
          0.6333333333333333,
          0.8,
          0.7333333333333333,
          0.8333333333333334,
          0.7666666666666667,
          0.7,
          0.8,
          0.7666666666666667,
          0.7,
          0.8,
          0.8,
          0.7333333333333333,
          0.8,
          0.9,
          0.9333333333333333,
          0.7333333333333333,
          0.9333333333333333,
          0.9333333333333333,
          1,
          0.9666666666666667,
          1,
          1,
          1
         ]
        },
        {
         "line": {
          "color": "red"
         },
         "mode": "lines",
         "name": "loess frac:0.5",
         "type": "scatter",
         "x": [
          0,
          30,
          60,
          90,
          120,
          150,
          180,
          210,
          240,
          270,
          300,
          330,
          360,
          390,
          420,
          450,
          480,
          510,
          540,
          570,
          600,
          630,
          660,
          690,
          720,
          750,
          780,
          810,
          840,
          870,
          900,
          930,
          960,
          990,
          1020,
          1050,
          1080,
          1110,
          1140,
          1170,
          1200,
          1230,
          1260,
          1290,
          1320,
          1350,
          1380,
          1410,
          1440,
          1470,
          1500,
          1530,
          1560,
          1590,
          1620,
          1650,
          1680,
          1710,
          1740,
          1770,
          1800,
          1830,
          1860,
          1890,
          1920,
          1950,
          1980,
          2010,
          2040,
          2070,
          2100,
          2130,
          2160,
          2190,
          2220,
          2250,
          2280,
          2310,
          2340,
          2370,
          2400,
          2430,
          2460,
          2490,
          2520,
          2550,
          2580,
          2610,
          2640,
          2670,
          2700,
          2730,
          2760,
          2790,
          2820,
          2850,
          2880,
          2910,
          2940,
          2970,
          3000,
          3030,
          3060,
          3090,
          3120,
          3150,
          3180,
          3210,
          3240,
          3270,
          3300,
          3330,
          3360,
          3390,
          3420,
          3450,
          3480,
          3510,
          3540,
          3570,
          3600,
          3630,
          3660,
          3690,
          3720,
          3750,
          3780,
          3810,
          3840,
          3870,
          3900,
          3930,
          3960,
          3990,
          4020,
          4050,
          4080,
          4110,
          4140,
          4170,
          4200,
          4230,
          4260,
          4290,
          4320,
          4350,
          4380,
          4410,
          4440,
          4470,
          4500,
          4530,
          4560,
          4590,
          4620,
          4650,
          4680,
          4710,
          4740,
          4770,
          4800,
          4830,
          4860,
          4890,
          4920,
          4950,
          4980,
          5010,
          5040,
          5070,
          5100,
          5130,
          5160,
          5190,
          5220,
          5250,
          5280,
          5310,
          5340,
          5370,
          5400,
          5430,
          5460,
          5490,
          5520,
          5550,
          5580,
          5610,
          5640,
          5670,
          5700,
          5730,
          5760,
          5790,
          5820,
          5850,
          5880,
          5910,
          5940,
          5970,
          6000,
          6030,
          6060,
          6090,
          6120,
          6150,
          6180,
          6210,
          6240,
          6270,
          6300,
          6330,
          6360,
          6390,
          6420,
          6450,
          6480,
          6510,
          6540,
          6570,
          6600,
          6630,
          6660,
          6690,
          6720,
          6750,
          6780,
          6810,
          6840,
          6870,
          6900,
          6930,
          6960,
          6990,
          7020,
          7050,
          7080,
          7110,
          7140,
          7170,
          7200,
          7230,
          7260,
          7290,
          7320,
          7350,
          7380,
          7410,
          7440,
          7470,
          7500,
          7530,
          7560,
          7590,
          7620,
          7650,
          7680,
          7710,
          7740,
          7770,
          7800,
          7830,
          7860,
          7890,
          7920,
          7950,
          7980,
          8010,
          8040,
          8070,
          8100,
          8130,
          8160,
          8190,
          8220,
          8250,
          8280,
          8310,
          8340,
          8370,
          8400,
          8430,
          8460,
          8490,
          8520,
          8550,
          8580,
          8610,
          8640,
          8670,
          8700,
          8730,
          8760,
          8790,
          8820,
          8850,
          8880,
          8910,
          8940,
          8970
         ],
         "y": [
          0.6524931449244484,
          0.6550866477735823,
          0.6576819518729832,
          0.6602788893220949,
          0.6628772340580943,
          0.6654767146584233,
          0.6680770004329616,
          0.6706777055585852,
          0.6732783987731338,
          0.67587866388145,
          0.6784781228671778,
          0.6810764424299912,
          0.6836733228881621,
          0.6862684960734785,
          0.6888617024198809,
          0.6914526857412473,
          0.6940411896468215,
          0.6966269497847355,
          0.6992097293721863,
          0.7017893128910536,
          0.7043654919686502,
          0.706938076798589,
          0.7095068629653455,
          0.7120716327798131,
          0.7146321656455866,
          0.7171882253993824,
          0.7197395394482671,
          0.722285829930281,
          0.7248268266345764,
          0.7273622770096891,
          0.7298919438119661,
          0.7324155765136477,
          0.7349328909198618,
          0.7374435930427087,
          0.7399474204463721,
          0.7424441455530897,
          0.7449335648624352,
          0.7474155015623622,
          0.7498897942363201,
          0.7523563018637894,
          0.7548149273438753,
          0.7572655988346476,
          0.7597082652946254,
          0.7621429247016988,
          0.7645696126747419,
          0.766988398193797,
          0.769399376421929,
          0.7718026672518591,
          0.7741984431621657,
          0.7765869356499185,
          0.7789684123227841,
          0.7813431758470043,
          0.7837116023499219,
          0.7860741284920502,
          0.7884312649374314,
          0.7907836157086243,
          0.7931318462285053,
          0.7954766869597258,
          0.7978189517584946,
          0.8001595716038109,
          0.802499576162303,
          0.8048401191506759,
          0.8071825105306454,
          0.8095282425256174,
          0.8118790243886764,
          0.8142367465717245,
          0.8166034303241703,
          0.8189811978307721,
          0.8213722032243239,
          0.8237784411410126,
          0.8262014651462583,
          0.828642010586578,
          0.8310994591109736,
          0.8335710459043039,
          0.8360508392513452,
          0.8374297078248963,
          0.8386933367376264,
          0.8398367891911949,
          0.8408555263819573,
          0.8417454663725217,
          0.8425031076995279,
          0.8431257401665468,
          0.8436116139892115,
          0.8439600551417001,
          0.8441712893121482,
          0.8442463688437555,
          0.844186897232177,
          0.8439951262038711,
          0.8436737378557638,
          0.8432254584994865,
          0.8426532338622893,
          0.8419603151042347,
          0.8411500688964924,
          0.8402259094206475,
          0.8391911339526428,
          0.8380492442186392,
          0.8368040812457503,
          0.8354594117885163,
          0.8340187883251905,
          0.8324859456527908,
          0.8308646806761908,
          0.8291592540037631,
          0.8273742977847728,
          0.8255145024479837,
          0.8235843203684375,
          0.8215877292971191,
          0.8195287177155067,
          0.8174120227274083,
          0.8152428373826028,
          0.8130262963886009,
          0.8107674685312153,
          0.8084714371166452,
          0.8061430882709393,
          0.8037871824401941,
          0.8014079163304054,
          0.7990086195187192,
          0.7965916098149806,
          0.7941588938251849,
          0.7917119659372126,
          0.7892517687566126,
          0.7867790565303644,
          0.7842945769407781,
          0.781798571972619,
          0.7792911506638641,
          0.7767723762918516,
          0.7742425674479262,
          0.7717026337845653,
          0.7691536547378127,
          0.7665969326855168,
          0.7640334437268224,
          0.7614636257576903,
          0.7588877345369308,
          0.7563062089085332,
          0.7537197912358384,
          0.7511295170795046,
          0.7485369917887016,
          0.7459440141774968,
          0.7433518955300592,
          0.7407616789774264,
          0.7381740444136586,
          0.7355898289635823,
          0.7330100348189101,
          0.7304350878469422,
          0.727864514739626,
          0.7252977323601609,
          0.7227350295209956,
          0.720177555608945,
          0.7176270716683947,
          0.7150860138590461,
          0.7125573389176075,
          0.7100444426528579,
          0.7075510449713611,
          0.7050813263995839,
          0.7026402564124379,
          0.7002334816976693,
          0.6978672521315966,
          0.6955482194999889,
          0.6932829666301721,
          0.6910776435522883,
          0.6889382336528318,
          0.6868708630092643,
          0.6848817071936504,
          0.6829763037774854,
          0.6811596364371717,
          0.6794363252016652,
          0.6778107787263821,
          0.6762872810490899,
          0.6748699882501303,
          0.6735624093423096,
          0.6723675985074881,
          0.6712883601306783,
          0.6703268812239682,
          0.6694846932555877,
          0.6687627146077278,
          0.6681612775405913,
          0.6676802498172009,
          0.6673186122481299,
          0.6670745323322487,
          0.6669455768676424,
          0.6669285472084654,
          0.6670200162161595,
          0.6672163479499562,
          0.6675138003920248,
          0.6679083987335271,
          0.6683955566492807,
          0.668970062609638,
          0.6696260280063293,
          0.6703573701310553,
          0.6711574295601964,
          0.6720190823115724,
          0.6729350732890006,
          0.6738982074193688,
          0.6749011431195089,
          0.6759365714634807,
          0.6769976279392868,
          0.6780777639083505,
          0.6791709406521623,
          0.680271943609379,
          0.6813759736287529,
          0.6824790762830689,
          0.6835783638884637,
          0.6846720298423954,
          0.6857596354900426,
          0.6868412131610625,
          0.6879166891862478,
          0.6889860630957848,
          0.6900496480703857,
          0.6911085225356539,
          0.6921638633316882,
          0.6932165626062172,
          0.6942673926365142,
          0.6953168880973594,
          0.696365250612786,
          0.6974125133441427,
          0.6984584419373089,
          0.6995022148481237,
          0.7005428181897405,
          0.7015801457236822,
          0.7026146359427051,
          0.70364671908809,
          0.7046774514621191,
          0.7057086722692564,
          0.7067425040092086,
          0.7077814701088939,
          0.7088285284391337,
          0.7098868676705987,
          0.711025098123579,
          0.7122299869899771,
          0.713501793458739,
          0.7148365618121235,
          0.7162283075098859,
          0.7176704721128931,
          0.7191567200287358,
          0.7206812727614839,
          0.7222390011156137,
          0.7238254309457762,
          0.7254367046703026,
          0.7270695831695723,
          0.7287213403679922,
          0.7303896565111463,
          0.7320725056561742,
          0.7337681279073517,
          0.7354749818001485,
          0.7371917102379848,
          0.7389171237046783,
          0.7406501596228461,
          0.7423898872698961,
          0.7441354780647635,
          0.7458862105350662,
          0.7476414511328762,
          0.7494006271383705,
          0.7511632230594156,
          0.752928765191483,
          0.7546968137644492,
          0.7564669938053978,
          0.7582389568925708,
          0.7600123776078375,
          0.7617869356350131,
          0.7635623203647985,
          0.7653382645624036,
          0.7671145481356867,
          0.7688910010628693,
          0.7706674661802311,
          0.7724438244253684,
          0.7742200087562768,
          0.7759959919803175,
          0.7777717786423886,
          0.7795474151283637,
          0.7813229886957671,
          0.7830986082598737,
          0.7848744158604666,
          0.7866505794864844,
          0.7884272733002193,
          0.7902046817303856,
          0.7919829805701222,
          0.7937623358473993,
          0.7955429109471176,
          0.7973248491009852,
          0.7991083206128606,
          0.8008935313837191,
          0.8026806971849071,
          0.8044700460150167,
          0.8062618024110625,
          0.8080562020287428,
          0.8098535043722782,
          0.8116539761478035,
          0.8134578980958908,
          0.8152655758052165,
          0.8170773208850227,
          0.8188934500739019,
          0.8207142981996841,
          0.8225401996803448,
          0.8243714570947721,
          0.8262083413859457,
          0.8280511289002159,
          0.8299000631144285,
          0.8317553402783843,
          0.8336171020940256,
          0.8354854364801332,
          0.8373603753055122
         ]
        }
       ],
       "layout": {
        "template": {
         "data": {
          "scatter": [
           {
            "type": "scatter"
           }
          ]
         }
        },
        "title": {
         "text": "EDS Baseline - Prob of Success"
        }
       }
      }
     },
     "metadata": {},
     "output_type": "display_data"
    },
    {
     "data": {
      "image/png": "[encoded data removed]",
      "text/plain": [
       "<Figure size 640x480 with 1 Axes>"
      ]
     },
     "metadata": {},
     "output_type": "display_data"
    }
   ],
   "source": [
    "run_data_quality_check(_experiment=(422, 'EDS', None), experiment_class='rat_experiment')"
   ]
  },
  {
   "cell_type": "markdown",
   "metadata": {},
   "source": [
    "---\n",
    "# Rat Data: `EDS` Baseline\n",
    "---\n",
    "\n",
    "Our two interest groups are defined as follows:\n",
    "\n",
    "\n",
    "There are 2 types of learning scenarios that we care about in the context of our hypothesis about attention\n",
    "\n",
    "- **EDS easy**: `EDS` following `EDS_BL_Easy` (labelled _“EDS easy”_)\n",
    "- **EDS hard**: `EDS` following `EDS_BL_Hard`(labelled _“EDS hard””_)\n",
    "\n",
    "\n",
    "#### Remove Re-establishment of Attention trails\n",
    "\n",
    "We know that the re-establishment of attention trails are not useful for our hypothesis. We will remove these from the data.\n",
    "\n",
    "There are between `100` and `200` re-establishment of attention trails per block. We can assume there are `200` at  this stage, and at a later stage work to determine the exact number.\n",
    "\n",
    "\n",
    "#### Defining the Interest Groups\n",
    "\n",
    "- **EDS Easy***\n",
    "\n",
    "- **EDS Hard***\n",
    "\n",
    "\n",
    "\n",
    "## Model Proc\n",
    "\n",
    "1. Fit a baseline models `EDS`, `IDS` for each subject.\n",
    "    1.a. Assess the best fit architecture per model.\n",
    "    2.b. Assess the parameter distribution.\n",
    "2. Fit the `EDS Easy` and `EDS Hard` models for each subject.\n",
    "    2.a. Assess the best fit architecture per model.\n",
    "    2.b. Assess the parameter distribution.\n",
    "3. Compare the difference in parameters between the `EDS Easy`, `EDS Hard`, `IDS_BL_Easy`."
   ]
  },
  {
   "cell_type": "markdown",
   "metadata": {},
   "source": [
    "----\n",
    "# 5. Run Updated Experiment\n",
    "----\n",
    "\n",
    "> Group 1: EDS_BL_Easy --> EDS\n",
    "\n",
    "> Group 2: EDS_BL_Hard --> EDS\n",
    "\n",
    "\n",
    "Nelson's Notes\n",
    "\n",
    "- `Adjust` comparison groups\n",
    "- Paper/s\n",
    "\n",
    "- IDS_BL_EASY --> Ignore (followed by IDS)\n",
    "- Ignore: IDS\n",
    "- Ignore: IDS_BL_EASY\n",
    "- Ignore: RE (Re-Establish)\n",
    "- Ignore: Stair (Staircase)\n",
    "- BL = previous learned stimuli\n",
    "- Easy = Stimuli left over from what was learned before,\n",
    "\n",
    "\n",
    "- EDS_BL_Easy : “Easy: ” -> EDS_BL_Easy\n",
    "\n",
    "\n",
    "#### Groups\n",
    "\n",
    "- EDS_BL_Easy --> EDS\n",
    "- EDS_BL_Hard --> EDS\n",
    "\n",
    ">> EDS 1 vs EDS 2 <<\n",
    "- Without subjects design\n",
    "- Compare against baseline\n",
    "------------------------\n",
    "Shift cost := baseline!\n"
   ]
  },
  {
   "cell_type": "markdown",
   "metadata": {},
   "source": [
    "----\n",
    "## Load Rat Data"
   ]
  },
  {
   "cell_type": "code",
   "execution_count": 8,
   "metadata": {},
   "outputs": [
    {
     "name": "stderr",
     "output_type": "stream",
     "text": [
      "INFO:root:StimCode (571): [0. 1.]\n",
      "INFO:root:RespCode (571): [1. 2. 3. 4.]\n"
     ]
    },
    {
     "name": "stdout",
     "output_type": "stream",
     "text": [
      "Unique keys: ['EDS' 'EDS_BL_Easy' 'EDS_BL_Hard' 'IDS' 'IDS_BL_Easy' 'RE' 'Stair']\n"
     ]
    }
   ],
   "source": [
    "(data,\n",
    " sequence_data,\n",
    " meta_data,\n",
    " StimCode,\n",
    " RespCode\n",
    " ) = load_data(config=_config, experiment_class='rat_experiment')\n",
    "\n",
    "print_unique_keys(StimCode)"
   ]
  },
  {
   "cell_type": "markdown",
   "metadata": {},
   "source": [
    "----\n",
    "## Extract the Data for each Group"
   ]
  },
  {
   "cell_type": "code",
   "execution_count": 9,
   "metadata": {},
   "outputs": [
    {
     "data": {
      "text/plain": [
       "<src.query_dataset.QuerySequenceData at 0x31da7ab10>"
      ]
     },
     "execution_count": 9,
     "metadata": {},
     "output_type": "execute_result"
    }
   ],
   "source": [
    "qsd = QuerySequenceData(StimCode, RespCode)\n",
    "qsd.filter_sequences(\n",
    "    subjectID=None,\n",
    "    sessionType=None,\n",
    "    sessionNum=None,\n",
    "    update_existing_stim_resp=False)\\\n",
    "    .extract_stim_resp_data()\\\n",
    "    .infer_action_reward_pairs()\n",
    "qsd"
   ]
  },
  {
   "cell_type": "code",
   "execution_count": 10,
   "metadata": {},
   "outputs": [
    {
     "data": {
      "text/plain": [
       "dict_keys([(4151, 'IDS_BL_Easy', 0), (4151, 'IDS_BL_Easy', 1), (4151, 'IDS', 0), (4151, 'IDS', 1), (4151, 'IDS', 2), (4151, 'IDS', 3), (4151, 'IDS', 4), (4151, 'IDS', 5), (4151, 'RE', 0), (4151, 'Stair', 0), (4151, 'Stair', 1), (4151, 'Stair', 2), (4151, 'EDS_BL_Easy', 0), (4151, 'EDS_BL_Easy', 1), (4151, 'EDS', 0), (4151, 'EDS', 1), (4151, 'EDS', 2), (4151, 'EDS', 3), (4151, 'EDS', 4), (4151, 'EDS', 5), (4151, 'EDS', 6), (4151, 'EDS', 7), (4151, 'IDS_BL_Easy', 2), (4151, 'IDS_BL_Easy', 3), (4151, 'IDS', 6), (4151, 'IDS', 7), (4151, 'IDS', 8), (4151, 'RE', 1), (4151, 'Stair', 3), (4151, 'Stair', 4), (4151, 'Stair', 5), (4151, 'EDS_BL_Hard', 0), (4151, 'EDS_BL_Hard', 1), (4151, 'EDS', 8), (4151, 'EDS', 9), (4151, 'EDS', 10), (4151, 'EDS', 11), (4151, 'EDS', 12), (4151, 'EDS', 13), (4151, 'EDS', 14), (4151, 'EDS', 15), (4151, 'EDS', 16), (4151, 'RE', 2), (4151, 'RE', 3), (4152, 'IDS_BL_Easy', 0), (4152, 'IDS_BL_Easy', 1), (4152, 'IDS', 0), (4152, 'IDS', 1), (4152, 'IDS', 2), (4152, 'IDS', 3), (4152, 'IDS', 4), (4152, 'IDS', 5), (4152, 'RE', 0), (4152, 'Stair', 0), (4152, 'Stair', 1), (4152, 'Stair', 2), (4152, 'EDS_BL_Hard', 0), (4152, 'EDS_BL_Hard', 1), (4152, 'EDS', 0), (4152, 'EDS', 1), (4152, 'EDS', 2), (4152, 'EDS', 3), (4152, 'EDS', 4), (4152, 'EDS', 5), (4152, 'IDS_BL_Easy', 2), (4152, 'IDS_BL_Easy', 3), (4152, 'IDS', 6), (4152, 'IDS', 7), (4152, 'RE', 1), (4152, 'Stair', 3), (4152, 'Stair', 4), (4152, 'EDS_BL_Easy', 0), (4152, 'EDS_BL_Easy', 1), (4152, 'EDS', 6), (4152, 'EDS', 7), (4152, 'EDS', 8), (4152, 'EDS', 9), (4152, 'EDS', 10), (4152, 'EDS', 11), (4152, 'RE', 2), (4152, 'RE', 3), (4154, 'IDS_BL_Easy', 0), (4154, 'IDS_BL_Easy', 1), (4154, 'IDS', 0), (4154, 'IDS', 1), (4154, 'RE', 0), (4154, 'Stair', 0), (4154, 'Stair', 1), (4154, 'Stair', 2), (4154, 'EDS_BL_Hard', 0), (4154, 'EDS_BL_Hard', 1), (4154, 'EDS', 0), (4154, 'EDS', 1), (4154, 'EDS', 2), (4154, 'EDS', 3), (4154, 'IDS_BL_Easy', 2), (4154, 'IDS_BL_Easy', 3), (4154, 'IDS', 2), (4154, 'IDS', 3), (4154, 'IDS', 4), (4154, 'IDS', 5), (4154, 'IDS', 6), (4154, 'IDS', 7), (4154, 'IDS', 8), (4154, 'IDS', 9), (4154, 'IDS', 10), (4154, 'RE', 1), (4154, 'Stair', 3), (4154, 'Stair', 4), (4154, 'EDS_BL_Easy', 0), (4154, 'EDS_BL_Easy', 1), (4154, 'EDS', 4), (4154, 'EDS', 5), (4154, 'EDS', 6), (4154, 'RE', 2), (4154, 'RE', 3), (5091, 'IDS_BL_Easy', 0), (5091, 'IDS_BL_Easy', 1), (5091, 'IDS', 0), (5091, 'IDS', 1), (5091, 'IDS', 2), (5091, 'IDS', 3), (5091, 'IDS', 4), (5091, 'IDS', 5), (5091, 'RE', 0), (5091, 'Stair', 0), (5091, 'Stair', 1), (5091, 'Stair', 2), (5091, 'EDS_BL_Easy', 0), (5091, 'EDS_BL_Easy', 1), (5091, 'EDS', 0), (5091, 'EDS', 1), (5091, 'EDS', 2), (5091, 'EDS', 3), (5091, 'EDS', 4), (5091, 'EDS', 5), (5091, 'EDS', 6), (5091, 'EDS', 7), (5091, 'EDS', 8), (5091, 'IDS_BL_Easy', 2), (5091, 'IDS_BL_Easy', 3), (5091, 'IDS', 6), (5091, 'IDS', 7), (5091, 'RE', 1), (5091, 'Stair', 3), (5091, 'Stair', 4), (5091, 'Stair', 5), (5091, 'EDS_BL_Hard', 0), (5091, 'EDS_BL_Hard', 1), (5091, 'EDS', 9), (5091, 'EDS', 10), (5091, 'RE', 2), (5091, 'RE', 3), (5354, 'IDS_BL_Easy', 0), (5354, 'IDS_BL_Easy', 1), (5354, 'IDS', 0), (5354, 'IDS', 1), (5354, 'IDS', 2), (5354, 'IDS', 3), (5354, 'RE', 0), (5354, 'Stair', 0), (5354, 'Stair', 1), (5354, 'Stair', 2), (5354, 'EDS_BL_Hard', 0), (5354, 'EDS_BL_Hard', 1), (5354, 'EDS', 0), (5354, 'EDS', 1), (5354, 'EDS', 2), (5354, 'EDS', 3), (5354, 'EDS', 4), (5354, 'EDS', 5), (5354, 'IDS_BL_Easy', 2), (5354, 'IDS_BL_Easy', 3), (5354, 'IDS', 4), (5354, 'IDS', 5), (5354, 'IDS', 6), (5354, 'IDS', 7), (5354, 'IDS', 8), (5354, 'IDS', 9), (5354, 'IDS', 10), (5354, 'IDS', 11), (5354, 'RE', 1), (5354, 'Stair', 3), (5354, 'Stair', 4), (5354, 'Stair', 5), (5354, 'EDS_BL_Easy', 0), (5354, 'EDS_BL_Easy', 1), (5354, 'EDS', 6), (5354, 'EDS', 7), (5354, 'EDS', 8), (5354, 'EDS', 9), (5354, 'EDS', 10), (5354, 'EDS', 11), (6832, 'IDS_BL_Easy', 0), (6832, 'IDS_BL_Easy', 1), (6832, 'IDS', 0), (6832, 'IDS', 1), (6832, 'IDS', 2), (6832, 'IDS', 3), (6832, 'RE', 0), (6832, 'Stair', 0), (6832, 'Stair', 1), (6832, 'Stair', 2), (6832, 'EDS_BL_Hard', 0), (6832, 'EDS_BL_Hard', 1), (6832, 'EDS', 0), (6832, 'EDS', 1), (6832, 'EDS', 2), (6832, 'EDS', 3), (6832, 'EDS', 4), (6832, 'IDS_BL_Easy', 2), (6832, 'IDS_BL_Easy', 3), (6832, 'IDS', 4), (6832, 'IDS', 5), (6832, 'IDS', 6), (6832, 'IDS', 7), (6832, 'IDS', 8), (6832, 'RE', 1), (6832, 'Stair', 3), (6832, 'Stair', 4), (6832, 'Stair', 5), (6832, 'EDS_BL_Easy', 0), (6832, 'EDS_BL_Easy', 1), (6832, 'EDS', 5), (6832, 'EDS', 6), (6832, 'EDS', 7), (6832, 'EDS', 8), (6832, 'EDS', 9), (6832, 'EDS', 10), (6832, 'EDS', 11), (6832, 'EDS', 12), (6832, 'EDS', 13), (6833, 'IDS_BL_Easy', 0), (6833, 'IDS_BL_Easy', 1), (6833, 'IDS', 0), (6833, 'IDS', 1), (6833, 'IDS', 2), (6833, 'RE', 0), (6833, 'Stair', 0), (6833, 'Stair', 1), (6833, 'Stair', 2), (6833, 'EDS_BL_Easy', 0), (6833, 'EDS_BL_Easy', 1), (6833, 'EDS', 0), (6833, 'EDS', 1), (6833, 'EDS', 2), (6833, 'IDS_BL_Easy', 2), (6833, 'IDS_BL_Easy', 3), (6833, 'IDS', 3), (6833, 'IDS', 4), (6833, 'IDS', 5), (6833, 'IDS', 6), (6833, 'IDS', 7), (6833, 'RE', 1), (6833, 'Stair', 3), (6833, 'Stair', 4), (6833, 'Stair', 5), (6833, 'EDS_BL_Hard', 0), (6833, 'EDS_BL_Hard', 1), (6833, 'EDS', 3), (6833, 'EDS', 4), (6833, 'EDS', 5), (6833, 'EDS', 6), (6833, 'EDS', 7), (6833, 'EDS', 8), (6833, 'EDS', 9), (6833, 'EDS', 10), (6833, 'EDS', 11), (6833, 'EDS', 12), (6951, 'IDS_BL_Easy', 0), (6951, 'IDS_BL_Easy', 1), (6951, 'IDS', 0), (6951, 'IDS', 1), (6951, 'IDS', 2), (6951, 'IDS', 3), (6951, 'RE', 0), (6951, 'Stair', 0), (6951, 'Stair', 1), (6951, 'Stair', 2), (6951, 'EDS_BL_Easy', 0), (6951, 'EDS_BL_Easy', 1), (6951, 'EDS', 0), (6951, 'EDS', 1), (6951, 'EDS', 2), (6951, 'EDS', 3), (6951, 'EDS', 4), (6951, 'IDS_BL_Easy', 2), (6951, 'IDS', 4), (6951, 'IDS', 5), (6951, 'IDS', 6), (6951, 'IDS', 7), (6951, 'IDS', 8), (6951, 'RE', 1), (6951, 'Stair', 3), (6951, 'Stair', 4), (6951, 'Stair', 5), (6951, 'EDS_BL_Hard', 0), (6951, 'EDS_BL_Hard', 1), (6951, 'EDS', 5), (6951, 'EDS', 6), (6951, 'EDS', 7), (6951, 'EDS', 8), (6951, 'EDS', 9), (6951, 'EDS', 10), (6951, 'EDS', 11), (6951, 'EDS', 12), (6951, 'EDS', 13), (6951, 'EDS', 14), (6951, 'EDS', 15), (8012, 'IDS_BL_Easy', 0), (8012, 'IDS_BL_Easy', 1), (8012, 'IDS', 0), (8012, 'IDS', 1), (8012, 'IDS', 2), (8012, 'RE', 0), (8012, 'Stair', 0), (8012, 'Stair', 1), (8012, 'Stair', 2), (8012, 'Stair', 3), (8012, 'EDS_BL_Hard', 0), (8012, 'EDS_BL_Hard', 1), (8012, 'EDS', 0), (8012, 'EDS', 1), (8012, 'EDS', 2), (8012, 'EDS', 3), (8012, 'IDS_BL_Easy', 2), (8012, 'IDS_BL_Easy', 3), (8012, 'IDS', 3), (8012, 'IDS', 4), (8012, 'IDS', 5), (8012, 'RE', 1), (8012, 'Stair', 4), (8012, 'Stair', 5), (8012, 'EDS_BL_Easy', 0), (8012, 'EDS_BL_Easy', 1), (8012, 'EDS', 4), (8012, 'EDS', 5), (8012, 'EDS', 6), (8012, 'EDS', 7), (8012, 'EDS', 8), (8332, 'IDS_BL_Easy', 0), (8332, 'IDS', 0), (8332, 'IDS', 1), (8332, 'IDS', 2), (8332, 'IDS', 3), (8332, 'RE', 0), (8332, 'Stair', 0), (8332, 'Stair', 1), (8332, 'Stair', 2), (8332, 'EDS_BL_Hard', 0), (8332, 'EDS_BL_Hard', 1), (8332, 'EDS', 0), (8332, 'EDS', 1), (8332, 'EDS', 2), (8332, 'EDS', 3), (8332, 'EDS', 4), (8332, 'EDS', 5), (8332, 'EDS', 6), (8332, 'EDS', 7), (8332, 'EDS', 8), (8332, 'EDS', 9), (8332, 'EDS', 10), (8332, 'EDS', 11), (8332, 'IDS_BL_Easy', 1), (8332, 'IDS_BL_Easy', 2), (8332, 'IDS', 4), (8332, 'IDS', 5), (8332, 'IDS', 6), (8332, 'IDS', 7), (8332, 'IDS', 8), (8332, 'RE', 1), (8332, 'Stair', 3), (8332, 'Stair', 4), (8332, 'Stair', 5), (8332, 'EDS_BL_Easy', 0), (8332, 'EDS_BL_Easy', 1), (8332, 'EDS', 12), (8332, 'EDS', 13), (8332, 'EDS', 14), (8332, 'EDS', 15), (8332, 'EDS', 16), (8332, 'EDS', 17), (8332, 'EDS', 18), (8332, 'EDS', 19), (8332, 'EDS', 20), (8332, 'EDS', 21), (8332, 'EDS', 22), (8332, 'EDS', 23), (8332, 'EDS', 24), (8332, 'EDS', 25), (8451, 'IDS_BL_Easy', 0), (8451, 'IDS_BL_Easy', 1), (8451, 'IDS', 0), (8451, 'IDS', 1), (8451, 'IDS', 2), (8451, 'IDS', 3), (8451, 'Stair', 0), (8451, 'Stair', 1), (8451, 'Stair', 2), (8451, 'EDS_BL_Hard', 0), (8451, 'EDS_BL_Hard', 1), (8451, 'EDS', 0), (8451, 'EDS', 1), (8451, 'EDS', 2), (8451, 'EDS', 3), (8451, 'EDS', 4), (8451, 'EDS', 5), (8451, 'EDS', 6), (8451, 'EDS', 7), (8451, 'IDS_BL_Easy', 2), (8451, 'IDS_BL_Easy', 3), (8451, 'IDS', 4), (8451, 'IDS', 5), (8451, 'IDS', 6), (8451, 'IDS', 7), (8451, 'IDS', 8), (8451, 'IDS', 9), (8451, 'RE', 0), (8451, 'Stair', 3), (8451, 'Stair', 4), (8451, 'Stair', 5), (8451, 'EDS_BL_Easy', 0), (8451, 'EDS', 8), (8451, 'EDS', 9), (8451, 'EDS', 10), (8451, 'EDS', 11), (8451, 'EDS', 12), (849, 'IDS_BL_Easy', 0), (849, 'IDS_BL_Easy', 1), (849, 'IDS', 0), (849, 'IDS', 1), (849, 'IDS', 2), (849, 'RE', 0), (849, 'Stair', 0), (849, 'Stair', 1), (849, 'Stair', 2), (849, 'Stair', 3), (849, 'EDS_BL_Easy', 0), (849, 'EDS_BL_Easy', 1), (849, 'EDS', 0), (849, 'EDS', 1), (849, 'EDS', 2), (849, 'EDS', 3), (849, 'EDS', 4), (849, 'EDS', 5), (849, 'EDS', 6), (849, 'IDS_BL_Easy', 2), (849, 'IDS_BL_Easy', 3), (849, 'IDS', 3), (849, 'IDS', 4), (849, 'IDS', 5), (849, 'RE', 1), (849, 'Stair', 4), (849, 'Stair', 5), (849, 'Stair', 6), (849, 'EDS_BL_Hard', 0), (849, 'EDS', 7), (849, 'EDS', 8), (849, 'EDS', 9), (849, 'EDS', 10), (849, 'EDS', 11), (849, 'EDS', 12), (849, 'EDS', 13), (422, 'IDS_BL_Easy', 0), (422, 'IDS_BL_Easy', 1), (422, 'IDS', 0), (422, 'IDS', 1), (422, 'IDS', 2), (422, 'IDS', 3), (422, 'IDS', 4), (422, 'IDS', 5), (422, 'IDS', 6), (422, 'Stair', 0), (422, 'Stair', 1), (422, 'EDS_BL_Easy', 0), (422, 'EDS_BL_Easy', 1), (422, 'EDS', 0), (422, 'EDS', 1), (422, 'EDS', 2), (422, 'EDS', 3), (422, 'EDS', 4), (422, 'EDS', 5), (422, 'IDS_BL_Easy', 2), (422, 'IDS', 7), (422, 'IDS', 8), (422, 'RE', 0), (422, 'Stair', 2), (422, 'Stair', 3), (422, 'EDS_BL_Hard', 0), (422, 'EDS_BL_Hard', 1), (422, 'EDS', 6), (422, 'EDS', 7), (422, 'EDS', 8), (422, 'EDS', 9), (422, 'EDS', 10), (422, 'EDS', 11), (422, 'EDS', 12), (422, 'EDS', 13), (422, 'EDS', 14), (441, 'IDS_BL_Easy', 0), (441, 'IDS_BL_Easy', 1), (441, 'IDS', 0), (441, 'IDS', 1), (441, 'IDS', 2), (441, 'IDS', 3), (441, 'IDS', 4), (441, 'IDS', 5), (441, 'IDS', 6), (441, 'IDS', 7), (441, 'RE', 0), (441, 'Stair', 0), (441, 'Stair', 1), (441, 'EDS_BL_Easy', 0), (441, 'EDS_BL_Easy', 1), (441, 'EDS', 0), (441, 'EDS', 1), (441, 'EDS', 2), (441, 'EDS', 3), (441, 'IDS_BL_Easy', 2), (441, 'IDS_BL_Easy', 3), (441, 'IDS', 8), (441, 'IDS', 9), (441, 'RE', 1), (441, 'Stair', 2), (441, 'Stair', 3), (441, 'EDS_BL_Hard', 0), (441, 'EDS_BL_Hard', 1), (441, 'EDS', 4), (441, 'EDS', 5), (441, 'EDS', 6), (441, 'EDS', 7), (441, 'EDS', 8), (441, 'EDS', 9), (441, 'EDS', 10), (441, 'EDS', 11), (441, 'EDS', 12), (441, 'EDS', 13), (532, 'IDS_BL_Easy', 0), (532, 'IDS_BL_Easy', 1), (532, 'IDS', 0), (532, 'IDS', 1), (532, 'IDS', 2), (532, 'IDS', 3), (532, 'IDS', 4), (532, 'IDS', 5), (532, 'IDS', 6), (532, 'IDS', 7), (532, 'IDS', 8), (532, 'RE', 0), (532, 'Stair', 0), (532, 'EDS_BL_Hard', 0), (532, 'EDS_BL_Hard', 1), (532, 'EDS', 0), (532, 'EDS', 1), (532, 'EDS', 2), (532, 'IDS_BL_Easy', 2), (532, 'IDS', 9), (532, 'IDS', 10), (532, 'RE', 1), (532, 'Stair', 1), (532, 'Stair', 2), (532, 'EDS_BL_Easy', 0), (532, 'EDS_BL_Easy', 1), (532, 'EDS', 3), (532, 'EDS', 4), (532, 'EDS', 5), (532, 'EDS', 6), (532, 'EDS', 7), (532, 'EDS', 8), (532, 'EDS', 9), (532, 'EDS', 10)])"
      ]
     },
     "execution_count": 10,
     "metadata": {},
     "output_type": "execute_result"
    }
   ],
   "source": [
    "StimCode.keys()"
   ]
  },
  {
   "cell_type": "markdown",
   "metadata": {},
   "source": [
    "## Extracting the Experiment Structure\n",
    "\n",
    "\n",
    "We wish to split the experiments into 2 groups over 2 variants.\n",
    "\n",
    "**Groups**\n",
    "\n",
    "- EDS_BL_EASY --> EDS\n",
    "- EDS_BL_HARD --> EDS\n",
    "\n",
    "**Variants**\n",
    "\n",
    "We are primarliy interested in the effects of EDS learning. The first stage is only relevant to seperate the groups.\n",
    "\n",
    "We therefore build experiments by \n",
    "\n",
    "****\n",
    "\n",
    "#### Sample Experiemnt of a Single Rat\n",
    "\n",
    "```python\n",
    "x = [i for i in StimCode.keys() if ('EDS' in i[1]) or ('EDS_BL_HARD' in i[1])]\n",
    "subjects = np.unique([i[0] for i in x])\n",
    "_subject = np.random.choice(subjects)\n",
    "print('subject: ', _subject)\n",
    "[i for i in x if i[0] == _subject]\n",
    "```\n",
    "\n",
    "Example Output:\n",
    "\n",
    "```\n",
    "[(532, 'EDS_BL_Hard', 0),\n",
    " (532, 'EDS_BL_Hard', 1),\n",
    " (532, 'EDS', 0),\n",
    " (532, 'EDS', 1),\n",
    " (532, 'EDS', 2),\n",
    " (532, 'EDS_BL_Easy', 0),\n",
    " (532, 'EDS_BL_Easy', 1),\n",
    " (532, 'EDS', 3),\n",
    " (532, 'EDS', 4),\n",
    " (532, 'EDS', 5),\n",
    " (532, 'EDS', 6),\n",
    " (532, 'EDS', 7),\n",
    " (532, 'EDS', 8),\n",
    " (532, 'EDS', 9),\n",
    " (532, 'EDS', 10)]\n",
    " ```\n",
    "\n"
   ]
  },
  {
   "cell_type": "markdown",
   "metadata": {},
   "source": [
    "### Load New Modules"
   ]
  },
  {
   "cell_type": "code",
   "execution_count": 11,
   "metadata": {},
   "outputs": [],
   "source": [
    "    # EXPERIMENT_NAME_MLflow = f\"RL Experiment - {DATA_SET} - {EXPERIMENT_NAME}\"\n",
    "    # print('DROP_N_TRAILS={} introduced to account for rebasing.'.format(DROP_N_TRAILS))\n",
    "    # # load data\n",
    "    # (data,\n",
    "    #     sequence_data,\n",
    "    #     meta_data,\n",
    "    #     StimCode,\n",
    "    #     RespCode) = load_data(config=_config, experiment_class=EXPERIMENT_CLASS)\n",
    "    # qsd = QuerySequenceData(StimCode, RespCode)\n",
    "\n",
    "    # # configure mlflow\n",
    "    # configure_mlflow_tracking(\n",
    "    #     mlflow_tracking_dir=\"./mlruns\",\n",
    "    #     experiment_name=EXPERIMENT_NAME_MLflow\n",
    "    # )"
   ]
  },
  {
   "cell_type": "code",
   "execution_count": 12,
   "metadata": {},
   "outputs": [],
   "source": [
    "# load new modules\n",
    "from src.launch_experiments import (\n",
    "    build_experiment_set_v3_EDS_post_learning,\n",
    "    run_experiment_v2,\n",
    "    exe_experiment_suite_v2)"
   ]
  },
  {
   "cell_type": "markdown",
   "metadata": {},
   "source": [
    "### > Example: Build Experiments (v2)"
   ]
  },
  {
   "cell_type": "code",
   "execution_count": 13,
   "metadata": {},
   "outputs": [],
   "source": [
    "# instantiate\n",
    "build_exp = build_experiment_set_v3_EDS_post_learning(StimCode, RespCode)\n",
    "experiment_generator = build_exp.generate_experiments()\n",
    "(\n",
    "exp_idx,\n",
    "_subject_ID,\n",
    "_experiment_class,\n",
    "qsd,\n",
    "action_vector,\n",
    "reward_vector\n",
    ") = next(experiment_generator)"
   ]
  },
  {
   "cell_type": "markdown",
   "metadata": {},
   "source": [
    "### > Example: Run a single Experiment (V2)"
   ]
  },
  {
   "cell_type": "code",
   "execution_count": 14,
   "metadata": {},
   "outputs": [
    {
     "data": {
      "text/plain": [
       "{'subject_ID': '422',\n",
       " 'experiment_ID': None,\n",
       " 'experiment_class': 'EDS_BL_Easy -> EDS',\n",
       " 'reward_rate': 0.8158333333333333,\n",
       " 'action_rate': 0.6463888888888889,\n",
       " 'corr_action_reward': -0.24948816511356212,\n",
       " 'corr_stim_resp': 0.2773536250961157,\n",
       " 'model_1_b_pred': 0.3488232951765997,\n",
       " 'model_1_negLL': 2198.832067922758,\n",
       " 'model_1_BIC': 4405.7956665561205,\n",
       " 'model_2_epsilon_pred': 1.0,\n",
       " 'model_2_negLL': 2356.0072667232103,\n",
       " 'model_2_BIC': 4720.146064157025,\n",
       " 'model_3_alpha_pred': 0.0,\n",
       " 'model_3_theta_pred': 0.1,\n",
       " 'model_3_negLL': 2356.700413903814,\n",
       " 'model_3_BIC': 4729.6638892288365,\n",
       " 'model_3_opt_init_params': (0.0, 0.1)}"
      ]
     },
     "execution_count": 14,
     "metadata": {},
     "output_type": "execute_result"
    }
   ],
   "source": [
    "build_exp.EXPERIMENT_SET.keys()\n",
    "_result = run_experiment_v2(\n",
    "    _subject_ID,\n",
    "    _experiment_class,\n",
    "    qsd,\n",
    "    action_vector,\n",
    "    reward_vector,\n",
    "    drop_n_trails=200\n",
    ")\n",
    "_result"
   ]
  },
  {
   "cell_type": "markdown",
   "metadata": {},
   "source": [
    "----\n",
    "# Launch Experiments\n",
    "### Launch v2 Experiments: with the new Experiment Structure"
   ]
  },
  {
   "cell_type": "code",
   "execution_count": 18,
   "metadata": {},
   "outputs": [
    {
     "name": "stdout",
     "output_type": "stream",
     "text": [
      "DROP_N_TRAILS=200 introduced to account for rebasing.\n",
      "Warning: using file based method for mlflow tracking.\n",
      "|--------------------------------------------------| 1.0% Complete"
     ]
    },
    {
     "name": "stdout",
     "output_type": "stream",
     "text": [
      "|███████████████-----------------------------------| 30.0% Complete{'subject_ID': ['422', '441', '532', '849', '4151', '4152', '4154', '5091', '5354', '6832', '6833', '6951', '8012', '8332', '8451', '422', '441', '532', '849', '4151', '4152', '4154', '5091', '5354', '6832', '6833', '6951', '8012', '8332', '8451'], 'experiment_ID': ['[Experiment=0]-[subject=422]-[exp_class=EDS_BL_Easy -> EDS]', '[Experiment=1]-[subject=441]-[exp_class=EDS_BL_Easy -> EDS]', '[Experiment=2]-[subject=532]-[exp_class=EDS_BL_Easy -> EDS]', '[Experiment=3]-[subject=849]-[exp_class=EDS_BL_Easy -> EDS]', '[Experiment=4]-[subject=4151]-[exp_class=EDS_BL_Easy -> EDS]', '[Experiment=5]-[subject=4152]-[exp_class=EDS_BL_Easy -> EDS]', '[Experiment=6]-[subject=4154]-[exp_class=EDS_BL_Easy -> EDS]', '[Experiment=7]-[subject=5091]-[exp_class=EDS_BL_Easy -> EDS]', '[Experiment=8]-[subject=5354]-[exp_class=EDS_BL_Easy -> EDS]', '[Experiment=9]-[subject=6832]-[exp_class=EDS_BL_Easy -> EDS]', '[Experiment=10]-[subject=6833]-[exp_class=EDS_BL_Easy -> EDS]', '[Experiment=11]-[subject=6951]-[exp_class=EDS_BL_Easy -> EDS]', '[Experiment=12]-[subject=8012]-[exp_class=EDS_BL_Easy -> EDS]', '[Experiment=13]-[subject=8332]-[exp_class=EDS_BL_Easy -> EDS]', '[Experiment=14]-[subject=8451]-[exp_class=EDS_BL_Easy -> EDS]', '[Experiment=15]-[subject=422]-[exp_class=EDS_BL_Hard -> EDS]', '[Experiment=16]-[subject=441]-[exp_class=EDS_BL_Hard -> EDS]', '[Experiment=17]-[subject=532]-[exp_class=EDS_BL_Hard -> EDS]', '[Experiment=18]-[subject=849]-[exp_class=EDS_BL_Hard -> EDS]', '[Experiment=19]-[subject=4151]-[exp_class=EDS_BL_Hard -> EDS]', '[Experiment=20]-[subject=4152]-[exp_class=EDS_BL_Hard -> EDS]', '[Experiment=21]-[subject=4154]-[exp_class=EDS_BL_Hard -> EDS]', '[Experiment=22]-[subject=5091]-[exp_class=EDS_BL_Hard -> EDS]', '[Experiment=23]-[subject=5354]-[exp_class=EDS_BL_Hard -> EDS]', '[Experiment=24]-[subject=6832]-[exp_class=EDS_BL_Hard -> EDS]', '[Experiment=25]-[subject=6833]-[exp_class=EDS_BL_Hard -> EDS]', '[Experiment=26]-[subject=6951]-[exp_class=EDS_BL_Hard -> EDS]', '[Experiment=27]-[subject=8012]-[exp_class=EDS_BL_Hard -> EDS]', '[Experiment=28]-[subject=8332]-[exp_class=EDS_BL_Hard -> EDS]', '[Experiment=29]-[subject=8451]-[exp_class=EDS_BL_Hard -> EDS]'], 'experiment_class': ['EDS_BL_Easy -> EDS', 'EDS_BL_Easy -> EDS', 'EDS_BL_Easy -> EDS', 'EDS_BL_Easy -> EDS', 'EDS_BL_Easy -> EDS', 'EDS_BL_Easy -> EDS', 'EDS_BL_Easy -> EDS', 'EDS_BL_Easy -> EDS', 'EDS_BL_Easy -> EDS', 'EDS_BL_Easy -> EDS', 'EDS_BL_Easy -> EDS', 'EDS_BL_Easy -> EDS', 'EDS_BL_Easy -> EDS', 'EDS_BL_Easy -> EDS', 'EDS_BL_Easy -> EDS', 'EDS_BL_Hard -> EDS', 'EDS_BL_Hard -> EDS', 'EDS_BL_Hard -> EDS', 'EDS_BL_Hard -> EDS', 'EDS_BL_Hard -> EDS', 'EDS_BL_Hard -> EDS', 'EDS_BL_Hard -> EDS', 'EDS_BL_Hard -> EDS', 'EDS_BL_Hard -> EDS', 'EDS_BL_Hard -> EDS', 'EDS_BL_Hard -> EDS', 'EDS_BL_Hard -> EDS', 'EDS_BL_Hard -> EDS', 'EDS_BL_Hard -> EDS', 'EDS_BL_Hard -> EDS'], 'reward_rate': [0.8158333333333333, 0.7704166666666666, 0.6916666666666667, 0.7792857142857142, 0.6906523201075991, 0.7130555555555556, 0.7966666666666666, 0.7266666666666667, 0.7980555555555555, 0.7342592592592593, 0.7053521126760564, 0.7583333333333333, 0.8016666666666666, 0.7753571428571429, 0.752, 0.705, 0.6831034482758621, 0.765, 0.7178571428571429, 0.7279629629629629, 0.6955555555555556, 0.77375, 0.7865961199294532, 0.7813888888888889, 0.73, 0.7421666666666666, 0.7636363636363637, 0.7145833333333333, 0.7256944444444444, 0.8029166666666666], 'action_rate': [0.6463888888888889, 0.6995833333333333, 0.5347916666666667, 0.6485714285714286, 0.3985653440932526, 0.6338888888888888, 0.6366666666666667, 0.4540740740740741, 0.6863888888888889, 0.675, 0.7261971830985916, 0.6766666666666666, 0.615, 0.6405952380952381, 0.6926666666666667, 0.6355555555555555, 0.7174137931034483, 0.5605555555555556, 0.5321428571428571, 0.5088888888888888, 0.43444444444444447, 0.6633333333333333, 0.5026455026455027, 0.6988888888888889, 0.727, 0.6735, 0.6733333333333333, 0.7708333333333334, 0.7113888888888888, 0.616875], 'corr_action_reward': [-0.24948816511356212, -0.2799258301187117, -0.028497677886743896, -0.20896579443450825, 0.08520614899141629, -0.13026990147883658, -0.20944985439779204, 0.046913890303160836, -0.2982660893157529, -0.19814698154427085, -0.22780676644730838, -0.22708847728772955, -0.1787979247190647, -0.19332409627737968, -0.24367186447786196, -0.12618964057634854, -0.18961810175992158, -0.07625597851374563, -0.031184011940047357, -0.008692188725855168, 0.05620241294340399, -0.22508164370867198, -0.0015487919157722964, -0.2944429402279318, -0.26313175594827465, -0.20482510972081244, -0.22934342922547282, -0.3050818618305717, -0.23564929952618732, -0.18253076613797403], 'corr_stim_resp': [0.2773536250961157, 0.13494525428670892, 0.42351345171591975, 0.25368171984955, 0.6146375395721445, 0.25975272102383956, 0.2867998649163031, 0.5552118439547387, 0.17610847020151962, 0.18183616290675905, 0.06030905382524152, 0.18520656894536694, 0.3333615620651518, 0.26821594281150807, 0.14673738324351795, 0.254342003961352, 0.07911696288464928, 0.41144973662696555, 0.4366174139052563, 0.47658291419404303, 0.5694837295142118, 0.21999823228248908, 0.5176197139441878, 0.14007582807080543, 0.06055814322145135, 0.1871398666696261, 0.19390389236343836, -0.05703917372206825, 0.09794790377668884, 0.3306907685233272], 'model_1_b_pred': [0.3488232951765997, 0.29272701846350674, 0.45717264415689457, 0.345500183108823, 0.5982166955810945, 0.36705875899320517, 0.3731252407654715, 0.5492289124794039, 0.30852909355109076, 0.31846108441695264, 0.24888872862479994, 0.31392889240822863, 0.37714333679359635, 0.35695145602879824, 0.2967856154273097, 0.3584613005773079, 0.28089168459547437, 0.4318746951045561, 0.4747498613879086, 0.4946154086348886, 0.5549992214849419, 0.32318177712478646, 0.5160598024320068, 0.29588310079867164, 0.2707145956511408, 0.3239638092986634, 0.32703169386613545, 0.2186366443951427, 0.28557024681820475, 0.3826084418999984], 'model_1_negLL': [2198.832067922758, 1330.0663423784115, 3171.582860078588, 2578.4654725695004, 2870.756021236019, 2235.063988392432, 1056.9566961435964, 3579.1182987635866, 2100.9244597297766, 3253.662700341097, 883.750090949887, 1742.1823905143037, 1855.4146127997244, 5343.479480978632, 1702.72534589191, 3393.1449736595146, 3325.249820810041, 1094.137944334141, 2767.486052100188, 3604.063794621189, 2336.0887289864313, 1384.3381203054896, 646.9175850492271, 2064.9388399290756, 1635.1103755453244, 3652.970485052175, 4045.159998820909, 1155.388578388612, 4186.9704793541705, 3060.50318397803], 'model_1_BIC': [4405.7956665561205, 2667.8288973961694, 6351.599531739654, 5165.224994779103, 5749.869301625538, 4478.259507495468, 2121.2911511954208, 7166.793011431742, 4209.980450170157, 6515.8818145867635, 1774.8621924510337, 3492.3021557247707, 3718.766600295612, 10695.970851390515, 3413.388066479983, 6794.846361223598, 6659.130163496805, 2195.6536475765097, 5543.266153840478, 7216.684003146947, 4680.308988683467, 2776.3724532503256, 1300.674646536683, 4138.009210568755, 3278.158125786812, 7314.606583300884, 8099.084050911166, 2318.47336941657, 8382.794624136379, 6129.440179538537], 'model_2_epsilon_pred': [1.0, 1.0, 1.0, 1.0, 1.0, 1.0, 1.0, 1.0, 1.0, 1.0, 1.0, 1.0, 1.0, 1.0, 1.0, 1.0, 1.0, 1.0, 1.0, 1.0, 1.0, 1.0, 1.0, 1.0, 1.0, 1.0, 1.0, 1.0, 1.0, 1.0], 'model_2_negLL': [2356.0072667232103, 1524.2306500512407, 3187.7838833953515, 2771.895575059281, 2952.8069891854716, 2356.0072667232103, 1108.3423417153065, 3603.672191731422, 2356.0072667232103, 3603.672191731422, 1091.0136622013092, 1940.1189583871749, 1940.1189583871749, 5683.113733411775, 1940.1189583871749, 3603.672191731422, 3880.931063955469, 1108.3423417153065, 2771.895575059281, 3603.672191731422, 2356.0072667232103, 1524.2306500512407, 646.7063194624195, 2356.0072667232103, 1940.1189583871749, 4019.5605000674927, 4435.448808403563, 1524.2306500512407, 4851.3371167396335, 3187.7838833953515], 'model_2_BIC': [4720.146064157025, 3056.1575127418278, 6384.001578373181, 5552.085199758664, 5913.9712375244435, 4720.146064157025, 2224.062442338841, 7215.900797367413, 4720.146064157025, 7215.900797367413, 2189.389334953878, 3888.175291470513, 3888.175291470513, 11375.239356256801, 3888.175291470513, 7215.900797367413, 7770.492649787661, 2224.062442338841, 5552.085199758664, 7215.900797367413, 4720.146064157025, 3056.1575127418278, 1300.2521153630678, 4720.146064157025, 3888.175291470513, 8047.78661333152, 8879.661670076473, 3056.1575127418278, 9711.527898907305, 6384.001578373181], 'model_3_alpha_pred': [0.0, 0.0, 0.0, 0.0, 0.0, 0.0, 0.0, 0.0, 0.0, 0.0, 0.0, 0.0, 0.0, 0.0, 0.0, 0.0, 0.0, 0.0, 0.0, 0.0, 0.0, 0.0, 0.0, 0.0, 0.0, 0.0, 0.0, 0.0, 0.0, 0.0], 'model_3_theta_pred': [10.0, 0.1, 4.717975458032636, 10.0, 0.1, 10.0, 0.1, 0.1, 0.1, 0.1, 10.0, 0.1, 10.0, 0.1, 0.1, 10.0, 0.1, 0.1, 0.1, 0.1, 0.1, 0.1, 1.7500000000000002, 1.7500000000000002, 0.1, 0.1, 0.1, 0.1, 0.1, 0.1], 'model_3_negLL': [2209.4990318313467, 1524.9237972318797, 3171.5831886561455, 2707.029377768727, 2953.49987815631, 2318.2592769177527, 1109.0355806505227, 3604.3653389117153, 2356.700413903814, 3604.3653389117153, 950.7632415831224, 1940.812105567847, 1940.812105567847, 5683.806880591551, 1940.812105567847, 3604.3648999189013, 3881.624211135694, 1109.0354888959123, 2771.7763342711205, 3604.3653389117153, 2356.700413903814, 1524.9237972318797, 647.39943593609, 2098.796929467314, 1940.812105567847, 4023.042645055725, 4450.778666683283, 1524.9237972318797, 4852.030263919618, 3188.4770305757484], 'model_3_BIC': [4435.261125083902, 3065.240019742452, 6360.034000477245, 5430.646854817658, 5923.71427461962, 4652.781615256714, 2232.826679117501, 7225.84350563257, 4729.6638892288365, 7225.84350563257, 1916.2505042687642, 3897.4989605280207, 3897.4989605280207, 11385.637540049607, 3897.4989605280207, 7225.842627646942, 7780.509466024835, 2232.8264956082803, 5560.140767822445, 7225.84350563257, 4729.6638892288365, 3065.240019742452, 1308.4778247486377, 4213.856920355836, 3897.4989605280207, 8063.41651650452, 8919.08543990526, 3065.240019742452, 9721.767858695312, 6393.821684316451], 'model_3_opt_init_params': [(0.0, 10.0), (1.0, 1.7500000000000002), (0.25, 6.7), (0.75, 3.4000000000000004), (0.0, 0.1), (0.25, 10.0), (0.0, 0.1), (1.0, 1.7500000000000002), (0.0, 0.1), (0.0, 0.1), (0.75, 10.0), (1.0, 0.1), (1.0, 8.35), (1.0, 1.7500000000000002), (0.0, 0.1), (0.25, 10.0), (1.0, 1.7500000000000002), (0.0, 0.1), (0.25, 3.4000000000000004), (1.0, 1.7500000000000002), (0.0, 0.1), (0.0, 0.1), (0.0, 1.7500000000000002), (0.0, 1.7500000000000002), (0.0, 0.1), (0.0, 0.1), (0.0, 0.1), (0.75, 3.4000000000000004), (1.0, 1.7500000000000002), (1.0, 1.7500000000000002)]}\n",
      "Runtime complete :).\n"
     ]
    }
   ],
   "source": [
    "# instantiate\n",
    "exp_gen = build_exp.generate_experiments()\n",
    "build_exp.n_experiments\n",
    "res = exe_experiment_suite_v2(\n",
    "    exp_gen, \n",
    "    DATA_SET='Rat Data',\n",
    "    EXPERIMENT_NAME='Final Grouping',\n",
    "    drop_n_trails=200, mlflow_tracking=True, debug_mode=False)\n"
   ]
  },
  {
   "cell_type": "code",
   "execution_count": 26,
   "metadata": {},
   "outputs": [
    {
     "name": "stdout",
     "output_type": "stream",
     "text": [
      "(30, 19)\n"
     ]
    },
    {
     "data": {
      "text/html": [
       "<div>\n",
       "<style scoped>\n",
       "    .dataframe tbody tr th:only-of-type {\n",
       "        vertical-align: middle;\n",
       "    }\n",
       "\n",
       "    .dataframe tbody tr th {\n",
       "        vertical-align: top;\n",
       "    }\n",
       "\n",
       "    .dataframe thead th {\n",
       "        text-align: right;\n",
       "    }\n",
       "</style>\n",
       "<table border=\"1\" class=\"dataframe\">\n",
       "  <thead>\n",
       "    <tr style=\"text-align: right;\">\n",
       "      <th></th>\n",
       "      <th>subject_ID</th>\n",
       "      <th>experiment_ID</th>\n",
       "      <th>experiment_class</th>\n",
       "      <th>reward_rate</th>\n",
       "      <th>action_rate</th>\n",
       "      <th>corr_action_reward</th>\n",
       "      <th>corr_stim_resp</th>\n",
       "      <th>model_1_b_pred</th>\n",
       "      <th>model_1_negLL</th>\n",
       "      <th>model_1_BIC</th>\n",
       "      <th>model_2_epsilon_pred</th>\n",
       "      <th>model_2_negLL</th>\n",
       "      <th>model_2_BIC</th>\n",
       "      <th>model_3_alpha_pred</th>\n",
       "      <th>model_3_theta_pred</th>\n",
       "      <th>model_3_negLL</th>\n",
       "      <th>model_3_BIC</th>\n",
       "      <th>model_3_opt_init_params</th>\n",
       "      <th>opt_models</th>\n",
       "    </tr>\n",
       "  </thead>\n",
       "  <tbody>\n",
       "    <tr>\n",
       "      <th>0</th>\n",
       "      <td>422</td>\n",
       "      <td>[Experiment=0]-[subject=422]-[exp_class=EDS_BL...</td>\n",
       "      <td>EDS_BL_Easy -&gt; EDS</td>\n",
       "      <td>0.815833</td>\n",
       "      <td>0.646389</td>\n",
       "      <td>-0.249488</td>\n",
       "      <td>0.277354</td>\n",
       "      <td>0.348823</td>\n",
       "      <td>2198.832068</td>\n",
       "      <td>4405.795667</td>\n",
       "      <td>1.0</td>\n",
       "      <td>2356.007267</td>\n",
       "      <td>4720.146064</td>\n",
       "      <td>0.0</td>\n",
       "      <td>10.000000</td>\n",
       "      <td>2209.499032</td>\n",
       "      <td>4435.261125</td>\n",
       "      <td>(0.0, 10.0)</td>\n",
       "      <td>model_1</td>\n",
       "    </tr>\n",
       "    <tr>\n",
       "      <th>1</th>\n",
       "      <td>441</td>\n",
       "      <td>[Experiment=1]-[subject=441]-[exp_class=EDS_BL...</td>\n",
       "      <td>EDS_BL_Easy -&gt; EDS</td>\n",
       "      <td>0.770417</td>\n",
       "      <td>0.699583</td>\n",
       "      <td>-0.279926</td>\n",
       "      <td>0.134945</td>\n",
       "      <td>0.292727</td>\n",
       "      <td>1330.066342</td>\n",
       "      <td>2667.828897</td>\n",
       "      <td>1.0</td>\n",
       "      <td>1524.230650</td>\n",
       "      <td>3056.157513</td>\n",
       "      <td>0.0</td>\n",
       "      <td>0.100000</td>\n",
       "      <td>1524.923797</td>\n",
       "      <td>3065.240020</td>\n",
       "      <td>(1.0, 1.7500000000000002)</td>\n",
       "      <td>model_1</td>\n",
       "    </tr>\n",
       "    <tr>\n",
       "      <th>2</th>\n",
       "      <td>532</td>\n",
       "      <td>[Experiment=2]-[subject=532]-[exp_class=EDS_BL...</td>\n",
       "      <td>EDS_BL_Easy -&gt; EDS</td>\n",
       "      <td>0.691667</td>\n",
       "      <td>0.534792</td>\n",
       "      <td>-0.028498</td>\n",
       "      <td>0.423513</td>\n",
       "      <td>0.457173</td>\n",
       "      <td>3171.582860</td>\n",
       "      <td>6351.599532</td>\n",
       "      <td>1.0</td>\n",
       "      <td>3187.783883</td>\n",
       "      <td>6384.001578</td>\n",
       "      <td>0.0</td>\n",
       "      <td>4.717975</td>\n",
       "      <td>3171.583189</td>\n",
       "      <td>6360.034000</td>\n",
       "      <td>(0.25, 6.7)</td>\n",
       "      <td>model_1</td>\n",
       "    </tr>\n",
       "    <tr>\n",
       "      <th>3</th>\n",
       "      <td>849</td>\n",
       "      <td>[Experiment=3]-[subject=849]-[exp_class=EDS_BL...</td>\n",
       "      <td>EDS_BL_Easy -&gt; EDS</td>\n",
       "      <td>0.779286</td>\n",
       "      <td>0.648571</td>\n",
       "      <td>-0.208966</td>\n",
       "      <td>0.253682</td>\n",
       "      <td>0.345500</td>\n",
       "      <td>2578.465473</td>\n",
       "      <td>5165.224995</td>\n",
       "      <td>1.0</td>\n",
       "      <td>2771.895575</td>\n",
       "      <td>5552.085200</td>\n",
       "      <td>0.0</td>\n",
       "      <td>10.000000</td>\n",
       "      <td>2707.029378</td>\n",
       "      <td>5430.646855</td>\n",
       "      <td>(0.75, 3.4000000000000004)</td>\n",
       "      <td>model_1</td>\n",
       "    </tr>\n",
       "    <tr>\n",
       "      <th>4</th>\n",
       "      <td>4151</td>\n",
       "      <td>[Experiment=4]-[subject=4151]-[exp_class=EDS_B...</td>\n",
       "      <td>EDS_BL_Easy -&gt; EDS</td>\n",
       "      <td>0.690652</td>\n",
       "      <td>0.398565</td>\n",
       "      <td>0.085206</td>\n",
       "      <td>0.614638</td>\n",
       "      <td>0.598217</td>\n",
       "      <td>2870.756021</td>\n",
       "      <td>5749.869302</td>\n",
       "      <td>1.0</td>\n",
       "      <td>2952.806989</td>\n",
       "      <td>5913.971238</td>\n",
       "      <td>0.0</td>\n",
       "      <td>0.100000</td>\n",
       "      <td>2953.499878</td>\n",
       "      <td>5923.714275</td>\n",
       "      <td>(0.0, 0.1)</td>\n",
       "      <td>model_1</td>\n",
       "    </tr>\n",
       "  </tbody>\n",
       "</table>\n",
       "</div>"
      ],
      "text/plain": [
       "  subject_ID                                      experiment_ID  \\\n",
       "0        422  [Experiment=0]-[subject=422]-[exp_class=EDS_BL...   \n",
       "1        441  [Experiment=1]-[subject=441]-[exp_class=EDS_BL...   \n",
       "2        532  [Experiment=2]-[subject=532]-[exp_class=EDS_BL...   \n",
       "3        849  [Experiment=3]-[subject=849]-[exp_class=EDS_BL...   \n",
       "4       4151  [Experiment=4]-[subject=4151]-[exp_class=EDS_B...   \n",
       "\n",
       "     experiment_class  reward_rate  action_rate  corr_action_reward  \\\n",
       "0  EDS_BL_Easy -> EDS     0.815833     0.646389           -0.249488   \n",
       "1  EDS_BL_Easy -> EDS     0.770417     0.699583           -0.279926   \n",
       "2  EDS_BL_Easy -> EDS     0.691667     0.534792           -0.028498   \n",
       "3  EDS_BL_Easy -> EDS     0.779286     0.648571           -0.208966   \n",
       "4  EDS_BL_Easy -> EDS     0.690652     0.398565            0.085206   \n",
       "\n",
       "   corr_stim_resp  model_1_b_pred  model_1_negLL  model_1_BIC  \\\n",
       "0        0.277354        0.348823    2198.832068  4405.795667   \n",
       "1        0.134945        0.292727    1330.066342  2667.828897   \n",
       "2        0.423513        0.457173    3171.582860  6351.599532   \n",
       "3        0.253682        0.345500    2578.465473  5165.224995   \n",
       "4        0.614638        0.598217    2870.756021  5749.869302   \n",
       "\n",
       "   model_2_epsilon_pred  model_2_negLL  model_2_BIC  model_3_alpha_pred  \\\n",
       "0                   1.0    2356.007267  4720.146064                 0.0   \n",
       "1                   1.0    1524.230650  3056.157513                 0.0   \n",
       "2                   1.0    3187.783883  6384.001578                 0.0   \n",
       "3                   1.0    2771.895575  5552.085200                 0.0   \n",
       "4                   1.0    2952.806989  5913.971238                 0.0   \n",
       "\n",
       "   model_3_theta_pred  model_3_negLL  model_3_BIC     model_3_opt_init_params  \\\n",
       "0           10.000000    2209.499032  4435.261125                 (0.0, 10.0)   \n",
       "1            0.100000    1524.923797  3065.240020   (1.0, 1.7500000000000002)   \n",
       "2            4.717975    3171.583189  6360.034000                 (0.25, 6.7)   \n",
       "3           10.000000    2707.029378  5430.646855  (0.75, 3.4000000000000004)   \n",
       "4            0.100000    2953.499878  5923.714275                  (0.0, 0.1)   \n",
       "\n",
       "  opt_models  \n",
       "0    model_1  \n",
       "1    model_1  \n",
       "2    model_1  \n",
       "3    model_1  \n",
       "4    model_1  "
      ]
     },
     "execution_count": 26,
     "metadata": {},
     "output_type": "execute_result"
    }
   ],
   "source": [
    "print(res.shape)\n",
    "# select optimal model\n",
    "res['opt_models'] = res.apply(axis=1, func=select_model)\n",
    "res.to_csv('./experiment_logs/RL Experiment - Rat Data - Final.csv', index=False)\n",
    "res.head()"
   ]
  },
  {
   "cell_type": "markdown",
   "metadata": {},
   "source": [
    "------\n",
    "-------\n",
    "------"
   ]
  },
  {
   "cell_type": "markdown",
   "metadata": {},
   "source": [
    "----\n",
    "# Rat Experiments - Previous Experiments\n",
    "----"
   ]
  },
  {
   "cell_type": "code",
   "execution_count": null,
   "metadata": {},
   "outputs": [
    {
     "name": "stderr",
     "output_type": "stream",
     "text": [
      "INFO:root:StimCode (571): [0. 1.]\n",
      "INFO:root:RespCode (571): [1. 2. 3. 4.]\n"
     ]
    },
    {
     "name": "stdout",
     "output_type": "stream",
     "text": [
      "Unique keys: ['EDS' 'EDS_BL_Easy' 'EDS_BL_Hard' 'IDS' 'IDS_BL_Easy' 'RE' 'Stair']\n"
     ]
    }
   ],
   "source": [
    "\n",
    "(data,\n",
    " sequence_data,\n",
    " meta_data,\n",
    " StimCode,\n",
    " RespCode\n",
    " ) = load_data(config=_config, experiment_class='rat_experiment')\n",
    "\n",
    "print_unique_keys(StimCode)\n"
   ]
  },
  {
   "cell_type": "markdown",
   "metadata": {},
   "source": [
    "## Run Rat Experiments"
   ]
  },
  {
   "cell_type": "code",
   "execution_count": null,
   "metadata": {},
   "outputs": [
    {
     "name": "stderr",
     "output_type": "stream",
     "text": [
      "INFO:root:StimCode (571): [0. 1.]\n",
      "INFO:root:RespCode (571): [1. 2. 3. 4.]\n"
     ]
    },
    {
     "name": "stdout",
     "output_type": "stream",
     "text": [
      "DROP_N_TRAILS=0 introduced to account for rebasing.\n",
      "Warning: using file based method for mlflow tracking.\n",
      "\n",
      "        --------------------------------------------------------------------------------\n",
      "        >> Experiment:\n",
      "        --------------\n",
      "\n",
      "        Experiment Name:            EDS_BL_Hard\n",
      "        Experiment Class:           rat_experiment\n",
      "        Experiment MLFlow Name:     RL Experiment - Rat Data - EDS_BL_Hard\n",
      "\n",
      "        Experiment Suite:\n",
      "        -----------------\n",
      "            N Experiments:          15\n",
      "            DROP_N_TRAILS:          0\n",
      "        --------------------------------------------------------------------------------\n",
      "    \n",
      "|██████████████████████████------------------------| 53.3% Complete"
     ]
    },
    {
     "ename": "KeyboardInterrupt",
     "evalue": "",
     "output_type": "error",
     "traceback": [
      "\u001b[0;31m---------------------------------------------------------------------------\u001b[0m",
      "\u001b[0;31mKeyboardInterrupt\u001b[0m                         Traceback (most recent call last)",
      "Cell \u001b[0;32mIn[15], line 7\u001b[0m\n\u001b[1;32m      1\u001b[0m rat_experiment_results \u001b[38;5;241m=\u001b[39m {}\n\u001b[1;32m      3\u001b[0m \u001b[38;5;28;01mfor\u001b[39;00m _key, _burn_in \u001b[38;5;129;01min\u001b[39;00m \u001b[38;5;28mzip\u001b[39m(\n\u001b[1;32m      4\u001b[0m     [\u001b[38;5;124m'\u001b[39m\u001b[38;5;124mEDS_BL_Hard\u001b[39m\u001b[38;5;124m'\u001b[39m, \u001b[38;5;124m'\u001b[39m\u001b[38;5;124mIDS_BL_Easy\u001b[39m\u001b[38;5;124m'\u001b[39m, \u001b[38;5;124m'\u001b[39m\u001b[38;5;124mEDS\u001b[39m\u001b[38;5;124m'\u001b[39m, \u001b[38;5;124m'\u001b[39m\u001b[38;5;124mIDS\u001b[39m\u001b[38;5;124m'\u001b[39m],\n\u001b[1;32m      5\u001b[0m     [\u001b[38;5;241m0\u001b[39m, \u001b[38;5;241m0\u001b[39m, \u001b[38;5;241m200\u001b[39m, \u001b[38;5;241m200\u001b[39m]\n\u001b[1;32m      6\u001b[0m     ):\n\u001b[0;32m----> 7\u001b[0m     rat_experiment_results[_key] \u001b[38;5;241m=\u001b[39m \u001b[43mexe_experiment\u001b[49m\u001b[43m(\u001b[49m\n\u001b[1;32m      8\u001b[0m \u001b[43m        \u001b[49m\u001b[43mDROP_N_TRAILS\u001b[49m\u001b[38;5;241;43m=\u001b[39;49m\u001b[43m_burn_in\u001b[49m\u001b[43m,\u001b[49m\n\u001b[1;32m      9\u001b[0m \u001b[43m        \u001b[49m\u001b[43mEXPERIMENT_NAME\u001b[49m\u001b[38;5;241;43m=\u001b[39;49m\u001b[43m_key\u001b[49m\u001b[43m,\u001b[49m\n\u001b[1;32m     10\u001b[0m \u001b[43m        \u001b[49m\u001b[43mEXPERIMENT_CLASS\u001b[49m\u001b[38;5;241;43m=\u001b[39;49m\u001b[38;5;124;43m'\u001b[39;49m\u001b[38;5;124;43mrat_experiment\u001b[39;49m\u001b[38;5;124;43m'\u001b[39;49m\u001b[43m,\u001b[49m\n\u001b[1;32m     11\u001b[0m \u001b[43m        \u001b[49m\u001b[43mDATA_SET\u001b[49m\u001b[38;5;241;43m=\u001b[39;49m\u001b[38;5;124;43m'\u001b[39;49m\u001b[38;5;124;43mRat Data\u001b[39;49m\u001b[38;5;124;43m'\u001b[39;49m\n\u001b[1;32m     12\u001b[0m \u001b[43m    \u001b[49m\u001b[43m)\u001b[49m\n",
      "File \u001b[0;32m~/Desktop/µπ/Code + Projects/perceptual_attention_learning/reinforcement_learning/src/launch_experiments.py:539\u001b[0m, in \u001b[0;36mexe_experiment\u001b[0;34m(DROP_N_TRAILS, EXPERIMENT_NAME, EXPERIMENT_CLASS, DATA_SET)\u001b[0m\n\u001b[1;32m    525\u001b[0m exp_gen \u001b[38;5;241m=\u001b[39m generate_experiment(experiments)\n\u001b[1;32m    526\u001b[0m N \u001b[38;5;241m=\u001b[39m \u001b[38;5;28mlen\u001b[39m(experiments)\n\u001b[1;32m    527\u001b[0m msg \u001b[38;5;241m=\u001b[39m \u001b[38;5;124mf\u001b[39m\u001b[38;5;124m\"\"\"\u001b[39m\n\u001b[1;32m    528\u001b[0m \u001b[38;5;124m    --------------------------------------------------------------------------------\u001b[39m\n\u001b[1;32m    529\u001b[0m \u001b[38;5;124m    >> Experiment:\u001b[39m\n\u001b[1;32m    530\u001b[0m \u001b[38;5;124m    --------------\u001b[39m\n\u001b[1;32m    531\u001b[0m \n\u001b[1;32m    532\u001b[0m \u001b[38;5;124m    Experiment Name:            \u001b[39m\u001b[38;5;132;01m{\u001b[39;00mEXPERIMENT_NAME\u001b[38;5;132;01m}\u001b[39;00m\n\u001b[1;32m    533\u001b[0m \u001b[38;5;124m    Experiment Class:           \u001b[39m\u001b[38;5;132;01m{\u001b[39;00mEXPERIMENT_CLASS\u001b[38;5;132;01m}\u001b[39;00m\n\u001b[1;32m    534\u001b[0m \u001b[38;5;124m    Experiment MLFlow Name:     \u001b[39m\u001b[38;5;132;01m{\u001b[39;00mEXPERIMENT_NAME_MLflow\u001b[38;5;132;01m}\u001b[39;00m\n\u001b[1;32m    535\u001b[0m \n\u001b[1;32m    536\u001b[0m \u001b[38;5;124m    Experiment Suite:\u001b[39m\n\u001b[1;32m    537\u001b[0m \u001b[38;5;124m    -----------------\u001b[39m\n\u001b[1;32m    538\u001b[0m \u001b[38;5;124m        N Experiments:          \u001b[39m\u001b[38;5;132;01m{\u001b[39;00mN\u001b[38;5;132;01m}\u001b[39;00m\n\u001b[0;32m--> 539\u001b[0m \u001b[38;5;124m        DROP_N_TRAILS:          \u001b[39m\u001b[38;5;132;01m{\u001b[39;00mDROP_N_TRAILS\u001b[38;5;132;01m}\u001b[39;00m\n\u001b[1;32m    540\u001b[0m \u001b[38;5;124m    --------------------------------------------------------------------------------\u001b[39m\n\u001b[1;32m    541\u001b[0m \u001b[38;5;124m\u001b[39m\u001b[38;5;124m\"\"\"\u001b[39m\n\u001b[1;32m    542\u001b[0m \u001b[38;5;28mprint\u001b[39m(msg)\n\u001b[1;32m    543\u001b[0m _results \u001b[38;5;241m=\u001b[39m run_experiment_suite(exp_gen, StimCode, RespCode, N, drop_n_trails\u001b[38;5;241m=\u001b[39mDROP_N_TRAILS)\n",
      "File \u001b[0;32m~/Desktop/µπ/Code + Projects/perceptual_attention_learning/reinforcement_learning/src/launch_experiments.py:225\u001b[0m, in \u001b[0;36mrun_experiment_suite\u001b[0;34m(exp_gen, StimCode, RespCode, n_experiments, drop_n_trails, mlflow_tracking)\u001b[0m\n\u001b[1;32m    221\u001b[0m results \u001b[38;5;241m=\u001b[39m init_results()\n\u001b[1;32m    223\u001b[0m \u001b[38;5;28;01mfor\u001b[39;00m idx, exp \u001b[38;5;129;01min\u001b[39;00m exp_gen:\n\u001b[1;32m    224\u001b[0m     \u001b[38;5;66;03m# print(f'Experiment: {idx}')\u001b[39;00m\n\u001b[0;32m--> 225\u001b[0m     print_progress_bar(idx \u001b[38;5;241m+\u001b[39m \u001b[38;5;241m1\u001b[39m, n_experiments)\n\u001b[1;32m    227\u001b[0m     _result \u001b[38;5;241m=\u001b[39m run_experiment(idx, exp, StimCode, RespCode, drop_n_trails\u001b[38;5;241m=\u001b[39mdrop_n_trails)\n\u001b[1;32m    228\u001b[0m     update_results(_result, results)  \u001b[38;5;66;03m# external store\u001b[39;00m\n",
      "File \u001b[0;32m~/Desktop/µπ/Code + Projects/perceptual_attention_learning/reinforcement_learning/src/launch_experiments.py:187\u001b[0m, in \u001b[0;36mrun_experiment\u001b[0;34m(idx, exp, StimCode, RespCode, drop_n_trails)\u001b[0m\n\u001b[1;32m    181\u001b[0m _stimCount, _respCount, action, reward, action_mean, reward_mean, action_reward_corr, stim_resp_corr \u001b[38;5;241m=\u001b[39m \\\n\u001b[1;32m    182\u001b[0m     compute_experiment_features(qsd)\n\u001b[1;32m    184\u001b[0m \u001b[38;5;66;03m# print(f'exp: {idx}, action rate: {np.mean(action_vector)}, reward rate: {np.mean(reward_vector)}')\u001b[39;00m\n\u001b[1;32m    185\u001b[0m \n\u001b[1;32m    186\u001b[0m \u001b[38;5;66;03m# fit experiment 1\u001b[39;00m\n\u001b[0;32m--> 187\u001b[0m result_model_1 \u001b[38;5;241m=\u001b[39m \u001b[43mrun_experiment_model_1\u001b[49m\u001b[43m(\u001b[49m\u001b[43maction_vector\u001b[49m\u001b[43m,\u001b[49m\u001b[43m \u001b[49m\u001b[43mreward_vector\u001b[49m\u001b[43m)\u001b[49m\n\u001b[1;32m    188\u001b[0m result_model_2 \u001b[38;5;241m=\u001b[39m run_experiment_model_2(action_vector, reward_vector)\n\u001b[1;32m    189\u001b[0m result_model_3 \u001b[38;5;241m=\u001b[39m run_experiment_model_3(action_vector, reward_vector)\n",
      "File \u001b[0;32m~/Desktop/µπ/Code + Projects/perceptual_attention_learning/reinforcement_learning/src/launch_experiments.py:90\u001b[0m, in \u001b[0;36mrun_experiment_model_3\u001b[0;34m(action_vector, reward_vector)\u001b[0m\n\u001b[1;32m     83\u001b[0m     results \u001b[38;5;241m=\u001b[39m wsls\u001b[38;5;241m.\u001b[39moptimize_scikit(\n\u001b[1;32m     84\u001b[0m         loss_function\u001b[38;5;241m=\u001b[39mwsls\u001b[38;5;241m.\u001b[39mneg_log_likelihood,\n\u001b[1;32m     85\u001b[0m         init_guess\u001b[38;5;241m=\u001b[39minit_guess,\n\u001b[1;32m     86\u001b[0m         args\u001b[38;5;241m=\u001b[39m(action_vector, reward_vector), bounds\u001b[38;5;241m=\u001b[39m[(\u001b[38;5;241m0\u001b[39m,\u001b[38;5;241m1\u001b[39m)])\n\u001b[1;32m     87\u001b[0m     \u001b[38;5;28;01mreturn\u001b[39;00m results\n\u001b[0;32m---> 90\u001b[0m \u001b[38;5;28;01mdef\u001b[39;00m \u001b[38;5;21mrun_experiment_model_3\u001b[39m(action_vector, reward_vector):\n\u001b[1;32m     91\u001b[0m     rwm \u001b[38;5;241m=\u001b[39m RoscorlaWagnerModel()\n\u001b[1;32m     92\u001b[0m     results \u001b[38;5;241m=\u001b[39m rwm\u001b[38;5;241m.\u001b[39moptimize_scikit_model_over_init_parameters(\n\u001b[1;32m     93\u001b[0m         actions\u001b[38;5;241m=\u001b[39maction_vector,\n\u001b[1;32m     94\u001b[0m         rewards\u001b[38;5;241m=\u001b[39mreward_vector,\n\u001b[0;32m   (...)\u001b[0m\n\u001b[1;32m     99\u001b[0m         log_progress\u001b[38;5;241m=\u001b[39m\u001b[38;5;28;01mFalse\u001b[39;00m\n\u001b[1;32m    100\u001b[0m         )\n",
      "File \u001b[0;32m~/Desktop/µπ/Code + Projects/perceptual_attention_learning/reinforcement_learning/src/cog_sci_roscorla_wagner_model.py:266\u001b[0m, in \u001b[0;36mRoscorlaWagnerModel.optimize_scikit_model_over_init_parameters\u001b[0;34m(self, actions, rewards, loss_function, alpha_init_range, theta_init_range, bounds, log_progress)\u001b[0m\n\u001b[1;32m    264\u001b[0m \u001b[38;5;66;03m# run experiments\u001b[39;00m\n\u001b[1;32m    265\u001b[0m \u001b[38;5;28;01mfor\u001b[39;00m _alpha, _theta \u001b[38;5;129;01min\u001b[39;00m gen_experiments:              \n\u001b[0;32m--> 266\u001b[0m     result, res_nll, param_fits \u001b[38;5;241m=\u001b[39m \u001b[38;5;28;43mself\u001b[39;49m\u001b[38;5;241;43m.\u001b[39;49m\u001b[43moptimize_scikit\u001b[49m\u001b[43m(\u001b[49m\n\u001b[1;32m    267\u001b[0m \u001b[43m        \u001b[49m\u001b[43mloss_function\u001b[49m\u001b[38;5;241;43m=\u001b[39;49m\u001b[43mloss_function\u001b[49m\u001b[43m,\u001b[49m\n\u001b[1;32m    268\u001b[0m \u001b[43m        \u001b[49m\u001b[43minit_guess\u001b[49m\u001b[38;5;241;43m=\u001b[39;49m\u001b[43m[\u001b[49m\u001b[43m_alpha\u001b[49m\u001b[43m,\u001b[49m\u001b[43m \u001b[49m\u001b[43m_theta\u001b[49m\u001b[43m]\u001b[49m\u001b[43m,\u001b[49m\n\u001b[1;32m    269\u001b[0m \u001b[43m        \u001b[49m\u001b[43margs\u001b[49m\u001b[38;5;241;43m=\u001b[39;49m\u001b[43m(\u001b[49m\u001b[43mactions\u001b[49m\u001b[43m,\u001b[49m\u001b[43m \u001b[49m\u001b[43mrewards\u001b[49m\u001b[43m)\u001b[49m\u001b[43m,\u001b[49m\n\u001b[1;32m    270\u001b[0m \u001b[43m        \u001b[49m\u001b[43mbounds\u001b[49m\u001b[38;5;241;43m=\u001b[39;49m\u001b[43mbounds\u001b[49m\u001b[43m)\u001b[49m\n\u001b[1;32m    272\u001b[0m     \u001b[38;5;28;01mif\u001b[39;00m result\u001b[38;5;241m.\u001b[39mfun \u001b[38;5;241m<\u001b[39m negLL:\n\u001b[1;32m    273\u001b[0m         negLL \u001b[38;5;241m=\u001b[39m result\u001b[38;5;241m.\u001b[39mfun\n",
      "File \u001b[0;32m~/Desktop/µπ/Code + Projects/perceptual_attention_learning/reinforcement_learning/src/cog_sci_roscorla_wagner_model.py:241\u001b[0m, in \u001b[0;36mRoscorlaWagnerModel.optimize_scikit\u001b[0;34m(self, init_guess, args, bounds, loss_function)\u001b[0m\n\u001b[1;32m    238\u001b[0m \u001b[38;5;28;01mif\u001b[39;00m loss_function \u001b[38;5;129;01mis\u001b[39;00m \u001b[38;5;28;01mNone\u001b[39;00m:\n\u001b[1;32m    239\u001b[0m     loss_function \u001b[38;5;241m=\u001b[39m \u001b[38;5;28mself\u001b[39m\u001b[38;5;241m.\u001b[39mneg_log_likelihood\n\u001b[0;32m--> 241\u001b[0m \u001b[38;5;28;01mreturn\u001b[39;00m \u001b[38;5;28;43msuper\u001b[39;49m\u001b[43m(\u001b[49m\u001b[43m)\u001b[49m\u001b[38;5;241;43m.\u001b[39;49m\u001b[43moptimize_scikit\u001b[49m\u001b[43m(\u001b[49m\u001b[43mloss_function\u001b[49m\u001b[43m,\u001b[49m\u001b[43m \u001b[49m\u001b[43minit_guess\u001b[49m\u001b[43m,\u001b[49m\u001b[43m \u001b[49m\u001b[43margs\u001b[49m\u001b[43m,\u001b[49m\u001b[43m \u001b[49m\u001b[43mbounds\u001b[49m\u001b[43m)\u001b[49m\n",
      "File \u001b[0;32m~/Desktop/µπ/Code + Projects/perceptual_attention_learning/reinforcement_learning/src/cog_sci_learning_model_base.py:73\u001b[0m, in \u001b[0;36mMultiArmedBanditModels.optimize_scikit\u001b[0;34m(self, loss_function, init_guess, args, bounds)\u001b[0m\n\u001b[1;32m     72\u001b[0m \u001b[38;5;28;01mdef\u001b[39;00m \u001b[38;5;21moptimize_scikit\u001b[39m(\u001b[38;5;28mself\u001b[39m, loss_function, init_guess, args, bounds):\n\u001b[0;32m---> 73\u001b[0m     result \u001b[38;5;241m=\u001b[39m \u001b[43mminimize\u001b[49m\u001b[43m(\u001b[49m\n\u001b[1;32m     74\u001b[0m \u001b[43m                    \u001b[49m\u001b[43mloss_function\u001b[49m\u001b[43m,\u001b[49m\n\u001b[1;32m     75\u001b[0m \u001b[43m                    \u001b[49m\u001b[43minit_guess\u001b[49m\u001b[43m,\u001b[49m\n\u001b[1;32m     76\u001b[0m \u001b[43m                    \u001b[49m\u001b[43margs\u001b[49m\u001b[38;5;241;43m=\u001b[39;49m\u001b[43margs\u001b[49m\u001b[43m,\u001b[49m\n\u001b[1;32m     77\u001b[0m \u001b[43m                    \u001b[49m\u001b[43mbounds\u001b[49m\u001b[38;5;241;43m=\u001b[39;49m\u001b[43mbounds\u001b[49m\n\u001b[1;32m     78\u001b[0m \u001b[43m        \u001b[49m\u001b[43m)\u001b[49m\n\u001b[1;32m     79\u001b[0m     res_nll \u001b[38;5;241m=\u001b[39m result\u001b[38;5;241m.\u001b[39mfun\n\u001b[1;32m     80\u001b[0m     param_fits \u001b[38;5;241m=\u001b[39m result\u001b[38;5;241m.\u001b[39mx\n",
      "File \u001b[0;32m~/miniforge3/envs/mlxgo/lib/python3.12/site-packages/scipy/optimize/_minimize.py:710\u001b[0m, in \u001b[0;36mminimize\u001b[0;34m(fun, x0, args, method, jac, hess, hessp, bounds, constraints, tol, callback, options)\u001b[0m\n\u001b[1;32m    707\u001b[0m     res \u001b[38;5;241m=\u001b[39m _minimize_newtoncg(fun, x0, args, jac, hess, hessp, callback,\n\u001b[1;32m    708\u001b[0m                              \u001b[38;5;241m*\u001b[39m\u001b[38;5;241m*\u001b[39moptions)\n\u001b[1;32m    709\u001b[0m \u001b[38;5;28;01melif\u001b[39;00m meth \u001b[38;5;241m==\u001b[39m \u001b[38;5;124m'\u001b[39m\u001b[38;5;124ml-bfgs-b\u001b[39m\u001b[38;5;124m'\u001b[39m:\n\u001b[0;32m--> 710\u001b[0m     res \u001b[38;5;241m=\u001b[39m \u001b[43m_minimize_lbfgsb\u001b[49m\u001b[43m(\u001b[49m\u001b[43mfun\u001b[49m\u001b[43m,\u001b[49m\u001b[43m \u001b[49m\u001b[43mx0\u001b[49m\u001b[43m,\u001b[49m\u001b[43m \u001b[49m\u001b[43margs\u001b[49m\u001b[43m,\u001b[49m\u001b[43m \u001b[49m\u001b[43mjac\u001b[49m\u001b[43m,\u001b[49m\u001b[43m \u001b[49m\u001b[43mbounds\u001b[49m\u001b[43m,\u001b[49m\n\u001b[1;32m    711\u001b[0m \u001b[43m                           \u001b[49m\u001b[43mcallback\u001b[49m\u001b[38;5;241;43m=\u001b[39;49m\u001b[43mcallback\u001b[49m\u001b[43m,\u001b[49m\u001b[43m \u001b[49m\u001b[38;5;241;43m*\u001b[39;49m\u001b[38;5;241;43m*\u001b[39;49m\u001b[43moptions\u001b[49m\u001b[43m)\u001b[49m\n\u001b[1;32m    712\u001b[0m \u001b[38;5;28;01melif\u001b[39;00m meth \u001b[38;5;241m==\u001b[39m \u001b[38;5;124m'\u001b[39m\u001b[38;5;124mtnc\u001b[39m\u001b[38;5;124m'\u001b[39m:\n\u001b[1;32m    713\u001b[0m     res \u001b[38;5;241m=\u001b[39m _minimize_tnc(fun, x0, args, jac, bounds, callback\u001b[38;5;241m=\u001b[39mcallback,\n\u001b[1;32m    714\u001b[0m                         \u001b[38;5;241m*\u001b[39m\u001b[38;5;241m*\u001b[39moptions)\n",
      "File \u001b[0;32m~/miniforge3/envs/mlxgo/lib/python3.12/site-packages/scipy/optimize/_lbfgsb_py.py:365\u001b[0m, in \u001b[0;36m_minimize_lbfgsb\u001b[0;34m(fun, x0, args, jac, bounds, disp, maxcor, ftol, gtol, eps, maxfun, maxiter, iprint, callback, maxls, finite_diff_rel_step, **unknown_options)\u001b[0m\n\u001b[1;32m    359\u001b[0m task_str \u001b[38;5;241m=\u001b[39m task\u001b[38;5;241m.\u001b[39mtobytes()\n\u001b[1;32m    360\u001b[0m \u001b[38;5;28;01mif\u001b[39;00m task_str\u001b[38;5;241m.\u001b[39mstartswith(\u001b[38;5;124mb\u001b[39m\u001b[38;5;124m'\u001b[39m\u001b[38;5;124mFG\u001b[39m\u001b[38;5;124m'\u001b[39m):\n\u001b[1;32m    361\u001b[0m     \u001b[38;5;66;03m# The minimization routine wants f and g at the current x.\u001b[39;00m\n\u001b[1;32m    362\u001b[0m     \u001b[38;5;66;03m# Note that interruptions due to maxfun are postponed\u001b[39;00m\n\u001b[1;32m    363\u001b[0m     \u001b[38;5;66;03m# until the completion of the current minimization iteration.\u001b[39;00m\n\u001b[1;32m    364\u001b[0m     \u001b[38;5;66;03m# Overwrite f and g:\u001b[39;00m\n\u001b[0;32m--> 365\u001b[0m     f, g \u001b[38;5;241m=\u001b[39m \u001b[43mfunc_and_grad\u001b[49m\u001b[43m(\u001b[49m\u001b[43mx\u001b[49m\u001b[43m)\u001b[49m\n\u001b[1;32m    366\u001b[0m \u001b[38;5;28;01melif\u001b[39;00m task_str\u001b[38;5;241m.\u001b[39mstartswith(\u001b[38;5;124mb\u001b[39m\u001b[38;5;124m'\u001b[39m\u001b[38;5;124mNEW_X\u001b[39m\u001b[38;5;124m'\u001b[39m):\n\u001b[1;32m    367\u001b[0m     \u001b[38;5;66;03m# new iteration\u001b[39;00m\n\u001b[1;32m    368\u001b[0m     n_iterations \u001b[38;5;241m+\u001b[39m\u001b[38;5;241m=\u001b[39m \u001b[38;5;241m1\u001b[39m\n",
      "File \u001b[0;32m~/miniforge3/envs/mlxgo/lib/python3.12/site-packages/scipy/optimize/_differentiable_functions.py:285\u001b[0m, in \u001b[0;36mScalarFunction.fun_and_grad\u001b[0;34m(self, x)\u001b[0m\n\u001b[1;32m    283\u001b[0m \u001b[38;5;28;01mif\u001b[39;00m \u001b[38;5;129;01mnot\u001b[39;00m np\u001b[38;5;241m.\u001b[39marray_equal(x, \u001b[38;5;28mself\u001b[39m\u001b[38;5;241m.\u001b[39mx):\n\u001b[1;32m    284\u001b[0m     \u001b[38;5;28mself\u001b[39m\u001b[38;5;241m.\u001b[39m_update_x_impl(x)\n\u001b[0;32m--> 285\u001b[0m \u001b[38;5;28;43mself\u001b[39;49m\u001b[38;5;241;43m.\u001b[39;49m\u001b[43m_update_fun\u001b[49m\u001b[43m(\u001b[49m\u001b[43m)\u001b[49m\n\u001b[1;32m    286\u001b[0m \u001b[38;5;28mself\u001b[39m\u001b[38;5;241m.\u001b[39m_update_grad()\n\u001b[1;32m    287\u001b[0m \u001b[38;5;28;01mreturn\u001b[39;00m \u001b[38;5;28mself\u001b[39m\u001b[38;5;241m.\u001b[39mf, \u001b[38;5;28mself\u001b[39m\u001b[38;5;241m.\u001b[39mg\n",
      "File \u001b[0;32m~/miniforge3/envs/mlxgo/lib/python3.12/site-packages/scipy/optimize/_differentiable_functions.py:251\u001b[0m, in \u001b[0;36mScalarFunction._update_fun\u001b[0;34m(self)\u001b[0m\n\u001b[1;32m    249\u001b[0m \u001b[38;5;28;01mdef\u001b[39;00m \u001b[38;5;21m_update_fun\u001b[39m(\u001b[38;5;28mself\u001b[39m):\n\u001b[1;32m    250\u001b[0m     \u001b[38;5;28;01mif\u001b[39;00m \u001b[38;5;129;01mnot\u001b[39;00m \u001b[38;5;28mself\u001b[39m\u001b[38;5;241m.\u001b[39mf_updated:\n\u001b[0;32m--> 251\u001b[0m         \u001b[38;5;28;43mself\u001b[39;49m\u001b[38;5;241;43m.\u001b[39;49m\u001b[43m_update_fun_impl\u001b[49m\u001b[43m(\u001b[49m\u001b[43m)\u001b[49m\n\u001b[1;32m    252\u001b[0m         \u001b[38;5;28mself\u001b[39m\u001b[38;5;241m.\u001b[39mf_updated \u001b[38;5;241m=\u001b[39m \u001b[38;5;28;01mTrue\u001b[39;00m\n",
      "File \u001b[0;32m~/miniforge3/envs/mlxgo/lib/python3.12/site-packages/scipy/optimize/_differentiable_functions.py:155\u001b[0m, in \u001b[0;36mScalarFunction.__init__.<locals>.update_fun\u001b[0;34m()\u001b[0m\n\u001b[1;32m    154\u001b[0m \u001b[38;5;28;01mdef\u001b[39;00m \u001b[38;5;21mupdate_fun\u001b[39m():\n\u001b[0;32m--> 155\u001b[0m     \u001b[38;5;28mself\u001b[39m\u001b[38;5;241m.\u001b[39mf \u001b[38;5;241m=\u001b[39m \u001b[43mfun_wrapped\u001b[49m\u001b[43m(\u001b[49m\u001b[38;5;28;43mself\u001b[39;49m\u001b[38;5;241;43m.\u001b[39;49m\u001b[43mx\u001b[49m\u001b[43m)\u001b[49m\n",
      "File \u001b[0;32m~/miniforge3/envs/mlxgo/lib/python3.12/site-packages/scipy/optimize/_differentiable_functions.py:137\u001b[0m, in \u001b[0;36mScalarFunction.__init__.<locals>.fun_wrapped\u001b[0;34m(x)\u001b[0m\n\u001b[1;32m    133\u001b[0m \u001b[38;5;28mself\u001b[39m\u001b[38;5;241m.\u001b[39mnfev \u001b[38;5;241m+\u001b[39m\u001b[38;5;241m=\u001b[39m \u001b[38;5;241m1\u001b[39m\n\u001b[1;32m    134\u001b[0m \u001b[38;5;66;03m# Send a copy because the user may overwrite it.\u001b[39;00m\n\u001b[1;32m    135\u001b[0m \u001b[38;5;66;03m# Overwriting results in undefined behaviour because\u001b[39;00m\n\u001b[1;32m    136\u001b[0m \u001b[38;5;66;03m# fun(self.x) will change self.x, with the two no longer linked.\u001b[39;00m\n\u001b[0;32m--> 137\u001b[0m fx \u001b[38;5;241m=\u001b[39m \u001b[43mfun\u001b[49m\u001b[43m(\u001b[49m\u001b[43mnp\u001b[49m\u001b[38;5;241;43m.\u001b[39;49m\u001b[43mcopy\u001b[49m\u001b[43m(\u001b[49m\u001b[43mx\u001b[49m\u001b[43m)\u001b[49m\u001b[43m,\u001b[49m\u001b[43m \u001b[49m\u001b[38;5;241;43m*\u001b[39;49m\u001b[43margs\u001b[49m\u001b[43m)\u001b[49m\n\u001b[1;32m    138\u001b[0m \u001b[38;5;66;03m# Make sure the function returns a true scalar\u001b[39;00m\n\u001b[1;32m    139\u001b[0m \u001b[38;5;28;01mif\u001b[39;00m \u001b[38;5;129;01mnot\u001b[39;00m np\u001b[38;5;241m.\u001b[39misscalar(fx):\n",
      "File \u001b[0;32m~/Desktop/µπ/Code + Projects/perceptual_attention_learning/reinforcement_learning/src/cog_sci_roscorla_wagner_model.py:171\u001b[0m, in \u001b[0;36mRoscorlaWagnerModel.neg_log_likelihood\u001b[0;34m(self, parameters, actions, rewards, Q_init, epsilon_clip)\u001b[0m\n\u001b[1;32m    167\u001b[0m     Q[actions[t]] \u001b[38;5;241m=\u001b[39m Q[actions[t]] \u001b[38;5;241m+\u001b[39m alpha \u001b[38;5;241m*\u001b[39m delta\n\u001b[1;32m    169\u001b[0m \u001b[38;5;66;03m# add clip for safety: ensure 0,1 values can log.\u001b[39;00m\n\u001b[1;32m    170\u001b[0m \u001b[38;5;66;03m# choiceProb = np.clip(choiceProb, epsilon_clip, 1 - epsilon_clip) \u001b[39;00m\n\u001b[0;32m--> 171\u001b[0m negLL \u001b[38;5;241m=\u001b[39m \u001b[38;5;241m-\u001b[39mnp\u001b[38;5;241m.\u001b[39msum(\u001b[43mnp\u001b[49m\u001b[38;5;241;43m.\u001b[39;49m\u001b[43mlog\u001b[49m\u001b[43m(\u001b[49m\u001b[43mchoiceProb\u001b[49m\u001b[43m)\u001b[49m)\n\u001b[1;32m    173\u001b[0m \u001b[38;5;28;01mreturn\u001b[39;00m negLL\n",
      "\u001b[0;31mKeyboardInterrupt\u001b[0m: "
     ]
    }
   ],
   "source": [
    "rat_experiment_results = {}\n",
    "\n",
    "for _key, _burn_in in zip(\n",
    "    ['EDS_BL_Hard', 'IDS_BL_Easy', 'EDS', 'IDS'],\n",
    "    [0, 0, 200, 200]\n",
    "    ):\n",
    "    rat_experiment_results[_key] = exe_experiment(\n",
    "        DROP_N_TRAILS=_burn_in,\n",
    "        EXPERIMENT_NAME=_key,\n",
    "        EXPERIMENT_CLASS='rat_experiment',\n",
    "        DATA_SET='Rat Data'\n",
    "    )"
   ]
  },
  {
   "cell_type": "markdown",
   "metadata": {},
   "source": [
    "---\n",
    "# Human Data: Pilot\n",
    "----"
   ]
  },
  {
   "cell_type": "code",
   "execution_count": null,
   "metadata": {},
   "outputs": [],
   "source": [
    "(data,\n",
    " sequence_data,\n",
    " meta_data,\n",
    " StimCode,\n",
    " RespCode\n",
    " ) = load_data(config=_config, experiment_class='human_pilot_experiment')\n",
    "\n",
    "print_unique_keys(StimCode)\n"
   ]
  },
  {
   "cell_type": "markdown",
   "metadata": {},
   "source": [
    "---\n",
    "# Human Pilot Additional Experiments\n",
    "---"
   ]
  },
  {
   "cell_type": "markdown",
   "metadata": {},
   "source": [
    "----\n",
    "# Human Pilot: EDS 1\n",
    "----"
   ]
  },
  {
   "cell_type": "code",
   "execution_count": null,
   "metadata": {},
   "outputs": [],
   "source": [
    "experiment_results = {}\n",
    "for GROUP_STATE in ['eds1' 'eds2' 'ids1' 'ids2']:\n",
    "    pass\n"
   ]
  },
  {
   "cell_type": "code",
   "execution_count": null,
   "metadata": {},
   "outputs": [],
   "source": [
    "human_pilot_eds1 = exe_experiment(\n",
    "    DROP_N_TRAILS = 0,\n",
    "    EXPERIMENT_NAME = 'eds1',\n",
    "    EXPERIMENT_CLASS = 'human_pilot_experiment',\n",
    "    DATA_SET = 'Human Pilot Data',\n",
    "    )"
   ]
  },
  {
   "cell_type": "code",
   "execution_count": null,
   "metadata": {},
   "outputs": [],
   "source": [
    "human_pilot_eds1.head(3)"
   ]
  },
  {
   "cell_type": "markdown",
   "metadata": {},
   "source": [
    "----\n",
    "# Human Pilot: EDS 2\n",
    "----"
   ]
  },
  {
   "cell_type": "code",
   "execution_count": null,
   "metadata": {},
   "outputs": [],
   "source": [
    "human_pilot_eds2 = exe_experiment(\n",
    "    DROP_N_TRAILS = 0,\n",
    "    EXPERIMENT_NAME = 'eds2',\n",
    "    EXPERIMENT_CLASS = 'human_pilot_experiment',\n",
    "    DATA_SET = 'Human Pilot Data',\n",
    "    )\n",
    "\n",
    "human_pilot_eds2.head(3)"
   ]
  },
  {
   "cell_type": "code",
   "execution_count": null,
   "metadata": {},
   "outputs": [],
   "source": [
    "human_pilot_eds2"
   ]
  },
  {
   "cell_type": "markdown",
   "metadata": {},
   "source": [
    "---\n",
    "### Examine Data Input\n",
    "----"
   ]
  },
  {
   "cell_type": "code",
   "execution_count": null,
   "metadata": {},
   "outputs": [],
   "source": [
    "run_data_quality_check(_experiment=(1, 'eds2', None), experiment_class='human_pilot_experiment')"
   ]
  },
  {
   "cell_type": "markdown",
   "metadata": {},
   "source": [
    "----\n",
    "# Human Pilot: IDS 1\n",
    "----"
   ]
  },
  {
   "cell_type": "code",
   "execution_count": null,
   "metadata": {},
   "outputs": [],
   "source": [
    "human_pilot_ids1 = exe_experiment(\n",
    "    DROP_N_TRAILS = 100,\n",
    "    EXPERIMENT_NAME = 'ids1',\n",
    "    EXPERIMENT_CLASS = 'human_pilot_experiment',\n",
    "    DATA_SET = 'Human Pilot Data',\n",
    "    )\n",
    "\n",
    "human_pilot_ids1.head(3)"
   ]
  },
  {
   "cell_type": "code",
   "execution_count": null,
   "metadata": {},
   "outputs": [],
   "source": [
    "run_data_quality_check(_experiment=(1, 'ids1', None), experiment_class='human_pilot_experiment')"
   ]
  },
  {
   "cell_type": "markdown",
   "metadata": {},
   "source": [
    "----\n",
    "# Human Pilot: IDS 2\n",
    "----"
   ]
  },
  {
   "cell_type": "code",
   "execution_count": null,
   "metadata": {},
   "outputs": [],
   "source": [
    "human_pilot_ids2 = exe_experiment(\n",
    "    DROP_N_TRAILS = 200,\n",
    "    EXPERIMENT_NAME = 'ids2',\n",
    "    EXPERIMENT_CLASS = 'human_pilot_experiment',\n",
    "    DATA_SET = 'Human Pilot Data',\n",
    "    )\n",
    "\n",
    "human_pilot_ids2.head(3)"
   ]
  },
  {
   "cell_type": "markdown",
   "metadata": {},
   "source": [
    "----\n",
    "# Human Motivation\n",
    "----"
   ]
  },
  {
   "cell_type": "code",
   "execution_count": null,
   "metadata": {},
   "outputs": [],
   "source": [
    "(data,\n",
    " sequence_data,\n",
    " meta_data,\n",
    " StimCode,\n",
    " RespCode\n",
    " ) = load_data(config=_config, experiment_class='human_motivation_experiment')\n",
    "\n",
    "print_unique_keys(StimCode)"
   ]
  },
  {
   "cell_type": "code",
   "execution_count": null,
   "metadata": {},
   "outputs": [],
   "source": [
    "human_motivation_experiments = {}\n",
    "\n",
    "for _key, _burn_in in zip(\n",
    "    ['ams1', 'ams2', 'eds1', 'ids1', 'eds2', 'ids2'],\n",
    "    [0, 0, 0, 0, 200, 200]\n",
    "    ):\n",
    "    print(f'Processing experiment: {_key} - burn in: {_burn_in}')\n",
    "    human_motivation_experiments[_key] = exe_experiment(\n",
    "        DROP_N_TRAILS = _burn_in,\n",
    "        EXPERIMENT_NAME = _key,\n",
    "        EXPERIMENT_CLASS = 'human_motivation_experiment',\n",
    "        DATA_SET = 'Human Motivation Data',\n",
    "        )"
   ]
  },
  {
   "cell_type": "code",
   "execution_count": null,
   "metadata": {},
   "outputs": [],
   "source": [
    "for _key, _val in human_motivation_experiments.items():\n",
    "    print(f'Experiment: {_key}')\n",
    "    print(_val.head(3).to_markdown())"
   ]
  }
 ],
 "metadata": {
  "kernelspec": {
   "display_name": "mlxgo",
   "language": "python",
   "name": "python3"
  },
  "language_info": {
   "codemirror_mode": {
    "name": "ipython",
    "version": 3
   },
   "file_extension": ".py",
   "mimetype": "text/x-python",
   "name": "python",
   "nbconvert_exporter": "python",
   "pygments_lexer": "ipython3",
   "version": "3.12.0"
  }
 },
 "nbformat": 4,
 "nbformat_minor": 2
}
