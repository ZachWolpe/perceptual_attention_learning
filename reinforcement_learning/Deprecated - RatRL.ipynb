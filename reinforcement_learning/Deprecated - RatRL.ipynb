{
 "cells": [
  {
   "cell_type": "markdown",
   "metadata": {},
   "source": [
    "# Rat Reinforcement Learning\n",
    "\n",
    "---\n",
    "```\n",
    ": 22 July 2024\n",
    ": zachcolinwolpe@gmail.com\n",
    "```\n",
    "---"
   ]
  },
  {
   "cell_type": "code",
   "execution_count": 1,
   "metadata": {},
   "outputs": [],
   "source": [
    "import pandas as pd\n",
    "import numpy as np\n",
    "import scipy.io\n",
    "import logging\n",
    "import pprint\n",
    "import os\n",
    "\n",
    "from process_data.extract_matlab_data import load_processed_data"
   ]
  },
  {
   "cell_type": "code",
   "execution_count": 2,
   "metadata": {},
   "outputs": [],
   "source": [
    "from src.rescorla_wagner_model import (RoscorlaWagner)\n",
    "from src.rescorla_wagner_model_plots import (RescorlaWagnerPlots)\n",
    "from src.rescorla_wagner_model_simulation import (RescorlaWagnerSimulate)\n",
    "from src.rescorla_wagner_model_diagnostics import (RoscorlaWagerModelDiagnostics)"
   ]
  },
  {
   "cell_type": "code",
   "execution_count": 3,
   "metadata": {},
   "outputs": [],
   "source": [
    "from src.helpers import log_rat_metadata, log_sequence_data, load_config"
   ]
  },
  {
   "cell_type": "markdown",
   "metadata": {},
   "source": [
    "---\n",
    "## Load Data\n",
    "---"
   ]
  },
  {
   "cell_type": "code",
   "execution_count": 4,
   "metadata": {},
   "outputs": [],
   "source": [
    "# load yaml config\n",
    "_config = load_config('config.yaml')\n",
    "\n",
    "# fetch file locations\n",
    "_processed_data_loc = _config['processed_data']['location']\n",
    "_data_file = _config['processed_data']['rat_experiment']['trials']\n",
    "_metadata_file = _config['processed_data']['rat_experiment']['metadata']"
   ]
  },
  {
   "cell_type": "code",
   "execution_count": 5,
   "metadata": {},
   "outputs": [
    {
     "name": "stdout",
     "output_type": "stream",
     "text": [
      "--------------------------------------------------------------- \n",
      "meta_data:\n",
      "<class 'pandas.core.frame.DataFrame'>\n",
      "RangeIndex: 571 entries, 0 to 570\n",
      "Data columns (total 5 columns):\n",
      " #   Column       Non-Null Count  Dtype \n",
      "---  ------       --------------  ----- \n",
      " 0   ratID        571 non-null    int64 \n",
      " 1   SessionType  571 non-null    object\n",
      " 2   SessionNum   571 non-null    int64 \n",
      " 3   CondNum      571 non-null    int64 \n",
      " 4   ReleMode     571 non-null    int64 \n",
      "dtypes: int64(4), object(1)\n",
      "memory usage: 22.4+ KB\n",
      "None\n",
      "\n",
      "Example:\n",
      "   ratID  SessionType  SessionNum  CondNum  ReleMode\n",
      "0   4151  IDS_BL_Easy           1        1         1\n",
      "1   4151  IDS_BL_Easy           2        1         1\n",
      "---------------------------------------------------------------\n",
      "\n",
      "    ---------------------------------------------------------------\n",
      "    No. Rats (IDs):     15\n",
      "    ---------------------------------------------------------------\n",
      "    \n",
      "             No. Experiments per SessionType\n",
      "SessionType                                 \n",
      "EDS                                      204\n",
      "EDS_BL_Easy                               29\n",
      "EDS_BL_Hard                               29\n",
      "IDS                                      135\n",
      "IDS_BL_Easy                               56\n",
      "RE                                        36\n",
      "Stair                                     82\n"
     ]
    }
   ],
   "source": [
    "# load data\n",
    "data = load_processed_data(_processed_data_loc)\n",
    "\n",
    "\n",
    "# load data\n",
    "data = load_processed_data(_processed_data_loc)\n",
    "\n",
    "# extact sequence data\n",
    "rat_sequence_data = data[_data_file]\n",
    "log_sequence_data(rat_sequence_data)\n",
    "\n",
    "\n",
    "# Examine metadata\n",
    "meta_data = data[_metadata_file]\n",
    "log_rat_metadata(meta_data)\n",
    "\n"
   ]
  },
  {
   "cell_type": "markdown",
   "metadata": {},
   "source": [
    "-----\n",
    "# Fit RW Model to Rat Data\n",
    "-----\n"
   ]
  },
  {
   "cell_type": "code",
   "execution_count": 7,
   "metadata": {},
   "outputs": [],
   "source": [
    "StimCode = rat_sequence_data['StimCode']\n",
    "RespCode = rat_sequence_data['RespCode']\n"
   ]
  },
  {
   "cell_type": "code",
   "execution_count": 10,
   "metadata": {},
   "outputs": [
    {
     "name": "stdout",
     "output_type": "stream",
     "text": [
      "Rat ID: 4151, Session ID: IDS_BL_Easy, Session Number: 0\n",
      "[0. 1. 0. 1. 1. 0. 1. 0. 1. 0. 1. 0. 1. 0. 1. 0. 0. 1. 1. 0. 1. 0. 1. 0.\n",
      " 1. 0. 1. 0. 0. 1. 0. 1. 0. 1. 1. 0. 1. 0. 1. 0. 0. 1. 1. 0. 1. 0. 0. 1.\n",
      " 1. 0. 1. 0. 1. 0. 0. 1. 1. 0. 1. 0. 1. 0. 1. 0. 0. 1. 0. 1. 0. 1. 1. 0.\n",
      " 0. 1. 0. 1. 0. 1. 0. 1. 0. 1. 1. 0. 0. 1. 0. 1. 0. 1. 0. 1. 0. 1. 1. 0.\n",
      " 0. 1. 0. 1. 0. 1. 0. 1. 0. 1. 0. 1. 1. 0. 0. 1. 0. 1. 1. 0. 0. 1. 0. 1.\n",
      " 1. 0. 1. 0. 1. 0. 1. 0. 0. 1. 0. 1. 1. 0. 0. 1. 1. 0. 0. 1. 1. 0. 1. 0.\n",
      " 0. 1. 0. 1. 0. 1. 1. 0. 1. 0. 1. 0. 1. 0. 0. 1. 0. 1. 1. 0. 1. 0. 0. 1.\n",
      " 0. 1. 1. 0. 0. 1. 0. 1. 0. 1. 0. 1. 0. 1. 1. 0. 1. 0. 1. 0. 0. 1. 0. 1.\n",
      " 1. 0. 0. 1. 1. 0. 1. 0. 0. 1. 0. 1. 1. 0. 1. 0. 1. 0. 1. 0. 0. 1. 0. 1.\n",
      " 0. 1. 1. 0. 0. 1. 0. 1. 1. 0. 0. 1. 1. 0. 0. 1. 1. 0. 0. 1. 0. 1. 1. 0.\n",
      " 1. 0. 0. 1. 1. 0. 1. 0. 0. 1. 1. 0. 0. 1. 1. 0. 0. 1. 0. 1. 1. 0. 1. 0.\n",
      " 1. 0. 0. 1. 0. 1. 0. 1. 1. 0. 1. 0. 1. 0. 1. 0. 0. 1. 1. 0. 0. 1. 1. 0.\n",
      " 0. 1. 1. 0. 1. 0. 1. 0. 1. 0. 1. 0. 0. 1. 0. 1. 1. 0. 1. 0. 1. 0. 0. 1.\n",
      " 0. 1. 0. 1. 1. 0. 1. 0. 0. 1. 1. 0. 0. 1. 1. 0. 1. 0. 1. 0. 0. 1. 0. 1.\n",
      " 1. 0. 0. 1. 0. 1. 0. 1. 1. 0. 1. 0. 0. 1. 0. 1. 1. 0. 1. 0. 1. 0. 1. 0.\n",
      " 0. 1. 0. 1. 1. 0. 1. 0. 1. 0. 0. 1. 0. 1. 1. 0. 0. 1. 1. 0. 1. 0.]\n",
      "\n"
     ]
    }
   ],
   "source": [
    "[(ratID, sessionID, sessionNum) for (ratID, sessionID, sessionNum) in StimCode.keys()]\n",
    "for (ratID, sessionID, sessionNum), data in StimCode.items():\n",
    "    print(f\"Rat ID: {ratID}, Session ID: {sessionID}, Session Number: {sessionNum}\")\n",
    "    print(data)\n",
    "    print(\"\")\n",
    "    break"
   ]
  },
  {
   "cell_type": "code",
   "execution_count": 128,
   "metadata": {},
   "outputs": [
    {
     "data": {
      "text/plain": [
       "array(['EDS', 'EDS_BL_Easy', 'EDS_BL_Hard', 'IDS', 'IDS_BL_Easy', 'RE',\n",
       "       'Stair'], dtype='<U11')"
      ]
     },
     "execution_count": 128,
     "metadata": {},
     "output_type": "execute_result"
    }
   ],
   "source": [
    "unique_session_types = np.unique([i[1] for i in StimCode.keys()])\n",
    "unique_session_types"
   ]
  },
  {
   "cell_type": "code",
   "execution_count": 130,
   "metadata": {},
   "outputs": [
    {
     "data": {
      "text/plain": [
       "382"
      ]
     },
     "execution_count": 130,
     "metadata": {},
     "output_type": "execute_result"
    }
   ],
   "source": [
    "qsd = QuerySequenceData(StimCode, RespCode)\n",
    "KEY = (4151, 'IDS_BL_Easy', 0)\n",
    "qsd.query(ratID=4151, sessionType='IDS_BL_Easy', sessionNum=0)\n",
    "_stimCode, _respCode = qsd.return_experiment_vectors(ratID=4151, sessionType='IDS_BL_Easy', sessionNumber=0)\n",
    "_reward, _action = qsd.infer_action_reward_pairs(_respCode)\n",
    "\n",
    "\n",
    "len(_reward)"
   ]
  },
  {
   "cell_type": "code",
   "execution_count": 103,
   "metadata": {},
   "outputs": [],
   "source": [
    "\n",
    "# execute\n",
    "\n",
    "qsd = QuerySequenceData(StimCode, RespCode)\n",
    "RAT_ID = 4151\n",
    "KEY = (RAT_ID, 'IDS_BL_Easy', None)\n",
    "\n",
    "_stimCode, _respCode = qsd.query(\n",
    "    ratID=KEY[0],\n",
    "    sessionType=KEY[1],\n",
    "    sessionNum=KEY[2])\n",
    "# _reward, _action = qsd.infer_action_reward_pairs(_respCode)\n",
    "\n",
    "\n",
    "# Extract stimData & resp\n",
    "# assuming sorting isn't required.\n",
    "def extract_stim_resp_data(_stimCode, _respCode):\n",
    "    stimData = []\n",
    "    respData = []\n",
    "    for (_stimKey, _stimData), (_respKey, _respData) in zip(_stimCode.items(), _respCode.items()):\n",
    "        stimData.extend(_stimData)\n",
    "        respData.extend(_respData)\n",
    "    return stimData, respData\n",
    "\n",
    "stimData, respData = extract_stim_resp_data(_stimCode, _respCode)\n",
    "# concatenate all IDS or EDS sessions"
   ]
  },
  {
   "cell_type": "code",
   "execution_count": 132,
   "metadata": {},
   "outputs": [],
   "source": [
    "_action, _reward = qsd.infer_action_reward_pairs(respData)\n",
    "# stimData, respData"
   ]
  },
  {
   "cell_type": "markdown",
   "metadata": {},
   "source": [
    "# Try All Experiment Types"
   ]
  },
  {
   "cell_type": "code",
   "execution_count": 143,
   "metadata": {},
   "outputs": [
    {
     "data": {
      "text/html": [
       "<div>\n",
       "<style scoped>\n",
       "    .dataframe tbody tr th:only-of-type {\n",
       "        vertical-align: middle;\n",
       "    }\n",
       "\n",
       "    .dataframe tbody tr th {\n",
       "        vertical-align: top;\n",
       "    }\n",
       "\n",
       "    .dataframe thead th {\n",
       "        text-align: right;\n",
       "    }\n",
       "</style>\n",
       "<table border=\"1\" class=\"dataframe\">\n",
       "  <thead>\n",
       "    <tr style=\"text-align: right;\">\n",
       "      <th></th>\n",
       "      <th>ratID</th>\n",
       "      <th>sessionType</th>\n",
       "      <th>sessionNum</th>\n",
       "      <th>avg_reward</th>\n",
       "    </tr>\n",
       "  </thead>\n",
       "  <tbody>\n",
       "    <tr>\n",
       "      <th>0</th>\n",
       "      <td>422</td>\n",
       "      <td>EDS</td>\n",
       "      <td>None</td>\n",
       "      <td>0.499889</td>\n",
       "    </tr>\n",
       "    <tr>\n",
       "      <th>1</th>\n",
       "      <td>422</td>\n",
       "      <td>EDS</td>\n",
       "      <td>None</td>\n",
       "      <td>0.499889</td>\n",
       "    </tr>\n",
       "    <tr>\n",
       "      <th>2</th>\n",
       "      <td>422</td>\n",
       "      <td>EDS</td>\n",
       "      <td>None</td>\n",
       "      <td>0.499889</td>\n",
       "    </tr>\n",
       "    <tr>\n",
       "      <th>3</th>\n",
       "      <td>422</td>\n",
       "      <td>EDS</td>\n",
       "      <td>None</td>\n",
       "      <td>0.499889</td>\n",
       "    </tr>\n",
       "    <tr>\n",
       "      <th>4</th>\n",
       "      <td>422</td>\n",
       "      <td>EDS</td>\n",
       "      <td>None</td>\n",
       "      <td>0.499889</td>\n",
       "    </tr>\n",
       "    <tr>\n",
       "      <th>...</th>\n",
       "      <td>...</td>\n",
       "      <td>...</td>\n",
       "      <td>...</td>\n",
       "      <td>...</td>\n",
       "    </tr>\n",
       "    <tr>\n",
       "      <th>177</th>\n",
       "      <td>4154</td>\n",
       "      <td>Stair</td>\n",
       "      <td>None</td>\n",
       "      <td>0.500000</td>\n",
       "    </tr>\n",
       "    <tr>\n",
       "      <th>178</th>\n",
       "      <td>4154</td>\n",
       "      <td>Stair</td>\n",
       "      <td>None</td>\n",
       "      <td>0.500000</td>\n",
       "    </tr>\n",
       "    <tr>\n",
       "      <th>179</th>\n",
       "      <td>4154</td>\n",
       "      <td>Stair</td>\n",
       "      <td>None</td>\n",
       "      <td>0.500000</td>\n",
       "    </tr>\n",
       "    <tr>\n",
       "      <th>180</th>\n",
       "      <td>4154</td>\n",
       "      <td>Stair</td>\n",
       "      <td>None</td>\n",
       "      <td>0.500000</td>\n",
       "    </tr>\n",
       "    <tr>\n",
       "      <th>181</th>\n",
       "      <td>4154</td>\n",
       "      <td>Stair</td>\n",
       "      <td>None</td>\n",
       "      <td>0.500000</td>\n",
       "    </tr>\n",
       "  </tbody>\n",
       "</table>\n",
       "<p>182 rows × 4 columns</p>\n",
       "</div>"
      ],
      "text/plain": [
       "     ratID sessionType sessionNum  avg_reward\n",
       "0      422         EDS       None    0.499889\n",
       "1      422         EDS       None    0.499889\n",
       "2      422         EDS       None    0.499889\n",
       "3      422         EDS       None    0.499889\n",
       "4      422         EDS       None    0.499889\n",
       "..     ...         ...        ...         ...\n",
       "177   4154       Stair       None    0.500000\n",
       "178   4154       Stair       None    0.500000\n",
       "179   4154       Stair       None    0.500000\n",
       "180   4154       Stair       None    0.500000\n",
       "181   4154       Stair       None    0.500000\n",
       "\n",
       "[182 rows x 4 columns]"
      ]
     },
     "execution_count": 143,
     "metadata": {},
     "output_type": "execute_result"
    }
   ],
   "source": [
    "qsd = QuerySequenceData(StimCode, RespCode)\n",
    "RAT_ID = 4151\n",
    "\n",
    "unique_session_types = np.unique([i[1] for i in StimCode.keys()])\n",
    "unique_rat_id = np.unique([i[0] for i in StimCode.keys()])\n",
    "\n",
    "results = {'ratID': [], 'sessionType': [], 'sessionNum': [], 'avg_reward': []}\n",
    "for rat_id, session_type in zip(unique_rat_id, unique_session_types):\n",
    "\n",
    "    # for session_num in np.unique([i[2] for i in StimCode.keys()]):\n",
    "    #     KEY = (rat_id, session_type, session_num)\n",
    "    #     _stimCode, _respCode = qsd.query(\n",
    "    #         ratID=KEY[0], sessionType=KEY[1], sessionNum=KEY[2]\n",
    "    #         )\n",
    "        # _reward, _action = qsd.infer_action_reward_pairs(_respCode)\n",
    "\n",
    "\n",
    "\n",
    "    \n",
    "    KEY = (rat_id, session_type, None)\n",
    "\n",
    "    _stimCode, _respCode = qsd.query(\n",
    "        ratID=KEY[0], sessionType=KEY[1], sessionNum=KEY[2]\n",
    "        )\n",
    "    # _reward, _action = qsd.infer_action_reward_pairs(_respCode)\n",
    "\n",
    "\n",
    "    stimData, respData = extract_stim_resp_data(_stimCode, _respCode)\n",
    "    _action, _reward = qsd.infer_action_reward_pairs(respData)\n",
    "    # stimData, respData\n",
    "    # \n",
    "    _reward\n",
    "\n",
    "    avg_reward = np.mean(_reward)\n",
    "    results['ratID'].append(rat_id)\n",
    "    results['sessionType'].append(session_type)\n",
    "    results['sessionNum'].append(None)\n",
    "    results['avg_reward'].append(avg_reward)\n",
    "\n",
    "\n",
    " \n",
    "\n",
    "pd.DataFrame(results)"
   ]
  },
  {
   "cell_type": "code",
   "execution_count": 138,
   "metadata": {},
   "outputs": [
    {
     "ename": "ValueError",
     "evalue": "The truth value of an array with more than one element is ambiguous. Use a.any() or a.all()",
     "output_type": "error",
     "traceback": [
      "\u001b[0;31m---------------------------------------------------------------------------\u001b[0m",
      "\u001b[0;31mValueError\u001b[0m                                Traceback (most recent call last)",
      "Cell \u001b[0;32mIn[138], line 8\u001b[0m\n\u001b[1;32m      1\u001b[0m \u001b[38;5;66;03m# Calculate the probability of reward per bin\u001b[39;00m\n\u001b[1;32m      2\u001b[0m \u001b[38;5;66;03m# def reward_prob(reward, bin_size=20):\u001b[39;00m\n\u001b[1;32m      3\u001b[0m \u001b[38;5;66;03m#     \"\"\"\u001b[39;00m\n\u001b[1;32m      4\u001b[0m \u001b[38;5;66;03m#     Calculate the probability of reward per bin. If bin=None, return the probability of reward for the entire sequence.\u001b[39;00m\n\u001b[1;32m      5\u001b[0m     \n\u001b[1;32m      6\u001b[0m \u001b[38;5;66;03m#     \"\"\"\u001b[39;00m\n\u001b[0;32m----> 8\u001b[0m X, probs \u001b[38;5;241m=\u001b[39m \u001b[43mRoscorlaWagerModelDiagnostics\u001b[49m\u001b[38;5;241;43m.\u001b[39;49m\u001b[43mcalc_prob_of_success\u001b[49m\u001b[43m(\u001b[49m\u001b[43mnp\u001b[49m\u001b[38;5;241;43m.\u001b[39;49m\u001b[43marray\u001b[49m\u001b[43m(\u001b[49m\u001b[43m_reward\u001b[49m\u001b[43m)\u001b[49m\u001b[43m,\u001b[49m\u001b[43m \u001b[49m\u001b[43mbin_size\u001b[49m\u001b[38;5;241;43m=\u001b[39;49m\u001b[38;5;28;43;01mNone\u001b[39;49;00m\u001b[43m)\u001b[49m\n\u001b[1;32m      9\u001b[0m \u001b[38;5;28;01mimport\u001b[39;00m \u001b[38;5;21;01mplotly\u001b[39;00m\u001b[38;5;21;01m.\u001b[39;00m\u001b[38;5;21;01mexpress\u001b[39;00m \u001b[38;5;28;01mas\u001b[39;00m \u001b[38;5;21;01mpx\u001b[39;00m\n\u001b[1;32m     11\u001b[0m fig \u001b[38;5;241m=\u001b[39m px\u001b[38;5;241m.\u001b[39mline(x\u001b[38;5;241m=\u001b[39mX, y\u001b[38;5;241m=\u001b[39mprobs)\n",
      "File \u001b[0;32m~/Desktop/µπ/perceptual_attention_learning/reinforcement_learning/src/rescorla_wagner_model_diagnostics.py:105\u001b[0m, in \u001b[0;36mRoscorlaWagerModelDiagnostics.calc_prob_of_success\u001b[0;34m(rewards, bin_size)\u001b[0m\n\u001b[1;32m    102\u001b[0m x_vector \u001b[38;5;241m=\u001b[39m []\n\u001b[1;32m    104\u001b[0m \u001b[38;5;28;01mif\u001b[39;00m bin_size \u001b[38;5;129;01mis\u001b[39;00m \u001b[38;5;28;01mNone\u001b[39;00m:\n\u001b[0;32m--> 105\u001b[0m     \u001b[38;5;28;01mreturn\u001b[39;00m \u001b[43mnp\u001b[49m\u001b[38;5;241;43m.\u001b[39;49m\u001b[43marange\u001b[49m\u001b[43m(\u001b[49m\u001b[43mrewards\u001b[49m\u001b[43m)\u001b[49m, np\u001b[38;5;241m.\u001b[39mmean(rewards)\n\u001b[1;32m    107\u001b[0m \u001b[38;5;28;01mfor\u001b[39;00m i \u001b[38;5;129;01min\u001b[39;00m \u001b[38;5;28mrange\u001b[39m(\u001b[38;5;241m0\u001b[39m, \u001b[38;5;28mlen\u001b[39m(rewards), bin_size):\n\u001b[1;32m    108\u001b[0m     x_vector\u001b[38;5;241m.\u001b[39mappend(i)\n",
      "\u001b[0;31mValueError\u001b[0m: The truth value of an array with more than one element is ambiguous. Use a.any() or a.all()"
     ]
    }
   ],
   "source": [
    "# Calculate the probability of reward per bin\n",
    "# def reward_prob(reward, bin_size=20):\n",
    "#     \"\"\"\n",
    "#     Calculate the probability of reward per bin. If bin=None, return the probability of reward for the entire sequence.\n",
    "    \n",
    "#     \"\"\"\n",
    "\n",
    "# X, probs = RoscorlaWagerModelDiagnostics.calc_prob_of_success(np.array(_reward), bin_size=None)\n",
    "# import plotly.express as px\n",
    "\n",
    "# fig = px.line(x=X, y=probs)\n",
    "# fig.show()"
   ]
  },
  {
   "cell_type": "code",
   "execution_count": 117,
   "metadata": {},
   "outputs": [
    {
     "data": {
      "text/plain": [
       "array([0., 1.], dtype=float32)"
      ]
     },
     "execution_count": 117,
     "metadata": {},
     "output_type": "execute_result"
    }
   ],
   "source": [
    "_action\n",
    "pd.DataFrame({'StimCode': stimData, 'RespCode': respData, 'Reward': _reward, 'Action': _action})\n",
    "np.unique(stimData)\n"
   ]
  },
  {
   "cell_type": "code",
   "execution_count": 122,
   "metadata": {},
   "outputs": [
    {
     "name": "stderr",
     "output_type": "stream",
     "text": [
      "100%|██████████| 10/10 [00:02<00:00,  4.80it/s]"
     ]
    },
    {
     "name": "stdout",
     "output_type": "stream",
     "text": [
      "Neg Log Likelihood fit complete.\n",
      "alpha_hat = 0.00, theta_hat = 1.00\n",
      "BIC = 3040.27\n"
     ]
    },
    {
     "name": "stderr",
     "output_type": "stream",
     "text": [
      "\n"
     ]
    }
   ],
   "source": [
    "# fetch processed data\n",
    "# data = load_processed_data('./data/processed_data/')\n",
    "\n",
    "param_fits, BIC = RoscorlaWagner.fit_rescorla_wagner_model_n_times(\n",
    "    action_vector=_action,\n",
    "    reward_vector=_reward,\n",
    "    alpha_range=np.linspace(0,1,10),\n",
    "    theta_range=np.linspace(1,25,10),\n",
    "    alpha_bound=(0,1),\n",
    "    theta_bound=(0,50))"
   ]
  },
  {
   "cell_type": "code",
   "execution_count": 123,
   "metadata": {},
   "outputs": [
    {
     "name": "stdout",
     "output_type": "stream",
     "text": [
      "\n",
      "    Fit Parameters:\n",
      "    ---------------\n",
      "        : alpha: 0.00\n",
      "        : theta: 1.00\n",
      "    \n"
     ]
    },
    {
     "data": {
      "text/plain": [
       "array([0., 1.])"
      ]
     },
     "execution_count": 123,
     "metadata": {},
     "output_type": "execute_result"
    }
   ],
   "source": [
    "msg = \"\"\"\n",
    "    Fit Parameters:\n",
    "    ---------------\n",
    "        : alpha: %.2f\n",
    "        : theta: %.2f\n",
    "    \"\"\" % (param_fits[0], param_fits[1])\n",
    "print(msg)\n",
    "param_fits"
   ]
  },
  {
   "cell_type": "code",
   "execution_count": 124,
   "metadata": {},
   "outputs": [],
   "source": [
    "Q_stored, predicted_action_vector, action_probabilities = \\\n",
    "   RoscorlaWagerModelDiagnostics.generate_Q_values(\n",
    "      param_fits,\n",
    "      action_vector=_action,\n",
    "      reward_vector=_reward)\n"
   ]
  },
  {
   "cell_type": "code",
   "execution_count": 125,
   "metadata": {},
   "outputs": [
    {
     "data": {
      "text/plain": [
       "<module 'matplotlib.pyplot' from '/Users/zachwolpe/miniforge3/envs/mlxgo/lib/python3.12/site-packages/matplotlib/pyplot.py'>"
      ]
     },
     "execution_count": 125,
     "metadata": {},
     "output_type": "execute_result"
    },
    {
     "data": {
      "image/png": "[encoded data removed]",
      "text/plain": [
       "<Figure size 640x480 with 1 Axes>"
      ]
     },
     "metadata": {},
     "output_type": "display_data"
    }
   ],
   "source": [
    "# Infered\n",
    "RescorlaWagnerPlots.plot_Q_estimates(Q_values=Q_stored, choice_vector=_action)"
   ]
  },
  {
   "cell_type": "code",
   "execution_count": 127,
   "metadata": {},
   "outputs": [
    {
     "data": {
      "application/vnd.plotly.v1+json": {
       "config": {
        "plotlyServerURL": "https://plot.ly"
       },
       "data": [
        {
         "line": {
          "color": "darkblue",
          "dash": "dash"
         },
         "mode": "lines",
         "type": "scatter",
         "x": [
          0,
          50,
          100,
          150,
          200,
          250,
          300,
          350,
          400,
          450,
          500,
          550,
          600,
          650,
          700,
          750,
          800,
          850,
          900,
          950,
          1000,
          1050,
          1100,
          1150,
          1200,
          1250,
          1300,
          1350,
          1400,
          1450,
          1500,
          1550,
          1600,
          1650,
          1700,
          1750,
          1800,
          1850,
          1900,
          1950,
          2000,
          2050,
          2100,
          2150
         ],
         "y": [
          0.5,
          0.5,
          0.5,
          0.5,
          0.5,
          0.5,
          0.5,
          0.5,
          0.5,
          0.5,
          0.5,
          0.5,
          0.5,
          0.5,
          0.5,
          0.5,
          0.5,
          0.5,
          0.5,
          0.5,
          0.5,
          0.5,
          0.5,
          0.5,
          0.5,
          0.5,
          0.5,
          0.5,
          0.5,
          0.5,
          0.5,
          0.5,
          0.5,
          0.5,
          0.5,
          0.5,
          0.5,
          0.5,
          0.5,
          0.5,
          0.5,
          0.5,
          0.5,
          0.5
         ]
        },
        {
         "line": {
          "color": "red"
         },
         "mode": "lines",
         "name": "loess frac:0.4",
         "type": "scatter",
         "x": [
          0,
          50,
          100,
          150,
          200,
          250,
          300,
          350,
          400,
          450,
          500,
          550,
          600,
          650,
          700,
          750,
          800,
          850,
          900,
          950,
          1000,
          1050,
          1100,
          1150,
          1200,
          1250,
          1300,
          1350,
          1400,
          1450,
          1500,
          1550,
          1600,
          1650,
          1700,
          1750,
          1800,
          1850,
          1900,
          1950,
          2000,
          2050,
          2100,
          2150
         ],
         "y": [
          0.49999999999999967,
          0.5000000000000001,
          0.5,
          0.49999999999999994,
          0.5,
          0.5,
          0.5,
          0.4999999999999999,
          0.4999999999999999,
          0.49999999999999994,
          0.5,
          0.5,
          0.5000000000000001,
          0.5000000000000001,
          0.49999999999999994,
          0.49999999999999994,
          0.5000000000000001,
          0.5000000000000001,
          0.5,
          0.5000000000000001,
          0.5,
          0.5000000000000001,
          0.5,
          0.5,
          0.5,
          0.5,
          0.5,
          0.5,
          0.49999999999999994,
          0.4999999999999999,
          0.5,
          0.5,
          0.5,
          0.5000000000000001,
          0.5000000000000004,
          0.5000000000000004,
          0.49999999999999883,
          0.5,
          0.49999999999999706,
          0.5000000000000028,
          0.49999999999999967,
          0.5000000000000009,
          0.4999999999999967,
          0.500000000000002
         ]
        }
       ],
       "layout": {
        "template": {
         "data": {
          "scatter": [
           {
            "type": "scatter"
           }
          ]
         }
        },
        "title": {
         "text": "Metric"
        }
       }
      }
     },
     "metadata": {},
     "output_type": "display_data"
    }
   ],
   "source": [
    "\n",
    "x_vector, prob_of_success = RoscorlaWagerModelDiagnostics.calc_prob_of_success(_reward, bin_size=50)\n",
    "\n",
    "\n",
    "import plotly.graph_objects as go\n",
    "\n",
    "frac = 0.4\n",
    "x_loess, y_loess = RoscorlaWagerModelDiagnostics.fit_loess(x_vector, prob_of_success, frac=frac)\n",
    "fig = RescorlaWagnerPlots.plot_metric(x_vector, prob_of_success)\n",
    "fig.add_trace(go.Scatter(x=x_loess, y=y_loess, mode='lines', line_color='red', name=f'loess frac:{frac}'))\n",
    "fig.show()"
   ]
  },
  {
   "cell_type": "code",
   "execution_count": null,
   "metadata": {},
   "outputs": [],
   "source": []
  }
 ],
 "metadata": {
  "kernelspec": {
   "display_name": "Python 3",
   "language": "python",
   "name": "python3"
  },
  "language_info": {
   "codemirror_mode": {
    "name": "ipython",
    "version": 3
   },
   "file_extension": ".py",
   "mimetype": "text/x-python",
   "name": "python",
   "nbconvert_exporter": "python",
   "pygments_lexer": "ipython3",
   "version": "3.12.0"
  }
 },
 "nbformat": 4,
 "nbformat_minor": 2
}
