{
 "cells": [
  {
   "cell_type": "markdown",
   "metadata": {},
   "source": [
    "# Exploratory Data Analysis\n",
    "----\n",
    "\n",
    "Objective: Determine if the data is encoded as expected.\n",
    "\n",
    "----\n",
    "```\n",
    ": 26.06.24\n",
    ": zach.wolpe@medibio.com.au\n",
    "```\n",
    "----"
   ]
  },
  {
   "cell_type": "code",
   "execution_count": 1,
   "metadata": {},
   "outputs": [],
   "source": [
    "import pandas as pd\n",
    "import numpy as np\n",
    "import scipy.io\n",
    "import logging\n",
    "import pprint\n",
    "import os\n",
    "import plotly.graph_objects as go\n",
    "import plotly.express as px\n",
    "from tqdm import tqdm\n",
    "\n",
    "\n",
    "# src\n",
    "from src.helpers import log_rat_metadata, log_sequence_data, load_config\n",
    "from src.query_dataset import (QuerySequenceData, load_data)"
   ]
  },
  {
   "cell_type": "code",
   "execution_count": 2,
   "metadata": {},
   "outputs": [],
   "source": [
    "from src.rescorla_wagner_model import (RoscorlaWagner)\n",
    "from src.rescorla_wagner_model_plots import (RescorlaWagnerPlots)\n",
    "from src.rescorla_wagner_model_simulation import (RescorlaWagnerSimulate)\n",
    "from src.rescorla_wagner_model_diagnostics import (RoscorlaWagerModelDiagnostics)"
   ]
  },
  {
   "cell_type": "code",
   "execution_count": 3,
   "metadata": {},
   "outputs": [],
   "source": [
    "# load yaml config\n",
    "_config = load_config('config.yaml')\n",
    "logging.basicConfig(level=logging.INFO)"
   ]
  },
  {
   "cell_type": "markdown",
   "metadata": {},
   "source": [
    "----\n",
    "# Human Data: Pilot\n",
    "----"
   ]
  },
  {
   "cell_type": "code",
   "execution_count": 16,
   "metadata": {},
   "outputs": [
    {
     "name": "stderr",
     "output_type": "stream",
     "text": [
      "INFO:root:StimCode (284): [0. 1.]\n",
      "INFO:root:RespCode (284): [1. 4.]\n"
     ]
    }
   ],
   "source": [
    "(data,\n",
    " sequence_data,\n",
    " meta_data,\n",
    " StimCode,\n",
    " RespCode\n",
    " ) = load_data(config=_config, experiment_class='human_pilot_experiment')"
   ]
  },
  {
   "cell_type": "code",
   "execution_count": 17,
   "metadata": {},
   "outputs": [
    {
     "data": {
      "text/plain": [
       "(0.6, <src.query_dataset.QuerySequenceData at 0x178ea5c10>)"
      ]
     },
     "execution_count": 17,
     "metadata": {},
     "output_type": "execute_result"
    }
   ],
   "source": [
    "def calc_reward_rate(\n",
    "        qsd,\n",
    "        subject_ID = 1,\n",
    "        session_Type = 'training',\n",
    "        session_Num = None):\n",
    "    \n",
    "    KEY = (subject_ID, session_Type, session_Num)\n",
    "\n",
    "    # filter sequence data based on subjectID and sessionType\n",
    "    # qsd.filter_sequences(subjectID=KEY[0], sessionType=KEY[1], sessionNum=KEY[2])\n",
    "    \n",
    "    # extract stimCode and respCode\n",
    "    qsd.filter_sequences(*KEY)\n",
    "    # qsd.filter_sequences(KEY[0], KEY[1], KEY[2])\n",
    "\n",
    "\n",
    "    # qsd.return_experiment_vectors(**KEY)\n",
    "\n",
    "    # Extract stimData & respData: (assuming sorting isn't required.)\n",
    "    qsd.extract_stim_resp_data()\n",
    "\n",
    "    # infer action / reward pairs\n",
    "    qsd.infer_action_reward_pairs()\n",
    "    # print('Overall Reward Rate: ', np.mean(qsd._reward))\n",
    "    return np.mean(qsd._reward), qsd\n",
    "\n",
    "\n",
    "# example usage\n",
    "qsd = QuerySequenceData(StimCode, RespCode)\n",
    "calc_reward_rate(qsd, subject_ID=1, session_Type='training', session_Num=1)"
   ]
  },
  {
   "cell_type": "markdown",
   "metadata": {},
   "source": [
    "### Calc Reward Rate per experiment"
   ]
  },
  {
   "cell_type": "code",
   "execution_count": 18,
   "metadata": {},
   "outputs": [],
   "source": [
    "\n",
    "def unique_experiments(StimCode):\n",
    "    subjects = list(np.unique([i[0] for i in StimCode.keys()]))\n",
    "    session_types = list(np.unique([i[1] for i in StimCode.keys()]))\n",
    "    session_numbers = list(np.unique([i[2] for i in StimCode.keys()]))\n",
    "    return subjects, session_types, session_numbers\n",
    "\n",
    "\n",
    "def generate_all_experiments(StimCode):\n",
    "    \"\"\"Generate all unique experiment sets.\"\"\"\n",
    "    subjects, session_types, session_numbers = unique_experiments(StimCode)\n",
    "    for _sub in subjects:\n",
    "        for _sess in session_types:\n",
    "            for _num in session_numbers:\n",
    "                yield (_sub, _sess, _num)\n",
    "\n",
    "\n",
    "def calc_reward_for_experiment(qsd, subject_ID, session_Type, session_Num):\n",
    "    \"\"\"Calculate reward rate for a single experiment.\"\"\"\n",
    "    _reward_rate, qsd = calc_reward_rate(qsd, subject_ID=subject_ID, session_Type=session_Type, session_Num=session_Num)\n",
    "    return _reward_rate, qsd\n",
    "\n",
    "\n",
    "def reward_per_experiment(qsd, StimCode):\n",
    "    results = {'subject':[], 'sessionType':[],'sessionNum':[], 'reward_rate':[]}\n",
    "\n",
    "    # create experiment geneator\n",
    "    experiments = generate_all_experiments(StimCode)\n",
    "\n",
    "    # run experiments\n",
    "    for _sub, _sess, _num in tqdm(experiments):\n",
    "        _reward_rate, qsd = calc_reward_for_experiment(qsd, subject_ID=_sub, session_Type=_sess, session_Num=_num)\n",
    "        # print(f'Subject: {_sub}, Session Type: {_sess}, Session Number: {_num}, Reward Rate: {_reward_rate}')\n",
    "        results['subject'].append(_sub)\n",
    "        results['sessionType'].append(_sess)\n",
    "        results['sessionNum'].append(_num)\n",
    "        results['reward_rate'].append(_reward_rate)\n",
    "\n",
    "    return pd.DataFrame(results), qsd\n",
    "\n",
    "    # return pd.DataFrame(results), qsd\n"
   ]
  },
  {
   "cell_type": "code",
   "execution_count": 19,
   "metadata": {},
   "outputs": [],
   "source": [
    "# experiments = generate_all_experiments(StimCode)\n",
    "# for (_sub, _sess, _num) in experiments:\n",
    "#     print(f'Subject: {_sub}, Session Type: {_sess}, Session Number: {_num}.')\n",
    "\n",
    "\n",
    "#     # get experiment\n",
    "#     qsd = QuerySequenceData(StimCode, RespCode)\n",
    "#     qsd.filter_sequences(subjectID=_sub, sessionType=_sess, sessionNum=_num)\n",
    "#     # qsd._stimCode\n",
    "#     # qsd._respCode\n",
    "#     # _reward, _ = calc_reward_for_experiment(qsd, subject_ID=_sub, session_Type=_sess, session_Num=_num)\n",
    "#     break\n",
    "    \n",
    "# qsd._stimCode.keys()\n",
    "    "
   ]
  },
  {
   "cell_type": "markdown",
   "metadata": {},
   "source": [
    "---\n",
    "# Assess Learning Rates\n",
    "----\n",
    "### Calc Reward Rate per session"
   ]
  },
  {
   "cell_type": "code",
   "execution_count": 20,
   "metadata": {},
   "outputs": [
    {
     "name": "stderr",
     "output_type": "stream",
     "text": [
      "INFO:root:StimCode (284): [0. 1.]\n",
      "INFO:root:RespCode (284): [1. 4.]\n",
      "0it [00:00, ?it/s]/Users/zachwolpe/miniforge3/envs/mlxgo/lib/python3.12/site-packages/numpy/core/fromnumeric.py:3504: RuntimeWarning:\n",
      "\n",
      "Mean of empty slice.\n",
      "\n",
      "/Users/zachwolpe/miniforge3/envs/mlxgo/lib/python3.12/site-packages/numpy/core/_methods.py:129: RuntimeWarning:\n",
      "\n",
      "invalid value encountered in scalar divide\n",
      "\n",
      "1620it [00:00, 17398.05it/s]\n"
     ]
    }
   ],
   "source": [
    "(data,\n",
    " sequence_data,\n",
    " meta_data,\n",
    " StimCode,\n",
    " RespCode\n",
    " ) = load_data(config=_config, experiment_class='human_pilot_experiment')\n",
    "qsd = QuerySequenceData(StimCode, RespCode)\n",
    "rewards, _qsd = reward_per_experiment(qsd, StimCode)\n",
    "\n",
    "# drop na\n",
    "rewards = rewards[~rewards.reward_rate.isna()]"
   ]
  },
  {
   "cell_type": "code",
   "execution_count": 28,
   "metadata": {},
   "outputs": [
    {
     "data": {
      "text/html": [
       "<div>\n",
       "<style scoped>\n",
       "    .dataframe tbody tr th:only-of-type {\n",
       "        vertical-align: middle;\n",
       "    }\n",
       "\n",
       "    .dataframe tbody tr th {\n",
       "        vertical-align: top;\n",
       "    }\n",
       "\n",
       "    .dataframe thead th {\n",
       "        text-align: right;\n",
       "    }\n",
       "</style>\n",
       "<table border=\"1\" class=\"dataframe\">\n",
       "  <thead>\n",
       "    <tr style=\"text-align: right;\">\n",
       "      <th></th>\n",
       "      <th></th>\n",
       "      <th>reward_rate</th>\n",
       "    </tr>\n",
       "    <tr>\n",
       "      <th>subject</th>\n",
       "      <th>sessionType</th>\n",
       "      <th></th>\n",
       "    </tr>\n",
       "  </thead>\n",
       "  <tbody>\n",
       "    <tr>\n",
       "      <th>3</th>\n",
       "      <th>ids1</th>\n",
       "      <td>1.000000</td>\n",
       "    </tr>\n",
       "    <tr>\n",
       "      <th>17</th>\n",
       "      <th>ams2</th>\n",
       "      <td>1.000000</td>\n",
       "    </tr>\n",
       "    <tr>\n",
       "      <th>15</th>\n",
       "      <th>eds2</th>\n",
       "      <td>1.000000</td>\n",
       "    </tr>\n",
       "    <tr>\n",
       "      <th>3</th>\n",
       "      <th>ams1</th>\n",
       "      <td>1.000000</td>\n",
       "    </tr>\n",
       "    <tr>\n",
       "      <th>19</th>\n",
       "      <th>ams1</th>\n",
       "      <td>0.991667</td>\n",
       "    </tr>\n",
       "    <tr>\n",
       "      <th>...</th>\n",
       "      <th>...</th>\n",
       "      <td>...</td>\n",
       "    </tr>\n",
       "    <tr>\n",
       "      <th rowspan=\"2\" valign=\"top\">18</th>\n",
       "      <th>ids2</th>\n",
       "      <td>0.500000</td>\n",
       "    </tr>\n",
       "    <tr>\n",
       "      <th>staircase2</th>\n",
       "      <td>0.500000</td>\n",
       "    </tr>\n",
       "    <tr>\n",
       "      <th>9</th>\n",
       "      <th>eds1</th>\n",
       "      <td>0.483333</td>\n",
       "    </tr>\n",
       "    <tr>\n",
       "      <th>22</th>\n",
       "      <th>ams2</th>\n",
       "      <td>0.441667</td>\n",
       "    </tr>\n",
       "    <tr>\n",
       "      <th>8</th>\n",
       "      <th>eds2</th>\n",
       "      <td>0.433333</td>\n",
       "    </tr>\n",
       "  </tbody>\n",
       "</table>\n",
       "<p>178 rows × 1 columns</p>\n",
       "</div>"
      ],
      "text/plain": [
       "                     reward_rate\n",
       "subject sessionType             \n",
       "3       ids1            1.000000\n",
       "17      ams2            1.000000\n",
       "15      eds2            1.000000\n",
       "3       ams1            1.000000\n",
       "19      ams1            0.991667\n",
       "...                          ...\n",
       "18      ids2            0.500000\n",
       "        staircase2      0.500000\n",
       "9       eds1            0.483333\n",
       "22      ams2            0.441667\n",
       "8       eds2            0.433333\n",
       "\n",
       "[178 rows x 1 columns]"
      ]
     },
     "execution_count": 28,
     "metadata": {},
     "output_type": "execute_result"
    }
   ],
   "source": [
    "rewards.groupby(['subject', 'sessionType'])[['reward_rate']].mean().sort_values(by='reward_rate', ascending=False)"
   ]
  },
  {
   "cell_type": "code",
   "execution_count": 9,
   "metadata": {},
   "outputs": [
    {
     "data": {
      "application/vnd.plotly.v1+json": {
       "config": {
        "plotlyServerURL": "https://plot.ly"
       },
       "data": [
        {
         "hovertemplate": "subject=1<br>sessionType=ams1<br>sessionNum=%{x}<br>reward_rate=%{y}<extra></extra>",
         "legendgroup": "1",
         "marker": {
          "color": "#636efa",
          "symbol": "circle"
         },
         "mode": "markers",
         "name": "1",
         "orientation": "v",
         "showlegend": true,
         "type": "scatter",
         "x": [
          0,
          1
         ],
         "xaxis": "x",
         "y": [
          0.4166666666666667,
          0.75
         ],
         "yaxis": "y"
        },
        {
         "hovertemplate": "subject=1<br>sessionType=ams2<br>sessionNum=%{x}<br>reward_rate=%{y}<extra></extra>",
         "legendgroup": "1",
         "marker": {
          "color": "#636efa",
          "symbol": "circle"
         },
         "mode": "markers",
         "name": "1",
         "orientation": "v",
         "showlegend": false,
         "type": "scatter",
         "x": [
          0,
          1
         ],
         "xaxis": "x2",
         "y": [
          0.75,
          0.6666666666666666
         ],
         "yaxis": "y2"
        },
        {
         "hovertemplate": "subject=1<br>sessionType=eds1<br>sessionNum=%{x}<br>reward_rate=%{y}<extra></extra>",
         "legendgroup": "1",
         "marker": {
          "color": "#636efa",
          "symbol": "circle"
         },
         "mode": "markers",
         "name": "1",
         "orientation": "v",
         "showlegend": false,
         "type": "scatter",
         "x": [
          0
         ],
         "xaxis": "x3",
         "y": [
          0.6833333333333333
         ],
         "yaxis": "y3"
        },
        {
         "hovertemplate": "subject=1<br>sessionType=eds2<br>sessionNum=%{x}<br>reward_rate=%{y}<extra></extra>",
         "legendgroup": "1",
         "marker": {
          "color": "#636efa",
          "symbol": "circle"
         },
         "mode": "markers",
         "name": "1",
         "orientation": "v",
         "showlegend": false,
         "type": "scatter",
         "x": [
          0
         ],
         "xaxis": "x4",
         "y": [
          0.75
         ],
         "yaxis": "y4"
        },
        {
         "hovertemplate": "subject=1<br>sessionType=ids1<br>sessionNum=%{x}<br>reward_rate=%{y}<extra></extra>",
         "legendgroup": "1",
         "marker": {
          "color": "#636efa",
          "symbol": "circle"
         },
         "mode": "markers",
         "name": "1",
         "orientation": "v",
         "showlegend": false,
         "type": "scatter",
         "x": [
          0
         ],
         "xaxis": "x5",
         "y": [
          0.9666666666666667
         ],
         "yaxis": "y5"
        },
        {
         "hovertemplate": "subject=1<br>sessionType=ids2<br>sessionNum=%{x}<br>reward_rate=%{y}<extra></extra>",
         "legendgroup": "1",
         "marker": {
          "color": "#636efa",
          "symbol": "circle"
         },
         "mode": "markers",
         "name": "1",
         "orientation": "v",
         "showlegend": false,
         "type": "scatter",
         "x": [
          0,
          1
         ],
         "xaxis": "x6",
         "y": [
          0.7,
          0.7333333333333333
         ],
         "yaxis": "y6"
        },
        {
         "hovertemplate": "subject=1<br>sessionType=staircase1<br>sessionNum=%{x}<br>reward_rate=%{y}<extra></extra>",
         "legendgroup": "1",
         "marker": {
          "color": "#636efa",
          "symbol": "circle"
         },
         "mode": "markers",
         "name": "1",
         "orientation": "v",
         "showlegend": false,
         "type": "scatter",
         "x": [
          0,
          1
         ],
         "xaxis": "x7",
         "y": [
          0.9666666666666667,
          0.6833333333333333
         ],
         "yaxis": "y7"
        },
        {
         "hovertemplate": "subject=1<br>sessionType=staircase2<br>sessionNum=%{x}<br>reward_rate=%{y}<extra></extra>",
         "legendgroup": "1",
         "marker": {
          "color": "#636efa",
          "symbol": "circle"
         },
         "mode": "markers",
         "name": "1",
         "orientation": "v",
         "showlegend": false,
         "type": "scatter",
         "x": [
          0
         ],
         "xaxis": "x8",
         "y": [
          0.7333333333333333
         ],
         "yaxis": "y8"
        },
        {
         "hovertemplate": "subject=1<br>sessionType=training<br>sessionNum=%{x}<br>reward_rate=%{y}<extra></extra>",
         "legendgroup": "1",
         "marker": {
          "color": "#636efa",
          "symbol": "circle"
         },
         "mode": "markers",
         "name": "1",
         "orientation": "v",
         "showlegend": false,
         "type": "scatter",
         "x": [
          0,
          1
         ],
         "xaxis": "x9",
         "y": [
          0.5,
          0.6
         ],
         "yaxis": "y9"
        },
        {
         "hovertemplate": "subject=2<br>sessionType=ams1<br>sessionNum=%{x}<br>reward_rate=%{y}<extra></extra>",
         "legendgroup": "2",
         "marker": {
          "color": "#EF553B",
          "symbol": "circle"
         },
         "mode": "markers",
         "name": "2",
         "orientation": "v",
         "showlegend": true,
         "type": "scatter",
         "x": [
          0,
          1
         ],
         "xaxis": "x",
         "y": [
          1,
          0.9333333333333333
         ],
         "yaxis": "y"
        },
        {
         "hovertemplate": "subject=2<br>sessionType=ams2<br>sessionNum=%{x}<br>reward_rate=%{y}<extra></extra>",
         "legendgroup": "2",
         "marker": {
          "color": "#EF553B",
          "symbol": "circle"
         },
         "mode": "markers",
         "name": "2",
         "orientation": "v",
         "showlegend": false,
         "type": "scatter",
         "x": [
          0,
          1
         ],
         "xaxis": "x2",
         "y": [
          0.95,
          1
         ],
         "yaxis": "y2"
        },
        {
         "hovertemplate": "subject=2<br>sessionType=eds1<br>sessionNum=%{x}<br>reward_rate=%{y}<extra></extra>",
         "legendgroup": "2",
         "marker": {
          "color": "#EF553B",
          "symbol": "circle"
         },
         "mode": "markers",
         "name": "2",
         "orientation": "v",
         "showlegend": false,
         "type": "scatter",
         "x": [
          0
         ],
         "xaxis": "x3",
         "y": [
          0.65
         ],
         "yaxis": "y3"
        },
        {
         "hovertemplate": "subject=2<br>sessionType=eds2<br>sessionNum=%{x}<br>reward_rate=%{y}<extra></extra>",
         "legendgroup": "2",
         "marker": {
          "color": "#EF553B",
          "symbol": "circle"
         },
         "mode": "markers",
         "name": "2",
         "orientation": "v",
         "showlegend": false,
         "type": "scatter",
         "x": [
          0
         ],
         "xaxis": "x4",
         "y": [
          0.9
         ],
         "yaxis": "y4"
        },
        {
         "hovertemplate": "subject=2<br>sessionType=ids1<br>sessionNum=%{x}<br>reward_rate=%{y}<extra></extra>",
         "legendgroup": "2",
         "marker": {
          "color": "#EF553B",
          "symbol": "circle"
         },
         "mode": "markers",
         "name": "2",
         "orientation": "v",
         "showlegend": false,
         "type": "scatter",
         "x": [
          0
         ],
         "xaxis": "x5",
         "y": [
          0.8833333333333333
         ],
         "yaxis": "y5"
        },
        {
         "hovertemplate": "subject=2<br>sessionType=ids2<br>sessionNum=%{x}<br>reward_rate=%{y}<extra></extra>",
         "legendgroup": "2",
         "marker": {
          "color": "#EF553B",
          "symbol": "circle"
         },
         "mode": "markers",
         "name": "2",
         "orientation": "v",
         "showlegend": false,
         "type": "scatter",
         "x": [
          0
         ],
         "xaxis": "x6",
         "y": [
          0.8833333333333333
         ],
         "yaxis": "y6"
        },
        {
         "hovertemplate": "subject=2<br>sessionType=staircase1<br>sessionNum=%{x}<br>reward_rate=%{y}<extra></extra>",
         "legendgroup": "2",
         "marker": {
          "color": "#EF553B",
          "symbol": "circle"
         },
         "mode": "markers",
         "name": "2",
         "orientation": "v",
         "showlegend": false,
         "type": "scatter",
         "x": [
          0,
          1
         ],
         "xaxis": "x7",
         "y": [
          0.85,
          0.7333333333333333
         ],
         "yaxis": "y7"
        },
        {
         "hovertemplate": "subject=2<br>sessionType=staircase2<br>sessionNum=%{x}<br>reward_rate=%{y}<extra></extra>",
         "legendgroup": "2",
         "marker": {
          "color": "#EF553B",
          "symbol": "circle"
         },
         "mode": "markers",
         "name": "2",
         "orientation": "v",
         "showlegend": false,
         "type": "scatter",
         "x": [
          0
         ],
         "xaxis": "x8",
         "y": [
          0.8833333333333333
         ],
         "yaxis": "y8"
        },
        {
         "hovertemplate": "subject=2<br>sessionType=training<br>sessionNum=%{x}<br>reward_rate=%{y}<extra></extra>",
         "legendgroup": "2",
         "marker": {
          "color": "#EF553B",
          "symbol": "circle"
         },
         "mode": "markers",
         "name": "2",
         "orientation": "v",
         "showlegend": false,
         "type": "scatter",
         "x": [
          0,
          1,
          2,
          3,
          4,
          5,
          6,
          7,
          8
         ],
         "xaxis": "x9",
         "y": [
          0.5333333333333333,
          0.43333333333333335,
          0.55,
          0.5666666666666667,
          0.5166666666666667,
          0.5166666666666667,
          0.4666666666666667,
          0.5166666666666667,
          0.85
         ],
         "yaxis": "y9"
        },
        {
         "hovertemplate": "subject=3<br>sessionType=ams1<br>sessionNum=%{x}<br>reward_rate=%{y}<extra></extra>",
         "legendgroup": "3",
         "marker": {
          "color": "#00cc96",
          "symbol": "circle"
         },
         "mode": "markers",
         "name": "3",
         "orientation": "v",
         "showlegend": true,
         "type": "scatter",
         "x": [
          0,
          1
         ],
         "xaxis": "x",
         "y": [
          1,
          1
         ],
         "yaxis": "y"
        },
        {
         "hovertemplate": "subject=3<br>sessionType=ams2<br>sessionNum=%{x}<br>reward_rate=%{y}<extra></extra>",
         "legendgroup": "3",
         "marker": {
          "color": "#00cc96",
          "symbol": "circle"
         },
         "mode": "markers",
         "name": "3",
         "orientation": "v",
         "showlegend": false,
         "type": "scatter",
         "x": [
          0,
          1
         ],
         "xaxis": "x2",
         "y": [
          0.6833333333333333,
          0.6166666666666667
         ],
         "yaxis": "y2"
        },
        {
         "hovertemplate": "subject=3<br>sessionType=eds1<br>sessionNum=%{x}<br>reward_rate=%{y}<extra></extra>",
         "legendgroup": "3",
         "marker": {
          "color": "#00cc96",
          "symbol": "circle"
         },
         "mode": "markers",
         "name": "3",
         "orientation": "v",
         "showlegend": false,
         "type": "scatter",
         "x": [
          0
         ],
         "xaxis": "x3",
         "y": [
          0.5
         ],
         "yaxis": "y3"
        },
        {
         "hovertemplate": "subject=3<br>sessionType=eds2<br>sessionNum=%{x}<br>reward_rate=%{y}<extra></extra>",
         "legendgroup": "3",
         "marker": {
          "color": "#00cc96",
          "symbol": "circle"
         },
         "mode": "markers",
         "name": "3",
         "orientation": "v",
         "showlegend": false,
         "type": "scatter",
         "x": [
          0
         ],
         "xaxis": "x4",
         "y": [
          0.9666666666666667
         ],
         "yaxis": "y4"
        },
        {
         "hovertemplate": "subject=3<br>sessionType=ids1<br>sessionNum=%{x}<br>reward_rate=%{y}<extra></extra>",
         "legendgroup": "3",
         "marker": {
          "color": "#00cc96",
          "symbol": "circle"
         },
         "mode": "markers",
         "name": "3",
         "orientation": "v",
         "showlegend": false,
         "type": "scatter",
         "x": [
          0
         ],
         "xaxis": "x5",
         "y": [
          1
         ],
         "yaxis": "y5"
        },
        {
         "hovertemplate": "subject=3<br>sessionType=ids2<br>sessionNum=%{x}<br>reward_rate=%{y}<extra></extra>",
         "legendgroup": "3",
         "marker": {
          "color": "#00cc96",
          "symbol": "circle"
         },
         "mode": "markers",
         "name": "3",
         "orientation": "v",
         "showlegend": false,
         "type": "scatter",
         "x": [
          0,
          1
         ],
         "xaxis": "x6",
         "y": [
          0.6,
          1
         ],
         "yaxis": "y6"
        },
        {
         "hovertemplate": "subject=3<br>sessionType=staircase1<br>sessionNum=%{x}<br>reward_rate=%{y}<extra></extra>",
         "legendgroup": "3",
         "marker": {
          "color": "#00cc96",
          "symbol": "circle"
         },
         "mode": "markers",
         "name": "3",
         "orientation": "v",
         "showlegend": false,
         "type": "scatter",
         "x": [
          0,
          1
         ],
         "xaxis": "x7",
         "y": [
          0.9666666666666667,
          0.6833333333333333
         ],
         "yaxis": "y7"
        },
        {
         "hovertemplate": "subject=3<br>sessionType=staircase2<br>sessionNum=%{x}<br>reward_rate=%{y}<extra></extra>",
         "legendgroup": "3",
         "marker": {
          "color": "#00cc96",
          "symbol": "circle"
         },
         "mode": "markers",
         "name": "3",
         "orientation": "v",
         "showlegend": false,
         "type": "scatter",
         "x": [
          0,
          1
         ],
         "xaxis": "x8",
         "y": [
          0.9333333333333333,
          0.6833333333333333
         ],
         "yaxis": "y8"
        },
        {
         "hovertemplate": "subject=3<br>sessionType=training<br>sessionNum=%{x}<br>reward_rate=%{y}<extra></extra>",
         "legendgroup": "3",
         "marker": {
          "color": "#00cc96",
          "symbol": "circle"
         },
         "mode": "markers",
         "name": "3",
         "orientation": "v",
         "showlegend": false,
         "type": "scatter",
         "x": [
          0
         ],
         "xaxis": "x9",
         "y": [
          0.9166666666666666
         ],
         "yaxis": "y9"
        },
        {
         "hovertemplate": "subject=4<br>sessionType=ams1<br>sessionNum=%{x}<br>reward_rate=%{y}<extra></extra>",
         "legendgroup": "4",
         "marker": {
          "color": "#ab63fa",
          "symbol": "circle"
         },
         "mode": "markers",
         "name": "4",
         "orientation": "v",
         "showlegend": true,
         "type": "scatter",
         "x": [
          0,
          1
         ],
         "xaxis": "x",
         "y": [
          0.5,
          0.65
         ],
         "yaxis": "y"
        },
        {
         "hovertemplate": "subject=4<br>sessionType=ams2<br>sessionNum=%{x}<br>reward_rate=%{y}<extra></extra>",
         "legendgroup": "4",
         "marker": {
          "color": "#ab63fa",
          "symbol": "circle"
         },
         "mode": "markers",
         "name": "4",
         "orientation": "v",
         "showlegend": false,
         "type": "scatter",
         "x": [
          0,
          1
         ],
         "xaxis": "x2",
         "y": [
          0.95,
          0.9833333333333333
         ],
         "yaxis": "y2"
        },
        {
         "hovertemplate": "subject=4<br>sessionType=eds1<br>sessionNum=%{x}<br>reward_rate=%{y}<extra></extra>",
         "legendgroup": "4",
         "marker": {
          "color": "#ab63fa",
          "symbol": "circle"
         },
         "mode": "markers",
         "name": "4",
         "orientation": "v",
         "showlegend": false,
         "type": "scatter",
         "x": [
          0
         ],
         "xaxis": "x3",
         "y": [
          0.65
         ],
         "yaxis": "y3"
        },
        {
         "hovertemplate": "subject=4<br>sessionType=eds2<br>sessionNum=%{x}<br>reward_rate=%{y}<extra></extra>",
         "legendgroup": "4",
         "marker": {
          "color": "#ab63fa",
          "symbol": "circle"
         },
         "mode": "markers",
         "name": "4",
         "orientation": "v",
         "showlegend": false,
         "type": "scatter",
         "x": [
          0
         ],
         "xaxis": "x4",
         "y": [
          0.95
         ],
         "yaxis": "y4"
        },
        {
         "hovertemplate": "subject=4<br>sessionType=ids1<br>sessionNum=%{x}<br>reward_rate=%{y}<extra></extra>",
         "legendgroup": "4",
         "marker": {
          "color": "#ab63fa",
          "symbol": "circle"
         },
         "mode": "markers",
         "name": "4",
         "orientation": "v",
         "showlegend": false,
         "type": "scatter",
         "x": [
          0
         ],
         "xaxis": "x5",
         "y": [
          0.7833333333333333
         ],
         "yaxis": "y5"
        },
        {
         "hovertemplate": "subject=4<br>sessionType=ids2<br>sessionNum=%{x}<br>reward_rate=%{y}<extra></extra>",
         "legendgroup": "4",
         "marker": {
          "color": "#ab63fa",
          "symbol": "circle"
         },
         "mode": "markers",
         "name": "4",
         "orientation": "v",
         "showlegend": false,
         "type": "scatter",
         "x": [
          0
         ],
         "xaxis": "x6",
         "y": [
          0.9333333333333333
         ],
         "yaxis": "y6"
        },
        {
         "hovertemplate": "subject=4<br>sessionType=staircase1<br>sessionNum=%{x}<br>reward_rate=%{y}<extra></extra>",
         "legendgroup": "4",
         "marker": {
          "color": "#ab63fa",
          "symbol": "circle"
         },
         "mode": "markers",
         "name": "4",
         "orientation": "v",
         "showlegend": false,
         "type": "scatter",
         "x": [
          0,
          1
         ],
         "xaxis": "x7",
         "y": [
          0.9166666666666666,
          0.6833333333333333
         ],
         "yaxis": "y7"
        },
        {
         "hovertemplate": "subject=4<br>sessionType=staircase2<br>sessionNum=%{x}<br>reward_rate=%{y}<extra></extra>",
         "legendgroup": "4",
         "marker": {
          "color": "#ab63fa",
          "symbol": "circle"
         },
         "mode": "markers",
         "name": "4",
         "orientation": "v",
         "showlegend": false,
         "type": "scatter",
         "x": [
          0,
          1
         ],
         "xaxis": "x8",
         "y": [
          0.9166666666666666,
          0.75
         ],
         "yaxis": "y8"
        },
        {
         "hovertemplate": "subject=4<br>sessionType=training<br>sessionNum=%{x}<br>reward_rate=%{y}<extra></extra>",
         "legendgroup": "4",
         "marker": {
          "color": "#ab63fa",
          "symbol": "circle"
         },
         "mode": "markers",
         "name": "4",
         "orientation": "v",
         "showlegend": false,
         "type": "scatter",
         "x": [
          0,
          1
         ],
         "xaxis": "x9",
         "y": [
          0.45,
          0.6
         ],
         "yaxis": "y9"
        },
        {
         "hovertemplate": "subject=5<br>sessionType=ams1<br>sessionNum=%{x}<br>reward_rate=%{y}<extra></extra>",
         "legendgroup": "5",
         "marker": {
          "color": "#FFA15A",
          "symbol": "circle"
         },
         "mode": "markers",
         "name": "5",
         "orientation": "v",
         "showlegend": true,
         "type": "scatter",
         "x": [
          0,
          1
         ],
         "xaxis": "x",
         "y": [
          0.9833333333333333,
          0.9833333333333333
         ],
         "yaxis": "y"
        },
        {
         "hovertemplate": "subject=5<br>sessionType=ams2<br>sessionNum=%{x}<br>reward_rate=%{y}<extra></extra>",
         "legendgroup": "5",
         "marker": {
          "color": "#FFA15A",
          "symbol": "circle"
         },
         "mode": "markers",
         "name": "5",
         "orientation": "v",
         "showlegend": false,
         "type": "scatter",
         "x": [
          0,
          1
         ],
         "xaxis": "x2",
         "y": [
          0.6,
          0.7
         ],
         "yaxis": "y2"
        },
        {
         "hovertemplate": "subject=5<br>sessionType=eds1<br>sessionNum=%{x}<br>reward_rate=%{y}<extra></extra>",
         "legendgroup": "5",
         "marker": {
          "color": "#FFA15A",
          "symbol": "circle"
         },
         "mode": "markers",
         "name": "5",
         "orientation": "v",
         "showlegend": false,
         "type": "scatter",
         "x": [
          0
         ],
         "xaxis": "x3",
         "y": [
          0.7
         ],
         "yaxis": "y3"
        },
        {
         "hovertemplate": "subject=5<br>sessionType=eds2<br>sessionNum=%{x}<br>reward_rate=%{y}<extra></extra>",
         "legendgroup": "5",
         "marker": {
          "color": "#FFA15A",
          "symbol": "circle"
         },
         "mode": "markers",
         "name": "5",
         "orientation": "v",
         "showlegend": false,
         "type": "scatter",
         "x": [
          0
         ],
         "xaxis": "x4",
         "y": [
          0.8666666666666667
         ],
         "yaxis": "y4"
        },
        {
         "hovertemplate": "subject=5<br>sessionType=ids1<br>sessionNum=%{x}<br>reward_rate=%{y}<extra></extra>",
         "legendgroup": "5",
         "marker": {
          "color": "#FFA15A",
          "symbol": "circle"
         },
         "mode": "markers",
         "name": "5",
         "orientation": "v",
         "showlegend": false,
         "type": "scatter",
         "x": [
          0
         ],
         "xaxis": "x5",
         "y": [
          0.8333333333333334
         ],
         "yaxis": "y5"
        },
        {
         "hovertemplate": "subject=5<br>sessionType=ids2<br>sessionNum=%{x}<br>reward_rate=%{y}<extra></extra>",
         "legendgroup": "5",
         "marker": {
          "color": "#FFA15A",
          "symbol": "circle"
         },
         "mode": "markers",
         "name": "5",
         "orientation": "v",
         "showlegend": false,
         "type": "scatter",
         "x": [
          0
         ],
         "xaxis": "x6",
         "y": [
          0.85
         ],
         "yaxis": "y6"
        },
        {
         "hovertemplate": "subject=5<br>sessionType=staircase1<br>sessionNum=%{x}<br>reward_rate=%{y}<extra></extra>",
         "legendgroup": "5",
         "marker": {
          "color": "#FFA15A",
          "symbol": "circle"
         },
         "mode": "markers",
         "name": "5",
         "orientation": "v",
         "showlegend": false,
         "type": "scatter",
         "x": [
          0,
          1
         ],
         "xaxis": "x7",
         "y": [
          0.9333333333333333,
          0.7
         ],
         "yaxis": "y7"
        },
        {
         "hovertemplate": "subject=5<br>sessionType=staircase2<br>sessionNum=%{x}<br>reward_rate=%{y}<extra></extra>",
         "legendgroup": "5",
         "marker": {
          "color": "#FFA15A",
          "symbol": "circle"
         },
         "mode": "markers",
         "name": "5",
         "orientation": "v",
         "showlegend": false,
         "type": "scatter",
         "x": [
          0,
          1
         ],
         "xaxis": "x8",
         "y": [
          0.8833333333333333,
          0.75
         ],
         "yaxis": "y8"
        },
        {
         "hovertemplate": "subject=5<br>sessionType=training<br>sessionNum=%{x}<br>reward_rate=%{y}<extra></extra>",
         "legendgroup": "5",
         "marker": {
          "color": "#FFA15A",
          "symbol": "circle"
         },
         "mode": "markers",
         "name": "5",
         "orientation": "v",
         "showlegend": false,
         "type": "scatter",
         "x": [
          0,
          1
         ],
         "xaxis": "x9",
         "y": [
          0.5166666666666667,
          0.6833333333333333
         ],
         "yaxis": "y9"
        },
        {
         "hovertemplate": "subject=6<br>sessionType=ams1<br>sessionNum=%{x}<br>reward_rate=%{y}<extra></extra>",
         "legendgroup": "6",
         "marker": {
          "color": "#19d3f3",
          "symbol": "circle"
         },
         "mode": "markers",
         "name": "6",
         "orientation": "v",
         "showlegend": true,
         "type": "scatter",
         "x": [
          0,
          1
         ],
         "xaxis": "x",
         "y": [
          0.8833333333333333,
          0.9666666666666667
         ],
         "yaxis": "y"
        },
        {
         "hovertemplate": "subject=6<br>sessionType=ams2<br>sessionNum=%{x}<br>reward_rate=%{y}<extra></extra>",
         "legendgroup": "6",
         "marker": {
          "color": "#19d3f3",
          "symbol": "circle"
         },
         "mode": "markers",
         "name": "6",
         "orientation": "v",
         "showlegend": false,
         "type": "scatter",
         "x": [
          0,
          1
         ],
         "xaxis": "x2",
         "y": [
          0.65,
          0.5833333333333334
         ],
         "yaxis": "y2"
        },
        {
         "hovertemplate": "subject=6<br>sessionType=eds1<br>sessionNum=%{x}<br>reward_rate=%{y}<extra></extra>",
         "legendgroup": "6",
         "marker": {
          "color": "#19d3f3",
          "symbol": "circle"
         },
         "mode": "markers",
         "name": "6",
         "orientation": "v",
         "showlegend": false,
         "type": "scatter",
         "x": [
          0
         ],
         "xaxis": "x3",
         "y": [
          0.7833333333333333
         ],
         "yaxis": "y3"
        },
        {
         "hovertemplate": "subject=6<br>sessionType=eds2<br>sessionNum=%{x}<br>reward_rate=%{y}<extra></extra>",
         "legendgroup": "6",
         "marker": {
          "color": "#19d3f3",
          "symbol": "circle"
         },
         "mode": "markers",
         "name": "6",
         "orientation": "v",
         "showlegend": false,
         "type": "scatter",
         "x": [
          0
         ],
         "xaxis": "x4",
         "y": [
          0.95
         ],
         "yaxis": "y4"
        },
        {
         "hovertemplate": "subject=6<br>sessionType=ids1<br>sessionNum=%{x}<br>reward_rate=%{y}<extra></extra>",
         "legendgroup": "6",
         "marker": {
          "color": "#19d3f3",
          "symbol": "circle"
         },
         "mode": "markers",
         "name": "6",
         "orientation": "v",
         "showlegend": false,
         "type": "scatter",
         "x": [
          0
         ],
         "xaxis": "x5",
         "y": [
          0.95
         ],
         "yaxis": "y5"
        },
        {
         "hovertemplate": "subject=6<br>sessionType=ids2<br>sessionNum=%{x}<br>reward_rate=%{y}<extra></extra>",
         "legendgroup": "6",
         "marker": {
          "color": "#19d3f3",
          "symbol": "circle"
         },
         "mode": "markers",
         "name": "6",
         "orientation": "v",
         "showlegend": false,
         "type": "scatter",
         "x": [
          0
         ],
         "xaxis": "x6",
         "y": [
          0.9333333333333333
         ],
         "yaxis": "y6"
        },
        {
         "hovertemplate": "subject=6<br>sessionType=staircase1<br>sessionNum=%{x}<br>reward_rate=%{y}<extra></extra>",
         "legendgroup": "6",
         "marker": {
          "color": "#19d3f3",
          "symbol": "circle"
         },
         "mode": "markers",
         "name": "6",
         "orientation": "v",
         "showlegend": false,
         "type": "scatter",
         "x": [
          0,
          1
         ],
         "xaxis": "x7",
         "y": [
          0.9333333333333333,
          0.7
         ],
         "yaxis": "y7"
        },
        {
         "hovertemplate": "subject=6<br>sessionType=staircase2<br>sessionNum=%{x}<br>reward_rate=%{y}<extra></extra>",
         "legendgroup": "6",
         "marker": {
          "color": "#19d3f3",
          "symbol": "circle"
         },
         "mode": "markers",
         "name": "6",
         "orientation": "v",
         "showlegend": false,
         "type": "scatter",
         "x": [
          0,
          1
         ],
         "xaxis": "x8",
         "y": [
          0.8833333333333333,
          0.7666666666666667
         ],
         "yaxis": "y8"
        },
        {
         "hovertemplate": "subject=6<br>sessionType=training<br>sessionNum=%{x}<br>reward_rate=%{y}<extra></extra>",
         "legendgroup": "6",
         "marker": {
          "color": "#19d3f3",
          "symbol": "circle"
         },
         "mode": "markers",
         "name": "6",
         "orientation": "v",
         "showlegend": false,
         "type": "scatter",
         "x": [
          0
         ],
         "xaxis": "x9",
         "y": [
          0.9166666666666666
         ],
         "yaxis": "y9"
        },
        {
         "hovertemplate": "subject=7<br>sessionType=ams1<br>sessionNum=%{x}<br>reward_rate=%{y}<extra></extra>",
         "legendgroup": "7",
         "marker": {
          "color": "#FF6692",
          "symbol": "circle"
         },
         "mode": "markers",
         "name": "7",
         "orientation": "v",
         "showlegend": true,
         "type": "scatter",
         "x": [
          0,
          1
         ],
         "xaxis": "x",
         "y": [
          0.9,
          0.9666666666666667
         ],
         "yaxis": "y"
        },
        {
         "hovertemplate": "subject=7<br>sessionType=ams2<br>sessionNum=%{x}<br>reward_rate=%{y}<extra></extra>",
         "legendgroup": "7",
         "marker": {
          "color": "#FF6692",
          "symbol": "circle"
         },
         "mode": "markers",
         "name": "7",
         "orientation": "v",
         "showlegend": false,
         "type": "scatter",
         "x": [
          0,
          1
         ],
         "xaxis": "x2",
         "y": [
          0.9166666666666666,
          0.9333333333333333
         ],
         "yaxis": "y2"
        },
        {
         "hovertemplate": "subject=7<br>sessionType=eds1<br>sessionNum=%{x}<br>reward_rate=%{y}<extra></extra>",
         "legendgroup": "7",
         "marker": {
          "color": "#FF6692",
          "symbol": "circle"
         },
         "mode": "markers",
         "name": "7",
         "orientation": "v",
         "showlegend": false,
         "type": "scatter",
         "x": [
          0
         ],
         "xaxis": "x3",
         "y": [
          0.95
         ],
         "yaxis": "y3"
        },
        {
         "hovertemplate": "subject=7<br>sessionType=eds2<br>sessionNum=%{x}<br>reward_rate=%{y}<extra></extra>",
         "legendgroup": "7",
         "marker": {
          "color": "#FF6692",
          "symbol": "circle"
         },
         "mode": "markers",
         "name": "7",
         "orientation": "v",
         "showlegend": false,
         "type": "scatter",
         "x": [
          0
         ],
         "xaxis": "x4",
         "y": [
          0.9666666666666667
         ],
         "yaxis": "y4"
        },
        {
         "hovertemplate": "subject=7<br>sessionType=ids1<br>sessionNum=%{x}<br>reward_rate=%{y}<extra></extra>",
         "legendgroup": "7",
         "marker": {
          "color": "#FF6692",
          "symbol": "circle"
         },
         "mode": "markers",
         "name": "7",
         "orientation": "v",
         "showlegend": false,
         "type": "scatter",
         "x": [
          0
         ],
         "xaxis": "x5",
         "y": [
          0.9666666666666667
         ],
         "yaxis": "y5"
        },
        {
         "hovertemplate": "subject=7<br>sessionType=ids2<br>sessionNum=%{x}<br>reward_rate=%{y}<extra></extra>",
         "legendgroup": "7",
         "marker": {
          "color": "#FF6692",
          "symbol": "circle"
         },
         "mode": "markers",
         "name": "7",
         "orientation": "v",
         "showlegend": false,
         "type": "scatter",
         "x": [
          0
         ],
         "xaxis": "x6",
         "y": [
          0.9333333333333333
         ],
         "yaxis": "y6"
        },
        {
         "hovertemplate": "subject=7<br>sessionType=staircase1<br>sessionNum=%{x}<br>reward_rate=%{y}<extra></extra>",
         "legendgroup": "7",
         "marker": {
          "color": "#FF6692",
          "symbol": "circle"
         },
         "mode": "markers",
         "name": "7",
         "orientation": "v",
         "showlegend": false,
         "type": "scatter",
         "x": [
          0,
          1
         ],
         "xaxis": "x7",
         "y": [
          0.9166666666666666,
          0.65
         ],
         "yaxis": "y7"
        },
        {
         "hovertemplate": "subject=7<br>sessionType=staircase2<br>sessionNum=%{x}<br>reward_rate=%{y}<extra></extra>",
         "legendgroup": "7",
         "marker": {
          "color": "#FF6692",
          "symbol": "circle"
         },
         "mode": "markers",
         "name": "7",
         "orientation": "v",
         "showlegend": false,
         "type": "scatter",
         "x": [
          0,
          1
         ],
         "xaxis": "x8",
         "y": [
          0.7666666666666667,
          0.7833333333333333
         ],
         "yaxis": "y8"
        },
        {
         "hovertemplate": "subject=7<br>sessionType=training<br>sessionNum=%{x}<br>reward_rate=%{y}<extra></extra>",
         "legendgroup": "7",
         "marker": {
          "color": "#FF6692",
          "symbol": "circle"
         },
         "mode": "markers",
         "name": "7",
         "orientation": "v",
         "showlegend": false,
         "type": "scatter",
         "x": [
          0,
          1,
          2
         ],
         "xaxis": "x9",
         "y": [
          0.48333333333333334,
          0.5333333333333333,
          1
         ],
         "yaxis": "y9"
        },
        {
         "hovertemplate": "subject=8<br>sessionType=ams1<br>sessionNum=%{x}<br>reward_rate=%{y}<extra></extra>",
         "legendgroup": "8",
         "marker": {
          "color": "#B6E880",
          "symbol": "circle"
         },
         "mode": "markers",
         "name": "8",
         "orientation": "v",
         "showlegend": true,
         "type": "scatter",
         "x": [
          0,
          1
         ],
         "xaxis": "x",
         "y": [
          0.95,
          0.9833333333333333
         ],
         "yaxis": "y"
        },
        {
         "hovertemplate": "subject=8<br>sessionType=ams2<br>sessionNum=%{x}<br>reward_rate=%{y}<extra></extra>",
         "legendgroup": "8",
         "marker": {
          "color": "#B6E880",
          "symbol": "circle"
         },
         "mode": "markers",
         "name": "8",
         "orientation": "v",
         "showlegend": false,
         "type": "scatter",
         "x": [
          0,
          1
         ],
         "xaxis": "x2",
         "y": [
          0.5333333333333333,
          0.48333333333333334
         ],
         "yaxis": "y2"
        },
        {
         "hovertemplate": "subject=8<br>sessionType=eds1<br>sessionNum=%{x}<br>reward_rate=%{y}<extra></extra>",
         "legendgroup": "8",
         "marker": {
          "color": "#B6E880",
          "symbol": "circle"
         },
         "mode": "markers",
         "name": "8",
         "orientation": "v",
         "showlegend": false,
         "type": "scatter",
         "x": [
          0
         ],
         "xaxis": "x3",
         "y": [
          0.8333333333333334
         ],
         "yaxis": "y3"
        },
        {
         "hovertemplate": "subject=8<br>sessionType=eds2<br>sessionNum=%{x}<br>reward_rate=%{y}<extra></extra>",
         "legendgroup": "8",
         "marker": {
          "color": "#B6E880",
          "symbol": "circle"
         },
         "mode": "markers",
         "name": "8",
         "orientation": "v",
         "showlegend": false,
         "type": "scatter",
         "x": [
          0
         ],
         "xaxis": "x4",
         "y": [
          0.43333333333333335
         ],
         "yaxis": "y4"
        },
        {
         "hovertemplate": "subject=8<br>sessionType=ids1<br>sessionNum=%{x}<br>reward_rate=%{y}<extra></extra>",
         "legendgroup": "8",
         "marker": {
          "color": "#B6E880",
          "symbol": "circle"
         },
         "mode": "markers",
         "name": "8",
         "orientation": "v",
         "showlegend": false,
         "type": "scatter",
         "x": [
          0
         ],
         "xaxis": "x5",
         "y": [
          0.9
         ],
         "yaxis": "y5"
        },
        {
         "hovertemplate": "subject=8<br>sessionType=ids2<br>sessionNum=%{x}<br>reward_rate=%{y}<extra></extra>",
         "legendgroup": "8",
         "marker": {
          "color": "#B6E880",
          "symbol": "circle"
         },
         "mode": "markers",
         "name": "8",
         "orientation": "v",
         "showlegend": false,
         "type": "scatter",
         "x": [
          0
         ],
         "xaxis": "x6",
         "y": [
          0.9666666666666667
         ],
         "yaxis": "y6"
        },
        {
         "hovertemplate": "subject=8<br>sessionType=staircase1<br>sessionNum=%{x}<br>reward_rate=%{y}<extra></extra>",
         "legendgroup": "8",
         "marker": {
          "color": "#B6E880",
          "symbol": "circle"
         },
         "mode": "markers",
         "name": "8",
         "orientation": "v",
         "showlegend": false,
         "type": "scatter",
         "x": [
          0,
          1
         ],
         "xaxis": "x7",
         "y": [
          0.9833333333333333,
          0.6666666666666666
         ],
         "yaxis": "y7"
        },
        {
         "hovertemplate": "subject=8<br>sessionType=staircase2<br>sessionNum=%{x}<br>reward_rate=%{y}<extra></extra>",
         "legendgroup": "8",
         "marker": {
          "color": "#B6E880",
          "symbol": "circle"
         },
         "mode": "markers",
         "name": "8",
         "orientation": "v",
         "showlegend": false,
         "type": "scatter",
         "x": [
          0,
          1
         ],
         "xaxis": "x8",
         "y": [
          0.9333333333333333,
          0.6666666666666666
         ],
         "yaxis": "y8"
        },
        {
         "hovertemplate": "subject=8<br>sessionType=training<br>sessionNum=%{x}<br>reward_rate=%{y}<extra></extra>",
         "legendgroup": "8",
         "marker": {
          "color": "#B6E880",
          "symbol": "circle"
         },
         "mode": "markers",
         "name": "8",
         "orientation": "v",
         "showlegend": false,
         "type": "scatter",
         "x": [
          0
         ],
         "xaxis": "x9",
         "y": [
          0.9333333333333333
         ],
         "yaxis": "y9"
        },
        {
         "hovertemplate": "subject=9<br>sessionType=ams1<br>sessionNum=%{x}<br>reward_rate=%{y}<extra></extra>",
         "legendgroup": "9",
         "marker": {
          "color": "#FF97FF",
          "symbol": "circle"
         },
         "mode": "markers",
         "name": "9",
         "orientation": "v",
         "showlegend": true,
         "type": "scatter",
         "x": [
          0,
          1
         ],
         "xaxis": "x",
         "y": [
          0.5833333333333334,
          0.5166666666666667
         ],
         "yaxis": "y"
        },
        {
         "hovertemplate": "subject=9<br>sessionType=ams2<br>sessionNum=%{x}<br>reward_rate=%{y}<extra></extra>",
         "legendgroup": "9",
         "marker": {
          "color": "#FF97FF",
          "symbol": "circle"
         },
         "mode": "markers",
         "name": "9",
         "orientation": "v",
         "showlegend": false,
         "type": "scatter",
         "x": [
          0,
          1
         ],
         "xaxis": "x2",
         "y": [
          0.9333333333333333,
          0.95
         ],
         "yaxis": "y2"
        },
        {
         "hovertemplate": "subject=9<br>sessionType=eds1<br>sessionNum=%{x}<br>reward_rate=%{y}<extra></extra>",
         "legendgroup": "9",
         "marker": {
          "color": "#FF97FF",
          "symbol": "circle"
         },
         "mode": "markers",
         "name": "9",
         "orientation": "v",
         "showlegend": false,
         "type": "scatter",
         "x": [
          0
         ],
         "xaxis": "x3",
         "y": [
          0.48333333333333334
         ],
         "yaxis": "y3"
        },
        {
         "hovertemplate": "subject=9<br>sessionType=eds2<br>sessionNum=%{x}<br>reward_rate=%{y}<extra></extra>",
         "legendgroup": "9",
         "marker": {
          "color": "#FF97FF",
          "symbol": "circle"
         },
         "mode": "markers",
         "name": "9",
         "orientation": "v",
         "showlegend": false,
         "type": "scatter",
         "x": [
          0
         ],
         "xaxis": "x4",
         "y": [
          0.8833333333333333
         ],
         "yaxis": "y4"
        },
        {
         "hovertemplate": "subject=9<br>sessionType=ids1<br>sessionNum=%{x}<br>reward_rate=%{y}<extra></extra>",
         "legendgroup": "9",
         "marker": {
          "color": "#FF97FF",
          "symbol": "circle"
         },
         "mode": "markers",
         "name": "9",
         "orientation": "v",
         "showlegend": false,
         "type": "scatter",
         "x": [
          0
         ],
         "xaxis": "x5",
         "y": [
          0.7833333333333333
         ],
         "yaxis": "y5"
        },
        {
         "hovertemplate": "subject=9<br>sessionType=ids2<br>sessionNum=%{x}<br>reward_rate=%{y}<extra></extra>",
         "legendgroup": "9",
         "marker": {
          "color": "#FF97FF",
          "symbol": "circle"
         },
         "mode": "markers",
         "name": "9",
         "orientation": "v",
         "showlegend": false,
         "type": "scatter",
         "x": [
          0
         ],
         "xaxis": "x6",
         "y": [
          0.9666666666666667
         ],
         "yaxis": "y6"
        },
        {
         "hovertemplate": "subject=9<br>sessionType=staircase1<br>sessionNum=%{x}<br>reward_rate=%{y}<extra></extra>",
         "legendgroup": "9",
         "marker": {
          "color": "#FF97FF",
          "symbol": "circle"
         },
         "mode": "markers",
         "name": "9",
         "orientation": "v",
         "showlegend": false,
         "type": "scatter",
         "x": [
          0,
          1
         ],
         "xaxis": "x7",
         "y": [
          0.95,
          0.6666666666666666
         ],
         "yaxis": "y7"
        },
        {
         "hovertemplate": "subject=9<br>sessionType=staircase2<br>sessionNum=%{x}<br>reward_rate=%{y}<extra></extra>",
         "legendgroup": "9",
         "marker": {
          "color": "#FF97FF",
          "symbol": "circle"
         },
         "mode": "markers",
         "name": "9",
         "orientation": "v",
         "showlegend": false,
         "type": "scatter",
         "x": [
          0,
          1
         ],
         "xaxis": "x8",
         "y": [
          0.9166666666666666,
          0.7333333333333333
         ],
         "yaxis": "y8"
        },
        {
         "hovertemplate": "subject=9<br>sessionType=training<br>sessionNum=%{x}<br>reward_rate=%{y}<extra></extra>",
         "legendgroup": "9",
         "marker": {
          "color": "#FF97FF",
          "symbol": "circle"
         },
         "mode": "markers",
         "name": "9",
         "orientation": "v",
         "showlegend": false,
         "type": "scatter",
         "x": [
          0
         ],
         "xaxis": "x9",
         "y": [
          0.9333333333333333
         ],
         "yaxis": "y9"
        },
        {
         "hovertemplate": "subject=10<br>sessionType=ams1<br>sessionNum=%{x}<br>reward_rate=%{y}<extra></extra>",
         "legendgroup": "10",
         "marker": {
          "color": "#FECB52",
          "symbol": "circle"
         },
         "mode": "markers",
         "name": "10",
         "orientation": "v",
         "showlegend": true,
         "type": "scatter",
         "x": [
          0,
          1
         ],
         "xaxis": "x",
         "y": [
          0.9666666666666667,
          1
         ],
         "yaxis": "y"
        },
        {
         "hovertemplate": "subject=10<br>sessionType=ams2<br>sessionNum=%{x}<br>reward_rate=%{y}<extra></extra>",
         "legendgroup": "10",
         "marker": {
          "color": "#FECB52",
          "symbol": "circle"
         },
         "mode": "markers",
         "name": "10",
         "orientation": "v",
         "showlegend": false,
         "type": "scatter",
         "x": [
          0,
          1
         ],
         "xaxis": "x2",
         "y": [
          0.6666666666666666,
          0.6833333333333333
         ],
         "yaxis": "y2"
        },
        {
         "hovertemplate": "subject=10<br>sessionType=eds1<br>sessionNum=%{x}<br>reward_rate=%{y}<extra></extra>",
         "legendgroup": "10",
         "marker": {
          "color": "#FECB52",
          "symbol": "circle"
         },
         "mode": "markers",
         "name": "10",
         "orientation": "v",
         "showlegend": false,
         "type": "scatter",
         "x": [
          0
         ],
         "xaxis": "x3",
         "y": [
          0.85
         ],
         "yaxis": "y3"
        },
        {
         "hovertemplate": "subject=10<br>sessionType=eds2<br>sessionNum=%{x}<br>reward_rate=%{y}<extra></extra>",
         "legendgroup": "10",
         "marker": {
          "color": "#FECB52",
          "symbol": "circle"
         },
         "mode": "markers",
         "name": "10",
         "orientation": "v",
         "showlegend": false,
         "type": "scatter",
         "x": [
          0
         ],
         "xaxis": "x4",
         "y": [
          0.8666666666666667
         ],
         "yaxis": "y4"
        },
        {
         "hovertemplate": "subject=10<br>sessionType=ids1<br>sessionNum=%{x}<br>reward_rate=%{y}<extra></extra>",
         "legendgroup": "10",
         "marker": {
          "color": "#FECB52",
          "symbol": "circle"
         },
         "mode": "markers",
         "name": "10",
         "orientation": "v",
         "showlegend": false,
         "type": "scatter",
         "x": [
          0
         ],
         "xaxis": "x5",
         "y": [
          0.95
         ],
         "yaxis": "y5"
        },
        {
         "hovertemplate": "subject=10<br>sessionType=ids2<br>sessionNum=%{x}<br>reward_rate=%{y}<extra></extra>",
         "legendgroup": "10",
         "marker": {
          "color": "#FECB52",
          "symbol": "circle"
         },
         "mode": "markers",
         "name": "10",
         "orientation": "v",
         "showlegend": false,
         "type": "scatter",
         "x": [
          0
         ],
         "xaxis": "x6",
         "y": [
          0.95
         ],
         "yaxis": "y6"
        },
        {
         "hovertemplate": "subject=10<br>sessionType=staircase1<br>sessionNum=%{x}<br>reward_rate=%{y}<extra></extra>",
         "legendgroup": "10",
         "marker": {
          "color": "#FECB52",
          "symbol": "circle"
         },
         "mode": "markers",
         "name": "10",
         "orientation": "v",
         "showlegend": false,
         "type": "scatter",
         "x": [
          0,
          1
         ],
         "xaxis": "x7",
         "y": [
          0.95,
          0.6833333333333333
         ],
         "yaxis": "y7"
        },
        {
         "hovertemplate": "subject=10<br>sessionType=staircase2<br>sessionNum=%{x}<br>reward_rate=%{y}<extra></extra>",
         "legendgroup": "10",
         "marker": {
          "color": "#FECB52",
          "symbol": "circle"
         },
         "mode": "markers",
         "name": "10",
         "orientation": "v",
         "showlegend": false,
         "type": "scatter",
         "x": [
          0,
          1
         ],
         "xaxis": "x8",
         "y": [
          0.9666666666666667,
          0.65
         ],
         "yaxis": "y8"
        },
        {
         "hovertemplate": "subject=10<br>sessionType=training<br>sessionNum=%{x}<br>reward_rate=%{y}<extra></extra>",
         "legendgroup": "10",
         "marker": {
          "color": "#FECB52",
          "symbol": "circle"
         },
         "mode": "markers",
         "name": "10",
         "orientation": "v",
         "showlegend": false,
         "type": "scatter",
         "x": [
          0
         ],
         "xaxis": "x9",
         "y": [
          0.65
         ],
         "yaxis": "y9"
        },
        {
         "hovertemplate": "subject=11<br>sessionType=ams1<br>sessionNum=%{x}<br>reward_rate=%{y}<extra></extra>",
         "legendgroup": "11",
         "marker": {
          "color": "#636efa",
          "symbol": "circle"
         },
         "mode": "markers",
         "name": "11",
         "orientation": "v",
         "showlegend": true,
         "type": "scatter",
         "x": [
          0,
          1
         ],
         "xaxis": "x",
         "y": [
          0.5833333333333334,
          0.45
         ],
         "yaxis": "y"
        },
        {
         "hovertemplate": "subject=11<br>sessionType=ams2<br>sessionNum=%{x}<br>reward_rate=%{y}<extra></extra>",
         "legendgroup": "11",
         "marker": {
          "color": "#636efa",
          "symbol": "circle"
         },
         "mode": "markers",
         "name": "11",
         "orientation": "v",
         "showlegend": false,
         "type": "scatter",
         "x": [
          0,
          1
         ],
         "xaxis": "x2",
         "y": [
          0.5833333333333334,
          0.95
         ],
         "yaxis": "y2"
        },
        {
         "hovertemplate": "subject=11<br>sessionType=eds1<br>sessionNum=%{x}<br>reward_rate=%{y}<extra></extra>",
         "legendgroup": "11",
         "marker": {
          "color": "#636efa",
          "symbol": "circle"
         },
         "mode": "markers",
         "name": "11",
         "orientation": "v",
         "showlegend": false,
         "type": "scatter",
         "x": [
          0,
          1
         ],
         "xaxis": "x3",
         "y": [
          0.65,
          0.6
         ],
         "yaxis": "y3"
        },
        {
         "hovertemplate": "subject=11<br>sessionType=eds2<br>sessionNum=%{x}<br>reward_rate=%{y}<extra></extra>",
         "legendgroup": "11",
         "marker": {
          "color": "#636efa",
          "symbol": "circle"
         },
         "mode": "markers",
         "name": "11",
         "orientation": "v",
         "showlegend": false,
         "type": "scatter",
         "x": [
          0
         ],
         "xaxis": "x4",
         "y": [
          0.9
         ],
         "yaxis": "y4"
        },
        {
         "hovertemplate": "subject=11<br>sessionType=ids1<br>sessionNum=%{x}<br>reward_rate=%{y}<extra></extra>",
         "legendgroup": "11",
         "marker": {
          "color": "#636efa",
          "symbol": "circle"
         },
         "mode": "markers",
         "name": "11",
         "orientation": "v",
         "showlegend": false,
         "type": "scatter",
         "x": [
          0
         ],
         "xaxis": "x5",
         "y": [
          0.9666666666666667
         ],
         "yaxis": "y5"
        },
        {
         "hovertemplate": "subject=11<br>sessionType=ids2<br>sessionNum=%{x}<br>reward_rate=%{y}<extra></extra>",
         "legendgroup": "11",
         "marker": {
          "color": "#636efa",
          "symbol": "circle"
         },
         "mode": "markers",
         "name": "11",
         "orientation": "v",
         "showlegend": false,
         "type": "scatter",
         "x": [
          0
         ],
         "xaxis": "x6",
         "y": [
          0.5666666666666667
         ],
         "yaxis": "y6"
        },
        {
         "hovertemplate": "subject=11<br>sessionType=staircase1<br>sessionNum=%{x}<br>reward_rate=%{y}<extra></extra>",
         "legendgroup": "11",
         "marker": {
          "color": "#636efa",
          "symbol": "circle"
         },
         "mode": "markers",
         "name": "11",
         "orientation": "v",
         "showlegend": false,
         "type": "scatter",
         "x": [
          0,
          1
         ],
         "xaxis": "x7",
         "y": [
          0.8833333333333333,
          0.7
         ],
         "yaxis": "y7"
        },
        {
         "hovertemplate": "subject=11<br>sessionType=staircase2<br>sessionNum=%{x}<br>reward_rate=%{y}<extra></extra>",
         "legendgroup": "11",
         "marker": {
          "color": "#636efa",
          "symbol": "circle"
         },
         "mode": "markers",
         "name": "11",
         "orientation": "v",
         "showlegend": false,
         "type": "scatter",
         "x": [
          0
         ],
         "xaxis": "x8",
         "y": [
          0.6
         ],
         "yaxis": "y8"
        },
        {
         "hovertemplate": "subject=11<br>sessionType=training<br>sessionNum=%{x}<br>reward_rate=%{y}<extra></extra>",
         "legendgroup": "11",
         "marker": {
          "color": "#636efa",
          "symbol": "circle"
         },
         "mode": "markers",
         "name": "11",
         "orientation": "v",
         "showlegend": false,
         "type": "scatter",
         "x": [
          0,
          1,
          2,
          3,
          4,
          5
         ],
         "xaxis": "x9",
         "y": [
          0.5,
          0.55,
          0.48333333333333334,
          0.35,
          0.4,
          0.75
         ],
         "yaxis": "y9"
        },
        {
         "hovertemplate": "subject=13<br>sessionType=ams1<br>sessionNum=%{x}<br>reward_rate=%{y}<extra></extra>",
         "legendgroup": "13",
         "marker": {
          "color": "#EF553B",
          "symbol": "circle"
         },
         "mode": "markers",
         "name": "13",
         "orientation": "v",
         "showlegend": true,
         "type": "scatter",
         "x": [
          0,
          1
         ],
         "xaxis": "x",
         "y": [
          0.5333333333333333,
          0.6
         ],
         "yaxis": "y"
        },
        {
         "hovertemplate": "subject=13<br>sessionType=ams2<br>sessionNum=%{x}<br>reward_rate=%{y}<extra></extra>",
         "legendgroup": "13",
         "marker": {
          "color": "#EF553B",
          "symbol": "circle"
         },
         "mode": "markers",
         "name": "13",
         "orientation": "v",
         "showlegend": false,
         "type": "scatter",
         "x": [
          0,
          1
         ],
         "xaxis": "x2",
         "y": [
          0.9833333333333333,
          0.95
         ],
         "yaxis": "y2"
        },
        {
         "hovertemplate": "subject=13<br>sessionType=eds1<br>sessionNum=%{x}<br>reward_rate=%{y}<extra></extra>",
         "legendgroup": "13",
         "marker": {
          "color": "#EF553B",
          "symbol": "circle"
         },
         "mode": "markers",
         "name": "13",
         "orientation": "v",
         "showlegend": false,
         "type": "scatter",
         "x": [
          0
         ],
         "xaxis": "x3",
         "y": [
          0.8166666666666667
         ],
         "yaxis": "y3"
        },
        {
         "hovertemplate": "subject=13<br>sessionType=eds2<br>sessionNum=%{x}<br>reward_rate=%{y}<extra></extra>",
         "legendgroup": "13",
         "marker": {
          "color": "#EF553B",
          "symbol": "circle"
         },
         "mode": "markers",
         "name": "13",
         "orientation": "v",
         "showlegend": false,
         "type": "scatter",
         "x": [
          0
         ],
         "xaxis": "x4",
         "y": [
          0.9333333333333333
         ],
         "yaxis": "y4"
        },
        {
         "hovertemplate": "subject=13<br>sessionType=ids1<br>sessionNum=%{x}<br>reward_rate=%{y}<extra></extra>",
         "legendgroup": "13",
         "marker": {
          "color": "#EF553B",
          "symbol": "circle"
         },
         "mode": "markers",
         "name": "13",
         "orientation": "v",
         "showlegend": false,
         "type": "scatter",
         "x": [
          0
         ],
         "xaxis": "x5",
         "y": [
          0.9166666666666666
         ],
         "yaxis": "y5"
        },
        {
         "hovertemplate": "subject=13<br>sessionType=ids2<br>sessionNum=%{x}<br>reward_rate=%{y}<extra></extra>",
         "legendgroup": "13",
         "marker": {
          "color": "#EF553B",
          "symbol": "circle"
         },
         "mode": "markers",
         "name": "13",
         "orientation": "v",
         "showlegend": false,
         "type": "scatter",
         "x": [
          0
         ],
         "xaxis": "x6",
         "y": [
          0.9666666666666667
         ],
         "yaxis": "y6"
        },
        {
         "hovertemplate": "subject=13<br>sessionType=staircase1<br>sessionNum=%{x}<br>reward_rate=%{y}<extra></extra>",
         "legendgroup": "13",
         "marker": {
          "color": "#EF553B",
          "symbol": "circle"
         },
         "mode": "markers",
         "name": "13",
         "orientation": "v",
         "showlegend": false,
         "type": "scatter",
         "x": [
          0,
          1
         ],
         "xaxis": "x7",
         "y": [
          0.9666666666666667,
          0.7
         ],
         "yaxis": "y7"
        },
        {
         "hovertemplate": "subject=13<br>sessionType=staircase2<br>sessionNum=%{x}<br>reward_rate=%{y}<extra></extra>",
         "legendgroup": "13",
         "marker": {
          "color": "#EF553B",
          "symbol": "circle"
         },
         "mode": "markers",
         "name": "13",
         "orientation": "v",
         "showlegend": false,
         "type": "scatter",
         "x": [
          0,
          1
         ],
         "xaxis": "x8",
         "y": [
          0.95,
          0.6666666666666666
         ],
         "yaxis": "y8"
        },
        {
         "hovertemplate": "subject=13<br>sessionType=training<br>sessionNum=%{x}<br>reward_rate=%{y}<extra></extra>",
         "legendgroup": "13",
         "marker": {
          "color": "#EF553B",
          "symbol": "circle"
         },
         "mode": "markers",
         "name": "13",
         "orientation": "v",
         "showlegend": false,
         "type": "scatter",
         "x": [
          0,
          1,
          2
         ],
         "xaxis": "x9",
         "y": [
          0.45,
          0.4666666666666667,
          0.85
         ],
         "yaxis": "y9"
        },
        {
         "hovertemplate": "subject=15<br>sessionType=ams1<br>sessionNum=%{x}<br>reward_rate=%{y}<extra></extra>",
         "legendgroup": "15",
         "marker": {
          "color": "#00cc96",
          "symbol": "circle"
         },
         "mode": "markers",
         "name": "15",
         "orientation": "v",
         "showlegend": true,
         "type": "scatter",
         "x": [
          0,
          1
         ],
         "xaxis": "x",
         "y": [
          0.6166666666666667,
          0.6833333333333333
         ],
         "yaxis": "y"
        },
        {
         "hovertemplate": "subject=15<br>sessionType=ams2<br>sessionNum=%{x}<br>reward_rate=%{y}<extra></extra>",
         "legendgroup": "15",
         "marker": {
          "color": "#00cc96",
          "symbol": "circle"
         },
         "mode": "markers",
         "name": "15",
         "orientation": "v",
         "showlegend": false,
         "type": "scatter",
         "x": [
          0,
          1
         ],
         "xaxis": "x2",
         "y": [
          0.9666666666666667,
          0.9833333333333333
         ],
         "yaxis": "y2"
        },
        {
         "hovertemplate": "subject=15<br>sessionType=eds1<br>sessionNum=%{x}<br>reward_rate=%{y}<extra></extra>",
         "legendgroup": "15",
         "marker": {
          "color": "#00cc96",
          "symbol": "circle"
         },
         "mode": "markers",
         "name": "15",
         "orientation": "v",
         "showlegend": false,
         "type": "scatter",
         "x": [
          0
         ],
         "xaxis": "x3",
         "y": [
          0.95
         ],
         "yaxis": "y3"
        },
        {
         "hovertemplate": "subject=15<br>sessionType=eds2<br>sessionNum=%{x}<br>reward_rate=%{y}<extra></extra>",
         "legendgroup": "15",
         "marker": {
          "color": "#00cc96",
          "symbol": "circle"
         },
         "mode": "markers",
         "name": "15",
         "orientation": "v",
         "showlegend": false,
         "type": "scatter",
         "x": [
          0
         ],
         "xaxis": "x4",
         "y": [
          1
         ],
         "yaxis": "y4"
        },
        {
         "hovertemplate": "subject=15<br>sessionType=ids1<br>sessionNum=%{x}<br>reward_rate=%{y}<extra></extra>",
         "legendgroup": "15",
         "marker": {
          "color": "#00cc96",
          "symbol": "circle"
         },
         "mode": "markers",
         "name": "15",
         "orientation": "v",
         "showlegend": false,
         "type": "scatter",
         "x": [
          0
         ],
         "xaxis": "x5",
         "y": [
          0.9333333333333333
         ],
         "yaxis": "y5"
        },
        {
         "hovertemplate": "subject=15<br>sessionType=ids2<br>sessionNum=%{x}<br>reward_rate=%{y}<extra></extra>",
         "legendgroup": "15",
         "marker": {
          "color": "#00cc96",
          "symbol": "circle"
         },
         "mode": "markers",
         "name": "15",
         "orientation": "v",
         "showlegend": false,
         "type": "scatter",
         "x": [
          0
         ],
         "xaxis": "x6",
         "y": [
          0.9666666666666667
         ],
         "yaxis": "y6"
        },
        {
         "hovertemplate": "subject=15<br>sessionType=staircase1<br>sessionNum=%{x}<br>reward_rate=%{y}<extra></extra>",
         "legendgroup": "15",
         "marker": {
          "color": "#00cc96",
          "symbol": "circle"
         },
         "mode": "markers",
         "name": "15",
         "orientation": "v",
         "showlegend": false,
         "type": "scatter",
         "x": [
          0,
          1
         ],
         "xaxis": "x7",
         "y": [
          0.9666666666666667,
          0.65
         ],
         "yaxis": "y7"
        },
        {
         "hovertemplate": "subject=15<br>sessionType=staircase2<br>sessionNum=%{x}<br>reward_rate=%{y}<extra></extra>",
         "legendgroup": "15",
         "marker": {
          "color": "#00cc96",
          "symbol": "circle"
         },
         "mode": "markers",
         "name": "15",
         "orientation": "v",
         "showlegend": false,
         "type": "scatter",
         "x": [
          0,
          1
         ],
         "xaxis": "x8",
         "y": [
          0.9166666666666666,
          0.7333333333333333
         ],
         "yaxis": "y8"
        },
        {
         "hovertemplate": "subject=15<br>sessionType=training<br>sessionNum=%{x}<br>reward_rate=%{y}<extra></extra>",
         "legendgroup": "15",
         "marker": {
          "color": "#00cc96",
          "symbol": "circle"
         },
         "mode": "markers",
         "name": "15",
         "orientation": "v",
         "showlegend": false,
         "type": "scatter",
         "x": [
          0
         ],
         "xaxis": "x9",
         "y": [
          0.9333333333333333
         ],
         "yaxis": "y9"
        },
        {
         "hovertemplate": "subject=16<br>sessionType=ams1<br>sessionNum=%{x}<br>reward_rate=%{y}<extra></extra>",
         "legendgroup": "16",
         "marker": {
          "color": "#ab63fa",
          "symbol": "circle"
         },
         "mode": "markers",
         "name": "16",
         "orientation": "v",
         "showlegend": true,
         "type": "scatter",
         "x": [
          0,
          1
         ],
         "xaxis": "x",
         "y": [
          0.55,
          0.75
         ],
         "yaxis": "y"
        },
        {
         "hovertemplate": "subject=16<br>sessionType=ams2<br>sessionNum=%{x}<br>reward_rate=%{y}<extra></extra>",
         "legendgroup": "16",
         "marker": {
          "color": "#ab63fa",
          "symbol": "circle"
         },
         "mode": "markers",
         "name": "16",
         "orientation": "v",
         "showlegend": false,
         "type": "scatter",
         "x": [
          0,
          1
         ],
         "xaxis": "x2",
         "y": [
          0.95,
          1
         ],
         "yaxis": "y2"
        },
        {
         "hovertemplate": "subject=16<br>sessionType=eds1<br>sessionNum=%{x}<br>reward_rate=%{y}<extra></extra>",
         "legendgroup": "16",
         "marker": {
          "color": "#ab63fa",
          "symbol": "circle"
         },
         "mode": "markers",
         "name": "16",
         "orientation": "v",
         "showlegend": false,
         "type": "scatter",
         "x": [
          0
         ],
         "xaxis": "x3",
         "y": [
          0.9666666666666667
         ],
         "yaxis": "y3"
        },
        {
         "hovertemplate": "subject=16<br>sessionType=eds2<br>sessionNum=%{x}<br>reward_rate=%{y}<extra></extra>",
         "legendgroup": "16",
         "marker": {
          "color": "#ab63fa",
          "symbol": "circle"
         },
         "mode": "markers",
         "name": "16",
         "orientation": "v",
         "showlegend": false,
         "type": "scatter",
         "x": [
          0
         ],
         "xaxis": "x4",
         "y": [
          0.95
         ],
         "yaxis": "y4"
        },
        {
         "hovertemplate": "subject=16<br>sessionType=ids1<br>sessionNum=%{x}<br>reward_rate=%{y}<extra></extra>",
         "legendgroup": "16",
         "marker": {
          "color": "#ab63fa",
          "symbol": "circle"
         },
         "mode": "markers",
         "name": "16",
         "orientation": "v",
         "showlegend": false,
         "type": "scatter",
         "x": [
          0
         ],
         "xaxis": "x5",
         "y": [
          0.95
         ],
         "yaxis": "y5"
        },
        {
         "hovertemplate": "subject=16<br>sessionType=ids2<br>sessionNum=%{x}<br>reward_rate=%{y}<extra></extra>",
         "legendgroup": "16",
         "marker": {
          "color": "#ab63fa",
          "symbol": "circle"
         },
         "mode": "markers",
         "name": "16",
         "orientation": "v",
         "showlegend": false,
         "type": "scatter",
         "x": [
          0
         ],
         "xaxis": "x6",
         "y": [
          0.9333333333333333
         ],
         "yaxis": "y6"
        },
        {
         "hovertemplate": "subject=16<br>sessionType=staircase1<br>sessionNum=%{x}<br>reward_rate=%{y}<extra></extra>",
         "legendgroup": "16",
         "marker": {
          "color": "#ab63fa",
          "symbol": "circle"
         },
         "mode": "markers",
         "name": "16",
         "orientation": "v",
         "showlegend": false,
         "type": "scatter",
         "x": [
          0,
          1
         ],
         "xaxis": "x7",
         "y": [
          0.8666666666666667,
          0.7666666666666667
         ],
         "yaxis": "y7"
        },
        {
         "hovertemplate": "subject=16<br>sessionType=staircase2<br>sessionNum=%{x}<br>reward_rate=%{y}<extra></extra>",
         "legendgroup": "16",
         "marker": {
          "color": "#ab63fa",
          "symbol": "circle"
         },
         "mode": "markers",
         "name": "16",
         "orientation": "v",
         "showlegend": false,
         "type": "scatter",
         "x": [
          0,
          1
         ],
         "xaxis": "x8",
         "y": [
          0.9166666666666666,
          0.7166666666666667
         ],
         "yaxis": "y8"
        },
        {
         "hovertemplate": "subject=16<br>sessionType=training<br>sessionNum=%{x}<br>reward_rate=%{y}<extra></extra>",
         "legendgroup": "16",
         "marker": {
          "color": "#ab63fa",
          "symbol": "circle"
         },
         "mode": "markers",
         "name": "16",
         "orientation": "v",
         "showlegend": false,
         "type": "scatter",
         "x": [
          0
         ],
         "xaxis": "x9",
         "y": [
          0.9166666666666666
         ],
         "yaxis": "y9"
        },
        {
         "hovertemplate": "subject=17<br>sessionType=ams1<br>sessionNum=%{x}<br>reward_rate=%{y}<extra></extra>",
         "legendgroup": "17",
         "marker": {
          "color": "#FFA15A",
          "symbol": "circle"
         },
         "mode": "markers",
         "name": "17",
         "orientation": "v",
         "showlegend": true,
         "type": "scatter",
         "x": [
          0,
          1
         ],
         "xaxis": "x",
         "y": [
          0.7,
          0.7666666666666667
         ],
         "yaxis": "y"
        },
        {
         "hovertemplate": "subject=17<br>sessionType=ams2<br>sessionNum=%{x}<br>reward_rate=%{y}<extra></extra>",
         "legendgroup": "17",
         "marker": {
          "color": "#FFA15A",
          "symbol": "circle"
         },
         "mode": "markers",
         "name": "17",
         "orientation": "v",
         "showlegend": false,
         "type": "scatter",
         "x": [
          0,
          1
         ],
         "xaxis": "x2",
         "y": [
          1,
          1
         ],
         "yaxis": "y2"
        },
        {
         "hovertemplate": "subject=17<br>sessionType=eds1<br>sessionNum=%{x}<br>reward_rate=%{y}<extra></extra>",
         "legendgroup": "17",
         "marker": {
          "color": "#FFA15A",
          "symbol": "circle"
         },
         "mode": "markers",
         "name": "17",
         "orientation": "v",
         "showlegend": false,
         "type": "scatter",
         "x": [
          0
         ],
         "xaxis": "x3",
         "y": [
          0.8166666666666667
         ],
         "yaxis": "y3"
        },
        {
         "hovertemplate": "subject=17<br>sessionType=eds2<br>sessionNum=%{x}<br>reward_rate=%{y}<extra></extra>",
         "legendgroup": "17",
         "marker": {
          "color": "#FFA15A",
          "symbol": "circle"
         },
         "mode": "markers",
         "name": "17",
         "orientation": "v",
         "showlegend": false,
         "type": "scatter",
         "x": [
          0
         ],
         "xaxis": "x4",
         "y": [
          0.8333333333333334
         ],
         "yaxis": "y4"
        },
        {
         "hovertemplate": "subject=17<br>sessionType=ids1<br>sessionNum=%{x}<br>reward_rate=%{y}<extra></extra>",
         "legendgroup": "17",
         "marker": {
          "color": "#FFA15A",
          "symbol": "circle"
         },
         "mode": "markers",
         "name": "17",
         "orientation": "v",
         "showlegend": false,
         "type": "scatter",
         "x": [
          0
         ],
         "xaxis": "x5",
         "y": [
          0.9666666666666667
         ],
         "yaxis": "y5"
        },
        {
         "hovertemplate": "subject=17<br>sessionType=ids2<br>sessionNum=%{x}<br>reward_rate=%{y}<extra></extra>",
         "legendgroup": "17",
         "marker": {
          "color": "#FFA15A",
          "symbol": "circle"
         },
         "mode": "markers",
         "name": "17",
         "orientation": "v",
         "showlegend": false,
         "type": "scatter",
         "x": [
          0
         ],
         "xaxis": "x6",
         "y": [
          0.9833333333333333
         ],
         "yaxis": "y6"
        },
        {
         "hovertemplate": "subject=17<br>sessionType=staircase1<br>sessionNum=%{x}<br>reward_rate=%{y}<extra></extra>",
         "legendgroup": "17",
         "marker": {
          "color": "#FFA15A",
          "symbol": "circle"
         },
         "mode": "markers",
         "name": "17",
         "orientation": "v",
         "showlegend": false,
         "type": "scatter",
         "x": [
          0,
          1
         ],
         "xaxis": "x7",
         "y": [
          0.8833333333333333,
          0.75
         ],
         "yaxis": "y7"
        },
        {
         "hovertemplate": "subject=17<br>sessionType=staircase2<br>sessionNum=%{x}<br>reward_rate=%{y}<extra></extra>",
         "legendgroup": "17",
         "marker": {
          "color": "#FFA15A",
          "symbol": "circle"
         },
         "mode": "markers",
         "name": "17",
         "orientation": "v",
         "showlegend": false,
         "type": "scatter",
         "x": [
          0,
          1
         ],
         "xaxis": "x8",
         "y": [
          0.9166666666666666,
          0.7
         ],
         "yaxis": "y8"
        },
        {
         "hovertemplate": "subject=17<br>sessionType=training<br>sessionNum=%{x}<br>reward_rate=%{y}<extra></extra>",
         "legendgroup": "17",
         "marker": {
          "color": "#FFA15A",
          "symbol": "circle"
         },
         "mode": "markers",
         "name": "17",
         "orientation": "v",
         "showlegend": false,
         "type": "scatter",
         "x": [
          0
         ],
         "xaxis": "x9",
         "y": [
          0.75
         ],
         "yaxis": "y9"
        },
        {
         "hovertemplate": "subject=18<br>sessionType=ams1<br>sessionNum=%{x}<br>reward_rate=%{y}<extra></extra>",
         "legendgroup": "18",
         "marker": {
          "color": "#19d3f3",
          "symbol": "circle"
         },
         "mode": "markers",
         "name": "18",
         "orientation": "v",
         "showlegend": true,
         "type": "scatter",
         "x": [
          0,
          1
         ],
         "xaxis": "x",
         "y": [
          0.5,
          0.5
         ],
         "yaxis": "y"
        },
        {
         "hovertemplate": "subject=18<br>sessionType=ams2<br>sessionNum=%{x}<br>reward_rate=%{y}<extra></extra>",
         "legendgroup": "18",
         "marker": {
          "color": "#19d3f3",
          "symbol": "circle"
         },
         "mode": "markers",
         "name": "18",
         "orientation": "v",
         "showlegend": false,
         "type": "scatter",
         "x": [
          0,
          1
         ],
         "xaxis": "x2",
         "y": [
          0.5,
          0.5
         ],
         "yaxis": "y2"
        },
        {
         "hovertemplate": "subject=18<br>sessionType=eds1<br>sessionNum=%{x}<br>reward_rate=%{y}<extra></extra>",
         "legendgroup": "18",
         "marker": {
          "color": "#19d3f3",
          "symbol": "circle"
         },
         "mode": "markers",
         "name": "18",
         "orientation": "v",
         "showlegend": false,
         "type": "scatter",
         "x": [
          0
         ],
         "xaxis": "x3",
         "y": [
          0.5
         ],
         "yaxis": "y3"
        },
        {
         "hovertemplate": "subject=18<br>sessionType=eds2<br>sessionNum=%{x}<br>reward_rate=%{y}<extra></extra>",
         "legendgroup": "18",
         "marker": {
          "color": "#19d3f3",
          "symbol": "circle"
         },
         "mode": "markers",
         "name": "18",
         "orientation": "v",
         "showlegend": false,
         "type": "scatter",
         "x": [
          0
         ],
         "xaxis": "x4",
         "y": [
          0.5
         ],
         "yaxis": "y4"
        },
        {
         "hovertemplate": "subject=18<br>sessionType=ids2<br>sessionNum=%{x}<br>reward_rate=%{y}<extra></extra>",
         "legendgroup": "18",
         "marker": {
          "color": "#19d3f3",
          "symbol": "circle"
         },
         "mode": "markers",
         "name": "18",
         "orientation": "v",
         "showlegend": false,
         "type": "scatter",
         "x": [
          0
         ],
         "xaxis": "x6",
         "y": [
          0.5
         ],
         "yaxis": "y6"
        },
        {
         "hovertemplate": "subject=18<br>sessionType=staircase1<br>sessionNum=%{x}<br>reward_rate=%{y}<extra></extra>",
         "legendgroup": "18",
         "marker": {
          "color": "#19d3f3",
          "symbol": "circle"
         },
         "mode": "markers",
         "name": "18",
         "orientation": "v",
         "showlegend": false,
         "type": "scatter",
         "x": [
          0,
          1
         ],
         "xaxis": "x7",
         "y": [
          0.5,
          0.5
         ],
         "yaxis": "y7"
        },
        {
         "hovertemplate": "subject=18<br>sessionType=staircase2<br>sessionNum=%{x}<br>reward_rate=%{y}<extra></extra>",
         "legendgroup": "18",
         "marker": {
          "color": "#19d3f3",
          "symbol": "circle"
         },
         "mode": "markers",
         "name": "18",
         "orientation": "v",
         "showlegend": false,
         "type": "scatter",
         "x": [
          0,
          1
         ],
         "xaxis": "x8",
         "y": [
          0.5,
          0.5
         ],
         "yaxis": "y8"
        },
        {
         "hovertemplate": "subject=19<br>sessionType=ams1<br>sessionNum=%{x}<br>reward_rate=%{y}<extra></extra>",
         "legendgroup": "19",
         "marker": {
          "color": "#FF6692",
          "symbol": "circle"
         },
         "mode": "markers",
         "name": "19",
         "orientation": "v",
         "showlegend": true,
         "type": "scatter",
         "x": [
          0,
          1
         ],
         "xaxis": "x",
         "y": [
          1,
          0.9833333333333333
         ],
         "yaxis": "y"
        },
        {
         "hovertemplate": "subject=19<br>sessionType=ams2<br>sessionNum=%{x}<br>reward_rate=%{y}<extra></extra>",
         "legendgroup": "19",
         "marker": {
          "color": "#FF6692",
          "symbol": "circle"
         },
         "mode": "markers",
         "name": "19",
         "orientation": "v",
         "showlegend": false,
         "type": "scatter",
         "x": [
          0,
          1
         ],
         "xaxis": "x2",
         "y": [
          0.95,
          0.95
         ],
         "yaxis": "y2"
        },
        {
         "hovertemplate": "subject=19<br>sessionType=eds1<br>sessionNum=%{x}<br>reward_rate=%{y}<extra></extra>",
         "legendgroup": "19",
         "marker": {
          "color": "#FF6692",
          "symbol": "circle"
         },
         "mode": "markers",
         "name": "19",
         "orientation": "v",
         "showlegend": false,
         "type": "scatter",
         "x": [
          0
         ],
         "xaxis": "x3",
         "y": [
          0.7333333333333333
         ],
         "yaxis": "y3"
        },
        {
         "hovertemplate": "subject=19<br>sessionType=eds2<br>sessionNum=%{x}<br>reward_rate=%{y}<extra></extra>",
         "legendgroup": "19",
         "marker": {
          "color": "#FF6692",
          "symbol": "circle"
         },
         "mode": "markers",
         "name": "19",
         "orientation": "v",
         "showlegend": false,
         "type": "scatter",
         "x": [
          0
         ],
         "xaxis": "x4",
         "y": [
          0.9333333333333333
         ],
         "yaxis": "y4"
        },
        {
         "hovertemplate": "subject=19<br>sessionType=ids1<br>sessionNum=%{x}<br>reward_rate=%{y}<extra></extra>",
         "legendgroup": "19",
         "marker": {
          "color": "#FF6692",
          "symbol": "circle"
         },
         "mode": "markers",
         "name": "19",
         "orientation": "v",
         "showlegend": false,
         "type": "scatter",
         "x": [
          0
         ],
         "xaxis": "x5",
         "y": [
          0.9
         ],
         "yaxis": "y5"
        },
        {
         "hovertemplate": "subject=19<br>sessionType=ids2<br>sessionNum=%{x}<br>reward_rate=%{y}<extra></extra>",
         "legendgroup": "19",
         "marker": {
          "color": "#FF6692",
          "symbol": "circle"
         },
         "mode": "markers",
         "name": "19",
         "orientation": "v",
         "showlegend": false,
         "type": "scatter",
         "x": [
          0
         ],
         "xaxis": "x6",
         "y": [
          0.9666666666666667
         ],
         "yaxis": "y6"
        },
        {
         "hovertemplate": "subject=19<br>sessionType=staircase1<br>sessionNum=%{x}<br>reward_rate=%{y}<extra></extra>",
         "legendgroup": "19",
         "marker": {
          "color": "#FF6692",
          "symbol": "circle"
         },
         "mode": "markers",
         "name": "19",
         "orientation": "v",
         "showlegend": false,
         "type": "scatter",
         "x": [
          0,
          1
         ],
         "xaxis": "x7",
         "y": [
          0.9333333333333333,
          0.6833333333333333
         ],
         "yaxis": "y7"
        },
        {
         "hovertemplate": "subject=19<br>sessionType=staircase2<br>sessionNum=%{x}<br>reward_rate=%{y}<extra></extra>",
         "legendgroup": "19",
         "marker": {
          "color": "#FF6692",
          "symbol": "circle"
         },
         "mode": "markers",
         "name": "19",
         "orientation": "v",
         "showlegend": false,
         "type": "scatter",
         "x": [
          0
         ],
         "xaxis": "x8",
         "y": [
          0.8166666666666667
         ],
         "yaxis": "y8"
        },
        {
         "hovertemplate": "subject=19<br>sessionType=training<br>sessionNum=%{x}<br>reward_rate=%{y}<extra></extra>",
         "legendgroup": "19",
         "marker": {
          "color": "#FF6692",
          "symbol": "circle"
         },
         "mode": "markers",
         "name": "19",
         "orientation": "v",
         "showlegend": false,
         "type": "scatter",
         "x": [
          0,
          1,
          2,
          3,
          4,
          5,
          6,
          7
         ],
         "xaxis": "x9",
         "y": [
          0.6,
          0.5,
          0.5,
          0.43333333333333335,
          0.55,
          0.5166666666666667,
          0.5333333333333333,
          0.8666666666666667
         ],
         "yaxis": "y9"
        },
        {
         "hovertemplate": "subject=20<br>sessionType=ams1<br>sessionNum=%{x}<br>reward_rate=%{y}<extra></extra>",
         "legendgroup": "20",
         "marker": {
          "color": "#B6E880",
          "symbol": "circle"
         },
         "mode": "markers",
         "name": "20",
         "orientation": "v",
         "showlegend": true,
         "type": "scatter",
         "x": [
          0,
          1
         ],
         "xaxis": "x",
         "y": [
          0.6666666666666666,
          0.65
         ],
         "yaxis": "y"
        },
        {
         "hovertemplate": "subject=20<br>sessionType=ams2<br>sessionNum=%{x}<br>reward_rate=%{y}<extra></extra>",
         "legendgroup": "20",
         "marker": {
          "color": "#B6E880",
          "symbol": "circle"
         },
         "mode": "markers",
         "name": "20",
         "orientation": "v",
         "showlegend": false,
         "type": "scatter",
         "x": [
          0,
          1
         ],
         "xaxis": "x2",
         "y": [
          0.9666666666666667,
          0.9833333333333333
         ],
         "yaxis": "y2"
        },
        {
         "hovertemplate": "subject=20<br>sessionType=eds1<br>sessionNum=%{x}<br>reward_rate=%{y}<extra></extra>",
         "legendgroup": "20",
         "marker": {
          "color": "#B6E880",
          "symbol": "circle"
         },
         "mode": "markers",
         "name": "20",
         "orientation": "v",
         "showlegend": false,
         "type": "scatter",
         "x": [
          0
         ],
         "xaxis": "x3",
         "y": [
          0.7833333333333333
         ],
         "yaxis": "y3"
        },
        {
         "hovertemplate": "subject=20<br>sessionType=eds2<br>sessionNum=%{x}<br>reward_rate=%{y}<extra></extra>",
         "legendgroup": "20",
         "marker": {
          "color": "#B6E880",
          "symbol": "circle"
         },
         "mode": "markers",
         "name": "20",
         "orientation": "v",
         "showlegend": false,
         "type": "scatter",
         "x": [
          0
         ],
         "xaxis": "x4",
         "y": [
          0.9666666666666667
         ],
         "yaxis": "y4"
        },
        {
         "hovertemplate": "subject=20<br>sessionType=ids1<br>sessionNum=%{x}<br>reward_rate=%{y}<extra></extra>",
         "legendgroup": "20",
         "marker": {
          "color": "#B6E880",
          "symbol": "circle"
         },
         "mode": "markers",
         "name": "20",
         "orientation": "v",
         "showlegend": false,
         "type": "scatter",
         "x": [
          0
         ],
         "xaxis": "x5",
         "y": [
          0.9666666666666667
         ],
         "yaxis": "y5"
        },
        {
         "hovertemplate": "subject=20<br>sessionType=ids2<br>sessionNum=%{x}<br>reward_rate=%{y}<extra></extra>",
         "legendgroup": "20",
         "marker": {
          "color": "#B6E880",
          "symbol": "circle"
         },
         "mode": "markers",
         "name": "20",
         "orientation": "v",
         "showlegend": false,
         "type": "scatter",
         "x": [
          0
         ],
         "xaxis": "x6",
         "y": [
          0.9833333333333333
         ],
         "yaxis": "y6"
        },
        {
         "hovertemplate": "subject=20<br>sessionType=staircase1<br>sessionNum=%{x}<br>reward_rate=%{y}<extra></extra>",
         "legendgroup": "20",
         "marker": {
          "color": "#B6E880",
          "symbol": "circle"
         },
         "mode": "markers",
         "name": "20",
         "orientation": "v",
         "showlegend": false,
         "type": "scatter",
         "x": [
          0,
          1
         ],
         "xaxis": "x7",
         "y": [
          0.9666666666666667,
          0.65
         ],
         "yaxis": "y7"
        },
        {
         "hovertemplate": "subject=20<br>sessionType=staircase2<br>sessionNum=%{x}<br>reward_rate=%{y}<extra></extra>",
         "legendgroup": "20",
         "marker": {
          "color": "#B6E880",
          "symbol": "circle"
         },
         "mode": "markers",
         "name": "20",
         "orientation": "v",
         "showlegend": false,
         "type": "scatter",
         "x": [
          0,
          1
         ],
         "xaxis": "x8",
         "y": [
          0.9666666666666667,
          0.6833333333333333
         ],
         "yaxis": "y8"
        },
        {
         "hovertemplate": "subject=20<br>sessionType=training<br>sessionNum=%{x}<br>reward_rate=%{y}<extra></extra>",
         "legendgroup": "20",
         "marker": {
          "color": "#B6E880",
          "symbol": "circle"
         },
         "mode": "markers",
         "name": "20",
         "orientation": "v",
         "showlegend": false,
         "type": "scatter",
         "x": [
          0
         ],
         "xaxis": "x9",
         "y": [
          0.8666666666666667
         ],
         "yaxis": "y9"
        },
        {
         "hovertemplate": "subject=21<br>sessionType=ams1<br>sessionNum=%{x}<br>reward_rate=%{y}<extra></extra>",
         "legendgroup": "21",
         "marker": {
          "color": "#FF97FF",
          "symbol": "circle"
         },
         "mode": "markers",
         "name": "21",
         "orientation": "v",
         "showlegend": true,
         "type": "scatter",
         "x": [
          0,
          1
         ],
         "xaxis": "x",
         "y": [
          0.95,
          1
         ],
         "yaxis": "y"
        },
        {
         "hovertemplate": "subject=21<br>sessionType=ams2<br>sessionNum=%{x}<br>reward_rate=%{y}<extra></extra>",
         "legendgroup": "21",
         "marker": {
          "color": "#FF97FF",
          "symbol": "circle"
         },
         "mode": "markers",
         "name": "21",
         "orientation": "v",
         "showlegend": false,
         "type": "scatter",
         "x": [
          0,
          1
         ],
         "xaxis": "x2",
         "y": [
          0.5666666666666667,
          0.6
         ],
         "yaxis": "y2"
        },
        {
         "hovertemplate": "subject=21<br>sessionType=eds1<br>sessionNum=%{x}<br>reward_rate=%{y}<extra></extra>",
         "legendgroup": "21",
         "marker": {
          "color": "#FF97FF",
          "symbol": "circle"
         },
         "mode": "markers",
         "name": "21",
         "orientation": "v",
         "showlegend": false,
         "type": "scatter",
         "x": [
          0
         ],
         "xaxis": "x3",
         "y": [
          0.5
         ],
         "yaxis": "y3"
        },
        {
         "hovertemplate": "subject=21<br>sessionType=eds2<br>sessionNum=%{x}<br>reward_rate=%{y}<extra></extra>",
         "legendgroup": "21",
         "marker": {
          "color": "#FF97FF",
          "symbol": "circle"
         },
         "mode": "markers",
         "name": "21",
         "orientation": "v",
         "showlegend": false,
         "type": "scatter",
         "x": [
          0
         ],
         "xaxis": "x4",
         "y": [
          0.7
         ],
         "yaxis": "y4"
        },
        {
         "hovertemplate": "subject=21<br>sessionType=ids1<br>sessionNum=%{x}<br>reward_rate=%{y}<extra></extra>",
         "legendgroup": "21",
         "marker": {
          "color": "#FF97FF",
          "symbol": "circle"
         },
         "mode": "markers",
         "name": "21",
         "orientation": "v",
         "showlegend": false,
         "type": "scatter",
         "x": [
          0
         ],
         "xaxis": "x5",
         "y": [
          0.8833333333333333
         ],
         "yaxis": "y5"
        },
        {
         "hovertemplate": "subject=21<br>sessionType=ids2<br>sessionNum=%{x}<br>reward_rate=%{y}<extra></extra>",
         "legendgroup": "21",
         "marker": {
          "color": "#FF97FF",
          "symbol": "circle"
         },
         "mode": "markers",
         "name": "21",
         "orientation": "v",
         "showlegend": false,
         "type": "scatter",
         "x": [
          0
         ],
         "xaxis": "x6",
         "y": [
          0.9666666666666667
         ],
         "yaxis": "y6"
        },
        {
         "hovertemplate": "subject=21<br>sessionType=staircase1<br>sessionNum=%{x}<br>reward_rate=%{y}<extra></extra>",
         "legendgroup": "21",
         "marker": {
          "color": "#FF97FF",
          "symbol": "circle"
         },
         "mode": "markers",
         "name": "21",
         "orientation": "v",
         "showlegend": false,
         "type": "scatter",
         "x": [
          0,
          1
         ],
         "xaxis": "x7",
         "y": [
          0.9666666666666667,
          0.6833333333333333
         ],
         "yaxis": "y7"
        },
        {
         "hovertemplate": "subject=21<br>sessionType=staircase2<br>sessionNum=%{x}<br>reward_rate=%{y}<extra></extra>",
         "legendgroup": "21",
         "marker": {
          "color": "#FF97FF",
          "symbol": "circle"
         },
         "mode": "markers",
         "name": "21",
         "orientation": "v",
         "showlegend": false,
         "type": "scatter",
         "x": [
          0,
          1
         ],
         "xaxis": "x8",
         "y": [
          0.8666666666666667,
          0.75
         ],
         "yaxis": "y8"
        },
        {
         "hovertemplate": "subject=21<br>sessionType=training<br>sessionNum=%{x}<br>reward_rate=%{y}<extra></extra>",
         "legendgroup": "21",
         "marker": {
          "color": "#FF97FF",
          "symbol": "circle"
         },
         "mode": "markers",
         "name": "21",
         "orientation": "v",
         "showlegend": false,
         "type": "scatter",
         "x": [
          0
         ],
         "xaxis": "x9",
         "y": [
          0.65
         ],
         "yaxis": "y9"
        },
        {
         "hovertemplate": "subject=22<br>sessionType=ams1<br>sessionNum=%{x}<br>reward_rate=%{y}<extra></extra>",
         "legendgroup": "22",
         "marker": {
          "color": "#FECB52",
          "symbol": "circle"
         },
         "mode": "markers",
         "name": "22",
         "orientation": "v",
         "showlegend": true,
         "type": "scatter",
         "x": [
          0,
          1
         ],
         "xaxis": "x",
         "y": [
          0.9666666666666667,
          1
         ],
         "yaxis": "y"
        },
        {
         "hovertemplate": "subject=22<br>sessionType=ams2<br>sessionNum=%{x}<br>reward_rate=%{y}<extra></extra>",
         "legendgroup": "22",
         "marker": {
          "color": "#FECB52",
          "symbol": "circle"
         },
         "mode": "markers",
         "name": "22",
         "orientation": "v",
         "showlegend": false,
         "type": "scatter",
         "x": [
          0,
          1
         ],
         "xaxis": "x2",
         "y": [
          0.45,
          0.43333333333333335
         ],
         "yaxis": "y2"
        },
        {
         "hovertemplate": "subject=22<br>sessionType=eds1<br>sessionNum=%{x}<br>reward_rate=%{y}<extra></extra>",
         "legendgroup": "22",
         "marker": {
          "color": "#FECB52",
          "symbol": "circle"
         },
         "mode": "markers",
         "name": "22",
         "orientation": "v",
         "showlegend": false,
         "type": "scatter",
         "x": [
          0
         ],
         "xaxis": "x3",
         "y": [
          0.9166666666666666
         ],
         "yaxis": "y3"
        },
        {
         "hovertemplate": "subject=22<br>sessionType=eds2<br>sessionNum=%{x}<br>reward_rate=%{y}<extra></extra>",
         "legendgroup": "22",
         "marker": {
          "color": "#FECB52",
          "symbol": "circle"
         },
         "mode": "markers",
         "name": "22",
         "orientation": "v",
         "showlegend": false,
         "type": "scatter",
         "x": [
          0
         ],
         "xaxis": "x4",
         "y": [
          0.95
         ],
         "yaxis": "y4"
        },
        {
         "hovertemplate": "subject=22<br>sessionType=ids1<br>sessionNum=%{x}<br>reward_rate=%{y}<extra></extra>",
         "legendgroup": "22",
         "marker": {
          "color": "#FECB52",
          "symbol": "circle"
         },
         "mode": "markers",
         "name": "22",
         "orientation": "v",
         "showlegend": false,
         "type": "scatter",
         "x": [
          0
         ],
         "xaxis": "x5",
         "y": [
          0.95
         ],
         "yaxis": "y5"
        },
        {
         "hovertemplate": "subject=22<br>sessionType=ids2<br>sessionNum=%{x}<br>reward_rate=%{y}<extra></extra>",
         "legendgroup": "22",
         "marker": {
          "color": "#FECB52",
          "symbol": "circle"
         },
         "mode": "markers",
         "name": "22",
         "orientation": "v",
         "showlegend": false,
         "type": "scatter",
         "x": [
          0
         ],
         "xaxis": "x6",
         "y": [
          0.9833333333333333
         ],
         "yaxis": "y6"
        },
        {
         "hovertemplate": "subject=22<br>sessionType=staircase1<br>sessionNum=%{x}<br>reward_rate=%{y}<extra></extra>",
         "legendgroup": "22",
         "marker": {
          "color": "#FECB52",
          "symbol": "circle"
         },
         "mode": "markers",
         "name": "22",
         "orientation": "v",
         "showlegend": false,
         "type": "scatter",
         "x": [
          0,
          1
         ],
         "xaxis": "x7",
         "y": [
          0.9666666666666667,
          0.6333333333333333
         ],
         "yaxis": "y7"
        },
        {
         "hovertemplate": "subject=22<br>sessionType=staircase2<br>sessionNum=%{x}<br>reward_rate=%{y}<extra></extra>",
         "legendgroup": "22",
         "marker": {
          "color": "#FECB52",
          "symbol": "circle"
         },
         "mode": "markers",
         "name": "22",
         "orientation": "v",
         "showlegend": false,
         "type": "scatter",
         "x": [
          0,
          1
         ],
         "xaxis": "x8",
         "y": [
          0.95,
          0.7166666666666667
         ],
         "yaxis": "y8"
        },
        {
         "hovertemplate": "subject=22<br>sessionType=training<br>sessionNum=%{x}<br>reward_rate=%{y}<extra></extra>",
         "legendgroup": "22",
         "marker": {
          "color": "#FECB52",
          "symbol": "circle"
         },
         "mode": "markers",
         "name": "22",
         "orientation": "v",
         "showlegend": false,
         "type": "scatter",
         "x": [
          0
         ],
         "xaxis": "x9",
         "y": [
          0.9666666666666667
         ],
         "yaxis": "y9"
        }
       ],
       "layout": {
        "annotations": [
         {
          "font": {},
          "showarrow": false,
          "text": "sessionType=ams1",
          "x": 0.04666666666666666,
          "xanchor": "center",
          "xref": "paper",
          "y": 1,
          "yanchor": "bottom",
          "yref": "paper"
         },
         {
          "font": {},
          "showarrow": false,
          "text": "sessionType=ams2",
          "x": 0.16,
          "xanchor": "center",
          "xref": "paper",
          "y": 1,
          "yanchor": "bottom",
          "yref": "paper"
         },
         {
          "font": {},
          "showarrow": false,
          "text": "sessionType=eds1",
          "x": 0.2733333333333333,
          "xanchor": "center",
          "xref": "paper",
          "y": 1,
          "yanchor": "bottom",
          "yref": "paper"
         },
         {
          "font": {},
          "showarrow": false,
          "text": "sessionType=eds2",
          "x": 0.3866666666666666,
          "xanchor": "center",
          "xref": "paper",
          "y": 1,
          "yanchor": "bottom",
          "yref": "paper"
         },
         {
          "font": {},
          "showarrow": false,
          "text": "sessionType=ids1",
          "x": 0.5,
          "xanchor": "center",
          "xref": "paper",
          "y": 1,
          "yanchor": "bottom",
          "yref": "paper"
         },
         {
          "font": {},
          "showarrow": false,
          "text": "sessionType=ids2",
          "x": 0.6133333333333333,
          "xanchor": "center",
          "xref": "paper",
          "y": 1,
          "yanchor": "bottom",
          "yref": "paper"
         },
         {
          "font": {},
          "showarrow": false,
          "text": "sessionType=staircase1",
          "x": 0.7266666666666666,
          "xanchor": "center",
          "xref": "paper",
          "y": 1,
          "yanchor": "bottom",
          "yref": "paper"
         },
         {
          "font": {},
          "showarrow": false,
          "text": "sessionType=staircase2",
          "x": 0.8400000000000001,
          "xanchor": "center",
          "xref": "paper",
          "y": 1,
          "yanchor": "bottom",
          "yref": "paper"
         },
         {
          "font": {},
          "showarrow": false,
          "text": "sessionType=training",
          "x": 0.9533333333333334,
          "xanchor": "center",
          "xref": "paper",
          "y": 1,
          "yanchor": "bottom",
          "yref": "paper"
         }
        ],
        "legend": {
         "title": {
          "text": "subject"
         },
         "tracegroupgap": 0
        },
        "margin": {
         "t": 60
        },
        "template": {
         "data": {
          "bar": [
           {
            "error_x": {
             "color": "#f2f5fa"
            },
            "error_y": {
             "color": "#f2f5fa"
            },
            "marker": {
             "line": {
              "color": "rgb(17,17,17)",
              "width": 0.5
             },
             "pattern": {
              "fillmode": "overlay",
              "size": 10,
              "solidity": 0.2
             }
            },
            "type": "bar"
           }
          ],
          "barpolar": [
           {
            "marker": {
             "line": {
              "color": "rgb(17,17,17)",
              "width": 0.5
             },
             "pattern": {
              "fillmode": "overlay",
              "size": 10,
              "solidity": 0.2
             }
            },
            "type": "barpolar"
           }
          ],
          "carpet": [
           {
            "aaxis": {
             "endlinecolor": "#A2B1C6",
             "gridcolor": "#506784",
             "linecolor": "#506784",
             "minorgridcolor": "#506784",
             "startlinecolor": "#A2B1C6"
            },
            "baxis": {
             "endlinecolor": "#A2B1C6",
             "gridcolor": "#506784",
             "linecolor": "#506784",
             "minorgridcolor": "#506784",
             "startlinecolor": "#A2B1C6"
            },
            "type": "carpet"
           }
          ],
          "choropleth": [
           {
            "colorbar": {
             "outlinewidth": 0,
             "ticks": ""
            },
            "type": "choropleth"
           }
          ],
          "contour": [
           {
            "colorbar": {
             "outlinewidth": 0,
             "ticks": ""
            },
            "colorscale": [
             [
              0,
              "#0d0887"
             ],
             [
              0.1111111111111111,
              "#46039f"
             ],
             [
              0.2222222222222222,
              "#7201a8"
             ],
             [
              0.3333333333333333,
              "#9c179e"
             ],
             [
              0.4444444444444444,
              "#bd3786"
             ],
             [
              0.5555555555555556,
              "#d8576b"
             ],
             [
              0.6666666666666666,
              "#ed7953"
             ],
             [
              0.7777777777777778,
              "#fb9f3a"
             ],
             [
              0.8888888888888888,
              "#fdca26"
             ],
             [
              1,
              "#f0f921"
             ]
            ],
            "type": "contour"
           }
          ],
          "contourcarpet": [
           {
            "colorbar": {
             "outlinewidth": 0,
             "ticks": ""
            },
            "type": "contourcarpet"
           }
          ],
          "heatmap": [
           {
            "colorbar": {
             "outlinewidth": 0,
             "ticks": ""
            },
            "colorscale": [
             [
              0,
              "#0d0887"
             ],
             [
              0.1111111111111111,
              "#46039f"
             ],
             [
              0.2222222222222222,
              "#7201a8"
             ],
             [
              0.3333333333333333,
              "#9c179e"
             ],
             [
              0.4444444444444444,
              "#bd3786"
             ],
             [
              0.5555555555555556,
              "#d8576b"
             ],
             [
              0.6666666666666666,
              "#ed7953"
             ],
             [
              0.7777777777777778,
              "#fb9f3a"
             ],
             [
              0.8888888888888888,
              "#fdca26"
             ],
             [
              1,
              "#f0f921"
             ]
            ],
            "type": "heatmap"
           }
          ],
          "heatmapgl": [
           {
            "colorbar": {
             "outlinewidth": 0,
             "ticks": ""
            },
            "colorscale": [
             [
              0,
              "#0d0887"
             ],
             [
              0.1111111111111111,
              "#46039f"
             ],
             [
              0.2222222222222222,
              "#7201a8"
             ],
             [
              0.3333333333333333,
              "#9c179e"
             ],
             [
              0.4444444444444444,
              "#bd3786"
             ],
             [
              0.5555555555555556,
              "#d8576b"
             ],
             [
              0.6666666666666666,
              "#ed7953"
             ],
             [
              0.7777777777777778,
              "#fb9f3a"
             ],
             [
              0.8888888888888888,
              "#fdca26"
             ],
             [
              1,
              "#f0f921"
             ]
            ],
            "type": "heatmapgl"
           }
          ],
          "histogram": [
           {
            "marker": {
             "pattern": {
              "fillmode": "overlay",
              "size": 10,
              "solidity": 0.2
             }
            },
            "type": "histogram"
           }
          ],
          "histogram2d": [
           {
            "colorbar": {
             "outlinewidth": 0,
             "ticks": ""
            },
            "colorscale": [
             [
              0,
              "#0d0887"
             ],
             [
              0.1111111111111111,
              "#46039f"
             ],
             [
              0.2222222222222222,
              "#7201a8"
             ],
             [
              0.3333333333333333,
              "#9c179e"
             ],
             [
              0.4444444444444444,
              "#bd3786"
             ],
             [
              0.5555555555555556,
              "#d8576b"
             ],
             [
              0.6666666666666666,
              "#ed7953"
             ],
             [
              0.7777777777777778,
              "#fb9f3a"
             ],
             [
              0.8888888888888888,
              "#fdca26"
             ],
             [
              1,
              "#f0f921"
             ]
            ],
            "type": "histogram2d"
           }
          ],
          "histogram2dcontour": [
           {
            "colorbar": {
             "outlinewidth": 0,
             "ticks": ""
            },
            "colorscale": [
             [
              0,
              "#0d0887"
             ],
             [
              0.1111111111111111,
              "#46039f"
             ],
             [
              0.2222222222222222,
              "#7201a8"
             ],
             [
              0.3333333333333333,
              "#9c179e"
             ],
             [
              0.4444444444444444,
              "#bd3786"
             ],
             [
              0.5555555555555556,
              "#d8576b"
             ],
             [
              0.6666666666666666,
              "#ed7953"
             ],
             [
              0.7777777777777778,
              "#fb9f3a"
             ],
             [
              0.8888888888888888,
              "#fdca26"
             ],
             [
              1,
              "#f0f921"
             ]
            ],
            "type": "histogram2dcontour"
           }
          ],
          "mesh3d": [
           {
            "colorbar": {
             "outlinewidth": 0,
             "ticks": ""
            },
            "type": "mesh3d"
           }
          ],
          "parcoords": [
           {
            "line": {
             "colorbar": {
              "outlinewidth": 0,
              "ticks": ""
             }
            },
            "type": "parcoords"
           }
          ],
          "pie": [
           {
            "automargin": true,
            "type": "pie"
           }
          ],
          "scatter": [
           {
            "marker": {
             "line": {
              "color": "#283442"
             }
            },
            "type": "scatter"
           }
          ],
          "scatter3d": [
           {
            "line": {
             "colorbar": {
              "outlinewidth": 0,
              "ticks": ""
             }
            },
            "marker": {
             "colorbar": {
              "outlinewidth": 0,
              "ticks": ""
             }
            },
            "type": "scatter3d"
           }
          ],
          "scattercarpet": [
           {
            "marker": {
             "colorbar": {
              "outlinewidth": 0,
              "ticks": ""
             }
            },
            "type": "scattercarpet"
           }
          ],
          "scattergeo": [
           {
            "marker": {
             "colorbar": {
              "outlinewidth": 0,
              "ticks": ""
             }
            },
            "type": "scattergeo"
           }
          ],
          "scattergl": [
           {
            "marker": {
             "line": {
              "color": "#283442"
             }
            },
            "type": "scattergl"
           }
          ],
          "scattermapbox": [
           {
            "marker": {
             "colorbar": {
              "outlinewidth": 0,
              "ticks": ""
             }
            },
            "type": "scattermapbox"
           }
          ],
          "scatterpolar": [
           {
            "marker": {
             "colorbar": {
              "outlinewidth": 0,
              "ticks": ""
             }
            },
            "type": "scatterpolar"
           }
          ],
          "scatterpolargl": [
           {
            "marker": {
             "colorbar": {
              "outlinewidth": 0,
              "ticks": ""
             }
            },
            "type": "scatterpolargl"
           }
          ],
          "scatterternary": [
           {
            "marker": {
             "colorbar": {
              "outlinewidth": 0,
              "ticks": ""
             }
            },
            "type": "scatterternary"
           }
          ],
          "surface": [
           {
            "colorbar": {
             "outlinewidth": 0,
             "ticks": ""
            },
            "colorscale": [
             [
              0,
              "#0d0887"
             ],
             [
              0.1111111111111111,
              "#46039f"
             ],
             [
              0.2222222222222222,
              "#7201a8"
             ],
             [
              0.3333333333333333,
              "#9c179e"
             ],
             [
              0.4444444444444444,
              "#bd3786"
             ],
             [
              0.5555555555555556,
              "#d8576b"
             ],
             [
              0.6666666666666666,
              "#ed7953"
             ],
             [
              0.7777777777777778,
              "#fb9f3a"
             ],
             [
              0.8888888888888888,
              "#fdca26"
             ],
             [
              1,
              "#f0f921"
             ]
            ],
            "type": "surface"
           }
          ],
          "table": [
           {
            "cells": {
             "fill": {
              "color": "#506784"
             },
             "line": {
              "color": "rgb(17,17,17)"
             }
            },
            "header": {
             "fill": {
              "color": "#2a3f5f"
             },
             "line": {
              "color": "rgb(17,17,17)"
             }
            },
            "type": "table"
           }
          ]
         },
         "layout": {
          "annotationdefaults": {
           "arrowcolor": "#f2f5fa",
           "arrowhead": 0,
           "arrowwidth": 1
          },
          "autotypenumbers": "strict",
          "coloraxis": {
           "colorbar": {
            "outlinewidth": 0,
            "ticks": ""
           }
          },
          "colorscale": {
           "diverging": [
            [
             0,
             "#8e0152"
            ],
            [
             0.1,
             "#c51b7d"
            ],
            [
             0.2,
             "#de77ae"
            ],
            [
             0.3,
             "#f1b6da"
            ],
            [
             0.4,
             "#fde0ef"
            ],
            [
             0.5,
             "#f7f7f7"
            ],
            [
             0.6,
             "#e6f5d0"
            ],
            [
             0.7,
             "#b8e186"
            ],
            [
             0.8,
             "#7fbc41"
            ],
            [
             0.9,
             "#4d9221"
            ],
            [
             1,
             "#276419"
            ]
           ],
           "sequential": [
            [
             0,
             "#0d0887"
            ],
            [
             0.1111111111111111,
             "#46039f"
            ],
            [
             0.2222222222222222,
             "#7201a8"
            ],
            [
             0.3333333333333333,
             "#9c179e"
            ],
            [
             0.4444444444444444,
             "#bd3786"
            ],
            [
             0.5555555555555556,
             "#d8576b"
            ],
            [
             0.6666666666666666,
             "#ed7953"
            ],
            [
             0.7777777777777778,
             "#fb9f3a"
            ],
            [
             0.8888888888888888,
             "#fdca26"
            ],
            [
             1,
             "#f0f921"
            ]
           ],
           "sequentialminus": [
            [
             0,
             "#0d0887"
            ],
            [
             0.1111111111111111,
             "#46039f"
            ],
            [
             0.2222222222222222,
             "#7201a8"
            ],
            [
             0.3333333333333333,
             "#9c179e"
            ],
            [
             0.4444444444444444,
             "#bd3786"
            ],
            [
             0.5555555555555556,
             "#d8576b"
            ],
            [
             0.6666666666666666,
             "#ed7953"
            ],
            [
             0.7777777777777778,
             "#fb9f3a"
            ],
            [
             0.8888888888888888,
             "#fdca26"
            ],
            [
             1,
             "#f0f921"
            ]
           ]
          },
          "colorway": [
           "#636efa",
           "#EF553B",
           "#00cc96",
           "#ab63fa",
           "#FFA15A",
           "#19d3f3",
           "#FF6692",
           "#B6E880",
           "#FF97FF",
           "#FECB52"
          ],
          "font": {
           "color": "#f2f5fa"
          },
          "geo": {
           "bgcolor": "rgb(17,17,17)",
           "lakecolor": "rgb(17,17,17)",
           "landcolor": "rgb(17,17,17)",
           "showlakes": true,
           "showland": true,
           "subunitcolor": "#506784"
          },
          "hoverlabel": {
           "align": "left"
          },
          "hovermode": "closest",
          "mapbox": {
           "style": "dark"
          },
          "paper_bgcolor": "rgb(17,17,17)",
          "plot_bgcolor": "rgb(17,17,17)",
          "polar": {
           "angularaxis": {
            "gridcolor": "#506784",
            "linecolor": "#506784",
            "ticks": ""
           },
           "bgcolor": "rgb(17,17,17)",
           "radialaxis": {
            "gridcolor": "#506784",
            "linecolor": "#506784",
            "ticks": ""
           }
          },
          "scene": {
           "xaxis": {
            "backgroundcolor": "rgb(17,17,17)",
            "gridcolor": "#506784",
            "gridwidth": 2,
            "linecolor": "#506784",
            "showbackground": true,
            "ticks": "",
            "zerolinecolor": "#C8D4E3"
           },
           "yaxis": {
            "backgroundcolor": "rgb(17,17,17)",
            "gridcolor": "#506784",
            "gridwidth": 2,
            "linecolor": "#506784",
            "showbackground": true,
            "ticks": "",
            "zerolinecolor": "#C8D4E3"
           },
           "zaxis": {
            "backgroundcolor": "rgb(17,17,17)",
            "gridcolor": "#506784",
            "gridwidth": 2,
            "linecolor": "#506784",
            "showbackground": true,
            "ticks": "",
            "zerolinecolor": "#C8D4E3"
           }
          },
          "shapedefaults": {
           "line": {
            "color": "#f2f5fa"
           }
          },
          "sliderdefaults": {
           "bgcolor": "#C8D4E3",
           "bordercolor": "rgb(17,17,17)",
           "borderwidth": 1,
           "tickwidth": 0
          },
          "ternary": {
           "aaxis": {
            "gridcolor": "#506784",
            "linecolor": "#506784",
            "ticks": ""
           },
           "baxis": {
            "gridcolor": "#506784",
            "linecolor": "#506784",
            "ticks": ""
           },
           "bgcolor": "rgb(17,17,17)",
           "caxis": {
            "gridcolor": "#506784",
            "linecolor": "#506784",
            "ticks": ""
           }
          },
          "title": {
           "x": 0.05
          },
          "updatemenudefaults": {
           "bgcolor": "#506784",
           "borderwidth": 0
          },
          "xaxis": {
           "automargin": true,
           "gridcolor": "#283442",
           "linecolor": "#506784",
           "ticks": "",
           "title": {
            "standoff": 15
           },
           "zerolinecolor": "#283442",
           "zerolinewidth": 2
          },
          "yaxis": {
           "automargin": true,
           "gridcolor": "#283442",
           "linecolor": "#506784",
           "ticks": "",
           "title": {
            "standoff": 15
           },
           "zerolinecolor": "#283442",
           "zerolinewidth": 2
          }
         }
        },
        "title": {
         "text": "Reward Rates: Human Pilot Experiment"
        },
        "xaxis": {
         "anchor": "y",
         "domain": [
          0,
          0.09333333333333332
         ],
         "title": {
          "text": "sessionNum"
         }
        },
        "xaxis2": {
         "anchor": "y2",
         "domain": [
          0.11333333333333333,
          0.20666666666666667
         ],
         "matches": "x",
         "title": {
          "text": "sessionNum"
         }
        },
        "xaxis3": {
         "anchor": "y3",
         "domain": [
          0.22666666666666666,
          0.31999999999999995
         ],
         "matches": "x",
         "title": {
          "text": "sessionNum"
         }
        },
        "xaxis4": {
         "anchor": "y4",
         "domain": [
          0.33999999999999997,
          0.4333333333333333
         ],
         "matches": "x",
         "title": {
          "text": "sessionNum"
         }
        },
        "xaxis5": {
         "anchor": "y5",
         "domain": [
          0.4533333333333333,
          0.5466666666666666
         ],
         "matches": "x",
         "title": {
          "text": "sessionNum"
         }
        },
        "xaxis6": {
         "anchor": "y6",
         "domain": [
          0.5666666666666667,
          0.6599999999999999
         ],
         "matches": "x",
         "title": {
          "text": "sessionNum"
         }
        },
        "xaxis7": {
         "anchor": "y7",
         "domain": [
          0.6799999999999999,
          0.7733333333333332
         ],
         "matches": "x",
         "title": {
          "text": "sessionNum"
         }
        },
        "xaxis8": {
         "anchor": "y8",
         "domain": [
          0.7933333333333333,
          0.8866666666666667
         ],
         "matches": "x",
         "title": {
          "text": "sessionNum"
         }
        },
        "xaxis9": {
         "anchor": "y9",
         "domain": [
          0.9066666666666666,
          1
         ],
         "matches": "x",
         "title": {
          "text": "sessionNum"
         }
        },
        "yaxis": {
         "anchor": "x",
         "domain": [
          0,
          1
         ],
         "title": {
          "text": "reward_rate"
         }
        },
        "yaxis2": {
         "anchor": "x2",
         "domain": [
          0,
          1
         ],
         "matches": "y",
         "showticklabels": false
        },
        "yaxis3": {
         "anchor": "x3",
         "domain": [
          0,
          1
         ],
         "matches": "y",
         "showticklabels": false
        },
        "yaxis4": {
         "anchor": "x4",
         "domain": [
          0,
          1
         ],
         "matches": "y",
         "showticklabels": false
        },
        "yaxis5": {
         "anchor": "x5",
         "domain": [
          0,
          1
         ],
         "matches": "y",
         "showticklabels": false
        },
        "yaxis6": {
         "anchor": "x6",
         "domain": [
          0,
          1
         ],
         "matches": "y",
         "showticklabels": false
        },
        "yaxis7": {
         "anchor": "x7",
         "domain": [
          0,
          1
         ],
         "matches": "y",
         "showticklabels": false
        },
        "yaxis8": {
         "anchor": "x8",
         "domain": [
          0,
          1
         ],
         "matches": "y",
         "showticklabels": false
        },
        "yaxis9": {
         "anchor": "x9",
         "domain": [
          0,
          1
         ],
         "matches": "y",
         "showticklabels": false
        }
       }
      }
     },
     "metadata": {},
     "output_type": "display_data"
    }
   ],
   "source": [
    "\n",
    "def plot_reward_experiment(rewards, title='Reward Rates'):\n",
    "    fig = px.scatter(rewards, x='sessionNum', y='reward_rate', color='subject', facet_col='sessionType')\n",
    "    # fig = px.scatter(rewards, x='sessionNum', y='reward_rate', color='sessionType')\n",
    "    fig.update_layout(template='plotly_dark', title=title)\n",
    "    # fig.update_xaxes(title_text='Session Number')\n",
    "    # fig.update_yaxes(title_text='Reward Rate')\n",
    "    \n",
    "    # remove multiple x axes titles\n",
    "    # fig.for_each_annotation(lambda a: a.update(text=a.text.split(\"=\")[-1]))\n",
    "    # fig.for_each_annotation(lambda a: None)\n",
    "\n",
    "    return fig\n",
    "\n",
    "plot_reward_experiment(rewards, title='Reward Rates: Human Pilot Experiment')\n"
   ]
  },
  {
   "cell_type": "code",
   "execution_count": 10,
   "metadata": {},
   "outputs": [
    {
     "data": {
      "application/vnd.plotly.v1+json": {
       "config": {
        "plotlyServerURL": "https://plot.ly"
       },
       "data": [
        {
         "alignmentgroup": "True",
         "hovertemplate": "subject=1<br>sessionType=%{x}<br>reward_rate=%{y}<extra></extra>",
         "legendgroup": "1",
         "marker": {
          "color": "#636efa"
         },
         "name": "1",
         "notched": false,
         "offsetgroup": "1",
         "orientation": "v",
         "showlegend": true,
         "type": "box",
         "x": [
          "ams1",
          "ams1",
          "ams2",
          "ams2",
          "eds1",
          "eds2",
          "ids1",
          "ids2",
          "ids2",
          "staircase1",
          "staircase1",
          "staircase2",
          "training",
          "training"
         ],
         "x0": " ",
         "xaxis": "x",
         "y": [
          0.4166666666666667,
          0.75,
          0.75,
          0.6666666666666666,
          0.6833333333333333,
          0.75,
          0.9666666666666667,
          0.7,
          0.7333333333333333,
          0.9666666666666667,
          0.6833333333333333,
          0.7333333333333333,
          0.5,
          0.6
         ],
         "y0": " ",
         "yaxis": "y"
        },
        {
         "alignmentgroup": "True",
         "hovertemplate": "subject=2<br>sessionType=%{x}<br>reward_rate=%{y}<extra></extra>",
         "legendgroup": "2",
         "marker": {
          "color": "#EF553B"
         },
         "name": "2",
         "notched": false,
         "offsetgroup": "2",
         "orientation": "v",
         "showlegend": true,
         "type": "box",
         "x": [
          "ams1",
          "ams1",
          "ams2",
          "ams2",
          "eds1",
          "eds2",
          "ids1",
          "ids2",
          "staircase1",
          "staircase1",
          "staircase2",
          "training",
          "training",
          "training",
          "training",
          "training",
          "training",
          "training",
          "training",
          "training"
         ],
         "x0": " ",
         "xaxis": "x",
         "y": [
          1,
          0.9333333333333333,
          0.95,
          1,
          0.65,
          0.9,
          0.8833333333333333,
          0.8833333333333333,
          0.85,
          0.7333333333333333,
          0.8833333333333333,
          0.5333333333333333,
          0.43333333333333335,
          0.55,
          0.5666666666666667,
          0.5166666666666667,
          0.5166666666666667,
          0.4666666666666667,
          0.5166666666666667,
          0.85
         ],
         "y0": " ",
         "yaxis": "y"
        },
        {
         "alignmentgroup": "True",
         "hovertemplate": "subject=3<br>sessionType=%{x}<br>reward_rate=%{y}<extra></extra>",
         "legendgroup": "3",
         "marker": {
          "color": "#00cc96"
         },
         "name": "3",
         "notched": false,
         "offsetgroup": "3",
         "orientation": "v",
         "showlegend": true,
         "type": "box",
         "x": [
          "ams1",
          "ams1",
          "ams2",
          "ams2",
          "eds1",
          "eds2",
          "ids1",
          "ids2",
          "ids2",
          "staircase1",
          "staircase1",
          "staircase2",
          "staircase2",
          "training"
         ],
         "x0": " ",
         "xaxis": "x",
         "y": [
          1,
          1,
          0.6833333333333333,
          0.6166666666666667,
          0.5,
          0.9666666666666667,
          1,
          0.6,
          1,
          0.9666666666666667,
          0.6833333333333333,
          0.9333333333333333,
          0.6833333333333333,
          0.9166666666666666
         ],
         "y0": " ",
         "yaxis": "y"
        },
        {
         "alignmentgroup": "True",
         "hovertemplate": "subject=4<br>sessionType=%{x}<br>reward_rate=%{y}<extra></extra>",
         "legendgroup": "4",
         "marker": {
          "color": "#ab63fa"
         },
         "name": "4",
         "notched": false,
         "offsetgroup": "4",
         "orientation": "v",
         "showlegend": true,
         "type": "box",
         "x": [
          "ams1",
          "ams1",
          "ams2",
          "ams2",
          "eds1",
          "eds2",
          "ids1",
          "ids2",
          "staircase1",
          "staircase1",
          "staircase2",
          "staircase2",
          "training",
          "training"
         ],
         "x0": " ",
         "xaxis": "x",
         "y": [
          0.5,
          0.65,
          0.95,
          0.9833333333333333,
          0.65,
          0.95,
          0.7833333333333333,
          0.9333333333333333,
          0.9166666666666666,
          0.6833333333333333,
          0.9166666666666666,
          0.75,
          0.45,
          0.6
         ],
         "y0": " ",
         "yaxis": "y"
        },
        {
         "alignmentgroup": "True",
         "hovertemplate": "subject=5<br>sessionType=%{x}<br>reward_rate=%{y}<extra></extra>",
         "legendgroup": "5",
         "marker": {
          "color": "#FFA15A"
         },
         "name": "5",
         "notched": false,
         "offsetgroup": "5",
         "orientation": "v",
         "showlegend": true,
         "type": "box",
         "x": [
          "ams1",
          "ams1",
          "ams2",
          "ams2",
          "eds1",
          "eds2",
          "ids1",
          "ids2",
          "staircase1",
          "staircase1",
          "staircase2",
          "staircase2",
          "training",
          "training"
         ],
         "x0": " ",
         "xaxis": "x",
         "y": [
          0.9833333333333333,
          0.9833333333333333,
          0.6,
          0.7,
          0.7,
          0.8666666666666667,
          0.8333333333333334,
          0.85,
          0.9333333333333333,
          0.7,
          0.8833333333333333,
          0.75,
          0.5166666666666667,
          0.6833333333333333
         ],
         "y0": " ",
         "yaxis": "y"
        },
        {
         "alignmentgroup": "True",
         "hovertemplate": "subject=6<br>sessionType=%{x}<br>reward_rate=%{y}<extra></extra>",
         "legendgroup": "6",
         "marker": {
          "color": "#19d3f3"
         },
         "name": "6",
         "notched": false,
         "offsetgroup": "6",
         "orientation": "v",
         "showlegend": true,
         "type": "box",
         "x": [
          "ams1",
          "ams1",
          "ams2",
          "ams2",
          "eds1",
          "eds2",
          "ids1",
          "ids2",
          "staircase1",
          "staircase1",
          "staircase2",
          "staircase2",
          "training"
         ],
         "x0": " ",
         "xaxis": "x",
         "y": [
          0.8833333333333333,
          0.9666666666666667,
          0.65,
          0.5833333333333334,
          0.7833333333333333,
          0.95,
          0.95,
          0.9333333333333333,
          0.9333333333333333,
          0.7,
          0.8833333333333333,
          0.7666666666666667,
          0.9166666666666666
         ],
         "y0": " ",
         "yaxis": "y"
        },
        {
         "alignmentgroup": "True",
         "hovertemplate": "subject=7<br>sessionType=%{x}<br>reward_rate=%{y}<extra></extra>",
         "legendgroup": "7",
         "marker": {
          "color": "#FF6692"
         },
         "name": "7",
         "notched": false,
         "offsetgroup": "7",
         "orientation": "v",
         "showlegend": true,
         "type": "box",
         "x": [
          "ams1",
          "ams1",
          "ams2",
          "ams2",
          "eds1",
          "eds2",
          "ids1",
          "ids2",
          "staircase1",
          "staircase1",
          "staircase2",
          "staircase2",
          "training",
          "training",
          "training"
         ],
         "x0": " ",
         "xaxis": "x",
         "y": [
          0.9,
          0.9666666666666667,
          0.9166666666666666,
          0.9333333333333333,
          0.95,
          0.9666666666666667,
          0.9666666666666667,
          0.9333333333333333,
          0.9166666666666666,
          0.65,
          0.7666666666666667,
          0.7833333333333333,
          0.48333333333333334,
          0.5333333333333333,
          1
         ],
         "y0": " ",
         "yaxis": "y"
        },
        {
         "alignmentgroup": "True",
         "hovertemplate": "subject=8<br>sessionType=%{x}<br>reward_rate=%{y}<extra></extra>",
         "legendgroup": "8",
         "marker": {
          "color": "#B6E880"
         },
         "name": "8",
         "notched": false,
         "offsetgroup": "8",
         "orientation": "v",
         "showlegend": true,
         "type": "box",
         "x": [
          "ams1",
          "ams1",
          "ams2",
          "ams2",
          "eds1",
          "eds2",
          "ids1",
          "ids2",
          "staircase1",
          "staircase1",
          "staircase2",
          "staircase2",
          "training"
         ],
         "x0": " ",
         "xaxis": "x",
         "y": [
          0.95,
          0.9833333333333333,
          0.5333333333333333,
          0.48333333333333334,
          0.8333333333333334,
          0.43333333333333335,
          0.9,
          0.9666666666666667,
          0.9833333333333333,
          0.6666666666666666,
          0.9333333333333333,
          0.6666666666666666,
          0.9333333333333333
         ],
         "y0": " ",
         "yaxis": "y"
        },
        {
         "alignmentgroup": "True",
         "hovertemplate": "subject=9<br>sessionType=%{x}<br>reward_rate=%{y}<extra></extra>",
         "legendgroup": "9",
         "marker": {
          "color": "#FF97FF"
         },
         "name": "9",
         "notched": false,
         "offsetgroup": "9",
         "orientation": "v",
         "showlegend": true,
         "type": "box",
         "x": [
          "ams1",
          "ams1",
          "ams2",
          "ams2",
          "eds1",
          "eds2",
          "ids1",
          "ids2",
          "staircase1",
          "staircase1",
          "staircase2",
          "staircase2",
          "training"
         ],
         "x0": " ",
         "xaxis": "x",
         "y": [
          0.5833333333333334,
          0.5166666666666667,
          0.9333333333333333,
          0.95,
          0.48333333333333334,
          0.8833333333333333,
          0.7833333333333333,
          0.9666666666666667,
          0.95,
          0.6666666666666666,
          0.9166666666666666,
          0.7333333333333333,
          0.9333333333333333
         ],
         "y0": " ",
         "yaxis": "y"
        },
        {
         "alignmentgroup": "True",
         "hovertemplate": "subject=10<br>sessionType=%{x}<br>reward_rate=%{y}<extra></extra>",
         "legendgroup": "10",
         "marker": {
          "color": "#FECB52"
         },
         "name": "10",
         "notched": false,
         "offsetgroup": "10",
         "orientation": "v",
         "showlegend": true,
         "type": "box",
         "x": [
          "ams1",
          "ams1",
          "ams2",
          "ams2",
          "eds1",
          "eds2",
          "ids1",
          "ids2",
          "staircase1",
          "staircase1",
          "staircase2",
          "staircase2",
          "training"
         ],
         "x0": " ",
         "xaxis": "x",
         "y": [
          0.9666666666666667,
          1,
          0.6666666666666666,
          0.6833333333333333,
          0.85,
          0.8666666666666667,
          0.95,
          0.95,
          0.95,
          0.6833333333333333,
          0.9666666666666667,
          0.65,
          0.65
         ],
         "y0": " ",
         "yaxis": "y"
        },
        {
         "alignmentgroup": "True",
         "hovertemplate": "subject=11<br>sessionType=%{x}<br>reward_rate=%{y}<extra></extra>",
         "legendgroup": "11",
         "marker": {
          "color": "#636efa"
         },
         "name": "11",
         "notched": false,
         "offsetgroup": "11",
         "orientation": "v",
         "showlegend": true,
         "type": "box",
         "x": [
          "ams1",
          "ams1",
          "ams2",
          "ams2",
          "eds1",
          "eds1",
          "eds2",
          "ids1",
          "ids2",
          "staircase1",
          "staircase1",
          "staircase2",
          "training",
          "training",
          "training",
          "training",
          "training",
          "training"
         ],
         "x0": " ",
         "xaxis": "x",
         "y": [
          0.5833333333333334,
          0.45,
          0.5833333333333334,
          0.95,
          0.65,
          0.6,
          0.9,
          0.9666666666666667,
          0.5666666666666667,
          0.8833333333333333,
          0.7,
          0.6,
          0.5,
          0.55,
          0.48333333333333334,
          0.35,
          0.4,
          0.75
         ],
         "y0": " ",
         "yaxis": "y"
        },
        {
         "alignmentgroup": "True",
         "hovertemplate": "subject=13<br>sessionType=%{x}<br>reward_rate=%{y}<extra></extra>",
         "legendgroup": "13",
         "marker": {
          "color": "#EF553B"
         },
         "name": "13",
         "notched": false,
         "offsetgroup": "13",
         "orientation": "v",
         "showlegend": true,
         "type": "box",
         "x": [
          "ams1",
          "ams1",
          "ams2",
          "ams2",
          "eds1",
          "eds2",
          "ids1",
          "ids2",
          "staircase1",
          "staircase1",
          "staircase2",
          "staircase2",
          "training",
          "training",
          "training"
         ],
         "x0": " ",
         "xaxis": "x",
         "y": [
          0.5333333333333333,
          0.6,
          0.9833333333333333,
          0.95,
          0.8166666666666667,
          0.9333333333333333,
          0.9166666666666666,
          0.9666666666666667,
          0.9666666666666667,
          0.7,
          0.95,
          0.6666666666666666,
          0.45,
          0.4666666666666667,
          0.85
         ],
         "y0": " ",
         "yaxis": "y"
        },
        {
         "alignmentgroup": "True",
         "hovertemplate": "subject=15<br>sessionType=%{x}<br>reward_rate=%{y}<extra></extra>",
         "legendgroup": "15",
         "marker": {
          "color": "#00cc96"
         },
         "name": "15",
         "notched": false,
         "offsetgroup": "15",
         "orientation": "v",
         "showlegend": true,
         "type": "box",
         "x": [
          "ams1",
          "ams1",
          "ams2",
          "ams2",
          "eds1",
          "eds2",
          "ids1",
          "ids2",
          "staircase1",
          "staircase1",
          "staircase2",
          "staircase2",
          "training"
         ],
         "x0": " ",
         "xaxis": "x",
         "y": [
          0.6166666666666667,
          0.6833333333333333,
          0.9666666666666667,
          0.9833333333333333,
          0.95,
          1,
          0.9333333333333333,
          0.9666666666666667,
          0.9666666666666667,
          0.65,
          0.9166666666666666,
          0.7333333333333333,
          0.9333333333333333
         ],
         "y0": " ",
         "yaxis": "y"
        },
        {
         "alignmentgroup": "True",
         "hovertemplate": "subject=16<br>sessionType=%{x}<br>reward_rate=%{y}<extra></extra>",
         "legendgroup": "16",
         "marker": {
          "color": "#ab63fa"
         },
         "name": "16",
         "notched": false,
         "offsetgroup": "16",
         "orientation": "v",
         "showlegend": true,
         "type": "box",
         "x": [
          "ams1",
          "ams1",
          "ams2",
          "ams2",
          "eds1",
          "eds2",
          "ids1",
          "ids2",
          "staircase1",
          "staircase1",
          "staircase2",
          "staircase2",
          "training"
         ],
         "x0": " ",
         "xaxis": "x",
         "y": [
          0.55,
          0.75,
          0.95,
          1,
          0.9666666666666667,
          0.95,
          0.95,
          0.9333333333333333,
          0.8666666666666667,
          0.7666666666666667,
          0.9166666666666666,
          0.7166666666666667,
          0.9166666666666666
         ],
         "y0": " ",
         "yaxis": "y"
        },
        {
         "alignmentgroup": "True",
         "hovertemplate": "subject=17<br>sessionType=%{x}<br>reward_rate=%{y}<extra></extra>",
         "legendgroup": "17",
         "marker": {
          "color": "#FFA15A"
         },
         "name": "17",
         "notched": false,
         "offsetgroup": "17",
         "orientation": "v",
         "showlegend": true,
         "type": "box",
         "x": [
          "ams1",
          "ams1",
          "ams2",
          "ams2",
          "eds1",
          "eds2",
          "ids1",
          "ids2",
          "staircase1",
          "staircase1",
          "staircase2",
          "staircase2",
          "training"
         ],
         "x0": " ",
         "xaxis": "x",
         "y": [
          0.7,
          0.7666666666666667,
          1,
          1,
          0.8166666666666667,
          0.8333333333333334,
          0.9666666666666667,
          0.9833333333333333,
          0.8833333333333333,
          0.75,
          0.9166666666666666,
          0.7,
          0.75
         ],
         "y0": " ",
         "yaxis": "y"
        },
        {
         "alignmentgroup": "True",
         "hovertemplate": "subject=18<br>sessionType=%{x}<br>reward_rate=%{y}<extra></extra>",
         "legendgroup": "18",
         "marker": {
          "color": "#19d3f3"
         },
         "name": "18",
         "notched": false,
         "offsetgroup": "18",
         "orientation": "v",
         "showlegend": true,
         "type": "box",
         "x": [
          "ams1",
          "ams1",
          "ams2",
          "ams2",
          "eds1",
          "eds2",
          "ids2",
          "staircase1",
          "staircase1",
          "staircase2",
          "staircase2"
         ],
         "x0": " ",
         "xaxis": "x",
         "y": [
          0.5,
          0.5,
          0.5,
          0.5,
          0.5,
          0.5,
          0.5,
          0.5,
          0.5,
          0.5,
          0.5
         ],
         "y0": " ",
         "yaxis": "y"
        },
        {
         "alignmentgroup": "True",
         "hovertemplate": "subject=19<br>sessionType=%{x}<br>reward_rate=%{y}<extra></extra>",
         "legendgroup": "19",
         "marker": {
          "color": "#FF6692"
         },
         "name": "19",
         "notched": false,
         "offsetgroup": "19",
         "orientation": "v",
         "showlegend": true,
         "type": "box",
         "x": [
          "ams1",
          "ams1",
          "ams2",
          "ams2",
          "eds1",
          "eds2",
          "ids1",
          "ids2",
          "staircase1",
          "staircase1",
          "staircase2",
          "training",
          "training",
          "training",
          "training",
          "training",
          "training",
          "training",
          "training"
         ],
         "x0": " ",
         "xaxis": "x",
         "y": [
          1,
          0.9833333333333333,
          0.95,
          0.95,
          0.7333333333333333,
          0.9333333333333333,
          0.9,
          0.9666666666666667,
          0.9333333333333333,
          0.6833333333333333,
          0.8166666666666667,
          0.6,
          0.5,
          0.5,
          0.43333333333333335,
          0.55,
          0.5166666666666667,
          0.5333333333333333,
          0.8666666666666667
         ],
         "y0": " ",
         "yaxis": "y"
        },
        {
         "alignmentgroup": "True",
         "hovertemplate": "subject=20<br>sessionType=%{x}<br>reward_rate=%{y}<extra></extra>",
         "legendgroup": "20",
         "marker": {
          "color": "#B6E880"
         },
         "name": "20",
         "notched": false,
         "offsetgroup": "20",
         "orientation": "v",
         "showlegend": true,
         "type": "box",
         "x": [
          "ams1",
          "ams1",
          "ams2",
          "ams2",
          "eds1",
          "eds2",
          "ids1",
          "ids2",
          "staircase1",
          "staircase1",
          "staircase2",
          "staircase2",
          "training"
         ],
         "x0": " ",
         "xaxis": "x",
         "y": [
          0.6666666666666666,
          0.65,
          0.9666666666666667,
          0.9833333333333333,
          0.7833333333333333,
          0.9666666666666667,
          0.9666666666666667,
          0.9833333333333333,
          0.9666666666666667,
          0.65,
          0.9666666666666667,
          0.6833333333333333,
          0.8666666666666667
         ],
         "y0": " ",
         "yaxis": "y"
        },
        {
         "alignmentgroup": "True",
         "hovertemplate": "subject=21<br>sessionType=%{x}<br>reward_rate=%{y}<extra></extra>",
         "legendgroup": "21",
         "marker": {
          "color": "#FF97FF"
         },
         "name": "21",
         "notched": false,
         "offsetgroup": "21",
         "orientation": "v",
         "showlegend": true,
         "type": "box",
         "x": [
          "ams1",
          "ams1",
          "ams2",
          "ams2",
          "eds1",
          "eds2",
          "ids1",
          "ids2",
          "staircase1",
          "staircase1",
          "staircase2",
          "staircase2",
          "training"
         ],
         "x0": " ",
         "xaxis": "x",
         "y": [
          0.95,
          1,
          0.5666666666666667,
          0.6,
          0.5,
          0.7,
          0.8833333333333333,
          0.9666666666666667,
          0.9666666666666667,
          0.6833333333333333,
          0.8666666666666667,
          0.75,
          0.65
         ],
         "y0": " ",
         "yaxis": "y"
        },
        {
         "alignmentgroup": "True",
         "hovertemplate": "subject=22<br>sessionType=%{x}<br>reward_rate=%{y}<extra></extra>",
         "legendgroup": "22",
         "marker": {
          "color": "#FECB52"
         },
         "name": "22",
         "notched": false,
         "offsetgroup": "22",
         "orientation": "v",
         "showlegend": true,
         "type": "box",
         "x": [
          "ams1",
          "ams1",
          "ams2",
          "ams2",
          "eds1",
          "eds2",
          "ids1",
          "ids2",
          "staircase1",
          "staircase1",
          "staircase2",
          "staircase2",
          "training"
         ],
         "x0": " ",
         "xaxis": "x",
         "y": [
          0.9666666666666667,
          1,
          0.45,
          0.43333333333333335,
          0.9166666666666666,
          0.95,
          0.95,
          0.9833333333333333,
          0.9666666666666667,
          0.6333333333333333,
          0.95,
          0.7166666666666667,
          0.9666666666666667
         ],
         "y0": " ",
         "yaxis": "y"
        }
       ],
       "layout": {
        "boxmode": "group",
        "legend": {
         "title": {
          "text": "subject"
         },
         "tracegroupgap": 0
        },
        "margin": {
         "t": 60
        },
        "template": {
         "data": {
          "bar": [
           {
            "error_x": {
             "color": "#f2f5fa"
            },
            "error_y": {
             "color": "#f2f5fa"
            },
            "marker": {
             "line": {
              "color": "rgb(17,17,17)",
              "width": 0.5
             },
             "pattern": {
              "fillmode": "overlay",
              "size": 10,
              "solidity": 0.2
             }
            },
            "type": "bar"
           }
          ],
          "barpolar": [
           {
            "marker": {
             "line": {
              "color": "rgb(17,17,17)",
              "width": 0.5
             },
             "pattern": {
              "fillmode": "overlay",
              "size": 10,
              "solidity": 0.2
             }
            },
            "type": "barpolar"
           }
          ],
          "carpet": [
           {
            "aaxis": {
             "endlinecolor": "#A2B1C6",
             "gridcolor": "#506784",
             "linecolor": "#506784",
             "minorgridcolor": "#506784",
             "startlinecolor": "#A2B1C6"
            },
            "baxis": {
             "endlinecolor": "#A2B1C6",
             "gridcolor": "#506784",
             "linecolor": "#506784",
             "minorgridcolor": "#506784",
             "startlinecolor": "#A2B1C6"
            },
            "type": "carpet"
           }
          ],
          "choropleth": [
           {
            "colorbar": {
             "outlinewidth": 0,
             "ticks": ""
            },
            "type": "choropleth"
           }
          ],
          "contour": [
           {
            "colorbar": {
             "outlinewidth": 0,
             "ticks": ""
            },
            "colorscale": [
             [
              0,
              "#0d0887"
             ],
             [
              0.1111111111111111,
              "#46039f"
             ],
             [
              0.2222222222222222,
              "#7201a8"
             ],
             [
              0.3333333333333333,
              "#9c179e"
             ],
             [
              0.4444444444444444,
              "#bd3786"
             ],
             [
              0.5555555555555556,
              "#d8576b"
             ],
             [
              0.6666666666666666,
              "#ed7953"
             ],
             [
              0.7777777777777778,
              "#fb9f3a"
             ],
             [
              0.8888888888888888,
              "#fdca26"
             ],
             [
              1,
              "#f0f921"
             ]
            ],
            "type": "contour"
           }
          ],
          "contourcarpet": [
           {
            "colorbar": {
             "outlinewidth": 0,
             "ticks": ""
            },
            "type": "contourcarpet"
           }
          ],
          "heatmap": [
           {
            "colorbar": {
             "outlinewidth": 0,
             "ticks": ""
            },
            "colorscale": [
             [
              0,
              "#0d0887"
             ],
             [
              0.1111111111111111,
              "#46039f"
             ],
             [
              0.2222222222222222,
              "#7201a8"
             ],
             [
              0.3333333333333333,
              "#9c179e"
             ],
             [
              0.4444444444444444,
              "#bd3786"
             ],
             [
              0.5555555555555556,
              "#d8576b"
             ],
             [
              0.6666666666666666,
              "#ed7953"
             ],
             [
              0.7777777777777778,
              "#fb9f3a"
             ],
             [
              0.8888888888888888,
              "#fdca26"
             ],
             [
              1,
              "#f0f921"
             ]
            ],
            "type": "heatmap"
           }
          ],
          "heatmapgl": [
           {
            "colorbar": {
             "outlinewidth": 0,
             "ticks": ""
            },
            "colorscale": [
             [
              0,
              "#0d0887"
             ],
             [
              0.1111111111111111,
              "#46039f"
             ],
             [
              0.2222222222222222,
              "#7201a8"
             ],
             [
              0.3333333333333333,
              "#9c179e"
             ],
             [
              0.4444444444444444,
              "#bd3786"
             ],
             [
              0.5555555555555556,
              "#d8576b"
             ],
             [
              0.6666666666666666,
              "#ed7953"
             ],
             [
              0.7777777777777778,
              "#fb9f3a"
             ],
             [
              0.8888888888888888,
              "#fdca26"
             ],
             [
              1,
              "#f0f921"
             ]
            ],
            "type": "heatmapgl"
           }
          ],
          "histogram": [
           {
            "marker": {
             "pattern": {
              "fillmode": "overlay",
              "size": 10,
              "solidity": 0.2
             }
            },
            "type": "histogram"
           }
          ],
          "histogram2d": [
           {
            "colorbar": {
             "outlinewidth": 0,
             "ticks": ""
            },
            "colorscale": [
             [
              0,
              "#0d0887"
             ],
             [
              0.1111111111111111,
              "#46039f"
             ],
             [
              0.2222222222222222,
              "#7201a8"
             ],
             [
              0.3333333333333333,
              "#9c179e"
             ],
             [
              0.4444444444444444,
              "#bd3786"
             ],
             [
              0.5555555555555556,
              "#d8576b"
             ],
             [
              0.6666666666666666,
              "#ed7953"
             ],
             [
              0.7777777777777778,
              "#fb9f3a"
             ],
             [
              0.8888888888888888,
              "#fdca26"
             ],
             [
              1,
              "#f0f921"
             ]
            ],
            "type": "histogram2d"
           }
          ],
          "histogram2dcontour": [
           {
            "colorbar": {
             "outlinewidth": 0,
             "ticks": ""
            },
            "colorscale": [
             [
              0,
              "#0d0887"
             ],
             [
              0.1111111111111111,
              "#46039f"
             ],
             [
              0.2222222222222222,
              "#7201a8"
             ],
             [
              0.3333333333333333,
              "#9c179e"
             ],
             [
              0.4444444444444444,
              "#bd3786"
             ],
             [
              0.5555555555555556,
              "#d8576b"
             ],
             [
              0.6666666666666666,
              "#ed7953"
             ],
             [
              0.7777777777777778,
              "#fb9f3a"
             ],
             [
              0.8888888888888888,
              "#fdca26"
             ],
             [
              1,
              "#f0f921"
             ]
            ],
            "type": "histogram2dcontour"
           }
          ],
          "mesh3d": [
           {
            "colorbar": {
             "outlinewidth": 0,
             "ticks": ""
            },
            "type": "mesh3d"
           }
          ],
          "parcoords": [
           {
            "line": {
             "colorbar": {
              "outlinewidth": 0,
              "ticks": ""
             }
            },
            "type": "parcoords"
           }
          ],
          "pie": [
           {
            "automargin": true,
            "type": "pie"
           }
          ],
          "scatter": [
           {
            "marker": {
             "line": {
              "color": "#283442"
             }
            },
            "type": "scatter"
           }
          ],
          "scatter3d": [
           {
            "line": {
             "colorbar": {
              "outlinewidth": 0,
              "ticks": ""
             }
            },
            "marker": {
             "colorbar": {
              "outlinewidth": 0,
              "ticks": ""
             }
            },
            "type": "scatter3d"
           }
          ],
          "scattercarpet": [
           {
            "marker": {
             "colorbar": {
              "outlinewidth": 0,
              "ticks": ""
             }
            },
            "type": "scattercarpet"
           }
          ],
          "scattergeo": [
           {
            "marker": {
             "colorbar": {
              "outlinewidth": 0,
              "ticks": ""
             }
            },
            "type": "scattergeo"
           }
          ],
          "scattergl": [
           {
            "marker": {
             "line": {
              "color": "#283442"
             }
            },
            "type": "scattergl"
           }
          ],
          "scattermapbox": [
           {
            "marker": {
             "colorbar": {
              "outlinewidth": 0,
              "ticks": ""
             }
            },
            "type": "scattermapbox"
           }
          ],
          "scatterpolar": [
           {
            "marker": {
             "colorbar": {
              "outlinewidth": 0,
              "ticks": ""
             }
            },
            "type": "scatterpolar"
           }
          ],
          "scatterpolargl": [
           {
            "marker": {
             "colorbar": {
              "outlinewidth": 0,
              "ticks": ""
             }
            },
            "type": "scatterpolargl"
           }
          ],
          "scatterternary": [
           {
            "marker": {
             "colorbar": {
              "outlinewidth": 0,
              "ticks": ""
             }
            },
            "type": "scatterternary"
           }
          ],
          "surface": [
           {
            "colorbar": {
             "outlinewidth": 0,
             "ticks": ""
            },
            "colorscale": [
             [
              0,
              "#0d0887"
             ],
             [
              0.1111111111111111,
              "#46039f"
             ],
             [
              0.2222222222222222,
              "#7201a8"
             ],
             [
              0.3333333333333333,
              "#9c179e"
             ],
             [
              0.4444444444444444,
              "#bd3786"
             ],
             [
              0.5555555555555556,
              "#d8576b"
             ],
             [
              0.6666666666666666,
              "#ed7953"
             ],
             [
              0.7777777777777778,
              "#fb9f3a"
             ],
             [
              0.8888888888888888,
              "#fdca26"
             ],
             [
              1,
              "#f0f921"
             ]
            ],
            "type": "surface"
           }
          ],
          "table": [
           {
            "cells": {
             "fill": {
              "color": "#506784"
             },
             "line": {
              "color": "rgb(17,17,17)"
             }
            },
            "header": {
             "fill": {
              "color": "#2a3f5f"
             },
             "line": {
              "color": "rgb(17,17,17)"
             }
            },
            "type": "table"
           }
          ]
         },
         "layout": {
          "annotationdefaults": {
           "arrowcolor": "#f2f5fa",
           "arrowhead": 0,
           "arrowwidth": 1
          },
          "autotypenumbers": "strict",
          "coloraxis": {
           "colorbar": {
            "outlinewidth": 0,
            "ticks": ""
           }
          },
          "colorscale": {
           "diverging": [
            [
             0,
             "#8e0152"
            ],
            [
             0.1,
             "#c51b7d"
            ],
            [
             0.2,
             "#de77ae"
            ],
            [
             0.3,
             "#f1b6da"
            ],
            [
             0.4,
             "#fde0ef"
            ],
            [
             0.5,
             "#f7f7f7"
            ],
            [
             0.6,
             "#e6f5d0"
            ],
            [
             0.7,
             "#b8e186"
            ],
            [
             0.8,
             "#7fbc41"
            ],
            [
             0.9,
             "#4d9221"
            ],
            [
             1,
             "#276419"
            ]
           ],
           "sequential": [
            [
             0,
             "#0d0887"
            ],
            [
             0.1111111111111111,
             "#46039f"
            ],
            [
             0.2222222222222222,
             "#7201a8"
            ],
            [
             0.3333333333333333,
             "#9c179e"
            ],
            [
             0.4444444444444444,
             "#bd3786"
            ],
            [
             0.5555555555555556,
             "#d8576b"
            ],
            [
             0.6666666666666666,
             "#ed7953"
            ],
            [
             0.7777777777777778,
             "#fb9f3a"
            ],
            [
             0.8888888888888888,
             "#fdca26"
            ],
            [
             1,
             "#f0f921"
            ]
           ],
           "sequentialminus": [
            [
             0,
             "#0d0887"
            ],
            [
             0.1111111111111111,
             "#46039f"
            ],
            [
             0.2222222222222222,
             "#7201a8"
            ],
            [
             0.3333333333333333,
             "#9c179e"
            ],
            [
             0.4444444444444444,
             "#bd3786"
            ],
            [
             0.5555555555555556,
             "#d8576b"
            ],
            [
             0.6666666666666666,
             "#ed7953"
            ],
            [
             0.7777777777777778,
             "#fb9f3a"
            ],
            [
             0.8888888888888888,
             "#fdca26"
            ],
            [
             1,
             "#f0f921"
            ]
           ]
          },
          "colorway": [
           "#636efa",
           "#EF553B",
           "#00cc96",
           "#ab63fa",
           "#FFA15A",
           "#19d3f3",
           "#FF6692",
           "#B6E880",
           "#FF97FF",
           "#FECB52"
          ],
          "font": {
           "color": "#f2f5fa"
          },
          "geo": {
           "bgcolor": "rgb(17,17,17)",
           "lakecolor": "rgb(17,17,17)",
           "landcolor": "rgb(17,17,17)",
           "showlakes": true,
           "showland": true,
           "subunitcolor": "#506784"
          },
          "hoverlabel": {
           "align": "left"
          },
          "hovermode": "closest",
          "mapbox": {
           "style": "dark"
          },
          "paper_bgcolor": "rgb(17,17,17)",
          "plot_bgcolor": "rgb(17,17,17)",
          "polar": {
           "angularaxis": {
            "gridcolor": "#506784",
            "linecolor": "#506784",
            "ticks": ""
           },
           "bgcolor": "rgb(17,17,17)",
           "radialaxis": {
            "gridcolor": "#506784",
            "linecolor": "#506784",
            "ticks": ""
           }
          },
          "scene": {
           "xaxis": {
            "backgroundcolor": "rgb(17,17,17)",
            "gridcolor": "#506784",
            "gridwidth": 2,
            "linecolor": "#506784",
            "showbackground": true,
            "ticks": "",
            "zerolinecolor": "#C8D4E3"
           },
           "yaxis": {
            "backgroundcolor": "rgb(17,17,17)",
            "gridcolor": "#506784",
            "gridwidth": 2,
            "linecolor": "#506784",
            "showbackground": true,
            "ticks": "",
            "zerolinecolor": "#C8D4E3"
           },
           "zaxis": {
            "backgroundcolor": "rgb(17,17,17)",
            "gridcolor": "#506784",
            "gridwidth": 2,
            "linecolor": "#506784",
            "showbackground": true,
            "ticks": "",
            "zerolinecolor": "#C8D4E3"
           }
          },
          "shapedefaults": {
           "line": {
            "color": "#f2f5fa"
           }
          },
          "sliderdefaults": {
           "bgcolor": "#C8D4E3",
           "bordercolor": "rgb(17,17,17)",
           "borderwidth": 1,
           "tickwidth": 0
          },
          "ternary": {
           "aaxis": {
            "gridcolor": "#506784",
            "linecolor": "#506784",
            "ticks": ""
           },
           "baxis": {
            "gridcolor": "#506784",
            "linecolor": "#506784",
            "ticks": ""
           },
           "bgcolor": "rgb(17,17,17)",
           "caxis": {
            "gridcolor": "#506784",
            "linecolor": "#506784",
            "ticks": ""
           }
          },
          "title": {
           "x": 0.05
          },
          "updatemenudefaults": {
           "bgcolor": "#506784",
           "borderwidth": 0
          },
          "xaxis": {
           "automargin": true,
           "gridcolor": "#283442",
           "linecolor": "#506784",
           "ticks": "",
           "title": {
            "standoff": 15
           },
           "zerolinecolor": "#283442",
           "zerolinewidth": 2
          },
          "yaxis": {
           "automargin": true,
           "gridcolor": "#283442",
           "linecolor": "#506784",
           "ticks": "",
           "title": {
            "standoff": 15
           },
           "zerolinecolor": "#283442",
           "zerolinewidth": 2
          }
         }
        },
        "title": {
         "text": "Distribution of Reward Rates: Human Pilot Experiment"
        },
        "xaxis": {
         "anchor": "y",
         "domain": [
          0,
          1
         ],
         "title": {
          "text": "Session Type"
         }
        },
        "yaxis": {
         "anchor": "x",
         "domain": [
          0,
          1
         ],
         "title": {
          "text": "Reward Rate"
         }
        }
       }
      }
     },
     "metadata": {},
     "output_type": "display_data"
    }
   ],
   "source": [
    "def plot_boxes(rewards, title='Distribution of Reward Rates'):\n",
    "    fig = px.box(rewards, x='sessionType', y='reward_rate', color='subject')\n",
    "    fig.update_layout(template='plotly_dark', title=title)\n",
    "    fig.update_xaxes(title='Session Type')\n",
    "    fig.update_yaxes(title='Reward Rate')\n",
    "\n",
    "    return fig\n",
    "\n",
    "\n",
    "\n",
    "plot_boxes(rewards, title='Distribution of Reward Rates: Human Pilot Experiment')"
   ]
  },
  {
   "cell_type": "code",
   "execution_count": 11,
   "metadata": {},
   "outputs": [
    {
     "data": {
      "application/vnd.plotly.v1+json": {
       "config": {
        "plotlyServerURL": "https://plot.ly"
       },
       "data": [
        {
         "name": "Reward Rate",
         "type": "box",
         "x": [
          "ams1",
          "ams1",
          "ams2",
          "ams2",
          "eds1",
          "eds2",
          "ids1",
          "ids2",
          "ids2",
          "staircase1",
          "staircase1",
          "staircase2",
          "training",
          "training"
         ],
         "y": [
          0.4166666666666667,
          0.75,
          0.75,
          0.6666666666666666,
          0.6833333333333333,
          0.75,
          0.9666666666666667,
          0.7,
          0.7333333333333333,
          0.9666666666666667,
          0.6833333333333333,
          0.7333333333333333,
          0.5,
          0.6
         ]
        }
       ],
       "layout": {
        "template": {
         "data": {
          "bar": [
           {
            "error_x": {
             "color": "#f2f5fa"
            },
            "error_y": {
             "color": "#f2f5fa"
            },
            "marker": {
             "line": {
              "color": "rgb(17,17,17)",
              "width": 0.5
             },
             "pattern": {
              "fillmode": "overlay",
              "size": 10,
              "solidity": 0.2
             }
            },
            "type": "bar"
           }
          ],
          "barpolar": [
           {
            "marker": {
             "line": {
              "color": "rgb(17,17,17)",
              "width": 0.5
             },
             "pattern": {
              "fillmode": "overlay",
              "size": 10,
              "solidity": 0.2
             }
            },
            "type": "barpolar"
           }
          ],
          "carpet": [
           {
            "aaxis": {
             "endlinecolor": "#A2B1C6",
             "gridcolor": "#506784",
             "linecolor": "#506784",
             "minorgridcolor": "#506784",
             "startlinecolor": "#A2B1C6"
            },
            "baxis": {
             "endlinecolor": "#A2B1C6",
             "gridcolor": "#506784",
             "linecolor": "#506784",
             "minorgridcolor": "#506784",
             "startlinecolor": "#A2B1C6"
            },
            "type": "carpet"
           }
          ],
          "choropleth": [
           {
            "colorbar": {
             "outlinewidth": 0,
             "ticks": ""
            },
            "type": "choropleth"
           }
          ],
          "contour": [
           {
            "colorbar": {
             "outlinewidth": 0,
             "ticks": ""
            },
            "colorscale": [
             [
              0,
              "#0d0887"
             ],
             [
              0.1111111111111111,
              "#46039f"
             ],
             [
              0.2222222222222222,
              "#7201a8"
             ],
             [
              0.3333333333333333,
              "#9c179e"
             ],
             [
              0.4444444444444444,
              "#bd3786"
             ],
             [
              0.5555555555555556,
              "#d8576b"
             ],
             [
              0.6666666666666666,
              "#ed7953"
             ],
             [
              0.7777777777777778,
              "#fb9f3a"
             ],
             [
              0.8888888888888888,
              "#fdca26"
             ],
             [
              1,
              "#f0f921"
             ]
            ],
            "type": "contour"
           }
          ],
          "contourcarpet": [
           {
            "colorbar": {
             "outlinewidth": 0,
             "ticks": ""
            },
            "type": "contourcarpet"
           }
          ],
          "heatmap": [
           {
            "colorbar": {
             "outlinewidth": 0,
             "ticks": ""
            },
            "colorscale": [
             [
              0,
              "#0d0887"
             ],
             [
              0.1111111111111111,
              "#46039f"
             ],
             [
              0.2222222222222222,
              "#7201a8"
             ],
             [
              0.3333333333333333,
              "#9c179e"
             ],
             [
              0.4444444444444444,
              "#bd3786"
             ],
             [
              0.5555555555555556,
              "#d8576b"
             ],
             [
              0.6666666666666666,
              "#ed7953"
             ],
             [
              0.7777777777777778,
              "#fb9f3a"
             ],
             [
              0.8888888888888888,
              "#fdca26"
             ],
             [
              1,
              "#f0f921"
             ]
            ],
            "type": "heatmap"
           }
          ],
          "heatmapgl": [
           {
            "colorbar": {
             "outlinewidth": 0,
             "ticks": ""
            },
            "colorscale": [
             [
              0,
              "#0d0887"
             ],
             [
              0.1111111111111111,
              "#46039f"
             ],
             [
              0.2222222222222222,
              "#7201a8"
             ],
             [
              0.3333333333333333,
              "#9c179e"
             ],
             [
              0.4444444444444444,
              "#bd3786"
             ],
             [
              0.5555555555555556,
              "#d8576b"
             ],
             [
              0.6666666666666666,
              "#ed7953"
             ],
             [
              0.7777777777777778,
              "#fb9f3a"
             ],
             [
              0.8888888888888888,
              "#fdca26"
             ],
             [
              1,
              "#f0f921"
             ]
            ],
            "type": "heatmapgl"
           }
          ],
          "histogram": [
           {
            "marker": {
             "pattern": {
              "fillmode": "overlay",
              "size": 10,
              "solidity": 0.2
             }
            },
            "type": "histogram"
           }
          ],
          "histogram2d": [
           {
            "colorbar": {
             "outlinewidth": 0,
             "ticks": ""
            },
            "colorscale": [
             [
              0,
              "#0d0887"
             ],
             [
              0.1111111111111111,
              "#46039f"
             ],
             [
              0.2222222222222222,
              "#7201a8"
             ],
             [
              0.3333333333333333,
              "#9c179e"
             ],
             [
              0.4444444444444444,
              "#bd3786"
             ],
             [
              0.5555555555555556,
              "#d8576b"
             ],
             [
              0.6666666666666666,
              "#ed7953"
             ],
             [
              0.7777777777777778,
              "#fb9f3a"
             ],
             [
              0.8888888888888888,
              "#fdca26"
             ],
             [
              1,
              "#f0f921"
             ]
            ],
            "type": "histogram2d"
           }
          ],
          "histogram2dcontour": [
           {
            "colorbar": {
             "outlinewidth": 0,
             "ticks": ""
            },
            "colorscale": [
             [
              0,
              "#0d0887"
             ],
             [
              0.1111111111111111,
              "#46039f"
             ],
             [
              0.2222222222222222,
              "#7201a8"
             ],
             [
              0.3333333333333333,
              "#9c179e"
             ],
             [
              0.4444444444444444,
              "#bd3786"
             ],
             [
              0.5555555555555556,
              "#d8576b"
             ],
             [
              0.6666666666666666,
              "#ed7953"
             ],
             [
              0.7777777777777778,
              "#fb9f3a"
             ],
             [
              0.8888888888888888,
              "#fdca26"
             ],
             [
              1,
              "#f0f921"
             ]
            ],
            "type": "histogram2dcontour"
           }
          ],
          "mesh3d": [
           {
            "colorbar": {
             "outlinewidth": 0,
             "ticks": ""
            },
            "type": "mesh3d"
           }
          ],
          "parcoords": [
           {
            "line": {
             "colorbar": {
              "outlinewidth": 0,
              "ticks": ""
             }
            },
            "type": "parcoords"
           }
          ],
          "pie": [
           {
            "automargin": true,
            "type": "pie"
           }
          ],
          "scatter": [
           {
            "marker": {
             "line": {
              "color": "#283442"
             }
            },
            "type": "scatter"
           }
          ],
          "scatter3d": [
           {
            "line": {
             "colorbar": {
              "outlinewidth": 0,
              "ticks": ""
             }
            },
            "marker": {
             "colorbar": {
              "outlinewidth": 0,
              "ticks": ""
             }
            },
            "type": "scatter3d"
           }
          ],
          "scattercarpet": [
           {
            "marker": {
             "colorbar": {
              "outlinewidth": 0,
              "ticks": ""
             }
            },
            "type": "scattercarpet"
           }
          ],
          "scattergeo": [
           {
            "marker": {
             "colorbar": {
              "outlinewidth": 0,
              "ticks": ""
             }
            },
            "type": "scattergeo"
           }
          ],
          "scattergl": [
           {
            "marker": {
             "line": {
              "color": "#283442"
             }
            },
            "type": "scattergl"
           }
          ],
          "scattermapbox": [
           {
            "marker": {
             "colorbar": {
              "outlinewidth": 0,
              "ticks": ""
             }
            },
            "type": "scattermapbox"
           }
          ],
          "scatterpolar": [
           {
            "marker": {
             "colorbar": {
              "outlinewidth": 0,
              "ticks": ""
             }
            },
            "type": "scatterpolar"
           }
          ],
          "scatterpolargl": [
           {
            "marker": {
             "colorbar": {
              "outlinewidth": 0,
              "ticks": ""
             }
            },
            "type": "scatterpolargl"
           }
          ],
          "scatterternary": [
           {
            "marker": {
             "colorbar": {
              "outlinewidth": 0,
              "ticks": ""
             }
            },
            "type": "scatterternary"
           }
          ],
          "surface": [
           {
            "colorbar": {
             "outlinewidth": 0,
             "ticks": ""
            },
            "colorscale": [
             [
              0,
              "#0d0887"
             ],
             [
              0.1111111111111111,
              "#46039f"
             ],
             [
              0.2222222222222222,
              "#7201a8"
             ],
             [
              0.3333333333333333,
              "#9c179e"
             ],
             [
              0.4444444444444444,
              "#bd3786"
             ],
             [
              0.5555555555555556,
              "#d8576b"
             ],
             [
              0.6666666666666666,
              "#ed7953"
             ],
             [
              0.7777777777777778,
              "#fb9f3a"
             ],
             [
              0.8888888888888888,
              "#fdca26"
             ],
             [
              1,
              "#f0f921"
             ]
            ],
            "type": "surface"
           }
          ],
          "table": [
           {
            "cells": {
             "fill": {
              "color": "#506784"
             },
             "line": {
              "color": "rgb(17,17,17)"
             }
            },
            "header": {
             "fill": {
              "color": "#2a3f5f"
             },
             "line": {
              "color": "rgb(17,17,17)"
             }
            },
            "type": "table"
           }
          ]
         },
         "layout": {
          "annotationdefaults": {
           "arrowcolor": "#f2f5fa",
           "arrowhead": 0,
           "arrowwidth": 1
          },
          "autotypenumbers": "strict",
          "coloraxis": {
           "colorbar": {
            "outlinewidth": 0,
            "ticks": ""
           }
          },
          "colorscale": {
           "diverging": [
            [
             0,
             "#8e0152"
            ],
            [
             0.1,
             "#c51b7d"
            ],
            [
             0.2,
             "#de77ae"
            ],
            [
             0.3,
             "#f1b6da"
            ],
            [
             0.4,
             "#fde0ef"
            ],
            [
             0.5,
             "#f7f7f7"
            ],
            [
             0.6,
             "#e6f5d0"
            ],
            [
             0.7,
             "#b8e186"
            ],
            [
             0.8,
             "#7fbc41"
            ],
            [
             0.9,
             "#4d9221"
            ],
            [
             1,
             "#276419"
            ]
           ],
           "sequential": [
            [
             0,
             "#0d0887"
            ],
            [
             0.1111111111111111,
             "#46039f"
            ],
            [
             0.2222222222222222,
             "#7201a8"
            ],
            [
             0.3333333333333333,
             "#9c179e"
            ],
            [
             0.4444444444444444,
             "#bd3786"
            ],
            [
             0.5555555555555556,
             "#d8576b"
            ],
            [
             0.6666666666666666,
             "#ed7953"
            ],
            [
             0.7777777777777778,
             "#fb9f3a"
            ],
            [
             0.8888888888888888,
             "#fdca26"
            ],
            [
             1,
             "#f0f921"
            ]
           ],
           "sequentialminus": [
            [
             0,
             "#0d0887"
            ],
            [
             0.1111111111111111,
             "#46039f"
            ],
            [
             0.2222222222222222,
             "#7201a8"
            ],
            [
             0.3333333333333333,
             "#9c179e"
            ],
            [
             0.4444444444444444,
             "#bd3786"
            ],
            [
             0.5555555555555556,
             "#d8576b"
            ],
            [
             0.6666666666666666,
             "#ed7953"
            ],
            [
             0.7777777777777778,
             "#fb9f3a"
            ],
            [
             0.8888888888888888,
             "#fdca26"
            ],
            [
             1,
             "#f0f921"
            ]
           ]
          },
          "colorway": [
           "#636efa",
           "#EF553B",
           "#00cc96",
           "#ab63fa",
           "#FFA15A",
           "#19d3f3",
           "#FF6692",
           "#B6E880",
           "#FF97FF",
           "#FECB52"
          ],
          "font": {
           "color": "#f2f5fa"
          },
          "geo": {
           "bgcolor": "rgb(17,17,17)",
           "lakecolor": "rgb(17,17,17)",
           "landcolor": "rgb(17,17,17)",
           "showlakes": true,
           "showland": true,
           "subunitcolor": "#506784"
          },
          "hoverlabel": {
           "align": "left"
          },
          "hovermode": "closest",
          "mapbox": {
           "style": "dark"
          },
          "paper_bgcolor": "rgb(17,17,17)",
          "plot_bgcolor": "rgb(17,17,17)",
          "polar": {
           "angularaxis": {
            "gridcolor": "#506784",
            "linecolor": "#506784",
            "ticks": ""
           },
           "bgcolor": "rgb(17,17,17)",
           "radialaxis": {
            "gridcolor": "#506784",
            "linecolor": "#506784",
            "ticks": ""
           }
          },
          "scene": {
           "xaxis": {
            "backgroundcolor": "rgb(17,17,17)",
            "gridcolor": "#506784",
            "gridwidth": 2,
            "linecolor": "#506784",
            "showbackground": true,
            "ticks": "",
            "zerolinecolor": "#C8D4E3"
           },
           "yaxis": {
            "backgroundcolor": "rgb(17,17,17)",
            "gridcolor": "#506784",
            "gridwidth": 2,
            "linecolor": "#506784",
            "showbackground": true,
            "ticks": "",
            "zerolinecolor": "#C8D4E3"
           },
           "zaxis": {
            "backgroundcolor": "rgb(17,17,17)",
            "gridcolor": "#506784",
            "gridwidth": 2,
            "linecolor": "#506784",
            "showbackground": true,
            "ticks": "",
            "zerolinecolor": "#C8D4E3"
           }
          },
          "shapedefaults": {
           "line": {
            "color": "#f2f5fa"
           }
          },
          "sliderdefaults": {
           "bgcolor": "#C8D4E3",
           "bordercolor": "rgb(17,17,17)",
           "borderwidth": 1,
           "tickwidth": 0
          },
          "ternary": {
           "aaxis": {
            "gridcolor": "#506784",
            "linecolor": "#506784",
            "ticks": ""
           },
           "baxis": {
            "gridcolor": "#506784",
            "linecolor": "#506784",
            "ticks": ""
           },
           "bgcolor": "rgb(17,17,17)",
           "caxis": {
            "gridcolor": "#506784",
            "linecolor": "#506784",
            "ticks": ""
           }
          },
          "title": {
           "x": 0.05
          },
          "updatemenudefaults": {
           "bgcolor": "#506784",
           "borderwidth": 0
          },
          "xaxis": {
           "automargin": true,
           "gridcolor": "#283442",
           "linecolor": "#506784",
           "ticks": "",
           "title": {
            "standoff": 15
           },
           "zerolinecolor": "#283442",
           "zerolinewidth": 2
          },
          "yaxis": {
           "automargin": true,
           "gridcolor": "#283442",
           "linecolor": "#506784",
           "ticks": "",
           "title": {
            "standoff": 15
           },
           "zerolinecolor": "#283442",
           "zerolinewidth": 2
          }
         }
        },
        "title": {
         "text": "Distribution of Reward Rates for Subject 1"
        },
        "xaxis": {
         "title": {
          "text": "Session Type"
         }
        },
        "yaxis": {
         "title": {
          "text": "Reward Rate"
         }
        }
       }
      }
     },
     "metadata": {},
     "output_type": "display_data"
    },
    {
     "data": {
      "application/vnd.plotly.v1+json": {
       "config": {
        "plotlyServerURL": "https://plot.ly"
       },
       "data": [
        {
         "name": "Reward Rate",
         "type": "box",
         "x": [
          "ams1",
          "ams1",
          "ams2",
          "ams2",
          "eds1",
          "eds2",
          "ids1",
          "ids2",
          "staircase1",
          "staircase1",
          "staircase2",
          "training",
          "training",
          "training",
          "training",
          "training",
          "training",
          "training",
          "training",
          "training"
         ],
         "y": [
          1,
          0.9333333333333333,
          0.95,
          1,
          0.65,
          0.9,
          0.8833333333333333,
          0.8833333333333333,
          0.85,
          0.7333333333333333,
          0.8833333333333333,
          0.5333333333333333,
          0.43333333333333335,
          0.55,
          0.5666666666666667,
          0.5166666666666667,
          0.5166666666666667,
          0.4666666666666667,
          0.5166666666666667,
          0.85
         ]
        }
       ],
       "layout": {
        "template": {
         "data": {
          "bar": [
           {
            "error_x": {
             "color": "#f2f5fa"
            },
            "error_y": {
             "color": "#f2f5fa"
            },
            "marker": {
             "line": {
              "color": "rgb(17,17,17)",
              "width": 0.5
             },
             "pattern": {
              "fillmode": "overlay",
              "size": 10,
              "solidity": 0.2
             }
            },
            "type": "bar"
           }
          ],
          "barpolar": [
           {
            "marker": {
             "line": {
              "color": "rgb(17,17,17)",
              "width": 0.5
             },
             "pattern": {
              "fillmode": "overlay",
              "size": 10,
              "solidity": 0.2
             }
            },
            "type": "barpolar"
           }
          ],
          "carpet": [
           {
            "aaxis": {
             "endlinecolor": "#A2B1C6",
             "gridcolor": "#506784",
             "linecolor": "#506784",
             "minorgridcolor": "#506784",
             "startlinecolor": "#A2B1C6"
            },
            "baxis": {
             "endlinecolor": "#A2B1C6",
             "gridcolor": "#506784",
             "linecolor": "#506784",
             "minorgridcolor": "#506784",
             "startlinecolor": "#A2B1C6"
            },
            "type": "carpet"
           }
          ],
          "choropleth": [
           {
            "colorbar": {
             "outlinewidth": 0,
             "ticks": ""
            },
            "type": "choropleth"
           }
          ],
          "contour": [
           {
            "colorbar": {
             "outlinewidth": 0,
             "ticks": ""
            },
            "colorscale": [
             [
              0,
              "#0d0887"
             ],
             [
              0.1111111111111111,
              "#46039f"
             ],
             [
              0.2222222222222222,
              "#7201a8"
             ],
             [
              0.3333333333333333,
              "#9c179e"
             ],
             [
              0.4444444444444444,
              "#bd3786"
             ],
             [
              0.5555555555555556,
              "#d8576b"
             ],
             [
              0.6666666666666666,
              "#ed7953"
             ],
             [
              0.7777777777777778,
              "#fb9f3a"
             ],
             [
              0.8888888888888888,
              "#fdca26"
             ],
             [
              1,
              "#f0f921"
             ]
            ],
            "type": "contour"
           }
          ],
          "contourcarpet": [
           {
            "colorbar": {
             "outlinewidth": 0,
             "ticks": ""
            },
            "type": "contourcarpet"
           }
          ],
          "heatmap": [
           {
            "colorbar": {
             "outlinewidth": 0,
             "ticks": ""
            },
            "colorscale": [
             [
              0,
              "#0d0887"
             ],
             [
              0.1111111111111111,
              "#46039f"
             ],
             [
              0.2222222222222222,
              "#7201a8"
             ],
             [
              0.3333333333333333,
              "#9c179e"
             ],
             [
              0.4444444444444444,
              "#bd3786"
             ],
             [
              0.5555555555555556,
              "#d8576b"
             ],
             [
              0.6666666666666666,
              "#ed7953"
             ],
             [
              0.7777777777777778,
              "#fb9f3a"
             ],
             [
              0.8888888888888888,
              "#fdca26"
             ],
             [
              1,
              "#f0f921"
             ]
            ],
            "type": "heatmap"
           }
          ],
          "heatmapgl": [
           {
            "colorbar": {
             "outlinewidth": 0,
             "ticks": ""
            },
            "colorscale": [
             [
              0,
              "#0d0887"
             ],
             [
              0.1111111111111111,
              "#46039f"
             ],
             [
              0.2222222222222222,
              "#7201a8"
             ],
             [
              0.3333333333333333,
              "#9c179e"
             ],
             [
              0.4444444444444444,
              "#bd3786"
             ],
             [
              0.5555555555555556,
              "#d8576b"
             ],
             [
              0.6666666666666666,
              "#ed7953"
             ],
             [
              0.7777777777777778,
              "#fb9f3a"
             ],
             [
              0.8888888888888888,
              "#fdca26"
             ],
             [
              1,
              "#f0f921"
             ]
            ],
            "type": "heatmapgl"
           }
          ],
          "histogram": [
           {
            "marker": {
             "pattern": {
              "fillmode": "overlay",
              "size": 10,
              "solidity": 0.2
             }
            },
            "type": "histogram"
           }
          ],
          "histogram2d": [
           {
            "colorbar": {
             "outlinewidth": 0,
             "ticks": ""
            },
            "colorscale": [
             [
              0,
              "#0d0887"
             ],
             [
              0.1111111111111111,
              "#46039f"
             ],
             [
              0.2222222222222222,
              "#7201a8"
             ],
             [
              0.3333333333333333,
              "#9c179e"
             ],
             [
              0.4444444444444444,
              "#bd3786"
             ],
             [
              0.5555555555555556,
              "#d8576b"
             ],
             [
              0.6666666666666666,
              "#ed7953"
             ],
             [
              0.7777777777777778,
              "#fb9f3a"
             ],
             [
              0.8888888888888888,
              "#fdca26"
             ],
             [
              1,
              "#f0f921"
             ]
            ],
            "type": "histogram2d"
           }
          ],
          "histogram2dcontour": [
           {
            "colorbar": {
             "outlinewidth": 0,
             "ticks": ""
            },
            "colorscale": [
             [
              0,
              "#0d0887"
             ],
             [
              0.1111111111111111,
              "#46039f"
             ],
             [
              0.2222222222222222,
              "#7201a8"
             ],
             [
              0.3333333333333333,
              "#9c179e"
             ],
             [
              0.4444444444444444,
              "#bd3786"
             ],
             [
              0.5555555555555556,
              "#d8576b"
             ],
             [
              0.6666666666666666,
              "#ed7953"
             ],
             [
              0.7777777777777778,
              "#fb9f3a"
             ],
             [
              0.8888888888888888,
              "#fdca26"
             ],
             [
              1,
              "#f0f921"
             ]
            ],
            "type": "histogram2dcontour"
           }
          ],
          "mesh3d": [
           {
            "colorbar": {
             "outlinewidth": 0,
             "ticks": ""
            },
            "type": "mesh3d"
           }
          ],
          "parcoords": [
           {
            "line": {
             "colorbar": {
              "outlinewidth": 0,
              "ticks": ""
             }
            },
            "type": "parcoords"
           }
          ],
          "pie": [
           {
            "automargin": true,
            "type": "pie"
           }
          ],
          "scatter": [
           {
            "marker": {
             "line": {
              "color": "#283442"
             }
            },
            "type": "scatter"
           }
          ],
          "scatter3d": [
           {
            "line": {
             "colorbar": {
              "outlinewidth": 0,
              "ticks": ""
             }
            },
            "marker": {
             "colorbar": {
              "outlinewidth": 0,
              "ticks": ""
             }
            },
            "type": "scatter3d"
           }
          ],
          "scattercarpet": [
           {
            "marker": {
             "colorbar": {
              "outlinewidth": 0,
              "ticks": ""
             }
            },
            "type": "scattercarpet"
           }
          ],
          "scattergeo": [
           {
            "marker": {
             "colorbar": {
              "outlinewidth": 0,
              "ticks": ""
             }
            },
            "type": "scattergeo"
           }
          ],
          "scattergl": [
           {
            "marker": {
             "line": {
              "color": "#283442"
             }
            },
            "type": "scattergl"
           }
          ],
          "scattermapbox": [
           {
            "marker": {
             "colorbar": {
              "outlinewidth": 0,
              "ticks": ""
             }
            },
            "type": "scattermapbox"
           }
          ],
          "scatterpolar": [
           {
            "marker": {
             "colorbar": {
              "outlinewidth": 0,
              "ticks": ""
             }
            },
            "type": "scatterpolar"
           }
          ],
          "scatterpolargl": [
           {
            "marker": {
             "colorbar": {
              "outlinewidth": 0,
              "ticks": ""
             }
            },
            "type": "scatterpolargl"
           }
          ],
          "scatterternary": [
           {
            "marker": {
             "colorbar": {
              "outlinewidth": 0,
              "ticks": ""
             }
            },
            "type": "scatterternary"
           }
          ],
          "surface": [
           {
            "colorbar": {
             "outlinewidth": 0,
             "ticks": ""
            },
            "colorscale": [
             [
              0,
              "#0d0887"
             ],
             [
              0.1111111111111111,
              "#46039f"
             ],
             [
              0.2222222222222222,
              "#7201a8"
             ],
             [
              0.3333333333333333,
              "#9c179e"
             ],
             [
              0.4444444444444444,
              "#bd3786"
             ],
             [
              0.5555555555555556,
              "#d8576b"
             ],
             [
              0.6666666666666666,
              "#ed7953"
             ],
             [
              0.7777777777777778,
              "#fb9f3a"
             ],
             [
              0.8888888888888888,
              "#fdca26"
             ],
             [
              1,
              "#f0f921"
             ]
            ],
            "type": "surface"
           }
          ],
          "table": [
           {
            "cells": {
             "fill": {
              "color": "#506784"
             },
             "line": {
              "color": "rgb(17,17,17)"
             }
            },
            "header": {
             "fill": {
              "color": "#2a3f5f"
             },
             "line": {
              "color": "rgb(17,17,17)"
             }
            },
            "type": "table"
           }
          ]
         },
         "layout": {
          "annotationdefaults": {
           "arrowcolor": "#f2f5fa",
           "arrowhead": 0,
           "arrowwidth": 1
          },
          "autotypenumbers": "strict",
          "coloraxis": {
           "colorbar": {
            "outlinewidth": 0,
            "ticks": ""
           }
          },
          "colorscale": {
           "diverging": [
            [
             0,
             "#8e0152"
            ],
            [
             0.1,
             "#c51b7d"
            ],
            [
             0.2,
             "#de77ae"
            ],
            [
             0.3,
             "#f1b6da"
            ],
            [
             0.4,
             "#fde0ef"
            ],
            [
             0.5,
             "#f7f7f7"
            ],
            [
             0.6,
             "#e6f5d0"
            ],
            [
             0.7,
             "#b8e186"
            ],
            [
             0.8,
             "#7fbc41"
            ],
            [
             0.9,
             "#4d9221"
            ],
            [
             1,
             "#276419"
            ]
           ],
           "sequential": [
            [
             0,
             "#0d0887"
            ],
            [
             0.1111111111111111,
             "#46039f"
            ],
            [
             0.2222222222222222,
             "#7201a8"
            ],
            [
             0.3333333333333333,
             "#9c179e"
            ],
            [
             0.4444444444444444,
             "#bd3786"
            ],
            [
             0.5555555555555556,
             "#d8576b"
            ],
            [
             0.6666666666666666,
             "#ed7953"
            ],
            [
             0.7777777777777778,
             "#fb9f3a"
            ],
            [
             0.8888888888888888,
             "#fdca26"
            ],
            [
             1,
             "#f0f921"
            ]
           ],
           "sequentialminus": [
            [
             0,
             "#0d0887"
            ],
            [
             0.1111111111111111,
             "#46039f"
            ],
            [
             0.2222222222222222,
             "#7201a8"
            ],
            [
             0.3333333333333333,
             "#9c179e"
            ],
            [
             0.4444444444444444,
             "#bd3786"
            ],
            [
             0.5555555555555556,
             "#d8576b"
            ],
            [
             0.6666666666666666,
             "#ed7953"
            ],
            [
             0.7777777777777778,
             "#fb9f3a"
            ],
            [
             0.8888888888888888,
             "#fdca26"
            ],
            [
             1,
             "#f0f921"
            ]
           ]
          },
          "colorway": [
           "#636efa",
           "#EF553B",
           "#00cc96",
           "#ab63fa",
           "#FFA15A",
           "#19d3f3",
           "#FF6692",
           "#B6E880",
           "#FF97FF",
           "#FECB52"
          ],
          "font": {
           "color": "#f2f5fa"
          },
          "geo": {
           "bgcolor": "rgb(17,17,17)",
           "lakecolor": "rgb(17,17,17)",
           "landcolor": "rgb(17,17,17)",
           "showlakes": true,
           "showland": true,
           "subunitcolor": "#506784"
          },
          "hoverlabel": {
           "align": "left"
          },
          "hovermode": "closest",
          "mapbox": {
           "style": "dark"
          },
          "paper_bgcolor": "rgb(17,17,17)",
          "plot_bgcolor": "rgb(17,17,17)",
          "polar": {
           "angularaxis": {
            "gridcolor": "#506784",
            "linecolor": "#506784",
            "ticks": ""
           },
           "bgcolor": "rgb(17,17,17)",
           "radialaxis": {
            "gridcolor": "#506784",
            "linecolor": "#506784",
            "ticks": ""
           }
          },
          "scene": {
           "xaxis": {
            "backgroundcolor": "rgb(17,17,17)",
            "gridcolor": "#506784",
            "gridwidth": 2,
            "linecolor": "#506784",
            "showbackground": true,
            "ticks": "",
            "zerolinecolor": "#C8D4E3"
           },
           "yaxis": {
            "backgroundcolor": "rgb(17,17,17)",
            "gridcolor": "#506784",
            "gridwidth": 2,
            "linecolor": "#506784",
            "showbackground": true,
            "ticks": "",
            "zerolinecolor": "#C8D4E3"
           },
           "zaxis": {
            "backgroundcolor": "rgb(17,17,17)",
            "gridcolor": "#506784",
            "gridwidth": 2,
            "linecolor": "#506784",
            "showbackground": true,
            "ticks": "",
            "zerolinecolor": "#C8D4E3"
           }
          },
          "shapedefaults": {
           "line": {
            "color": "#f2f5fa"
           }
          },
          "sliderdefaults": {
           "bgcolor": "#C8D4E3",
           "bordercolor": "rgb(17,17,17)",
           "borderwidth": 1,
           "tickwidth": 0
          },
          "ternary": {
           "aaxis": {
            "gridcolor": "#506784",
            "linecolor": "#506784",
            "ticks": ""
           },
           "baxis": {
            "gridcolor": "#506784",
            "linecolor": "#506784",
            "ticks": ""
           },
           "bgcolor": "rgb(17,17,17)",
           "caxis": {
            "gridcolor": "#506784",
            "linecolor": "#506784",
            "ticks": ""
           }
          },
          "title": {
           "x": 0.05
          },
          "updatemenudefaults": {
           "bgcolor": "#506784",
           "borderwidth": 0
          },
          "xaxis": {
           "automargin": true,
           "gridcolor": "#283442",
           "linecolor": "#506784",
           "ticks": "",
           "title": {
            "standoff": 15
           },
           "zerolinecolor": "#283442",
           "zerolinewidth": 2
          },
          "yaxis": {
           "automargin": true,
           "gridcolor": "#283442",
           "linecolor": "#506784",
           "ticks": "",
           "title": {
            "standoff": 15
           },
           "zerolinecolor": "#283442",
           "zerolinewidth": 2
          }
         }
        },
        "title": {
         "text": "Distribution of Reward Rates for Subject 2"
        },
        "xaxis": {
         "title": {
          "text": "Session Type"
         }
        },
        "yaxis": {
         "title": {
          "text": "Reward Rate"
         }
        }
       }
      }
     },
     "metadata": {},
     "output_type": "display_data"
    }
   ],
   "source": [
    "def plot_box(subject=1, rewards=rewards, title=None):\n",
    "    \"\"\"\n",
    "    Plot box plot of reward rates for a given subject.\n",
    "    \"\"\"\n",
    "    if title is None:\n",
    "        title = f'Distribution of Reward Rates for Subject {subject}'\n",
    "    _df = pd.DataFrame(rewards)\n",
    "    _df = _df[_df['subject'] == subject]\n",
    "    fig = go.Figure()\n",
    "    fig.add_trace(go.Box(x=_df['sessionType'], y=_df['reward_rate'], name='Reward Rate'))\n",
    "    fig.update_layout(template='plotly_dark', title=title)\n",
    "    fig.update_xaxes(title='Session Type')\n",
    "    fig.update_yaxes(title='Reward Rate')\n",
    "    return fig\n",
    "\n",
    "plot_box(1).show()\n",
    "plot_box(2).show()\n"
   ]
  },
  {
   "cell_type": "markdown",
   "metadata": {},
   "source": [
    "---\n",
    "# Human Data: Motivation\n",
    "----"
   ]
  },
  {
   "cell_type": "code",
   "execution_count": 12,
   "metadata": {},
   "outputs": [
    {
     "name": "stderr",
     "output_type": "stream",
     "text": [
      "INFO:root:StimCode (245): [0. 1.]\n",
      "INFO:root:RespCode (245): [1. 4.]\n",
      "0it [00:00, ?it/s]/Users/zachwolpe/miniforge3/envs/mlxgo/lib/python3.12/site-packages/numpy/core/fromnumeric.py:3504: RuntimeWarning:\n",
      "\n",
      "Mean of empty slice.\n",
      "\n",
      "/Users/zachwolpe/miniforge3/envs/mlxgo/lib/python3.12/site-packages/numpy/core/_methods.py:129: RuntimeWarning:\n",
      "\n",
      "invalid value encountered in scalar divide\n",
      "\n",
      "2268it [00:00, 23377.79it/s]\n"
     ]
    },
    {
     "data": {
      "application/vnd.plotly.v1+json": {
       "config": {
        "plotlyServerURL": "https://plot.ly"
       },
       "data": [
        {
         "hovertemplate": "subject=1<br>sessionType=ams1<br>sessionNum=%{x}<br>reward_rate=%{y}<extra></extra>",
         "legendgroup": "1",
         "marker": {
          "color": "#636efa",
          "symbol": "circle"
         },
         "mode": "markers",
         "name": "1",
         "orientation": "v",
         "showlegend": true,
         "type": "scatter",
         "x": [
          0,
          1
         ],
         "xaxis": "x",
         "y": [
          0.9833333333333333,
          0.9166666666666666
         ],
         "yaxis": "y"
        },
        {
         "hovertemplate": "subject=1<br>sessionType=ams2<br>sessionNum=%{x}<br>reward_rate=%{y}<extra></extra>",
         "legendgroup": "1",
         "marker": {
          "color": "#636efa",
          "symbol": "circle"
         },
         "mode": "markers",
         "name": "1",
         "orientation": "v",
         "showlegend": false,
         "type": "scatter",
         "x": [
          0,
          1
         ],
         "xaxis": "x2",
         "y": [
          0.9166666666666666,
          0.8833333333333333
         ],
         "yaxis": "y2"
        },
        {
         "hovertemplate": "subject=1<br>sessionType=eds1<br>sessionNum=%{x}<br>reward_rate=%{y}<extra></extra>",
         "legendgroup": "1",
         "marker": {
          "color": "#636efa",
          "symbol": "circle"
         },
         "mode": "markers",
         "name": "1",
         "orientation": "v",
         "showlegend": false,
         "type": "scatter",
         "x": [
          0
         ],
         "xaxis": "x3",
         "y": [
          0.9166666666666666
         ],
         "yaxis": "y3"
        },
        {
         "hovertemplate": "subject=1<br>sessionType=eds2<br>sessionNum=%{x}<br>reward_rate=%{y}<extra></extra>",
         "legendgroup": "1",
         "marker": {
          "color": "#636efa",
          "symbol": "circle"
         },
         "mode": "markers",
         "name": "1",
         "orientation": "v",
         "showlegend": false,
         "type": "scatter",
         "x": [
          0
         ],
         "xaxis": "x4",
         "y": [
          0.85
         ],
         "yaxis": "y4"
        },
        {
         "hovertemplate": "subject=1<br>sessionType=ids1<br>sessionNum=%{x}<br>reward_rate=%{y}<extra></extra>",
         "legendgroup": "1",
         "marker": {
          "color": "#636efa",
          "symbol": "circle"
         },
         "mode": "markers",
         "name": "1",
         "orientation": "v",
         "showlegend": false,
         "type": "scatter",
         "x": [
          0
         ],
         "xaxis": "x5",
         "y": [
          0.8666666666666667
         ],
         "yaxis": "y5"
        },
        {
         "hovertemplate": "subject=1<br>sessionType=ids2<br>sessionNum=%{x}<br>reward_rate=%{y}<extra></extra>",
         "legendgroup": "1",
         "marker": {
          "color": "#636efa",
          "symbol": "circle"
         },
         "mode": "markers",
         "name": "1",
         "orientation": "v",
         "showlegend": false,
         "type": "scatter",
         "x": [
          0
         ],
         "xaxis": "x6",
         "y": [
          0.9166666666666666
         ],
         "yaxis": "y6"
        },
        {
         "hovertemplate": "subject=1<br>sessionType=staircase1<br>sessionNum=%{x}<br>reward_rate=%{y}<extra></extra>",
         "legendgroup": "1",
         "marker": {
          "color": "#636efa",
          "symbol": "circle"
         },
         "mode": "markers",
         "name": "1",
         "orientation": "v",
         "showlegend": false,
         "type": "scatter",
         "x": [
          0,
          1
         ],
         "xaxis": "x7",
         "y": [
          0.9333333333333333,
          0.7166666666666667
         ],
         "yaxis": "y7"
        },
        {
         "hovertemplate": "subject=1<br>sessionType=staircase2<br>sessionNum=%{x}<br>reward_rate=%{y}<extra></extra>",
         "legendgroup": "1",
         "marker": {
          "color": "#636efa",
          "symbol": "circle"
         },
         "mode": "markers",
         "name": "1",
         "orientation": "v",
         "showlegend": false,
         "type": "scatter",
         "x": [
          0,
          1
         ],
         "xaxis": "x8",
         "y": [
          0.9166666666666666,
          0.6166666666666667
         ],
         "yaxis": "y8"
        },
        {
         "hovertemplate": "subject=1<br>sessionType=training<br>sessionNum=%{x}<br>reward_rate=%{y}<extra></extra>",
         "legendgroup": "1",
         "marker": {
          "color": "#636efa",
          "symbol": "circle"
         },
         "mode": "markers",
         "name": "1",
         "orientation": "v",
         "showlegend": false,
         "type": "scatter",
         "x": [
          0,
          1,
          2
         ],
         "xaxis": "x9",
         "y": [
          0.5,
          0.5166666666666667,
          0.8166666666666667
         ],
         "yaxis": "y9"
        },
        {
         "hovertemplate": "subject=2<br>sessionType=ams1<br>sessionNum=%{x}<br>reward_rate=%{y}<extra></extra>",
         "legendgroup": "2",
         "marker": {
          "color": "#EF553B",
          "symbol": "circle"
         },
         "mode": "markers",
         "name": "2",
         "orientation": "v",
         "showlegend": true,
         "type": "scatter",
         "x": [
          0,
          1
         ],
         "xaxis": "x",
         "y": [
          0.7333333333333333,
          0.75
         ],
         "yaxis": "y"
        },
        {
         "hovertemplate": "subject=2<br>sessionType=ams2<br>sessionNum=%{x}<br>reward_rate=%{y}<extra></extra>",
         "legendgroup": "2",
         "marker": {
          "color": "#EF553B",
          "symbol": "circle"
         },
         "mode": "markers",
         "name": "2",
         "orientation": "v",
         "showlegend": false,
         "type": "scatter",
         "x": [
          0,
          1
         ],
         "xaxis": "x2",
         "y": [
          0.6333333333333333,
          0.43333333333333335
         ],
         "yaxis": "y2"
        },
        {
         "hovertemplate": "subject=2<br>sessionType=eds1<br>sessionNum=%{x}<br>reward_rate=%{y}<extra></extra>",
         "legendgroup": "2",
         "marker": {
          "color": "#EF553B",
          "symbol": "circle"
         },
         "mode": "markers",
         "name": "2",
         "orientation": "v",
         "showlegend": false,
         "type": "scatter",
         "x": [
          0
         ],
         "xaxis": "x3",
         "y": [
          0.9333333333333333
         ],
         "yaxis": "y3"
        },
        {
         "hovertemplate": "subject=2<br>sessionType=eds2<br>sessionNum=%{x}<br>reward_rate=%{y}<extra></extra>",
         "legendgroup": "2",
         "marker": {
          "color": "#EF553B",
          "symbol": "circle"
         },
         "mode": "markers",
         "name": "2",
         "orientation": "v",
         "showlegend": false,
         "type": "scatter",
         "x": [
          0
         ],
         "xaxis": "x4",
         "y": [
          0.9666666666666667
         ],
         "yaxis": "y4"
        },
        {
         "hovertemplate": "subject=2<br>sessionType=ids1<br>sessionNum=%{x}<br>reward_rate=%{y}<extra></extra>",
         "legendgroup": "2",
         "marker": {
          "color": "#EF553B",
          "symbol": "circle"
         },
         "mode": "markers",
         "name": "2",
         "orientation": "v",
         "showlegend": false,
         "type": "scatter",
         "x": [
          0,
          1
         ],
         "xaxis": "x5",
         "y": [
          0.6833333333333333,
          0.7333333333333333
         ],
         "yaxis": "y5"
        },
        {
         "hovertemplate": "subject=2<br>sessionType=ids2<br>sessionNum=%{x}<br>reward_rate=%{y}<extra></extra>",
         "legendgroup": "2",
         "marker": {
          "color": "#EF553B",
          "symbol": "circle"
         },
         "mode": "markers",
         "name": "2",
         "orientation": "v",
         "showlegend": false,
         "type": "scatter",
         "x": [
          0
         ],
         "xaxis": "x6",
         "y": [
          0.9666666666666667
         ],
         "yaxis": "y6"
        },
        {
         "hovertemplate": "subject=2<br>sessionType=staircase1<br>sessionNum=%{x}<br>reward_rate=%{y}<extra></extra>",
         "legendgroup": "2",
         "marker": {
          "color": "#EF553B",
          "symbol": "circle"
         },
         "mode": "markers",
         "name": "2",
         "orientation": "v",
         "showlegend": false,
         "type": "scatter",
         "x": [
          0
         ],
         "xaxis": "x7",
         "y": [
          0.75
         ],
         "yaxis": "y7"
        },
        {
         "hovertemplate": "subject=2<br>sessionType=staircase2<br>sessionNum=%{x}<br>reward_rate=%{y}<extra></extra>",
         "legendgroup": "2",
         "marker": {
          "color": "#EF553B",
          "symbol": "circle"
         },
         "mode": "markers",
         "name": "2",
         "orientation": "v",
         "showlegend": false,
         "type": "scatter",
         "x": [
          0,
          1
         ],
         "xaxis": "x8",
         "y": [
          0.9666666666666667,
          0.6666666666666666
         ],
         "yaxis": "y8"
        },
        {
         "hovertemplate": "subject=2<br>sessionType=training<br>sessionNum=%{x}<br>reward_rate=%{y}<extra></extra>",
         "legendgroup": "2",
         "marker": {
          "color": "#EF553B",
          "symbol": "circle"
         },
         "mode": "markers",
         "name": "2",
         "orientation": "v",
         "showlegend": false,
         "type": "scatter",
         "x": [
          0,
          1
         ],
         "xaxis": "x9",
         "y": [
          0.5833333333333334,
          0.6666666666666666
         ],
         "yaxis": "y9"
        },
        {
         "hovertemplate": "subject=3<br>sessionType=ams1<br>sessionNum=%{x}<br>reward_rate=%{y}<extra></extra>",
         "legendgroup": "3",
         "marker": {
          "color": "#00cc96",
          "symbol": "circle"
         },
         "mode": "markers",
         "name": "3",
         "orientation": "v",
         "showlegend": true,
         "type": "scatter",
         "x": [
          0,
          1
         ],
         "xaxis": "x",
         "y": [
          0.38333333333333336,
          0.65
         ],
         "yaxis": "y"
        },
        {
         "hovertemplate": "subject=3<br>sessionType=ams2<br>sessionNum=%{x}<br>reward_rate=%{y}<extra></extra>",
         "legendgroup": "3",
         "marker": {
          "color": "#00cc96",
          "symbol": "circle"
         },
         "mode": "markers",
         "name": "3",
         "orientation": "v",
         "showlegend": false,
         "type": "scatter",
         "x": [
          0,
          1
         ],
         "xaxis": "x2",
         "y": [
          1,
          0.9333333333333333
         ],
         "yaxis": "y2"
        },
        {
         "hovertemplate": "subject=3<br>sessionType=eds1<br>sessionNum=%{x}<br>reward_rate=%{y}<extra></extra>",
         "legendgroup": "3",
         "marker": {
          "color": "#00cc96",
          "symbol": "circle"
         },
         "mode": "markers",
         "name": "3",
         "orientation": "v",
         "showlegend": false,
         "type": "scatter",
         "x": [
          0
         ],
         "xaxis": "x3",
         "y": [
          0.95
         ],
         "yaxis": "y3"
        },
        {
         "hovertemplate": "subject=3<br>sessionType=eds2<br>sessionNum=%{x}<br>reward_rate=%{y}<extra></extra>",
         "legendgroup": "3",
         "marker": {
          "color": "#00cc96",
          "symbol": "circle"
         },
         "mode": "markers",
         "name": "3",
         "orientation": "v",
         "showlegend": false,
         "type": "scatter",
         "x": [
          0
         ],
         "xaxis": "x4",
         "y": [
          0.9833333333333333
         ],
         "yaxis": "y4"
        },
        {
         "hovertemplate": "subject=3<br>sessionType=ids1<br>sessionNum=%{x}<br>reward_rate=%{y}<extra></extra>",
         "legendgroup": "3",
         "marker": {
          "color": "#00cc96",
          "symbol": "circle"
         },
         "mode": "markers",
         "name": "3",
         "orientation": "v",
         "showlegend": false,
         "type": "scatter",
         "x": [
          0
         ],
         "xaxis": "x5",
         "y": [
          0.9833333333333333
         ],
         "yaxis": "y5"
        },
        {
         "hovertemplate": "subject=3<br>sessionType=ids2<br>sessionNum=%{x}<br>reward_rate=%{y}<extra></extra>",
         "legendgroup": "3",
         "marker": {
          "color": "#00cc96",
          "symbol": "circle"
         },
         "mode": "markers",
         "name": "3",
         "orientation": "v",
         "showlegend": false,
         "type": "scatter",
         "x": [
          0
         ],
         "xaxis": "x6",
         "y": [
          0.9833333333333333
         ],
         "yaxis": "y6"
        },
        {
         "hovertemplate": "subject=3<br>sessionType=staircase1<br>sessionNum=%{x}<br>reward_rate=%{y}<extra></extra>",
         "legendgroup": "3",
         "marker": {
          "color": "#00cc96",
          "symbol": "circle"
         },
         "mode": "markers",
         "name": "3",
         "orientation": "v",
         "showlegend": false,
         "type": "scatter",
         "x": [
          0,
          1
         ],
         "xaxis": "x7",
         "y": [
          0.95,
          0.65
         ],
         "yaxis": "y7"
        },
        {
         "hovertemplate": "subject=3<br>sessionType=staircase2<br>sessionNum=%{x}<br>reward_rate=%{y}<extra></extra>",
         "legendgroup": "3",
         "marker": {
          "color": "#00cc96",
          "symbol": "circle"
         },
         "mode": "markers",
         "name": "3",
         "orientation": "v",
         "showlegend": false,
         "type": "scatter",
         "x": [
          0,
          1
         ],
         "xaxis": "x8",
         "y": [
          0.9833333333333333,
          0.6833333333333333
         ],
         "yaxis": "y8"
        },
        {
         "hovertemplate": "subject=3<br>sessionType=training<br>sessionNum=%{x}<br>reward_rate=%{y}<extra></extra>",
         "legendgroup": "3",
         "marker": {
          "color": "#00cc96",
          "symbol": "circle"
         },
         "mode": "markers",
         "name": "3",
         "orientation": "v",
         "showlegend": false,
         "type": "scatter",
         "x": [
          0
         ],
         "xaxis": "x9",
         "y": [
          0.8
         ],
         "yaxis": "y9"
        },
        {
         "hovertemplate": "subject=4<br>sessionType=ams1<br>sessionNum=%{x}<br>reward_rate=%{y}<extra></extra>",
         "legendgroup": "4",
         "marker": {
          "color": "#ab63fa",
          "symbol": "circle"
         },
         "mode": "markers",
         "name": "4",
         "orientation": "v",
         "showlegend": true,
         "type": "scatter",
         "x": [
          0,
          1
         ],
         "xaxis": "x",
         "y": [
          0.9833333333333333,
          0.9833333333333333
         ],
         "yaxis": "y"
        },
        {
         "hovertemplate": "subject=4<br>sessionType=ams2<br>sessionNum=%{x}<br>reward_rate=%{y}<extra></extra>",
         "legendgroup": "4",
         "marker": {
          "color": "#ab63fa",
          "symbol": "circle"
         },
         "mode": "markers",
         "name": "4",
         "orientation": "v",
         "showlegend": false,
         "type": "scatter",
         "x": [
          0,
          1
         ],
         "xaxis": "x2",
         "y": [
          0.5833333333333334,
          0.7
         ],
         "yaxis": "y2"
        },
        {
         "hovertemplate": "subject=4<br>sessionType=eds1<br>sessionNum=%{x}<br>reward_rate=%{y}<extra></extra>",
         "legendgroup": "4",
         "marker": {
          "color": "#ab63fa",
          "symbol": "circle"
         },
         "mode": "markers",
         "name": "4",
         "orientation": "v",
         "showlegend": false,
         "type": "scatter",
         "x": [
          0
         ],
         "xaxis": "x3",
         "y": [
          0.7166666666666667
         ],
         "yaxis": "y3"
        },
        {
         "hovertemplate": "subject=4<br>sessionType=eds2<br>sessionNum=%{x}<br>reward_rate=%{y}<extra></extra>",
         "legendgroup": "4",
         "marker": {
          "color": "#ab63fa",
          "symbol": "circle"
         },
         "mode": "markers",
         "name": "4",
         "orientation": "v",
         "showlegend": false,
         "type": "scatter",
         "x": [
          0
         ],
         "xaxis": "x4",
         "y": [
          0.9166666666666666
         ],
         "yaxis": "y4"
        },
        {
         "hovertemplate": "subject=4<br>sessionType=ids1<br>sessionNum=%{x}<br>reward_rate=%{y}<extra></extra>",
         "legendgroup": "4",
         "marker": {
          "color": "#ab63fa",
          "symbol": "circle"
         },
         "mode": "markers",
         "name": "4",
         "orientation": "v",
         "showlegend": false,
         "type": "scatter",
         "x": [
          0
         ],
         "xaxis": "x5",
         "y": [
          0.9833333333333333
         ],
         "yaxis": "y5"
        },
        {
         "hovertemplate": "subject=4<br>sessionType=ids2<br>sessionNum=%{x}<br>reward_rate=%{y}<extra></extra>",
         "legendgroup": "4",
         "marker": {
          "color": "#ab63fa",
          "symbol": "circle"
         },
         "mode": "markers",
         "name": "4",
         "orientation": "v",
         "showlegend": false,
         "type": "scatter",
         "x": [
          0
         ],
         "xaxis": "x6",
         "y": [
          0.9833333333333333
         ],
         "yaxis": "y6"
        },
        {
         "hovertemplate": "subject=4<br>sessionType=staircase1<br>sessionNum=%{x}<br>reward_rate=%{y}<extra></extra>",
         "legendgroup": "4",
         "marker": {
          "color": "#ab63fa",
          "symbol": "circle"
         },
         "mode": "markers",
         "name": "4",
         "orientation": "v",
         "showlegend": false,
         "type": "scatter",
         "x": [
          0,
          1
         ],
         "xaxis": "x7",
         "y": [
          0.9666666666666667,
          0.7
         ],
         "yaxis": "y7"
        },
        {
         "hovertemplate": "subject=4<br>sessionType=staircase2<br>sessionNum=%{x}<br>reward_rate=%{y}<extra></extra>",
         "legendgroup": "4",
         "marker": {
          "color": "#ab63fa",
          "symbol": "circle"
         },
         "mode": "markers",
         "name": "4",
         "orientation": "v",
         "showlegend": false,
         "type": "scatter",
         "x": [
          0,
          1
         ],
         "xaxis": "x8",
         "y": [
          0.8833333333333333,
          0.75
         ],
         "yaxis": "y8"
        },
        {
         "hovertemplate": "subject=4<br>sessionType=training<br>sessionNum=%{x}<br>reward_rate=%{y}<extra></extra>",
         "legendgroup": "4",
         "marker": {
          "color": "#ab63fa",
          "symbol": "circle"
         },
         "mode": "markers",
         "name": "4",
         "orientation": "v",
         "showlegend": false,
         "type": "scatter",
         "x": [
          0
         ],
         "xaxis": "x9",
         "y": [
          0.8666666666666667
         ],
         "yaxis": "y9"
        },
        {
         "hovertemplate": "subject=5<br>sessionType=ids1<br>sessionNum=%{x}<br>reward_rate=%{y}<extra></extra>",
         "legendgroup": "5",
         "marker": {
          "color": "#FFA15A",
          "symbol": "circle"
         },
         "mode": "markers",
         "name": "5",
         "orientation": "v",
         "showlegend": true,
         "type": "scatter",
         "x": [
          0
         ],
         "xaxis": "x5",
         "y": [
          0.5
         ],
         "yaxis": "y5"
        },
        {
         "hovertemplate": "subject=5<br>sessionType=training<br>sessionNum=%{x}<br>reward_rate=%{y}<extra></extra>",
         "legendgroup": "5",
         "marker": {
          "color": "#FFA15A",
          "symbol": "circle"
         },
         "mode": "markers",
         "name": "5",
         "orientation": "v",
         "showlegend": false,
         "type": "scatter",
         "x": [
          0,
          1,
          2,
          3,
          4,
          5,
          6,
          7,
          8,
          9,
          10,
          11,
          12,
          13
         ],
         "xaxis": "x9",
         "y": [
          0.5,
          0.5,
          0.5,
          0.5,
          0.5,
          0.5,
          0.5,
          0.5,
          0.5,
          0.5,
          0.5,
          0.5,
          0.5,
          0.5
         ],
         "yaxis": "y9"
        },
        {
         "hovertemplate": "subject=6<br>sessionType=ams1<br>sessionNum=%{x}<br>reward_rate=%{y}<extra></extra>",
         "legendgroup": "6",
         "marker": {
          "color": "#19d3f3",
          "symbol": "circle"
         },
         "mode": "markers",
         "name": "6",
         "orientation": "v",
         "showlegend": true,
         "type": "scatter",
         "x": [
          0,
          1
         ],
         "xaxis": "x",
         "y": [
          0.5,
          0.5
         ],
         "yaxis": "y"
        },
        {
         "hovertemplate": "subject=6<br>sessionType=ams2<br>sessionNum=%{x}<br>reward_rate=%{y}<extra></extra>",
         "legendgroup": "6",
         "marker": {
          "color": "#19d3f3",
          "symbol": "circle"
         },
         "mode": "markers",
         "name": "6",
         "orientation": "v",
         "showlegend": false,
         "type": "scatter",
         "x": [
          0,
          1
         ],
         "xaxis": "x2",
         "y": [
          0.5,
          0.5
         ],
         "yaxis": "y2"
        },
        {
         "hovertemplate": "subject=6<br>sessionType=eds1<br>sessionNum=%{x}<br>reward_rate=%{y}<extra></extra>",
         "legendgroup": "6",
         "marker": {
          "color": "#19d3f3",
          "symbol": "circle"
         },
         "mode": "markers",
         "name": "6",
         "orientation": "v",
         "showlegend": false,
         "type": "scatter",
         "x": [
          0
         ],
         "xaxis": "x3",
         "y": [
          0.5
         ],
         "yaxis": "y3"
        },
        {
         "hovertemplate": "subject=6<br>sessionType=eds2<br>sessionNum=%{x}<br>reward_rate=%{y}<extra></extra>",
         "legendgroup": "6",
         "marker": {
          "color": "#19d3f3",
          "symbol": "circle"
         },
         "mode": "markers",
         "name": "6",
         "orientation": "v",
         "showlegend": false,
         "type": "scatter",
         "x": [
          0
         ],
         "xaxis": "x4",
         "y": [
          0.5
         ],
         "yaxis": "y4"
        },
        {
         "hovertemplate": "subject=6<br>sessionType=ids2<br>sessionNum=%{x}<br>reward_rate=%{y}<extra></extra>",
         "legendgroup": "6",
         "marker": {
          "color": "#19d3f3",
          "symbol": "circle"
         },
         "mode": "markers",
         "name": "6",
         "orientation": "v",
         "showlegend": false,
         "type": "scatter",
         "x": [
          0
         ],
         "xaxis": "x6",
         "y": [
          0.5
         ],
         "yaxis": "y6"
        },
        {
         "hovertemplate": "subject=6<br>sessionType=staircase1<br>sessionNum=%{x}<br>reward_rate=%{y}<extra></extra>",
         "legendgroup": "6",
         "marker": {
          "color": "#19d3f3",
          "symbol": "circle"
         },
         "mode": "markers",
         "name": "6",
         "orientation": "v",
         "showlegend": false,
         "type": "scatter",
         "x": [
          0
         ],
         "xaxis": "x7",
         "y": [
          0.5
         ],
         "yaxis": "y7"
        },
        {
         "hovertemplate": "subject=6<br>sessionType=staircase2<br>sessionNum=%{x}<br>reward_rate=%{y}<extra></extra>",
         "legendgroup": "6",
         "marker": {
          "color": "#19d3f3",
          "symbol": "circle"
         },
         "mode": "markers",
         "name": "6",
         "orientation": "v",
         "showlegend": false,
         "type": "scatter",
         "x": [
          0,
          1
         ],
         "xaxis": "x8",
         "y": [
          0.5,
          0.5
         ],
         "yaxis": "y8"
        },
        {
         "hovertemplate": "subject=7<br>sessionType=ams1<br>sessionNum=%{x}<br>reward_rate=%{y}<extra></extra>",
         "legendgroup": "7",
         "marker": {
          "color": "#FF6692",
          "symbol": "circle"
         },
         "mode": "markers",
         "name": "7",
         "orientation": "v",
         "showlegend": true,
         "type": "scatter",
         "x": [
          0,
          1
         ],
         "xaxis": "x",
         "y": [
          0.8666666666666667,
          0.8333333333333334
         ],
         "yaxis": "y"
        },
        {
         "hovertemplate": "subject=7<br>sessionType=ams2<br>sessionNum=%{x}<br>reward_rate=%{y}<extra></extra>",
         "legendgroup": "7",
         "marker": {
          "color": "#FF6692",
          "symbol": "circle"
         },
         "mode": "markers",
         "name": "7",
         "orientation": "v",
         "showlegend": false,
         "type": "scatter",
         "x": [
          0,
          1
         ],
         "xaxis": "x2",
         "y": [
          0.9666666666666667,
          0.9833333333333333
         ],
         "yaxis": "y2"
        },
        {
         "hovertemplate": "subject=7<br>sessionType=eds1<br>sessionNum=%{x}<br>reward_rate=%{y}<extra></extra>",
         "legendgroup": "7",
         "marker": {
          "color": "#FF6692",
          "symbol": "circle"
         },
         "mode": "markers",
         "name": "7",
         "orientation": "v",
         "showlegend": false,
         "type": "scatter",
         "x": [
          0
         ],
         "xaxis": "x3",
         "y": [
          0.75
         ],
         "yaxis": "y3"
        },
        {
         "hovertemplate": "subject=7<br>sessionType=eds2<br>sessionNum=%{x}<br>reward_rate=%{y}<extra></extra>",
         "legendgroup": "7",
         "marker": {
          "color": "#FF6692",
          "symbol": "circle"
         },
         "mode": "markers",
         "name": "7",
         "orientation": "v",
         "showlegend": false,
         "type": "scatter",
         "x": [
          0
         ],
         "xaxis": "x4",
         "y": [
          0.9333333333333333
         ],
         "yaxis": "y4"
        },
        {
         "hovertemplate": "subject=7<br>sessionType=ids1<br>sessionNum=%{x}<br>reward_rate=%{y}<extra></extra>",
         "legendgroup": "7",
         "marker": {
          "color": "#FF6692",
          "symbol": "circle"
         },
         "mode": "markers",
         "name": "7",
         "orientation": "v",
         "showlegend": false,
         "type": "scatter",
         "x": [
          0
         ],
         "xaxis": "x5",
         "y": [
          0.9833333333333333
         ],
         "yaxis": "y5"
        },
        {
         "hovertemplate": "subject=7<br>sessionType=ids2<br>sessionNum=%{x}<br>reward_rate=%{y}<extra></extra>",
         "legendgroup": "7",
         "marker": {
          "color": "#FF6692",
          "symbol": "circle"
         },
         "mode": "markers",
         "name": "7",
         "orientation": "v",
         "showlegend": false,
         "type": "scatter",
         "x": [
          0
         ],
         "xaxis": "x6",
         "y": [
          0.9666666666666667
         ],
         "yaxis": "y6"
        },
        {
         "hovertemplate": "subject=7<br>sessionType=staircase1<br>sessionNum=%{x}<br>reward_rate=%{y}<extra></extra>",
         "legendgroup": "7",
         "marker": {
          "color": "#FF6692",
          "symbol": "circle"
         },
         "mode": "markers",
         "name": "7",
         "orientation": "v",
         "showlegend": false,
         "type": "scatter",
         "x": [
          0,
          1
         ],
         "xaxis": "x7",
         "y": [
          0.95,
          0.65
         ],
         "yaxis": "y7"
        },
        {
         "hovertemplate": "subject=7<br>sessionType=staircase2<br>sessionNum=%{x}<br>reward_rate=%{y}<extra></extra>",
         "legendgroup": "7",
         "marker": {
          "color": "#FF6692",
          "symbol": "circle"
         },
         "mode": "markers",
         "name": "7",
         "orientation": "v",
         "showlegend": false,
         "type": "scatter",
         "x": [
          0,
          1
         ],
         "xaxis": "x8",
         "y": [
          0.95,
          0.6666666666666666
         ],
         "yaxis": "y8"
        },
        {
         "hovertemplate": "subject=7<br>sessionType=training<br>sessionNum=%{x}<br>reward_rate=%{y}<extra></extra>",
         "legendgroup": "7",
         "marker": {
          "color": "#FF6692",
          "symbol": "circle"
         },
         "mode": "markers",
         "name": "7",
         "orientation": "v",
         "showlegend": false,
         "type": "scatter",
         "x": [
          0
         ],
         "xaxis": "x9",
         "y": [
          0.7333333333333333
         ],
         "yaxis": "y9"
        },
        {
         "hovertemplate": "subject=8<br>sessionType=ams1<br>sessionNum=%{x}<br>reward_rate=%{y}<extra></extra>",
         "legendgroup": "8",
         "marker": {
          "color": "#B6E880",
          "symbol": "circle"
         },
         "mode": "markers",
         "name": "8",
         "orientation": "v",
         "showlegend": true,
         "type": "scatter",
         "x": [
          0,
          1
         ],
         "xaxis": "x",
         "y": [
          0.9833333333333333,
          1
         ],
         "yaxis": "y"
        },
        {
         "hovertemplate": "subject=8<br>sessionType=ams2<br>sessionNum=%{x}<br>reward_rate=%{y}<extra></extra>",
         "legendgroup": "8",
         "marker": {
          "color": "#B6E880",
          "symbol": "circle"
         },
         "mode": "markers",
         "name": "8",
         "orientation": "v",
         "showlegend": false,
         "type": "scatter",
         "x": [
          0,
          1
         ],
         "xaxis": "x2",
         "y": [
          0.55,
          0.5333333333333333
         ],
         "yaxis": "y2"
        },
        {
         "hovertemplate": "subject=8<br>sessionType=eds1<br>sessionNum=%{x}<br>reward_rate=%{y}<extra></extra>",
         "legendgroup": "8",
         "marker": {
          "color": "#B6E880",
          "symbol": "circle"
         },
         "mode": "markers",
         "name": "8",
         "orientation": "v",
         "showlegend": false,
         "type": "scatter",
         "x": [
          0
         ],
         "xaxis": "x3",
         "y": [
          0.8
         ],
         "yaxis": "y3"
        },
        {
         "hovertemplate": "subject=8<br>sessionType=eds2<br>sessionNum=%{x}<br>reward_rate=%{y}<extra></extra>",
         "legendgroup": "8",
         "marker": {
          "color": "#B6E880",
          "symbol": "circle"
         },
         "mode": "markers",
         "name": "8",
         "orientation": "v",
         "showlegend": false,
         "type": "scatter",
         "x": [
          0
         ],
         "xaxis": "x4",
         "y": [
          0.7666666666666667
         ],
         "yaxis": "y4"
        },
        {
         "hovertemplate": "subject=8<br>sessionType=ids1<br>sessionNum=%{x}<br>reward_rate=%{y}<extra></extra>",
         "legendgroup": "8",
         "marker": {
          "color": "#B6E880",
          "symbol": "circle"
         },
         "mode": "markers",
         "name": "8",
         "orientation": "v",
         "showlegend": false,
         "type": "scatter",
         "x": [
          0
         ],
         "xaxis": "x5",
         "y": [
          0.7
         ],
         "yaxis": "y5"
        },
        {
         "hovertemplate": "subject=8<br>sessionType=ids2<br>sessionNum=%{x}<br>reward_rate=%{y}<extra></extra>",
         "legendgroup": "8",
         "marker": {
          "color": "#B6E880",
          "symbol": "circle"
         },
         "mode": "markers",
         "name": "8",
         "orientation": "v",
         "showlegend": false,
         "type": "scatter",
         "x": [
          0
         ],
         "xaxis": "x6",
         "y": [
          0.95
         ],
         "yaxis": "y6"
        },
        {
         "hovertemplate": "subject=8<br>sessionType=staircase1<br>sessionNum=%{x}<br>reward_rate=%{y}<extra></extra>",
         "legendgroup": "8",
         "marker": {
          "color": "#B6E880",
          "symbol": "circle"
         },
         "mode": "markers",
         "name": "8",
         "orientation": "v",
         "showlegend": false,
         "type": "scatter",
         "x": [
          0
         ],
         "xaxis": "x7",
         "y": [
          0.7833333333333333
         ],
         "yaxis": "y7"
        },
        {
         "hovertemplate": "subject=8<br>sessionType=staircase2<br>sessionNum=%{x}<br>reward_rate=%{y}<extra></extra>",
         "legendgroup": "8",
         "marker": {
          "color": "#B6E880",
          "symbol": "circle"
         },
         "mode": "markers",
         "name": "8",
         "orientation": "v",
         "showlegend": false,
         "type": "scatter",
         "x": [
          0,
          1
         ],
         "xaxis": "x8",
         "y": [
          0.9333333333333333,
          0.7166666666666667
         ],
         "yaxis": "y8"
        },
        {
         "hovertemplate": "subject=8<br>sessionType=training<br>sessionNum=%{x}<br>reward_rate=%{y}<extra></extra>",
         "legendgroup": "8",
         "marker": {
          "color": "#B6E880",
          "symbol": "circle"
         },
         "mode": "markers",
         "name": "8",
         "orientation": "v",
         "showlegend": false,
         "type": "scatter",
         "x": [
          0,
          1,
          2
         ],
         "xaxis": "x9",
         "y": [
          0.4666666666666667,
          0.5833333333333334,
          0.7666666666666667
         ],
         "yaxis": "y9"
        },
        {
         "hovertemplate": "subject=9<br>sessionType=ams1<br>sessionNum=%{x}<br>reward_rate=%{y}<extra></extra>",
         "legendgroup": "9",
         "marker": {
          "color": "#FF97FF",
          "symbol": "circle"
         },
         "mode": "markers",
         "name": "9",
         "orientation": "v",
         "showlegend": true,
         "type": "scatter",
         "x": [
          0,
          1
         ],
         "xaxis": "x",
         "y": [
          0.5833333333333334,
          0.55
         ],
         "yaxis": "y"
        },
        {
         "hovertemplate": "subject=9<br>sessionType=ams2<br>sessionNum=%{x}<br>reward_rate=%{y}<extra></extra>",
         "legendgroup": "9",
         "marker": {
          "color": "#FF97FF",
          "symbol": "circle"
         },
         "mode": "markers",
         "name": "9",
         "orientation": "v",
         "showlegend": false,
         "type": "scatter",
         "x": [
          0,
          1
         ],
         "xaxis": "x2",
         "y": [
          0.9666666666666667,
          1
         ],
         "yaxis": "y2"
        },
        {
         "hovertemplate": "subject=9<br>sessionType=eds1<br>sessionNum=%{x}<br>reward_rate=%{y}<extra></extra>",
         "legendgroup": "9",
         "marker": {
          "color": "#FF97FF",
          "symbol": "circle"
         },
         "mode": "markers",
         "name": "9",
         "orientation": "v",
         "showlegend": false,
         "type": "scatter",
         "x": [
          0
         ],
         "xaxis": "x3",
         "y": [
          0.7166666666666667
         ],
         "yaxis": "y3"
        },
        {
         "hovertemplate": "subject=9<br>sessionType=eds2<br>sessionNum=%{x}<br>reward_rate=%{y}<extra></extra>",
         "legendgroup": "9",
         "marker": {
          "color": "#FF97FF",
          "symbol": "circle"
         },
         "mode": "markers",
         "name": "9",
         "orientation": "v",
         "showlegend": false,
         "type": "scatter",
         "x": [
          0
         ],
         "xaxis": "x4",
         "y": [
          0.7666666666666667
         ],
         "yaxis": "y4"
        },
        {
         "hovertemplate": "subject=9<br>sessionType=ids1<br>sessionNum=%{x}<br>reward_rate=%{y}<extra></extra>",
         "legendgroup": "9",
         "marker": {
          "color": "#FF97FF",
          "symbol": "circle"
         },
         "mode": "markers",
         "name": "9",
         "orientation": "v",
         "showlegend": false,
         "type": "scatter",
         "x": [
          0
         ],
         "xaxis": "x5",
         "y": [
          0.9
         ],
         "yaxis": "y5"
        },
        {
         "hovertemplate": "subject=9<br>sessionType=ids2<br>sessionNum=%{x}<br>reward_rate=%{y}<extra></extra>",
         "legendgroup": "9",
         "marker": {
          "color": "#FF97FF",
          "symbol": "circle"
         },
         "mode": "markers",
         "name": "9",
         "orientation": "v",
         "showlegend": false,
         "type": "scatter",
         "x": [
          0
         ],
         "xaxis": "x6",
         "y": [
          0.8166666666666667
         ],
         "yaxis": "y6"
        },
        {
         "hovertemplate": "subject=9<br>sessionType=staircase1<br>sessionNum=%{x}<br>reward_rate=%{y}<extra></extra>",
         "legendgroup": "9",
         "marker": {
          "color": "#FF97FF",
          "symbol": "circle"
         },
         "mode": "markers",
         "name": "9",
         "orientation": "v",
         "showlegend": false,
         "type": "scatter",
         "x": [
          0,
          1
         ],
         "xaxis": "x7",
         "y": [
          0.9666666666666667,
          0.6666666666666666
         ],
         "yaxis": "y7"
        },
        {
         "hovertemplate": "subject=9<br>sessionType=staircase2<br>sessionNum=%{x}<br>reward_rate=%{y}<extra></extra>",
         "legendgroup": "9",
         "marker": {
          "color": "#FF97FF",
          "symbol": "circle"
         },
         "mode": "markers",
         "name": "9",
         "orientation": "v",
         "showlegend": false,
         "type": "scatter",
         "x": [
          0,
          1
         ],
         "xaxis": "x8",
         "y": [
          0.9,
          0.75
         ],
         "yaxis": "y8"
        },
        {
         "hovertemplate": "subject=9<br>sessionType=training<br>sessionNum=%{x}<br>reward_rate=%{y}<extra></extra>",
         "legendgroup": "9",
         "marker": {
          "color": "#FF97FF",
          "symbol": "circle"
         },
         "mode": "markers",
         "name": "9",
         "orientation": "v",
         "showlegend": false,
         "type": "scatter",
         "x": [
          0,
          1
         ],
         "xaxis": "x9",
         "y": [
          0.5833333333333334,
          0.9833333333333333
         ],
         "yaxis": "y9"
        },
        {
         "hovertemplate": "subject=10<br>sessionType=ams1<br>sessionNum=%{x}<br>reward_rate=%{y}<extra></extra>",
         "legendgroup": "10",
         "marker": {
          "color": "#FECB52",
          "symbol": "circle"
         },
         "mode": "markers",
         "name": "10",
         "orientation": "v",
         "showlegend": true,
         "type": "scatter",
         "x": [
          0,
          1
         ],
         "xaxis": "x",
         "y": [
          0.9333333333333333,
          0.9666666666666667
         ],
         "yaxis": "y"
        },
        {
         "hovertemplate": "subject=10<br>sessionType=ams2<br>sessionNum=%{x}<br>reward_rate=%{y}<extra></extra>",
         "legendgroup": "10",
         "marker": {
          "color": "#FECB52",
          "symbol": "circle"
         },
         "mode": "markers",
         "name": "10",
         "orientation": "v",
         "showlegend": false,
         "type": "scatter",
         "x": [
          0,
          1
         ],
         "xaxis": "x2",
         "y": [
          0.8333333333333334,
          0.9666666666666667
         ],
         "yaxis": "y2"
        },
        {
         "hovertemplate": "subject=10<br>sessionType=eds1<br>sessionNum=%{x}<br>reward_rate=%{y}<extra></extra>",
         "legendgroup": "10",
         "marker": {
          "color": "#FECB52",
          "symbol": "circle"
         },
         "mode": "markers",
         "name": "10",
         "orientation": "v",
         "showlegend": false,
         "type": "scatter",
         "x": [
          0
         ],
         "xaxis": "x3",
         "y": [
          0.7
         ],
         "yaxis": "y3"
        },
        {
         "hovertemplate": "subject=10<br>sessionType=eds2<br>sessionNum=%{x}<br>reward_rate=%{y}<extra></extra>",
         "legendgroup": "10",
         "marker": {
          "color": "#FECB52",
          "symbol": "circle"
         },
         "mode": "markers",
         "name": "10",
         "orientation": "v",
         "showlegend": false,
         "type": "scatter",
         "x": [
          0
         ],
         "xaxis": "x4",
         "y": [
          0.9333333333333333
         ],
         "yaxis": "y4"
        },
        {
         "hovertemplate": "subject=10<br>sessionType=ids1<br>sessionNum=%{x}<br>reward_rate=%{y}<extra></extra>",
         "legendgroup": "10",
         "marker": {
          "color": "#FECB52",
          "symbol": "circle"
         },
         "mode": "markers",
         "name": "10",
         "orientation": "v",
         "showlegend": false,
         "type": "scatter",
         "x": [
          0
         ],
         "xaxis": "x5",
         "y": [
          0.9666666666666667
         ],
         "yaxis": "y5"
        },
        {
         "hovertemplate": "subject=10<br>sessionType=ids2<br>sessionNum=%{x}<br>reward_rate=%{y}<extra></extra>",
         "legendgroup": "10",
         "marker": {
          "color": "#FECB52",
          "symbol": "circle"
         },
         "mode": "markers",
         "name": "10",
         "orientation": "v",
         "showlegend": false,
         "type": "scatter",
         "x": [
          0
         ],
         "xaxis": "x6",
         "y": [
          0.9
         ],
         "yaxis": "y6"
        },
        {
         "hovertemplate": "subject=10<br>sessionType=staircase1<br>sessionNum=%{x}<br>reward_rate=%{y}<extra></extra>",
         "legendgroup": "10",
         "marker": {
          "color": "#FECB52",
          "symbol": "circle"
         },
         "mode": "markers",
         "name": "10",
         "orientation": "v",
         "showlegend": false,
         "type": "scatter",
         "x": [
          0,
          1
         ],
         "xaxis": "x7",
         "y": [
          0.9166666666666666,
          0.7166666666666667
         ],
         "yaxis": "y7"
        },
        {
         "hovertemplate": "subject=10<br>sessionType=staircase2<br>sessionNum=%{x}<br>reward_rate=%{y}<extra></extra>",
         "legendgroup": "10",
         "marker": {
          "color": "#FECB52",
          "symbol": "circle"
         },
         "mode": "markers",
         "name": "10",
         "orientation": "v",
         "showlegend": false,
         "type": "scatter",
         "x": [
          0
         ],
         "xaxis": "x8",
         "y": [
          0.8833333333333333
         ],
         "yaxis": "y8"
        },
        {
         "hovertemplate": "subject=10<br>sessionType=training<br>sessionNum=%{x}<br>reward_rate=%{y}<extra></extra>",
         "legendgroup": "10",
         "marker": {
          "color": "#FECB52",
          "symbol": "circle"
         },
         "mode": "markers",
         "name": "10",
         "orientation": "v",
         "showlegend": false,
         "type": "scatter",
         "x": [
          0
         ],
         "xaxis": "x9",
         "y": [
          0.8333333333333334
         ],
         "yaxis": "y9"
        },
        {
         "hovertemplate": "subject=11<br>sessionType=ams1<br>sessionNum=%{x}<br>reward_rate=%{y}<extra></extra>",
         "legendgroup": "11",
         "marker": {
          "color": "#636efa",
          "symbol": "circle"
         },
         "mode": "markers",
         "name": "11",
         "orientation": "v",
         "showlegend": true,
         "type": "scatter",
         "x": [
          0,
          1
         ],
         "xaxis": "x",
         "y": [
          0.48333333333333334,
          0.5666666666666667
         ],
         "yaxis": "y"
        },
        {
         "hovertemplate": "subject=11<br>sessionType=ams2<br>sessionNum=%{x}<br>reward_rate=%{y}<extra></extra>",
         "legendgroup": "11",
         "marker": {
          "color": "#636efa",
          "symbol": "circle"
         },
         "mode": "markers",
         "name": "11",
         "orientation": "v",
         "showlegend": false,
         "type": "scatter",
         "x": [
          0,
          1
         ],
         "xaxis": "x2",
         "y": [
          0.9,
          0.8833333333333333
         ],
         "yaxis": "y2"
        },
        {
         "hovertemplate": "subject=11<br>sessionType=eds1<br>sessionNum=%{x}<br>reward_rate=%{y}<extra></extra>",
         "legendgroup": "11",
         "marker": {
          "color": "#636efa",
          "symbol": "circle"
         },
         "mode": "markers",
         "name": "11",
         "orientation": "v",
         "showlegend": false,
         "type": "scatter",
         "x": [
          0
         ],
         "xaxis": "x3",
         "y": [
          0.6333333333333333
         ],
         "yaxis": "y3"
        },
        {
         "hovertemplate": "subject=11<br>sessionType=eds2<br>sessionNum=%{x}<br>reward_rate=%{y}<extra></extra>",
         "legendgroup": "11",
         "marker": {
          "color": "#636efa",
          "symbol": "circle"
         },
         "mode": "markers",
         "name": "11",
         "orientation": "v",
         "showlegend": false,
         "type": "scatter",
         "x": [
          0
         ],
         "xaxis": "x4",
         "y": [
          0.9333333333333333
         ],
         "yaxis": "y4"
        },
        {
         "hovertemplate": "subject=11<br>sessionType=ids1<br>sessionNum=%{x}<br>reward_rate=%{y}<extra></extra>",
         "legendgroup": "11",
         "marker": {
          "color": "#636efa",
          "symbol": "circle"
         },
         "mode": "markers",
         "name": "11",
         "orientation": "v",
         "showlegend": false,
         "type": "scatter",
         "x": [
          0
         ],
         "xaxis": "x5",
         "y": [
          0.9166666666666666
         ],
         "yaxis": "y5"
        },
        {
         "hovertemplate": "subject=11<br>sessionType=ids2<br>sessionNum=%{x}<br>reward_rate=%{y}<extra></extra>",
         "legendgroup": "11",
         "marker": {
          "color": "#636efa",
          "symbol": "circle"
         },
         "mode": "markers",
         "name": "11",
         "orientation": "v",
         "showlegend": false,
         "type": "scatter",
         "x": [
          0
         ],
         "xaxis": "x6",
         "y": [
          0.7833333333333333
         ],
         "yaxis": "y6"
        },
        {
         "hovertemplate": "subject=11<br>sessionType=staircase1<br>sessionNum=%{x}<br>reward_rate=%{y}<extra></extra>",
         "legendgroup": "11",
         "marker": {
          "color": "#636efa",
          "symbol": "circle"
         },
         "mode": "markers",
         "name": "11",
         "orientation": "v",
         "showlegend": false,
         "type": "scatter",
         "x": [
          0,
          1
         ],
         "xaxis": "x7",
         "y": [
          0.9,
          0.7166666666666667
         ],
         "yaxis": "y7"
        },
        {
         "hovertemplate": "subject=11<br>sessionType=staircase2<br>sessionNum=%{x}<br>reward_rate=%{y}<extra></extra>",
         "legendgroup": "11",
         "marker": {
          "color": "#636efa",
          "symbol": "circle"
         },
         "mode": "markers",
         "name": "11",
         "orientation": "v",
         "showlegend": false,
         "type": "scatter",
         "x": [
          0
         ],
         "xaxis": "x8",
         "y": [
          0.8
         ],
         "yaxis": "y8"
        },
        {
         "hovertemplate": "subject=11<br>sessionType=training<br>sessionNum=%{x}<br>reward_rate=%{y}<extra></extra>",
         "legendgroup": "11",
         "marker": {
          "color": "#636efa",
          "symbol": "circle"
         },
         "mode": "markers",
         "name": "11",
         "orientation": "v",
         "showlegend": false,
         "type": "scatter",
         "x": [
          0,
          1,
          2,
          3,
          4,
          5
         ],
         "xaxis": "x9",
         "y": [
          0.5166666666666667,
          0.5166666666666667,
          0.4666666666666667,
          0.5166666666666667,
          0.48333333333333334,
          0.8333333333333334
         ],
         "yaxis": "y9"
        },
        {
         "hovertemplate": "subject=13<br>sessionType=ams1<br>sessionNum=%{x}<br>reward_rate=%{y}<extra></extra>",
         "legendgroup": "13",
         "marker": {
          "color": "#EF553B",
          "symbol": "circle"
         },
         "mode": "markers",
         "name": "13",
         "orientation": "v",
         "showlegend": true,
         "type": "scatter",
         "x": [
          0,
          1
         ],
         "xaxis": "x",
         "y": [
          0.7166666666666667,
          0.8
         ],
         "yaxis": "y"
        },
        {
         "hovertemplate": "subject=13<br>sessionType=ams2<br>sessionNum=%{x}<br>reward_rate=%{y}<extra></extra>",
         "legendgroup": "13",
         "marker": {
          "color": "#EF553B",
          "symbol": "circle"
         },
         "mode": "markers",
         "name": "13",
         "orientation": "v",
         "showlegend": false,
         "type": "scatter",
         "x": [
          0,
          1
         ],
         "xaxis": "x2",
         "y": [
          0.9833333333333333,
          1
         ],
         "yaxis": "y2"
        },
        {
         "hovertemplate": "subject=13<br>sessionType=eds1<br>sessionNum=%{x}<br>reward_rate=%{y}<extra></extra>",
         "legendgroup": "13",
         "marker": {
          "color": "#EF553B",
          "symbol": "circle"
         },
         "mode": "markers",
         "name": "13",
         "orientation": "v",
         "showlegend": false,
         "type": "scatter",
         "x": [
          0
         ],
         "xaxis": "x3",
         "y": [
          0.85
         ],
         "yaxis": "y3"
        },
        {
         "hovertemplate": "subject=13<br>sessionType=eds2<br>sessionNum=%{x}<br>reward_rate=%{y}<extra></extra>",
         "legendgroup": "13",
         "marker": {
          "color": "#EF553B",
          "symbol": "circle"
         },
         "mode": "markers",
         "name": "13",
         "orientation": "v",
         "showlegend": false,
         "type": "scatter",
         "x": [
          0
         ],
         "xaxis": "x4",
         "y": [
          0.8166666666666667
         ],
         "yaxis": "y4"
        },
        {
         "hovertemplate": "subject=13<br>sessionType=ids1<br>sessionNum=%{x}<br>reward_rate=%{y}<extra></extra>",
         "legendgroup": "13",
         "marker": {
          "color": "#EF553B",
          "symbol": "circle"
         },
         "mode": "markers",
         "name": "13",
         "orientation": "v",
         "showlegend": false,
         "type": "scatter",
         "x": [
          0
         ],
         "xaxis": "x5",
         "y": [
          1
         ],
         "yaxis": "y5"
        },
        {
         "hovertemplate": "subject=13<br>sessionType=ids2<br>sessionNum=%{x}<br>reward_rate=%{y}<extra></extra>",
         "legendgroup": "13",
         "marker": {
          "color": "#EF553B",
          "symbol": "circle"
         },
         "mode": "markers",
         "name": "13",
         "orientation": "v",
         "showlegend": false,
         "type": "scatter",
         "x": [
          0
         ],
         "xaxis": "x6",
         "y": [
          0.85
         ],
         "yaxis": "y6"
        },
        {
         "hovertemplate": "subject=13<br>sessionType=staircase1<br>sessionNum=%{x}<br>reward_rate=%{y}<extra></extra>",
         "legendgroup": "13",
         "marker": {
          "color": "#EF553B",
          "symbol": "circle"
         },
         "mode": "markers",
         "name": "13",
         "orientation": "v",
         "showlegend": false,
         "type": "scatter",
         "x": [
          0,
          1
         ],
         "xaxis": "x7",
         "y": [
          0.9333333333333333,
          0.7166666666666667
         ],
         "yaxis": "y7"
        },
        {
         "hovertemplate": "subject=13<br>sessionType=staircase2<br>sessionNum=%{x}<br>reward_rate=%{y}<extra></extra>",
         "legendgroup": "13",
         "marker": {
          "color": "#EF553B",
          "symbol": "circle"
         },
         "mode": "markers",
         "name": "13",
         "orientation": "v",
         "showlegend": false,
         "type": "scatter",
         "x": [
          0,
          1
         ],
         "xaxis": "x8",
         "y": [
          0.9,
          0.7
         ],
         "yaxis": "y8"
        },
        {
         "hovertemplate": "subject=13<br>sessionType=training<br>sessionNum=%{x}<br>reward_rate=%{y}<extra></extra>",
         "legendgroup": "13",
         "marker": {
          "color": "#EF553B",
          "symbol": "circle"
         },
         "mode": "markers",
         "name": "13",
         "orientation": "v",
         "showlegend": false,
         "type": "scatter",
         "x": [
          0
         ],
         "xaxis": "x9",
         "y": [
          0.8666666666666667
         ],
         "yaxis": "y9"
        },
        {
         "hovertemplate": "subject=15<br>sessionType=ams1<br>sessionNum=%{x}<br>reward_rate=%{y}<extra></extra>",
         "legendgroup": "15",
         "marker": {
          "color": "#00cc96",
          "symbol": "circle"
         },
         "mode": "markers",
         "name": "15",
         "orientation": "v",
         "showlegend": true,
         "type": "scatter",
         "x": [
          0,
          1
         ],
         "xaxis": "x",
         "y": [
          0.9666666666666667,
          0.9666666666666667
         ],
         "yaxis": "y"
        },
        {
         "hovertemplate": "subject=15<br>sessionType=ams2<br>sessionNum=%{x}<br>reward_rate=%{y}<extra></extra>",
         "legendgroup": "15",
         "marker": {
          "color": "#00cc96",
          "symbol": "circle"
         },
         "mode": "markers",
         "name": "15",
         "orientation": "v",
         "showlegend": false,
         "type": "scatter",
         "x": [
          0,
          1
         ],
         "xaxis": "x2",
         "y": [
          0.9666666666666667,
          0.9833333333333333
         ],
         "yaxis": "y2"
        },
        {
         "hovertemplate": "subject=15<br>sessionType=eds1<br>sessionNum=%{x}<br>reward_rate=%{y}<extra></extra>",
         "legendgroup": "15",
         "marker": {
          "color": "#00cc96",
          "symbol": "circle"
         },
         "mode": "markers",
         "name": "15",
         "orientation": "v",
         "showlegend": false,
         "type": "scatter",
         "x": [
          0
         ],
         "xaxis": "x3",
         "y": [
          0.9666666666666667
         ],
         "yaxis": "y3"
        },
        {
         "hovertemplate": "subject=15<br>sessionType=eds2<br>sessionNum=%{x}<br>reward_rate=%{y}<extra></extra>",
         "legendgroup": "15",
         "marker": {
          "color": "#00cc96",
          "symbol": "circle"
         },
         "mode": "markers",
         "name": "15",
         "orientation": "v",
         "showlegend": false,
         "type": "scatter",
         "x": [
          0
         ],
         "xaxis": "x4",
         "y": [
          0.95
         ],
         "yaxis": "y4"
        },
        {
         "hovertemplate": "subject=15<br>sessionType=ids1<br>sessionNum=%{x}<br>reward_rate=%{y}<extra></extra>",
         "legendgroup": "15",
         "marker": {
          "color": "#00cc96",
          "symbol": "circle"
         },
         "mode": "markers",
         "name": "15",
         "orientation": "v",
         "showlegend": false,
         "type": "scatter",
         "x": [
          0
         ],
         "xaxis": "x5",
         "y": [
          0.75
         ],
         "yaxis": "y5"
        },
        {
         "hovertemplate": "subject=15<br>sessionType=ids2<br>sessionNum=%{x}<br>reward_rate=%{y}<extra></extra>",
         "legendgroup": "15",
         "marker": {
          "color": "#00cc96",
          "symbol": "circle"
         },
         "mode": "markers",
         "name": "15",
         "orientation": "v",
         "showlegend": false,
         "type": "scatter",
         "x": [
          0
         ],
         "xaxis": "x6",
         "y": [
          0.9333333333333333
         ],
         "yaxis": "y6"
        },
        {
         "hovertemplate": "subject=15<br>sessionType=staircase1<br>sessionNum=%{x}<br>reward_rate=%{y}<extra></extra>",
         "legendgroup": "15",
         "marker": {
          "color": "#00cc96",
          "symbol": "circle"
         },
         "mode": "markers",
         "name": "15",
         "orientation": "v",
         "showlegend": false,
         "type": "scatter",
         "x": [
          0
         ],
         "xaxis": "x7",
         "y": [
          0.8333333333333334
         ],
         "yaxis": "y7"
        },
        {
         "hovertemplate": "subject=15<br>sessionType=staircase2<br>sessionNum=%{x}<br>reward_rate=%{y}<extra></extra>",
         "legendgroup": "15",
         "marker": {
          "color": "#00cc96",
          "symbol": "circle"
         },
         "mode": "markers",
         "name": "15",
         "orientation": "v",
         "showlegend": false,
         "type": "scatter",
         "x": [
          0,
          1
         ],
         "xaxis": "x8",
         "y": [
          0.95,
          0.6833333333333333
         ],
         "yaxis": "y8"
        },
        {
         "hovertemplate": "subject=15<br>sessionType=training<br>sessionNum=%{x}<br>reward_rate=%{y}<extra></extra>",
         "legendgroup": "15",
         "marker": {
          "color": "#00cc96",
          "symbol": "circle"
         },
         "mode": "markers",
         "name": "15",
         "orientation": "v",
         "showlegend": false,
         "type": "scatter",
         "x": [
          0
         ],
         "xaxis": "x9",
         "y": [
          0.6666666666666666
         ],
         "yaxis": "y9"
        },
        {
         "hovertemplate": "subject=16<br>sessionType=ams1<br>sessionNum=%{x}<br>reward_rate=%{y}<extra></extra>",
         "legendgroup": "16",
         "marker": {
          "color": "#ab63fa",
          "symbol": "circle"
         },
         "mode": "markers",
         "name": "16",
         "orientation": "v",
         "showlegend": true,
         "type": "scatter",
         "x": [
          0,
          1
         ],
         "xaxis": "x",
         "y": [
          0.6333333333333333,
          0.6833333333333333
         ],
         "yaxis": "y"
        },
        {
         "hovertemplate": "subject=16<br>sessionType=ams2<br>sessionNum=%{x}<br>reward_rate=%{y}<extra></extra>",
         "legendgroup": "16",
         "marker": {
          "color": "#ab63fa",
          "symbol": "circle"
         },
         "mode": "markers",
         "name": "16",
         "orientation": "v",
         "showlegend": false,
         "type": "scatter",
         "x": [
          0,
          1
         ],
         "xaxis": "x2",
         "y": [
          0.9666666666666667,
          0.9666666666666667
         ],
         "yaxis": "y2"
        },
        {
         "hovertemplate": "subject=16<br>sessionType=eds1<br>sessionNum=%{x}<br>reward_rate=%{y}<extra></extra>",
         "legendgroup": "16",
         "marker": {
          "color": "#ab63fa",
          "symbol": "circle"
         },
         "mode": "markers",
         "name": "16",
         "orientation": "v",
         "showlegend": false,
         "type": "scatter",
         "x": [
          0
         ],
         "xaxis": "x3",
         "y": [
          0.95
         ],
         "yaxis": "y3"
        },
        {
         "hovertemplate": "subject=16<br>sessionType=eds2<br>sessionNum=%{x}<br>reward_rate=%{y}<extra></extra>",
         "legendgroup": "16",
         "marker": {
          "color": "#ab63fa",
          "symbol": "circle"
         },
         "mode": "markers",
         "name": "16",
         "orientation": "v",
         "showlegend": false,
         "type": "scatter",
         "x": [
          0
         ],
         "xaxis": "x4",
         "y": [
          0.9333333333333333
         ],
         "yaxis": "y4"
        },
        {
         "hovertemplate": "subject=16<br>sessionType=ids1<br>sessionNum=%{x}<br>reward_rate=%{y}<extra></extra>",
         "legendgroup": "16",
         "marker": {
          "color": "#ab63fa",
          "symbol": "circle"
         },
         "mode": "markers",
         "name": "16",
         "orientation": "v",
         "showlegend": false,
         "type": "scatter",
         "x": [
          0
         ],
         "xaxis": "x5",
         "y": [
          0.9166666666666666
         ],
         "yaxis": "y5"
        },
        {
         "hovertemplate": "subject=16<br>sessionType=ids2<br>sessionNum=%{x}<br>reward_rate=%{y}<extra></extra>",
         "legendgroup": "16",
         "marker": {
          "color": "#ab63fa",
          "symbol": "circle"
         },
         "mode": "markers",
         "name": "16",
         "orientation": "v",
         "showlegend": false,
         "type": "scatter",
         "x": [
          0
         ],
         "xaxis": "x6",
         "y": [
          0.9166666666666666
         ],
         "yaxis": "y6"
        },
        {
         "hovertemplate": "subject=16<br>sessionType=staircase1<br>sessionNum=%{x}<br>reward_rate=%{y}<extra></extra>",
         "legendgroup": "16",
         "marker": {
          "color": "#ab63fa",
          "symbol": "circle"
         },
         "mode": "markers",
         "name": "16",
         "orientation": "v",
         "showlegend": false,
         "type": "scatter",
         "x": [
          0,
          1
         ],
         "xaxis": "x7",
         "y": [
          0.95,
          0.65
         ],
         "yaxis": "y7"
        },
        {
         "hovertemplate": "subject=16<br>sessionType=staircase2<br>sessionNum=%{x}<br>reward_rate=%{y}<extra></extra>",
         "legendgroup": "16",
         "marker": {
          "color": "#ab63fa",
          "symbol": "circle"
         },
         "mode": "markers",
         "name": "16",
         "orientation": "v",
         "showlegend": false,
         "type": "scatter",
         "x": [
          0
         ],
         "xaxis": "x8",
         "y": [
          0.6666666666666666
         ],
         "yaxis": "y8"
        },
        {
         "hovertemplate": "subject=16<br>sessionType=training<br>sessionNum=%{x}<br>reward_rate=%{y}<extra></extra>",
         "legendgroup": "16",
         "marker": {
          "color": "#ab63fa",
          "symbol": "circle"
         },
         "mode": "markers",
         "name": "16",
         "orientation": "v",
         "showlegend": false,
         "type": "scatter",
         "x": [
          0
         ],
         "xaxis": "x9",
         "y": [
          0.9166666666666666
         ],
         "yaxis": "y9"
        },
        {
         "hovertemplate": "subject=17<br>sessionType=ams1<br>sessionNum=%{x}<br>reward_rate=%{y}<extra></extra>",
         "legendgroup": "17",
         "marker": {
          "color": "#FFA15A",
          "symbol": "circle"
         },
         "mode": "markers",
         "name": "17",
         "orientation": "v",
         "showlegend": true,
         "type": "scatter",
         "x": [
          0,
          1
         ],
         "xaxis": "x",
         "y": [
          0.9833333333333333,
          1
         ],
         "yaxis": "y"
        },
        {
         "hovertemplate": "subject=17<br>sessionType=ams2<br>sessionNum=%{x}<br>reward_rate=%{y}<extra></extra>",
         "legendgroup": "17",
         "marker": {
          "color": "#FFA15A",
          "symbol": "circle"
         },
         "mode": "markers",
         "name": "17",
         "orientation": "v",
         "showlegend": false,
         "type": "scatter",
         "x": [
          0,
          1
         ],
         "xaxis": "x2",
         "y": [
          0.9333333333333333,
          0.8833333333333333
         ],
         "yaxis": "y2"
        },
        {
         "hovertemplate": "subject=17<br>sessionType=eds1<br>sessionNum=%{x}<br>reward_rate=%{y}<extra></extra>",
         "legendgroup": "17",
         "marker": {
          "color": "#FFA15A",
          "symbol": "circle"
         },
         "mode": "markers",
         "name": "17",
         "orientation": "v",
         "showlegend": false,
         "type": "scatter",
         "x": [
          0
         ],
         "xaxis": "x3",
         "y": [
          0.7
         ],
         "yaxis": "y3"
        },
        {
         "hovertemplate": "subject=17<br>sessionType=eds2<br>sessionNum=%{x}<br>reward_rate=%{y}<extra></extra>",
         "legendgroup": "17",
         "marker": {
          "color": "#FFA15A",
          "symbol": "circle"
         },
         "mode": "markers",
         "name": "17",
         "orientation": "v",
         "showlegend": false,
         "type": "scatter",
         "x": [
          0
         ],
         "xaxis": "x4",
         "y": [
          0.95
         ],
         "yaxis": "y4"
        },
        {
         "hovertemplate": "subject=17<br>sessionType=ids1<br>sessionNum=%{x}<br>reward_rate=%{y}<extra></extra>",
         "legendgroup": "17",
         "marker": {
          "color": "#FFA15A",
          "symbol": "circle"
         },
         "mode": "markers",
         "name": "17",
         "orientation": "v",
         "showlegend": false,
         "type": "scatter",
         "x": [
          0
         ],
         "xaxis": "x5",
         "y": [
          1
         ],
         "yaxis": "y5"
        },
        {
         "hovertemplate": "subject=17<br>sessionType=ids2<br>sessionNum=%{x}<br>reward_rate=%{y}<extra></extra>",
         "legendgroup": "17",
         "marker": {
          "color": "#FFA15A",
          "symbol": "circle"
         },
         "mode": "markers",
         "name": "17",
         "orientation": "v",
         "showlegend": false,
         "type": "scatter",
         "x": [
          0,
          1
         ],
         "xaxis": "x6",
         "y": [
          0.5166666666666667,
          0.8666666666666667
         ],
         "yaxis": "y6"
        },
        {
         "hovertemplate": "subject=17<br>sessionType=staircase1<br>sessionNum=%{x}<br>reward_rate=%{y}<extra></extra>",
         "legendgroup": "17",
         "marker": {
          "color": "#FFA15A",
          "symbol": "circle"
         },
         "mode": "markers",
         "name": "17",
         "orientation": "v",
         "showlegend": false,
         "type": "scatter",
         "x": [
          0,
          1
         ],
         "xaxis": "x7",
         "y": [
          0.9833333333333333,
          0.6666666666666666
         ],
         "yaxis": "y7"
        },
        {
         "hovertemplate": "subject=17<br>sessionType=staircase2<br>sessionNum=%{x}<br>reward_rate=%{y}<extra></extra>",
         "legendgroup": "17",
         "marker": {
          "color": "#FFA15A",
          "symbol": "circle"
         },
         "mode": "markers",
         "name": "17",
         "orientation": "v",
         "showlegend": false,
         "type": "scatter",
         "x": [
          0
         ],
         "xaxis": "x8",
         "y": [
          0.8833333333333333
         ],
         "yaxis": "y8"
        },
        {
         "hovertemplate": "subject=17<br>sessionType=training<br>sessionNum=%{x}<br>reward_rate=%{y}<extra></extra>",
         "legendgroup": "17",
         "marker": {
          "color": "#FFA15A",
          "symbol": "circle"
         },
         "mode": "markers",
         "name": "17",
         "orientation": "v",
         "showlegend": false,
         "type": "scatter",
         "x": [
          0,
          1
         ],
         "xaxis": "x9",
         "y": [
          0.55,
          0.85
         ],
         "yaxis": "y9"
        },
        {
         "hovertemplate": "subject=18<br>sessionType=ams1<br>sessionNum=%{x}<br>reward_rate=%{y}<extra></extra>",
         "legendgroup": "18",
         "marker": {
          "color": "#19d3f3",
          "symbol": "circle"
         },
         "mode": "markers",
         "name": "18",
         "orientation": "v",
         "showlegend": true,
         "type": "scatter",
         "x": [
          0,
          1
         ],
         "xaxis": "x",
         "y": [
          0.9666666666666667,
          1
         ],
         "yaxis": "y"
        },
        {
         "hovertemplate": "subject=18<br>sessionType=ams2<br>sessionNum=%{x}<br>reward_rate=%{y}<extra></extra>",
         "legendgroup": "18",
         "marker": {
          "color": "#19d3f3",
          "symbol": "circle"
         },
         "mode": "markers",
         "name": "18",
         "orientation": "v",
         "showlegend": false,
         "type": "scatter",
         "x": [
          0,
          1
         ],
         "xaxis": "x2",
         "y": [
          0.5,
          0.5166666666666667
         ],
         "yaxis": "y2"
        },
        {
         "hovertemplate": "subject=18<br>sessionType=eds1<br>sessionNum=%{x}<br>reward_rate=%{y}<extra></extra>",
         "legendgroup": "18",
         "marker": {
          "color": "#19d3f3",
          "symbol": "circle"
         },
         "mode": "markers",
         "name": "18",
         "orientation": "v",
         "showlegend": false,
         "type": "scatter",
         "x": [
          0
         ],
         "xaxis": "x3",
         "y": [
          0.8833333333333333
         ],
         "yaxis": "y3"
        },
        {
         "hovertemplate": "subject=18<br>sessionType=eds2<br>sessionNum=%{x}<br>reward_rate=%{y}<extra></extra>",
         "legendgroup": "18",
         "marker": {
          "color": "#19d3f3",
          "symbol": "circle"
         },
         "mode": "markers",
         "name": "18",
         "orientation": "v",
         "showlegend": false,
         "type": "scatter",
         "x": [
          0,
          1
         ],
         "xaxis": "x4",
         "y": [
          0.45,
          0.8333333333333334
         ],
         "yaxis": "y4"
        },
        {
         "hovertemplate": "subject=18<br>sessionType=ids1<br>sessionNum=%{x}<br>reward_rate=%{y}<extra></extra>",
         "legendgroup": "18",
         "marker": {
          "color": "#19d3f3",
          "symbol": "circle"
         },
         "mode": "markers",
         "name": "18",
         "orientation": "v",
         "showlegend": false,
         "type": "scatter",
         "x": [
          0
         ],
         "xaxis": "x5",
         "y": [
          0.8666666666666667
         ],
         "yaxis": "y5"
        },
        {
         "hovertemplate": "subject=18<br>sessionType=ids2<br>sessionNum=%{x}<br>reward_rate=%{y}<extra></extra>",
         "legendgroup": "18",
         "marker": {
          "color": "#19d3f3",
          "symbol": "circle"
         },
         "mode": "markers",
         "name": "18",
         "orientation": "v",
         "showlegend": false,
         "type": "scatter",
         "x": [
          0
         ],
         "xaxis": "x6",
         "y": [
          0.9333333333333333
         ],
         "yaxis": "y6"
        },
        {
         "hovertemplate": "subject=18<br>sessionType=staircase1<br>sessionNum=%{x}<br>reward_rate=%{y}<extra></extra>",
         "legendgroup": "18",
         "marker": {
          "color": "#19d3f3",
          "symbol": "circle"
         },
         "mode": "markers",
         "name": "18",
         "orientation": "v",
         "showlegend": false,
         "type": "scatter",
         "x": [
          0,
          1
         ],
         "xaxis": "x7",
         "y": [
          0.9,
          0.7166666666666667
         ],
         "yaxis": "y7"
        },
        {
         "hovertemplate": "subject=18<br>sessionType=staircase2<br>sessionNum=%{x}<br>reward_rate=%{y}<extra></extra>",
         "legendgroup": "18",
         "marker": {
          "color": "#19d3f3",
          "symbol": "circle"
         },
         "mode": "markers",
         "name": "18",
         "orientation": "v",
         "showlegend": false,
         "type": "scatter",
         "x": [
          0,
          1
         ],
         "xaxis": "x8",
         "y": [
          0.9333333333333333,
          0.6666666666666666
         ],
         "yaxis": "y8"
        },
        {
         "hovertemplate": "subject=18<br>sessionType=training<br>sessionNum=%{x}<br>reward_rate=%{y}<extra></extra>",
         "legendgroup": "18",
         "marker": {
          "color": "#19d3f3",
          "symbol": "circle"
         },
         "mode": "markers",
         "name": "18",
         "orientation": "v",
         "showlegend": false,
         "type": "scatter",
         "x": [
          0,
          1,
          2,
          3,
          4,
          5
         ],
         "xaxis": "x9",
         "y": [
          0.55,
          0.38333333333333336,
          0.4666666666666667,
          0.5166666666666667,
          0.43333333333333335,
          0.8
         ],
         "yaxis": "y9"
        },
        {
         "hovertemplate": "subject=19<br>sessionType=ams1<br>sessionNum=%{x}<br>reward_rate=%{y}<extra></extra>",
         "legendgroup": "19",
         "marker": {
          "color": "#FF6692",
          "symbol": "circle"
         },
         "mode": "markers",
         "name": "19",
         "orientation": "v",
         "showlegend": true,
         "type": "scatter",
         "x": [
          0,
          1
         ],
         "xaxis": "x",
         "y": [
          0.9666666666666667,
          1
         ],
         "yaxis": "y"
        },
        {
         "hovertemplate": "subject=19<br>sessionType=ams2<br>sessionNum=%{x}<br>reward_rate=%{y}<extra></extra>",
         "legendgroup": "19",
         "marker": {
          "color": "#FF6692",
          "symbol": "circle"
         },
         "mode": "markers",
         "name": "19",
         "orientation": "v",
         "showlegend": false,
         "type": "scatter",
         "x": [
          0,
          1
         ],
         "xaxis": "x2",
         "y": [
          0.9833333333333333,
          0.95
         ],
         "yaxis": "y2"
        },
        {
         "hovertemplate": "subject=19<br>sessionType=eds1<br>sessionNum=%{x}<br>reward_rate=%{y}<extra></extra>",
         "legendgroup": "19",
         "marker": {
          "color": "#FF6692",
          "symbol": "circle"
         },
         "mode": "markers",
         "name": "19",
         "orientation": "v",
         "showlegend": false,
         "type": "scatter",
         "x": [
          0
         ],
         "xaxis": "x3",
         "y": [
          0.85
         ],
         "yaxis": "y3"
        },
        {
         "hovertemplate": "subject=19<br>sessionType=eds2<br>sessionNum=%{x}<br>reward_rate=%{y}<extra></extra>",
         "legendgroup": "19",
         "marker": {
          "color": "#FF6692",
          "symbol": "circle"
         },
         "mode": "markers",
         "name": "19",
         "orientation": "v",
         "showlegend": false,
         "type": "scatter",
         "x": [
          0
         ],
         "xaxis": "x4",
         "y": [
          0.7
         ],
         "yaxis": "y4"
        },
        {
         "hovertemplate": "subject=19<br>sessionType=ids1<br>sessionNum=%{x}<br>reward_rate=%{y}<extra></extra>",
         "legendgroup": "19",
         "marker": {
          "color": "#FF6692",
          "symbol": "circle"
         },
         "mode": "markers",
         "name": "19",
         "orientation": "v",
         "showlegend": false,
         "type": "scatter",
         "x": [
          0
         ],
         "xaxis": "x5",
         "y": [
          0.9666666666666667
         ],
         "yaxis": "y5"
        },
        {
         "hovertemplate": "subject=19<br>sessionType=ids2<br>sessionNum=%{x}<br>reward_rate=%{y}<extra></extra>",
         "legendgroup": "19",
         "marker": {
          "color": "#FF6692",
          "symbol": "circle"
         },
         "mode": "markers",
         "name": "19",
         "orientation": "v",
         "showlegend": false,
         "type": "scatter",
         "x": [
          0
         ],
         "xaxis": "x6",
         "y": [
          0.95
         ],
         "yaxis": "y6"
        },
        {
         "hovertemplate": "subject=19<br>sessionType=staircase1<br>sessionNum=%{x}<br>reward_rate=%{y}<extra></extra>",
         "legendgroup": "19",
         "marker": {
          "color": "#FF6692",
          "symbol": "circle"
         },
         "mode": "markers",
         "name": "19",
         "orientation": "v",
         "showlegend": false,
         "type": "scatter",
         "x": [
          0
         ],
         "xaxis": "x7",
         "y": [
          0.8333333333333334
         ],
         "yaxis": "y7"
        },
        {
         "hovertemplate": "subject=19<br>sessionType=staircase2<br>sessionNum=%{x}<br>reward_rate=%{y}<extra></extra>",
         "legendgroup": "19",
         "marker": {
          "color": "#FF6692",
          "symbol": "circle"
         },
         "mode": "markers",
         "name": "19",
         "orientation": "v",
         "showlegend": false,
         "type": "scatter",
         "x": [
          0,
          1
         ],
         "xaxis": "x8",
         "y": [
          0.9166666666666666,
          0.6666666666666666
         ],
         "yaxis": "y8"
        },
        {
         "hovertemplate": "subject=19<br>sessionType=training<br>sessionNum=%{x}<br>reward_rate=%{y}<extra></extra>",
         "legendgroup": "19",
         "marker": {
          "color": "#FF6692",
          "symbol": "circle"
         },
         "mode": "markers",
         "name": "19",
         "orientation": "v",
         "showlegend": false,
         "type": "scatter",
         "x": [
          0,
          1
         ],
         "xaxis": "x9",
         "y": [
          0.45,
          0.8333333333333334
         ],
         "yaxis": "y9"
        },
        {
         "hovertemplate": "subject=20<br>sessionType=ams1<br>sessionNum=%{x}<br>reward_rate=%{y}<extra></extra>",
         "legendgroup": "20",
         "marker": {
          "color": "#B6E880",
          "symbol": "circle"
         },
         "mode": "markers",
         "name": "20",
         "orientation": "v",
         "showlegend": true,
         "type": "scatter",
         "x": [
          0,
          1
         ],
         "xaxis": "x",
         "y": [
          0.95,
          0.9833333333333333
         ],
         "yaxis": "y"
        },
        {
         "hovertemplate": "subject=20<br>sessionType=ams2<br>sessionNum=%{x}<br>reward_rate=%{y}<extra></extra>",
         "legendgroup": "20",
         "marker": {
          "color": "#B6E880",
          "symbol": "circle"
         },
         "mode": "markers",
         "name": "20",
         "orientation": "v",
         "showlegend": false,
         "type": "scatter",
         "x": [
          0,
          1
         ],
         "xaxis": "x2",
         "y": [
          0.9666666666666667,
          0.9333333333333333
         ],
         "yaxis": "y2"
        },
        {
         "hovertemplate": "subject=20<br>sessionType=eds1<br>sessionNum=%{x}<br>reward_rate=%{y}<extra></extra>",
         "legendgroup": "20",
         "marker": {
          "color": "#B6E880",
          "symbol": "circle"
         },
         "mode": "markers",
         "name": "20",
         "orientation": "v",
         "showlegend": false,
         "type": "scatter",
         "x": [
          0
         ],
         "xaxis": "x3",
         "y": [
          0.8166666666666667
         ],
         "yaxis": "y3"
        },
        {
         "hovertemplate": "subject=20<br>sessionType=eds2<br>sessionNum=%{x}<br>reward_rate=%{y}<extra></extra>",
         "legendgroup": "20",
         "marker": {
          "color": "#B6E880",
          "symbol": "circle"
         },
         "mode": "markers",
         "name": "20",
         "orientation": "v",
         "showlegend": false,
         "type": "scatter",
         "x": [
          0
         ],
         "xaxis": "x4",
         "y": [
          0.7833333333333333
         ],
         "yaxis": "y4"
        },
        {
         "hovertemplate": "subject=20<br>sessionType=ids1<br>sessionNum=%{x}<br>reward_rate=%{y}<extra></extra>",
         "legendgroup": "20",
         "marker": {
          "color": "#B6E880",
          "symbol": "circle"
         },
         "mode": "markers",
         "name": "20",
         "orientation": "v",
         "showlegend": false,
         "type": "scatter",
         "x": [
          0
         ],
         "xaxis": "x5",
         "y": [
          0.8833333333333333
         ],
         "yaxis": "y5"
        },
        {
         "hovertemplate": "subject=20<br>sessionType=ids2<br>sessionNum=%{x}<br>reward_rate=%{y}<extra></extra>",
         "legendgroup": "20",
         "marker": {
          "color": "#B6E880",
          "symbol": "circle"
         },
         "mode": "markers",
         "name": "20",
         "orientation": "v",
         "showlegend": false,
         "type": "scatter",
         "x": [
          0
         ],
         "xaxis": "x6",
         "y": [
          0.8166666666666667
         ],
         "yaxis": "y6"
        },
        {
         "hovertemplate": "subject=20<br>sessionType=staircase1<br>sessionNum=%{x}<br>reward_rate=%{y}<extra></extra>",
         "legendgroup": "20",
         "marker": {
          "color": "#B6E880",
          "symbol": "circle"
         },
         "mode": "markers",
         "name": "20",
         "orientation": "v",
         "showlegend": false,
         "type": "scatter",
         "x": [
          0,
          1
         ],
         "xaxis": "x7",
         "y": [
          0.8666666666666667,
          0.75
         ],
         "yaxis": "y7"
        },
        {
         "hovertemplate": "subject=20<br>sessionType=staircase2<br>sessionNum=%{x}<br>reward_rate=%{y}<extra></extra>",
         "legendgroup": "20",
         "marker": {
          "color": "#B6E880",
          "symbol": "circle"
         },
         "mode": "markers",
         "name": "20",
         "orientation": "v",
         "showlegend": false,
         "type": "scatter",
         "x": [
          0
         ],
         "xaxis": "x8",
         "y": [
          0.85
         ],
         "yaxis": "y8"
        },
        {
         "hovertemplate": "subject=20<br>sessionType=training<br>sessionNum=%{x}<br>reward_rate=%{y}<extra></extra>",
         "legendgroup": "20",
         "marker": {
          "color": "#B6E880",
          "symbol": "circle"
         },
         "mode": "markers",
         "name": "20",
         "orientation": "v",
         "showlegend": false,
         "type": "scatter",
         "x": [
          0
         ],
         "xaxis": "x9",
         "y": [
          0.75
         ],
         "yaxis": "y9"
        }
       ],
       "layout": {
        "annotations": [
         {
          "font": {},
          "showarrow": false,
          "text": "sessionType=ams1",
          "x": 0.04666666666666666,
          "xanchor": "center",
          "xref": "paper",
          "y": 1,
          "yanchor": "bottom",
          "yref": "paper"
         },
         {
          "font": {},
          "showarrow": false,
          "text": "sessionType=ams2",
          "x": 0.16,
          "xanchor": "center",
          "xref": "paper",
          "y": 1,
          "yanchor": "bottom",
          "yref": "paper"
         },
         {
          "font": {},
          "showarrow": false,
          "text": "sessionType=eds1",
          "x": 0.2733333333333333,
          "xanchor": "center",
          "xref": "paper",
          "y": 1,
          "yanchor": "bottom",
          "yref": "paper"
         },
         {
          "font": {},
          "showarrow": false,
          "text": "sessionType=eds2",
          "x": 0.3866666666666666,
          "xanchor": "center",
          "xref": "paper",
          "y": 1,
          "yanchor": "bottom",
          "yref": "paper"
         },
         {
          "font": {},
          "showarrow": false,
          "text": "sessionType=ids1",
          "x": 0.5,
          "xanchor": "center",
          "xref": "paper",
          "y": 1,
          "yanchor": "bottom",
          "yref": "paper"
         },
         {
          "font": {},
          "showarrow": false,
          "text": "sessionType=ids2",
          "x": 0.6133333333333333,
          "xanchor": "center",
          "xref": "paper",
          "y": 1,
          "yanchor": "bottom",
          "yref": "paper"
         },
         {
          "font": {},
          "showarrow": false,
          "text": "sessionType=staircase1",
          "x": 0.7266666666666666,
          "xanchor": "center",
          "xref": "paper",
          "y": 1,
          "yanchor": "bottom",
          "yref": "paper"
         },
         {
          "font": {},
          "showarrow": false,
          "text": "sessionType=staircase2",
          "x": 0.8400000000000001,
          "xanchor": "center",
          "xref": "paper",
          "y": 1,
          "yanchor": "bottom",
          "yref": "paper"
         },
         {
          "font": {},
          "showarrow": false,
          "text": "sessionType=training",
          "x": 0.9533333333333334,
          "xanchor": "center",
          "xref": "paper",
          "y": 1,
          "yanchor": "bottom",
          "yref": "paper"
         }
        ],
        "legend": {
         "title": {
          "text": "subject"
         },
         "tracegroupgap": 0
        },
        "margin": {
         "t": 60
        },
        "template": {
         "data": {
          "bar": [
           {
            "error_x": {
             "color": "#f2f5fa"
            },
            "error_y": {
             "color": "#f2f5fa"
            },
            "marker": {
             "line": {
              "color": "rgb(17,17,17)",
              "width": 0.5
             },
             "pattern": {
              "fillmode": "overlay",
              "size": 10,
              "solidity": 0.2
             }
            },
            "type": "bar"
           }
          ],
          "barpolar": [
           {
            "marker": {
             "line": {
              "color": "rgb(17,17,17)",
              "width": 0.5
             },
             "pattern": {
              "fillmode": "overlay",
              "size": 10,
              "solidity": 0.2
             }
            },
            "type": "barpolar"
           }
          ],
          "carpet": [
           {
            "aaxis": {
             "endlinecolor": "#A2B1C6",
             "gridcolor": "#506784",
             "linecolor": "#506784",
             "minorgridcolor": "#506784",
             "startlinecolor": "#A2B1C6"
            },
            "baxis": {
             "endlinecolor": "#A2B1C6",
             "gridcolor": "#506784",
             "linecolor": "#506784",
             "minorgridcolor": "#506784",
             "startlinecolor": "#A2B1C6"
            },
            "type": "carpet"
           }
          ],
          "choropleth": [
           {
            "colorbar": {
             "outlinewidth": 0,
             "ticks": ""
            },
            "type": "choropleth"
           }
          ],
          "contour": [
           {
            "colorbar": {
             "outlinewidth": 0,
             "ticks": ""
            },
            "colorscale": [
             [
              0,
              "#0d0887"
             ],
             [
              0.1111111111111111,
              "#46039f"
             ],
             [
              0.2222222222222222,
              "#7201a8"
             ],
             [
              0.3333333333333333,
              "#9c179e"
             ],
             [
              0.4444444444444444,
              "#bd3786"
             ],
             [
              0.5555555555555556,
              "#d8576b"
             ],
             [
              0.6666666666666666,
              "#ed7953"
             ],
             [
              0.7777777777777778,
              "#fb9f3a"
             ],
             [
              0.8888888888888888,
              "#fdca26"
             ],
             [
              1,
              "#f0f921"
             ]
            ],
            "type": "contour"
           }
          ],
          "contourcarpet": [
           {
            "colorbar": {
             "outlinewidth": 0,
             "ticks": ""
            },
            "type": "contourcarpet"
           }
          ],
          "heatmap": [
           {
            "colorbar": {
             "outlinewidth": 0,
             "ticks": ""
            },
            "colorscale": [
             [
              0,
              "#0d0887"
             ],
             [
              0.1111111111111111,
              "#46039f"
             ],
             [
              0.2222222222222222,
              "#7201a8"
             ],
             [
              0.3333333333333333,
              "#9c179e"
             ],
             [
              0.4444444444444444,
              "#bd3786"
             ],
             [
              0.5555555555555556,
              "#d8576b"
             ],
             [
              0.6666666666666666,
              "#ed7953"
             ],
             [
              0.7777777777777778,
              "#fb9f3a"
             ],
             [
              0.8888888888888888,
              "#fdca26"
             ],
             [
              1,
              "#f0f921"
             ]
            ],
            "type": "heatmap"
           }
          ],
          "heatmapgl": [
           {
            "colorbar": {
             "outlinewidth": 0,
             "ticks": ""
            },
            "colorscale": [
             [
              0,
              "#0d0887"
             ],
             [
              0.1111111111111111,
              "#46039f"
             ],
             [
              0.2222222222222222,
              "#7201a8"
             ],
             [
              0.3333333333333333,
              "#9c179e"
             ],
             [
              0.4444444444444444,
              "#bd3786"
             ],
             [
              0.5555555555555556,
              "#d8576b"
             ],
             [
              0.6666666666666666,
              "#ed7953"
             ],
             [
              0.7777777777777778,
              "#fb9f3a"
             ],
             [
              0.8888888888888888,
              "#fdca26"
             ],
             [
              1,
              "#f0f921"
             ]
            ],
            "type": "heatmapgl"
           }
          ],
          "histogram": [
           {
            "marker": {
             "pattern": {
              "fillmode": "overlay",
              "size": 10,
              "solidity": 0.2
             }
            },
            "type": "histogram"
           }
          ],
          "histogram2d": [
           {
            "colorbar": {
             "outlinewidth": 0,
             "ticks": ""
            },
            "colorscale": [
             [
              0,
              "#0d0887"
             ],
             [
              0.1111111111111111,
              "#46039f"
             ],
             [
              0.2222222222222222,
              "#7201a8"
             ],
             [
              0.3333333333333333,
              "#9c179e"
             ],
             [
              0.4444444444444444,
              "#bd3786"
             ],
             [
              0.5555555555555556,
              "#d8576b"
             ],
             [
              0.6666666666666666,
              "#ed7953"
             ],
             [
              0.7777777777777778,
              "#fb9f3a"
             ],
             [
              0.8888888888888888,
              "#fdca26"
             ],
             [
              1,
              "#f0f921"
             ]
            ],
            "type": "histogram2d"
           }
          ],
          "histogram2dcontour": [
           {
            "colorbar": {
             "outlinewidth": 0,
             "ticks": ""
            },
            "colorscale": [
             [
              0,
              "#0d0887"
             ],
             [
              0.1111111111111111,
              "#46039f"
             ],
             [
              0.2222222222222222,
              "#7201a8"
             ],
             [
              0.3333333333333333,
              "#9c179e"
             ],
             [
              0.4444444444444444,
              "#bd3786"
             ],
             [
              0.5555555555555556,
              "#d8576b"
             ],
             [
              0.6666666666666666,
              "#ed7953"
             ],
             [
              0.7777777777777778,
              "#fb9f3a"
             ],
             [
              0.8888888888888888,
              "#fdca26"
             ],
             [
              1,
              "#f0f921"
             ]
            ],
            "type": "histogram2dcontour"
           }
          ],
          "mesh3d": [
           {
            "colorbar": {
             "outlinewidth": 0,
             "ticks": ""
            },
            "type": "mesh3d"
           }
          ],
          "parcoords": [
           {
            "line": {
             "colorbar": {
              "outlinewidth": 0,
              "ticks": ""
             }
            },
            "type": "parcoords"
           }
          ],
          "pie": [
           {
            "automargin": true,
            "type": "pie"
           }
          ],
          "scatter": [
           {
            "marker": {
             "line": {
              "color": "#283442"
             }
            },
            "type": "scatter"
           }
          ],
          "scatter3d": [
           {
            "line": {
             "colorbar": {
              "outlinewidth": 0,
              "ticks": ""
             }
            },
            "marker": {
             "colorbar": {
              "outlinewidth": 0,
              "ticks": ""
             }
            },
            "type": "scatter3d"
           }
          ],
          "scattercarpet": [
           {
            "marker": {
             "colorbar": {
              "outlinewidth": 0,
              "ticks": ""
             }
            },
            "type": "scattercarpet"
           }
          ],
          "scattergeo": [
           {
            "marker": {
             "colorbar": {
              "outlinewidth": 0,
              "ticks": ""
             }
            },
            "type": "scattergeo"
           }
          ],
          "scattergl": [
           {
            "marker": {
             "line": {
              "color": "#283442"
             }
            },
            "type": "scattergl"
           }
          ],
          "scattermapbox": [
           {
            "marker": {
             "colorbar": {
              "outlinewidth": 0,
              "ticks": ""
             }
            },
            "type": "scattermapbox"
           }
          ],
          "scatterpolar": [
           {
            "marker": {
             "colorbar": {
              "outlinewidth": 0,
              "ticks": ""
             }
            },
            "type": "scatterpolar"
           }
          ],
          "scatterpolargl": [
           {
            "marker": {
             "colorbar": {
              "outlinewidth": 0,
              "ticks": ""
             }
            },
            "type": "scatterpolargl"
           }
          ],
          "scatterternary": [
           {
            "marker": {
             "colorbar": {
              "outlinewidth": 0,
              "ticks": ""
             }
            },
            "type": "scatterternary"
           }
          ],
          "surface": [
           {
            "colorbar": {
             "outlinewidth": 0,
             "ticks": ""
            },
            "colorscale": [
             [
              0,
              "#0d0887"
             ],
             [
              0.1111111111111111,
              "#46039f"
             ],
             [
              0.2222222222222222,
              "#7201a8"
             ],
             [
              0.3333333333333333,
              "#9c179e"
             ],
             [
              0.4444444444444444,
              "#bd3786"
             ],
             [
              0.5555555555555556,
              "#d8576b"
             ],
             [
              0.6666666666666666,
              "#ed7953"
             ],
             [
              0.7777777777777778,
              "#fb9f3a"
             ],
             [
              0.8888888888888888,
              "#fdca26"
             ],
             [
              1,
              "#f0f921"
             ]
            ],
            "type": "surface"
           }
          ],
          "table": [
           {
            "cells": {
             "fill": {
              "color": "#506784"
             },
             "line": {
              "color": "rgb(17,17,17)"
             }
            },
            "header": {
             "fill": {
              "color": "#2a3f5f"
             },
             "line": {
              "color": "rgb(17,17,17)"
             }
            },
            "type": "table"
           }
          ]
         },
         "layout": {
          "annotationdefaults": {
           "arrowcolor": "#f2f5fa",
           "arrowhead": 0,
           "arrowwidth": 1
          },
          "autotypenumbers": "strict",
          "coloraxis": {
           "colorbar": {
            "outlinewidth": 0,
            "ticks": ""
           }
          },
          "colorscale": {
           "diverging": [
            [
             0,
             "#8e0152"
            ],
            [
             0.1,
             "#c51b7d"
            ],
            [
             0.2,
             "#de77ae"
            ],
            [
             0.3,
             "#f1b6da"
            ],
            [
             0.4,
             "#fde0ef"
            ],
            [
             0.5,
             "#f7f7f7"
            ],
            [
             0.6,
             "#e6f5d0"
            ],
            [
             0.7,
             "#b8e186"
            ],
            [
             0.8,
             "#7fbc41"
            ],
            [
             0.9,
             "#4d9221"
            ],
            [
             1,
             "#276419"
            ]
           ],
           "sequential": [
            [
             0,
             "#0d0887"
            ],
            [
             0.1111111111111111,
             "#46039f"
            ],
            [
             0.2222222222222222,
             "#7201a8"
            ],
            [
             0.3333333333333333,
             "#9c179e"
            ],
            [
             0.4444444444444444,
             "#bd3786"
            ],
            [
             0.5555555555555556,
             "#d8576b"
            ],
            [
             0.6666666666666666,
             "#ed7953"
            ],
            [
             0.7777777777777778,
             "#fb9f3a"
            ],
            [
             0.8888888888888888,
             "#fdca26"
            ],
            [
             1,
             "#f0f921"
            ]
           ],
           "sequentialminus": [
            [
             0,
             "#0d0887"
            ],
            [
             0.1111111111111111,
             "#46039f"
            ],
            [
             0.2222222222222222,
             "#7201a8"
            ],
            [
             0.3333333333333333,
             "#9c179e"
            ],
            [
             0.4444444444444444,
             "#bd3786"
            ],
            [
             0.5555555555555556,
             "#d8576b"
            ],
            [
             0.6666666666666666,
             "#ed7953"
            ],
            [
             0.7777777777777778,
             "#fb9f3a"
            ],
            [
             0.8888888888888888,
             "#fdca26"
            ],
            [
             1,
             "#f0f921"
            ]
           ]
          },
          "colorway": [
           "#636efa",
           "#EF553B",
           "#00cc96",
           "#ab63fa",
           "#FFA15A",
           "#19d3f3",
           "#FF6692",
           "#B6E880",
           "#FF97FF",
           "#FECB52"
          ],
          "font": {
           "color": "#f2f5fa"
          },
          "geo": {
           "bgcolor": "rgb(17,17,17)",
           "lakecolor": "rgb(17,17,17)",
           "landcolor": "rgb(17,17,17)",
           "showlakes": true,
           "showland": true,
           "subunitcolor": "#506784"
          },
          "hoverlabel": {
           "align": "left"
          },
          "hovermode": "closest",
          "mapbox": {
           "style": "dark"
          },
          "paper_bgcolor": "rgb(17,17,17)",
          "plot_bgcolor": "rgb(17,17,17)",
          "polar": {
           "angularaxis": {
            "gridcolor": "#506784",
            "linecolor": "#506784",
            "ticks": ""
           },
           "bgcolor": "rgb(17,17,17)",
           "radialaxis": {
            "gridcolor": "#506784",
            "linecolor": "#506784",
            "ticks": ""
           }
          },
          "scene": {
           "xaxis": {
            "backgroundcolor": "rgb(17,17,17)",
            "gridcolor": "#506784",
            "gridwidth": 2,
            "linecolor": "#506784",
            "showbackground": true,
            "ticks": "",
            "zerolinecolor": "#C8D4E3"
           },
           "yaxis": {
            "backgroundcolor": "rgb(17,17,17)",
            "gridcolor": "#506784",
            "gridwidth": 2,
            "linecolor": "#506784",
            "showbackground": true,
            "ticks": "",
            "zerolinecolor": "#C8D4E3"
           },
           "zaxis": {
            "backgroundcolor": "rgb(17,17,17)",
            "gridcolor": "#506784",
            "gridwidth": 2,
            "linecolor": "#506784",
            "showbackground": true,
            "ticks": "",
            "zerolinecolor": "#C8D4E3"
           }
          },
          "shapedefaults": {
           "line": {
            "color": "#f2f5fa"
           }
          },
          "sliderdefaults": {
           "bgcolor": "#C8D4E3",
           "bordercolor": "rgb(17,17,17)",
           "borderwidth": 1,
           "tickwidth": 0
          },
          "ternary": {
           "aaxis": {
            "gridcolor": "#506784",
            "linecolor": "#506784",
            "ticks": ""
           },
           "baxis": {
            "gridcolor": "#506784",
            "linecolor": "#506784",
            "ticks": ""
           },
           "bgcolor": "rgb(17,17,17)",
           "caxis": {
            "gridcolor": "#506784",
            "linecolor": "#506784",
            "ticks": ""
           }
          },
          "title": {
           "x": 0.05
          },
          "updatemenudefaults": {
           "bgcolor": "#506784",
           "borderwidth": 0
          },
          "xaxis": {
           "automargin": true,
           "gridcolor": "#283442",
           "linecolor": "#506784",
           "ticks": "",
           "title": {
            "standoff": 15
           },
           "zerolinecolor": "#283442",
           "zerolinewidth": 2
          },
          "yaxis": {
           "automargin": true,
           "gridcolor": "#283442",
           "linecolor": "#506784",
           "ticks": "",
           "title": {
            "standoff": 15
           },
           "zerolinecolor": "#283442",
           "zerolinewidth": 2
          }
         }
        },
        "title": {
         "text": "Reward Rates: Human Motivation Experiment"
        },
        "xaxis": {
         "anchor": "y",
         "domain": [
          0,
          0.09333333333333332
         ],
         "title": {
          "text": "sessionNum"
         }
        },
        "xaxis2": {
         "anchor": "y2",
         "domain": [
          0.11333333333333333,
          0.20666666666666667
         ],
         "matches": "x",
         "title": {
          "text": "sessionNum"
         }
        },
        "xaxis3": {
         "anchor": "y3",
         "domain": [
          0.22666666666666666,
          0.31999999999999995
         ],
         "matches": "x",
         "title": {
          "text": "sessionNum"
         }
        },
        "xaxis4": {
         "anchor": "y4",
         "domain": [
          0.33999999999999997,
          0.4333333333333333
         ],
         "matches": "x",
         "title": {
          "text": "sessionNum"
         }
        },
        "xaxis5": {
         "anchor": "y5",
         "domain": [
          0.4533333333333333,
          0.5466666666666666
         ],
         "matches": "x",
         "title": {
          "text": "sessionNum"
         }
        },
        "xaxis6": {
         "anchor": "y6",
         "domain": [
          0.5666666666666667,
          0.6599999999999999
         ],
         "matches": "x",
         "title": {
          "text": "sessionNum"
         }
        },
        "xaxis7": {
         "anchor": "y7",
         "domain": [
          0.6799999999999999,
          0.7733333333333332
         ],
         "matches": "x",
         "title": {
          "text": "sessionNum"
         }
        },
        "xaxis8": {
         "anchor": "y8",
         "domain": [
          0.7933333333333333,
          0.8866666666666667
         ],
         "matches": "x",
         "title": {
          "text": "sessionNum"
         }
        },
        "xaxis9": {
         "anchor": "y9",
         "domain": [
          0.9066666666666666,
          1
         ],
         "matches": "x",
         "title": {
          "text": "sessionNum"
         }
        },
        "yaxis": {
         "anchor": "x",
         "domain": [
          0,
          1
         ],
         "title": {
          "text": "reward_rate"
         }
        },
        "yaxis2": {
         "anchor": "x2",
         "domain": [
          0,
          1
         ],
         "matches": "y",
         "showticklabels": false
        },
        "yaxis3": {
         "anchor": "x3",
         "domain": [
          0,
          1
         ],
         "matches": "y",
         "showticklabels": false
        },
        "yaxis4": {
         "anchor": "x4",
         "domain": [
          0,
          1
         ],
         "matches": "y",
         "showticklabels": false
        },
        "yaxis5": {
         "anchor": "x5",
         "domain": [
          0,
          1
         ],
         "matches": "y",
         "showticklabels": false
        },
        "yaxis6": {
         "anchor": "x6",
         "domain": [
          0,
          1
         ],
         "matches": "y",
         "showticklabels": false
        },
        "yaxis7": {
         "anchor": "x7",
         "domain": [
          0,
          1
         ],
         "matches": "y",
         "showticklabels": false
        },
        "yaxis8": {
         "anchor": "x8",
         "domain": [
          0,
          1
         ],
         "matches": "y",
         "showticklabels": false
        },
        "yaxis9": {
         "anchor": "x9",
         "domain": [
          0,
          1
         ],
         "matches": "y",
         "showticklabels": false
        }
       }
      }
     },
     "metadata": {},
     "output_type": "display_data"
    }
   ],
   "source": [
    "(data,\n",
    " sequence_data,\n",
    " meta_data,\n",
    " StimCode,\n",
    " RespCode\n",
    " ) = load_data(config=_config, experiment_class='human_motivation_experiment')\n",
    "qsd = QuerySequenceData(StimCode, RespCode)\n",
    "rewards, _qsd = reward_per_experiment(qsd, StimCode)\n",
    "\n",
    "# drop na\n",
    "rewards = rewards[~rewards.reward_rate.isna()]\n",
    "\n",
    "# plot\n",
    "plot_reward_experiment(rewards, title='Reward Rates: Human Motivation Experiment')"
   ]
  },
  {
   "cell_type": "markdown",
   "metadata": {},
   "source": [
    "----\n",
    "# Rat Data\n",
    "----"
   ]
  },
  {
   "cell_type": "code",
   "execution_count": 13,
   "metadata": {},
   "outputs": [
    {
     "name": "stderr",
     "output_type": "stream",
     "text": [
      "INFO:root:StimCode (571): [0. 1.]\n",
      "INFO:root:RespCode (571): [1. 2. 3. 4.]\n",
      "0it [00:00, ?it/s]/Users/zachwolpe/miniforge3/envs/mlxgo/lib/python3.12/site-packages/numpy/core/fromnumeric.py:3504: RuntimeWarning:\n",
      "\n",
      "Mean of empty slice.\n",
      "\n",
      "/Users/zachwolpe/miniforge3/envs/mlxgo/lib/python3.12/site-packages/numpy/core/_methods.py:129: RuntimeWarning:\n",
      "\n",
      "invalid value encountered in scalar divide\n",
      "\n",
      "2730it [00:00, 3682.06it/s]\n"
     ]
    },
    {
     "data": {
      "application/vnd.plotly.v1+json": {
       "config": {
        "plotlyServerURL": "https://plot.ly"
       },
       "data": [
        {
         "hovertemplate": "subject=422<br>sessionType=EDS<br>sessionNum=%{x}<br>reward_rate=%{y}<extra></extra>",
         "legendgroup": "422",
         "marker": {
          "color": "#636efa",
          "symbol": "circle"
         },
         "mode": "markers",
         "name": "422",
         "orientation": "v",
         "showlegend": true,
         "type": "scatter",
         "x": [
          0,
          1,
          2,
          3,
          4,
          5,
          6,
          7,
          8,
          9,
          10,
          11,
          12,
          13,
          14
         ],
         "xaxis": "x",
         "y": [
          0.7083333333333334,
          0.7166666666666667,
          0.765,
          0.8833333333333333,
          0.88,
          0.9416666666666667,
          0.6383333333333333,
          0.64,
          0.6283333333333333,
          0.6933333333333334,
          0.6683333333333333,
          0.74,
          0.74,
          0.7416666666666667,
          0.855
         ],
         "yaxis": "y"
        },
        {
         "hovertemplate": "subject=422<br>sessionType=EDS_BL_Easy<br>sessionNum=%{x}<br>reward_rate=%{y}<extra></extra>",
         "legendgroup": "422",
         "marker": {
          "color": "#636efa",
          "symbol": "circle"
         },
         "mode": "markers",
         "name": "422",
         "orientation": "v",
         "showlegend": false,
         "type": "scatter",
         "x": [
          0,
          1
         ],
         "xaxis": "x2",
         "y": [
          0.9,
          0.935
         ],
         "yaxis": "y2"
        },
        {
         "hovertemplate": "subject=422<br>sessionType=EDS_BL_Hard<br>sessionNum=%{x}<br>reward_rate=%{y}<extra></extra>",
         "legendgroup": "422",
         "marker": {
          "color": "#636efa",
          "symbol": "circle"
         },
         "mode": "markers",
         "name": "422",
         "orientation": "v",
         "showlegend": false,
         "type": "scatter",
         "x": [
          0,
          1
         ],
         "xaxis": "x3",
         "y": [
          0.7916666666666666,
          0.81
         ],
         "yaxis": "y3"
        },
        {
         "hovertemplate": "subject=422<br>sessionType=IDS<br>sessionNum=%{x}<br>reward_rate=%{y}<extra></extra>",
         "legendgroup": "422",
         "marker": {
          "color": "#636efa",
          "symbol": "circle"
         },
         "mode": "markers",
         "name": "422",
         "orientation": "v",
         "showlegend": false,
         "type": "scatter",
         "x": [
          0,
          1,
          2,
          3,
          4,
          5,
          6,
          7,
          8
         ],
         "xaxis": "x4",
         "y": [
          0.6233333333333333,
          0.5331010452961672,
          0.4866666666666667,
          0.5777777777777777,
          0.6444444444444445,
          0.84,
          0.8733333333333333,
          0.665,
          0.875
         ],
         "yaxis": "y4"
        },
        {
         "hovertemplate": "subject=422<br>sessionType=IDS_BL_Easy<br>sessionNum=%{x}<br>reward_rate=%{y}<extra></extra>",
         "legendgroup": "422",
         "marker": {
          "color": "#636efa",
          "symbol": "circle"
         },
         "mode": "markers",
         "name": "422",
         "orientation": "v",
         "showlegend": false,
         "type": "scatter",
         "x": [
          0,
          1,
          2
         ],
         "xaxis": "x5",
         "y": [
          0.8266666666666667,
          0.8133333333333334,
          0.9083333333333333
         ],
         "yaxis": "y5"
        },
        {
         "hovertemplate": "subject=422<br>sessionType=RE<br>sessionNum=%{x}<br>reward_rate=%{y}<extra></extra>",
         "legendgroup": "422",
         "marker": {
          "color": "#636efa",
          "symbol": "circle"
         },
         "mode": "markers",
         "name": "422",
         "orientation": "v",
         "showlegend": false,
         "type": "scatter",
         "x": [
          0
         ],
         "xaxis": "x6",
         "y": [
          0.87
         ],
         "yaxis": "y6"
        },
        {
         "hovertemplate": "subject=422<br>sessionType=Stair<br>sessionNum=%{x}<br>reward_rate=%{y}<extra></extra>",
         "legendgroup": "422",
         "marker": {
          "color": "#636efa",
          "symbol": "circle"
         },
         "mode": "markers",
         "name": "422",
         "orientation": "v",
         "showlegend": false,
         "type": "scatter",
         "x": [
          0,
          1,
          2,
          3
         ],
         "xaxis": "x7",
         "y": [
          0.8,
          0.7333333333333333,
          0.7633333333333333,
          0.715
         ],
         "yaxis": "y7"
        },
        {
         "hovertemplate": "subject=441<br>sessionType=EDS<br>sessionNum=%{x}<br>reward_rate=%{y}<extra></extra>",
         "legendgroup": "441",
         "marker": {
          "color": "#EF553B",
          "symbol": "circle"
         },
         "mode": "markers",
         "name": "441",
         "orientation": "v",
         "showlegend": true,
         "type": "scatter",
         "x": [
          0,
          1,
          2,
          3,
          4,
          5,
          6,
          7,
          8,
          9,
          10,
          11,
          12,
          13
         ],
         "xaxis": "x",
         "y": [
          0.7283333333333334,
          0.6816666666666666,
          0.7616666666666667,
          0.91,
          0.68,
          0.6025,
          0.61,
          0.6033333333333334,
          0.6516666666666666,
          0.6883333333333334,
          0.6916666666666667,
          0.6916666666666667,
          0.735,
          0.85
         ],
         "yaxis": "y"
        },
        {
         "hovertemplate": "subject=441<br>sessionType=EDS_BL_Easy<br>sessionNum=%{x}<br>reward_rate=%{y}<extra></extra>",
         "legendgroup": "441",
         "marker": {
          "color": "#EF553B",
          "symbol": "circle"
         },
         "mode": "markers",
         "name": "441",
         "orientation": "v",
         "showlegend": false,
         "type": "scatter",
         "x": [
          0,
          1
         ],
         "xaxis": "x2",
         "y": [
          0.94,
          0.925
         ],
         "yaxis": "y2"
        },
        {
         "hovertemplate": "subject=441<br>sessionType=EDS_BL_Hard<br>sessionNum=%{x}<br>reward_rate=%{y}<extra></extra>",
         "legendgroup": "441",
         "marker": {
          "color": "#EF553B",
          "symbol": "circle"
         },
         "mode": "markers",
         "name": "441",
         "orientation": "v",
         "showlegend": false,
         "type": "scatter",
         "x": [
          0,
          1
         ],
         "xaxis": "x3",
         "y": [
          0.82,
          0.7566666666666667
         ],
         "yaxis": "y3"
        },
        {
         "hovertemplate": "subject=441<br>sessionType=IDS<br>sessionNum=%{x}<br>reward_rate=%{y}<extra></extra>",
         "legendgroup": "441",
         "marker": {
          "color": "#EF553B",
          "symbol": "circle"
         },
         "mode": "markers",
         "name": "441",
         "orientation": "v",
         "showlegend": false,
         "type": "scatter",
         "x": [
          0,
          1,
          2,
          3,
          4,
          5,
          6,
          7,
          8,
          9
         ],
         "xaxis": "x4",
         "y": [
          0.5083333333333333,
          0.51,
          0.48333333333333334,
          0.5516666666666666,
          0.5783333333333334,
          0.6983333333333334,
          0.7166666666666667,
          0.8683333333333333,
          0.8683333333333333,
          0.9066666666666666
         ],
         "yaxis": "y4"
        },
        {
         "hovertemplate": "subject=441<br>sessionType=IDS_BL_Easy<br>sessionNum=%{x}<br>reward_rate=%{y}<extra></extra>",
         "legendgroup": "441",
         "marker": {
          "color": "#EF553B",
          "symbol": "circle"
         },
         "mode": "markers",
         "name": "441",
         "orientation": "v",
         "showlegend": false,
         "type": "scatter",
         "x": [
          0,
          1,
          2,
          3
         ],
         "xaxis": "x5",
         "y": [
          0.9,
          0.8616666666666667,
          0.8933333333333333,
          0.945
         ],
         "yaxis": "y5"
        },
        {
         "hovertemplate": "subject=441<br>sessionType=RE<br>sessionNum=%{x}<br>reward_rate=%{y}<extra></extra>",
         "legendgroup": "441",
         "marker": {
          "color": "#EF553B",
          "symbol": "circle"
         },
         "mode": "markers",
         "name": "441",
         "orientation": "v",
         "showlegend": false,
         "type": "scatter",
         "x": [
          0,
          1
         ],
         "xaxis": "x6",
         "y": [
          0.9183333333333333,
          0.8883333333333333
         ],
         "yaxis": "y6"
        },
        {
         "hovertemplate": "subject=441<br>sessionType=Stair<br>sessionNum=%{x}<br>reward_rate=%{y}<extra></extra>",
         "legendgroup": "441",
         "marker": {
          "color": "#EF553B",
          "symbol": "circle"
         },
         "mode": "markers",
         "name": "441",
         "orientation": "v",
         "showlegend": false,
         "type": "scatter",
         "x": [
          0,
          1,
          2,
          3
         ],
         "xaxis": "x7",
         "y": [
          0.7955555555555556,
          0.7333333333333333,
          0.785,
          0.765
         ],
         "yaxis": "y7"
        },
        {
         "hovertemplate": "subject=532<br>sessionType=EDS<br>sessionNum=%{x}<br>reward_rate=%{y}<extra></extra>",
         "legendgroup": "532",
         "marker": {
          "color": "#00cc96",
          "symbol": "circle"
         },
         "mode": "markers",
         "name": "532",
         "orientation": "v",
         "showlegend": true,
         "type": "scatter",
         "x": [
          0,
          1,
          2,
          3,
          4,
          5,
          6,
          7,
          8,
          9,
          10
         ],
         "xaxis": "x",
         "y": [
          0.5916666666666667,
          0.8066666666666666,
          0.8966666666666666,
          0.7066666666666667,
          0.59,
          0.6116666666666667,
          0.67,
          0.6916666666666667,
          0.7133333333333334,
          0.6933333333333334,
          0.8566666666666667
         ],
         "yaxis": "y"
        },
        {
         "hovertemplate": "subject=532<br>sessionType=EDS_BL_Easy<br>sessionNum=%{x}<br>reward_rate=%{y}<extra></extra>",
         "legendgroup": "532",
         "marker": {
          "color": "#00cc96",
          "symbol": "circle"
         },
         "mode": "markers",
         "name": "532",
         "orientation": "v",
         "showlegend": false,
         "type": "scatter",
         "x": [
          0,
          1
         ],
         "xaxis": "x2",
         "y": [
          0.8933333333333333,
          0.9266666666666666
         ],
         "yaxis": "y2"
        },
        {
         "hovertemplate": "subject=532<br>sessionType=EDS_BL_Hard<br>sessionNum=%{x}<br>reward_rate=%{y}<extra></extra>",
         "legendgroup": "532",
         "marker": {
          "color": "#00cc96",
          "symbol": "circle"
         },
         "mode": "markers",
         "name": "532",
         "orientation": "v",
         "showlegend": false,
         "type": "scatter",
         "x": [
          0,
          1
         ],
         "xaxis": "x3",
         "y": [
          0.71,
          0.74
         ],
         "yaxis": "y3"
        },
        {
         "hovertemplate": "subject=532<br>sessionType=IDS<br>sessionNum=%{x}<br>reward_rate=%{y}<extra></extra>",
         "legendgroup": "532",
         "marker": {
          "color": "#00cc96",
          "symbol": "circle"
         },
         "mode": "markers",
         "name": "532",
         "orientation": "v",
         "showlegend": false,
         "type": "scatter",
         "x": [
          0,
          1,
          2,
          3,
          4,
          5,
          6,
          7,
          8,
          9,
          10
         ],
         "xaxis": "x4",
         "y": [
          0.6783333333333333,
          0.44,
          0.43666666666666665,
          0.5383333333333333,
          0.4633333333333333,
          0.5183333333333333,
          0.6133333333333333,
          0.7733333333333333,
          0.9016666666666666,
          0.7983333333333333,
          0.905
         ],
         "yaxis": "y4"
        },
        {
         "hovertemplate": "subject=532<br>sessionType=IDS_BL_Easy<br>sessionNum=%{x}<br>reward_rate=%{y}<extra></extra>",
         "legendgroup": "532",
         "marker": {
          "color": "#00cc96",
          "symbol": "circle"
         },
         "mode": "markers",
         "name": "532",
         "orientation": "v",
         "showlegend": false,
         "type": "scatter",
         "x": [
          0,
          1,
          2
         ],
         "xaxis": "x5",
         "y": [
          0.88,
          0.9283333333333333,
          0.965
         ],
         "yaxis": "y5"
        },
        {
         "hovertemplate": "subject=532<br>sessionType=RE<br>sessionNum=%{x}<br>reward_rate=%{y}<extra></extra>",
         "legendgroup": "532",
         "marker": {
          "color": "#00cc96",
          "symbol": "circle"
         },
         "mode": "markers",
         "name": "532",
         "orientation": "v",
         "showlegend": false,
         "type": "scatter",
         "x": [
          0,
          1
         ],
         "xaxis": "x6",
         "y": [
          0.82,
          0.8216666666666667
         ],
         "yaxis": "y6"
        },
        {
         "hovertemplate": "subject=532<br>sessionType=Stair<br>sessionNum=%{x}<br>reward_rate=%{y}<extra></extra>",
         "legendgroup": "532",
         "marker": {
          "color": "#00cc96",
          "symbol": "circle"
         },
         "mode": "markers",
         "name": "532",
         "orientation": "v",
         "showlegend": false,
         "type": "scatter",
         "x": [
          0,
          1,
          2
         ],
         "xaxis": "x7",
         "y": [
          0.7716666666666666,
          0.785,
          0.65
         ],
         "yaxis": "y7"
        },
        {
         "hovertemplate": "subject=849<br>sessionType=EDS<br>sessionNum=%{x}<br>reward_rate=%{y}<extra></extra>",
         "legendgroup": "849",
         "marker": {
          "color": "#ab63fa",
          "symbol": "circle"
         },
         "mode": "markers",
         "name": "849",
         "orientation": "v",
         "showlegend": true,
         "type": "scatter",
         "x": [
          0,
          1,
          2,
          3,
          4,
          5,
          6,
          7,
          8,
          9,
          10,
          11,
          12,
          13
         ],
         "xaxis": "x",
         "y": [
          0.6116666666666667,
          0.5733333333333334,
          0.675,
          0.8883333333333333,
          0.8666666666666667,
          0.9166666666666666,
          0.9233333333333333,
          0.635,
          0.6516666666666666,
          0.6966666666666667,
          0.6666666666666666,
          0.6116666666666667,
          0.8516666666666667,
          0.9116666666666666
         ],
         "yaxis": "y"
        },
        {
         "hovertemplate": "subject=849<br>sessionType=EDS_BL_Easy<br>sessionNum=%{x}<br>reward_rate=%{y}<extra></extra>",
         "legendgroup": "849",
         "marker": {
          "color": "#ab63fa",
          "symbol": "circle"
         },
         "mode": "markers",
         "name": "849",
         "orientation": "v",
         "showlegend": false,
         "type": "scatter",
         "x": [
          0,
          1
         ],
         "xaxis": "x2",
         "y": [
          0.95,
          0.9333333333333333
         ],
         "yaxis": "y2"
        },
        {
         "hovertemplate": "subject=849<br>sessionType=EDS_BL_Hard<br>sessionNum=%{x}<br>reward_rate=%{y}<extra></extra>",
         "legendgroup": "849",
         "marker": {
          "color": "#ab63fa",
          "symbol": "circle"
         },
         "mode": "markers",
         "name": "849",
         "orientation": "v",
         "showlegend": false,
         "type": "scatter",
         "x": [
          0
         ],
         "xaxis": "x3",
         "y": [
          0.8666666666666667
         ],
         "yaxis": "y3"
        },
        {
         "hovertemplate": "subject=849<br>sessionType=IDS<br>sessionNum=%{x}<br>reward_rate=%{y}<extra></extra>",
         "legendgroup": "849",
         "marker": {
          "color": "#ab63fa",
          "symbol": "circle"
         },
         "mode": "markers",
         "name": "849",
         "orientation": "v",
         "showlegend": false,
         "type": "scatter",
         "x": [
          0,
          1,
          2,
          3,
          4,
          5
         ],
         "xaxis": "x4",
         "y": [
          0.8233333333333334,
          0.88,
          0.97,
          0.845,
          0.8966666666666666,
          0.915
         ],
         "yaxis": "y4"
        },
        {
         "hovertemplate": "subject=849<br>sessionType=IDS_BL_Easy<br>sessionNum=%{x}<br>reward_rate=%{y}<extra></extra>",
         "legendgroup": "849",
         "marker": {
          "color": "#ab63fa",
          "symbol": "circle"
         },
         "mode": "markers",
         "name": "849",
         "orientation": "v",
         "showlegend": false,
         "type": "scatter",
         "x": [
          0,
          1,
          2,
          3
         ],
         "xaxis": "x5",
         "y": [
          0.92,
          0.9383333333333334,
          0.9316666666666666,
          0.9283333333333333
         ],
         "yaxis": "y5"
        },
        {
         "hovertemplate": "subject=849<br>sessionType=RE<br>sessionNum=%{x}<br>reward_rate=%{y}<extra></extra>",
         "legendgroup": "849",
         "marker": {
          "color": "#ab63fa",
          "symbol": "circle"
         },
         "mode": "markers",
         "name": "849",
         "orientation": "v",
         "showlegend": false,
         "type": "scatter",
         "x": [
          0,
          1
         ],
         "xaxis": "x6",
         "y": [
          0.955,
          0.9416666666666667
         ],
         "yaxis": "y6"
        },
        {
         "hovertemplate": "subject=849<br>sessionType=Stair<br>sessionNum=%{x}<br>reward_rate=%{y}<extra></extra>",
         "legendgroup": "849",
         "marker": {
          "color": "#ab63fa",
          "symbol": "circle"
         },
         "mode": "markers",
         "name": "849",
         "orientation": "v",
         "showlegend": false,
         "type": "scatter",
         "x": [
          0,
          1,
          2,
          3,
          4,
          5,
          6
         ],
         "xaxis": "x7",
         "y": [
          0.85,
          0.77,
          0.7716666666666666,
          0.7566666666666667,
          0.8166666666666667,
          0.725,
          0.6366666666666667
         ],
         "yaxis": "y7"
        },
        {
         "hovertemplate": "subject=4151<br>sessionType=EDS<br>sessionNum=%{x}<br>reward_rate=%{y}<extra></extra>",
         "legendgroup": "4151",
         "marker": {
          "color": "#FFA15A",
          "symbol": "circle"
         },
         "mode": "markers",
         "name": "4151",
         "orientation": "v",
         "showlegend": true,
         "type": "scatter",
         "x": [
          0,
          1,
          2,
          3,
          4,
          5,
          6,
          7,
          8,
          9,
          10,
          11,
          12,
          13,
          14,
          15,
          16
         ],
         "xaxis": "x",
         "y": [
          0.5682242990654206,
          0.5183333333333333,
          0.6216666666666667,
          0.67,
          0.6383333333333333,
          0.7822085889570553,
          0.8133333333333334,
          0.9416666666666667,
          0.5516666666666666,
          0.54,
          0.5683333333333334,
          0.69,
          0.7316666666666667,
          0.785,
          0.8683333333333333,
          0.9033333333333333,
          0.9133333333333333
         ],
         "yaxis": "y"
        },
        {
         "hovertemplate": "subject=4151<br>sessionType=EDS_BL_Easy<br>sessionNum=%{x}<br>reward_rate=%{y}<extra></extra>",
         "legendgroup": "4151",
         "marker": {
          "color": "#FFA15A",
          "symbol": "circle"
         },
         "mode": "markers",
         "name": "4151",
         "orientation": "v",
         "showlegend": false,
         "type": "scatter",
         "x": [
          0,
          1
         ],
         "xaxis": "x2",
         "y": [
          0.8775100401606426,
          0.9066666666666666
         ],
         "yaxis": "y2"
        },
        {
         "hovertemplate": "subject=4151<br>sessionType=EDS_BL_Hard<br>sessionNum=%{x}<br>reward_rate=%{y}<extra></extra>",
         "legendgroup": "4151",
         "marker": {
          "color": "#FFA15A",
          "symbol": "circle"
         },
         "mode": "markers",
         "name": "4151",
         "orientation": "v",
         "showlegend": false,
         "type": "scatter",
         "x": [
          0,
          1
         ],
         "xaxis": "x3",
         "y": [
          0.6883333333333334,
          0.7383333333333333
         ],
         "yaxis": "y3"
        },
        {
         "hovertemplate": "subject=4151<br>sessionType=IDS<br>sessionNum=%{x}<br>reward_rate=%{y}<extra></extra>",
         "legendgroup": "4151",
         "marker": {
          "color": "#FFA15A",
          "symbol": "circle"
         },
         "mode": "markers",
         "name": "4151",
         "orientation": "v",
         "showlegend": false,
         "type": "scatter",
         "x": [
          0,
          1,
          2,
          3,
          4,
          5,
          6,
          7,
          8
         ],
         "xaxis": "x4",
         "y": [
          0.545,
          0.58,
          0.62,
          0.6233333333333333,
          0.7018970189701897,
          0.7980132450331126,
          0.735,
          0.9216666666666666,
          0.95
         ],
         "yaxis": "y4"
        },
        {
         "hovertemplate": "subject=4151<br>sessionType=IDS_BL_Easy<br>sessionNum=%{x}<br>reward_rate=%{y}<extra></extra>",
         "legendgroup": "4151",
         "marker": {
          "color": "#FFA15A",
          "symbol": "circle"
         },
         "mode": "markers",
         "name": "4151",
         "orientation": "v",
         "showlegend": false,
         "type": "scatter",
         "x": [
          0,
          1,
          2,
          3
         ],
         "xaxis": "x5",
         "y": [
          0.9502617801047121,
          0.8083333333333333,
          0.8766666666666667,
          0.965
         ],
         "yaxis": "y5"
        },
        {
         "hovertemplate": "subject=4151<br>sessionType=RE<br>sessionNum=%{x}<br>reward_rate=%{y}<extra></extra>",
         "legendgroup": "4151",
         "marker": {
          "color": "#FFA15A",
          "symbol": "circle"
         },
         "mode": "markers",
         "name": "4151",
         "orientation": "v",
         "showlegend": false,
         "type": "scatter",
         "x": [
          0,
          1,
          2,
          3
         ],
         "xaxis": "x6",
         "y": [
          0.7216666666666667,
          0.9383333333333334,
          0.865,
          0.881
         ],
         "yaxis": "y6"
        },
        {
         "hovertemplate": "subject=4151<br>sessionType=Stair<br>sessionNum=%{x}<br>reward_rate=%{y}<extra></extra>",
         "legendgroup": "4151",
         "marker": {
          "color": "#FFA15A",
          "symbol": "circle"
         },
         "mode": "markers",
         "name": "4151",
         "orientation": "v",
         "showlegend": false,
         "type": "scatter",
         "x": [
          0,
          1,
          2,
          3,
          4,
          5
         ],
         "xaxis": "x7",
         "y": [
          0.785,
          0.765,
          0.735,
          0.7666666666666667,
          0.6396226415094339,
          0.535
         ],
         "yaxis": "y7"
        },
        {
         "hovertemplate": "subject=4152<br>sessionType=EDS<br>sessionNum=%{x}<br>reward_rate=%{y}<extra></extra>",
         "legendgroup": "4152",
         "marker": {
          "color": "#19d3f3",
          "symbol": "circle"
         },
         "mode": "markers",
         "name": "4152",
         "orientation": "v",
         "showlegend": true,
         "type": "scatter",
         "x": [
          0,
          1,
          2,
          3,
          4,
          5,
          6,
          7,
          8,
          9,
          10,
          11
         ],
         "xaxis": "x",
         "y": [
          0.5383333333333333,
          0.5966666666666667,
          0.6283333333333333,
          0.7016666666666667,
          0.785,
          0.9233333333333333,
          0.625,
          0.5583333333333333,
          0.6216666666666667,
          0.7033333333333334,
          0.855,
          0.915
         ],
         "yaxis": "y"
        },
        {
         "hovertemplate": "subject=4152<br>sessionType=EDS_BL_Easy<br>sessionNum=%{x}<br>reward_rate=%{y}<extra></extra>",
         "legendgroup": "4152",
         "marker": {
          "color": "#19d3f3",
          "symbol": "circle"
         },
         "mode": "markers",
         "name": "4152",
         "orientation": "v",
         "showlegend": false,
         "type": "scatter",
         "x": [
          0,
          1
         ],
         "xaxis": "x2",
         "y": [
          0.9333333333333333,
          0.9633333333333334
         ],
         "yaxis": "y2"
        },
        {
         "hovertemplate": "subject=4152<br>sessionType=EDS_BL_Hard<br>sessionNum=%{x}<br>reward_rate=%{y}<extra></extra>",
         "legendgroup": "4152",
         "marker": {
          "color": "#19d3f3",
          "symbol": "circle"
         },
         "mode": "markers",
         "name": "4152",
         "orientation": "v",
         "showlegend": false,
         "type": "scatter",
         "x": [
          0,
          1
         ],
         "xaxis": "x3",
         "y": [
          0.645,
          0.6640211640211641
         ],
         "yaxis": "y3"
        },
        {
         "hovertemplate": "subject=4152<br>sessionType=IDS<br>sessionNum=%{x}<br>reward_rate=%{y}<extra></extra>",
         "legendgroup": "4152",
         "marker": {
          "color": "#19d3f3",
          "symbol": "circle"
         },
         "mode": "markers",
         "name": "4152",
         "orientation": "v",
         "showlegend": false,
         "type": "scatter",
         "x": [
          0,
          1,
          2,
          3,
          4,
          5,
          6,
          7
         ],
         "xaxis": "x4",
         "y": [
          0.63,
          0.6883333333333334,
          0.7933333333333333,
          0.82,
          0.7333333333333333,
          0.8566666666666667,
          0.8283333333333334,
          0.9233333333333333
         ],
         "yaxis": "y4"
        },
        {
         "hovertemplate": "subject=4152<br>sessionType=IDS_BL_Easy<br>sessionNum=%{x}<br>reward_rate=%{y}<extra></extra>",
         "legendgroup": "4152",
         "marker": {
          "color": "#19d3f3",
          "symbol": "circle"
         },
         "mode": "markers",
         "name": "4152",
         "orientation": "v",
         "showlegend": false,
         "type": "scatter",
         "x": [
          0,
          1,
          2,
          3
         ],
         "xaxis": "x5",
         "y": [
          0.9233333333333333,
          0.9233333333333333,
          0.9366666666666666,
          0.94
         ],
         "yaxis": "y5"
        },
        {
         "hovertemplate": "subject=4152<br>sessionType=RE<br>sessionNum=%{x}<br>reward_rate=%{y}<extra></extra>",
         "legendgroup": "4152",
         "marker": {
          "color": "#19d3f3",
          "symbol": "circle"
         },
         "mode": "markers",
         "name": "4152",
         "orientation": "v",
         "showlegend": false,
         "type": "scatter",
         "x": [
          0,
          1,
          2,
          3
         ],
         "xaxis": "x6",
         "y": [
          0.8766666666666667,
          0.9483333333333334,
          0.781,
          0.914
         ],
         "yaxis": "y6"
        },
        {
         "hovertemplate": "subject=4152<br>sessionType=Stair<br>sessionNum=%{x}<br>reward_rate=%{y}<extra></extra>",
         "legendgroup": "4152",
         "marker": {
          "color": "#19d3f3",
          "symbol": "circle"
         },
         "mode": "markers",
         "name": "4152",
         "orientation": "v",
         "showlegend": false,
         "type": "scatter",
         "x": [
          0,
          1,
          2,
          3,
          4
         ],
         "xaxis": "x7",
         "y": [
          0.6433333333333333,
          0.6383333333333333,
          0.645,
          0.8083333333333333,
          0.6833333333333333
         ],
         "yaxis": "y7"
        },
        {
         "hovertemplate": "subject=4154<br>sessionType=EDS<br>sessionNum=%{x}<br>reward_rate=%{y}<extra></extra>",
         "legendgroup": "4154",
         "marker": {
          "color": "#FF6692",
          "symbol": "circle"
         },
         "mode": "markers",
         "name": "4154",
         "orientation": "v",
         "showlegend": true,
         "type": "scatter",
         "x": [
          0,
          1,
          2,
          3,
          4,
          5,
          6
         ],
         "xaxis": "x",
         "y": [
          0.625,
          0.65,
          0.87,
          0.95,
          0.65,
          0.8233333333333334,
          0.9166666666666666
         ],
         "yaxis": "y"
        },
        {
         "hovertemplate": "subject=4154<br>sessionType=EDS_BL_Easy<br>sessionNum=%{x}<br>reward_rate=%{y}<extra></extra>",
         "legendgroup": "4154",
         "marker": {
          "color": "#FF6692",
          "symbol": "circle"
         },
         "mode": "markers",
         "name": "4154",
         "orientation": "v",
         "showlegend": false,
         "type": "scatter",
         "x": [
          0,
          1
         ],
         "xaxis": "x2",
         "y": [
          0.8716666666666667,
          0.9066666666666666
         ],
         "yaxis": "y2"
        },
        {
         "hovertemplate": "subject=4154<br>sessionType=EDS_BL_Hard<br>sessionNum=%{x}<br>reward_rate=%{y}<extra></extra>",
         "legendgroup": "4154",
         "marker": {
          "color": "#FF6692",
          "symbol": "circle"
         },
         "mode": "markers",
         "name": "4154",
         "orientation": "v",
         "showlegend": false,
         "type": "scatter",
         "x": [
          0,
          1
         ],
         "xaxis": "x3",
         "y": [
          0.715,
          0.84
         ],
         "yaxis": "y3"
        },
        {
         "hovertemplate": "subject=4154<br>sessionType=IDS<br>sessionNum=%{x}<br>reward_rate=%{y}<extra></extra>",
         "legendgroup": "4154",
         "marker": {
          "color": "#FF6692",
          "symbol": "circle"
         },
         "mode": "markers",
         "name": "4154",
         "orientation": "v",
         "showlegend": false,
         "type": "scatter",
         "x": [
          0,
          1,
          2,
          3,
          4,
          5,
          6,
          7,
          8,
          9,
          10
         ],
         "xaxis": "x4",
         "y": [
          0.8533333333333334,
          0.9816666666666667,
          0.565,
          0.5533333333333333,
          0.6,
          0.6466666666666666,
          0.665,
          0.82,
          0.8366666666666667,
          0.8766666666666667,
          0.915
         ],
         "yaxis": "y4"
        },
        {
         "hovertemplate": "subject=4154<br>sessionType=IDS_BL_Easy<br>sessionNum=%{x}<br>reward_rate=%{y}<extra></extra>",
         "legendgroup": "4154",
         "marker": {
          "color": "#FF6692",
          "symbol": "circle"
         },
         "mode": "markers",
         "name": "4154",
         "orientation": "v",
         "showlegend": false,
         "type": "scatter",
         "x": [
          0,
          1,
          2,
          3
         ],
         "xaxis": "x5",
         "y": [
          0.9716666666666667,
          0.965,
          0.9,
          0.945
         ],
         "yaxis": "y5"
        },
        {
         "hovertemplate": "subject=4154<br>sessionType=RE<br>sessionNum=%{x}<br>reward_rate=%{y}<extra></extra>",
         "legendgroup": "4154",
         "marker": {
          "color": "#FF6692",
          "symbol": "circle"
         },
         "mode": "markers",
         "name": "4154",
         "orientation": "v",
         "showlegend": false,
         "type": "scatter",
         "x": [
          0,
          1,
          2,
          3
         ],
         "xaxis": "x6",
         "y": [
          0.9616666666666667,
          0.9183333333333333,
          0.942,
          0.977
         ],
         "yaxis": "y6"
        },
        {
         "hovertemplate": "subject=4154<br>sessionType=Stair<br>sessionNum=%{x}<br>reward_rate=%{y}<extra></extra>",
         "legendgroup": "4154",
         "marker": {
          "color": "#FF6692",
          "symbol": "circle"
         },
         "mode": "markers",
         "name": "4154",
         "orientation": "v",
         "showlegend": false,
         "type": "scatter",
         "x": [
          0,
          1,
          2,
          3,
          4
         ],
         "xaxis": "x7",
         "y": [
          0.865,
          0.71,
          0.6881720430107527,
          0.8133333333333334,
          0.7283333333333334
         ],
         "yaxis": "y7"
        },
        {
         "hovertemplate": "subject=5091<br>sessionType=EDS<br>sessionNum=%{x}<br>reward_rate=%{y}<extra></extra>",
         "legendgroup": "5091",
         "marker": {
          "color": "#B6E880",
          "symbol": "circle"
         },
         "mode": "markers",
         "name": "5091",
         "orientation": "v",
         "showlegend": true,
         "type": "scatter",
         "x": [
          0,
          1,
          2,
          3,
          4,
          5,
          6,
          7,
          8,
          9,
          10
         ],
         "xaxis": "x",
         "y": [
          0.65,
          0.525,
          0.635,
          0.6366666666666667,
          0.73,
          0.7966666666666666,
          0.8233333333333334,
          0.8716666666666667,
          0.8716666666666667,
          0.7172284644194756,
          0.8483333333333334
         ],
         "yaxis": "y"
        },
        {
         "hovertemplate": "subject=5091<br>sessionType=EDS_BL_Easy<br>sessionNum=%{x}<br>reward_rate=%{y}<extra></extra>",
         "legendgroup": "5091",
         "marker": {
          "color": "#B6E880",
          "symbol": "circle"
         },
         "mode": "markers",
         "name": "5091",
         "orientation": "v",
         "showlegend": false,
         "type": "scatter",
         "x": [
          0,
          1
         ],
         "xaxis": "x2",
         "y": [
          0.9333333333333333,
          0.9333333333333333
         ],
         "yaxis": "y2"
        },
        {
         "hovertemplate": "subject=5091<br>sessionType=EDS_BL_Hard<br>sessionNum=%{x}<br>reward_rate=%{y}<extra></extra>",
         "legendgroup": "5091",
         "marker": {
          "color": "#B6E880",
          "symbol": "circle"
         },
         "mode": "markers",
         "name": "5091",
         "orientation": "v",
         "showlegend": false,
         "type": "scatter",
         "x": [
          0,
          1
         ],
         "xaxis": "x3",
         "y": [
          0.5966666666666667,
          0.6383333333333333
         ],
         "yaxis": "y3"
        },
        {
         "hovertemplate": "subject=5091<br>sessionType=IDS<br>sessionNum=%{x}<br>reward_rate=%{y}<extra></extra>",
         "legendgroup": "5091",
         "marker": {
          "color": "#B6E880",
          "symbol": "circle"
         },
         "mode": "markers",
         "name": "5091",
         "orientation": "v",
         "showlegend": false,
         "type": "scatter",
         "x": [
          0,
          1,
          2,
          3,
          4,
          5,
          6,
          7
         ],
         "xaxis": "x4",
         "y": [
          0.5866666666666667,
          0.6233333333333333,
          0.7083333333333334,
          0.7633333333333333,
          0.825,
          0.9216666666666666,
          0.8383333333333334,
          0.9116666666666666
         ],
         "yaxis": "y4"
        },
        {
         "hovertemplate": "subject=5091<br>sessionType=IDS_BL_Easy<br>sessionNum=%{x}<br>reward_rate=%{y}<extra></extra>",
         "legendgroup": "5091",
         "marker": {
          "color": "#B6E880",
          "symbol": "circle"
         },
         "mode": "markers",
         "name": "5091",
         "orientation": "v",
         "showlegend": false,
         "type": "scatter",
         "x": [
          0,
          1,
          2,
          3
         ],
         "xaxis": "x5",
         "y": [
          0.9083333333333333,
          0.9266666666666666,
          0.925,
          0.9483333333333334
         ],
         "yaxis": "y5"
        },
        {
         "hovertemplate": "subject=5091<br>sessionType=RE<br>sessionNum=%{x}<br>reward_rate=%{y}<extra></extra>",
         "legendgroup": "5091",
         "marker": {
          "color": "#B6E880",
          "symbol": "circle"
         },
         "mode": "markers",
         "name": "5091",
         "orientation": "v",
         "showlegend": false,
         "type": "scatter",
         "x": [
          0,
          1,
          2,
          3
         ],
         "xaxis": "x6",
         "y": [
          0.9333333333333333,
          0.9,
          0.735,
          0.7271268057784912
         ],
         "yaxis": "y6"
        },
        {
         "hovertemplate": "subject=5091<br>sessionType=Stair<br>sessionNum=%{x}<br>reward_rate=%{y}<extra></extra>",
         "legendgroup": "5091",
         "marker": {
          "color": "#B6E880",
          "symbol": "circle"
         },
         "mode": "markers",
         "name": "5091",
         "orientation": "v",
         "showlegend": false,
         "type": "scatter",
         "x": [
          0,
          1,
          2,
          3,
          4,
          5
         ],
         "xaxis": "x7",
         "y": [
          0.79,
          0.7,
          0.675,
          0.765,
          0.7,
          0.635
         ],
         "yaxis": "y7"
        },
        {
         "hovertemplate": "subject=5354<br>sessionType=EDS<br>sessionNum=%{x}<br>reward_rate=%{y}<extra></extra>",
         "legendgroup": "5354",
         "marker": {
          "color": "#FF97FF",
          "symbol": "circle"
         },
         "mode": "markers",
         "name": "5354",
         "orientation": "v",
         "showlegend": true,
         "type": "scatter",
         "x": [
          0,
          1,
          2,
          3,
          4,
          5,
          6,
          7,
          8,
          9,
          10,
          11
         ],
         "xaxis": "x",
         "y": [
          0.685,
          0.7266666666666667,
          0.7933333333333333,
          0.8416666666666667,
          0.7833333333333333,
          0.8583333333333333,
          0.6633333333333333,
          0.6783333333333333,
          0.835,
          0.83,
          0.87,
          0.9116666666666666
         ],
         "yaxis": "y"
        },
        {
         "hovertemplate": "subject=5354<br>sessionType=EDS_BL_Easy<br>sessionNum=%{x}<br>reward_rate=%{y}<extra></extra>",
         "legendgroup": "5354",
         "marker": {
          "color": "#FF97FF",
          "symbol": "circle"
         },
         "mode": "markers",
         "name": "5354",
         "orientation": "v",
         "showlegend": false,
         "type": "scatter",
         "x": [
          0,
          1
         ],
         "xaxis": "x2",
         "y": [
          0.91,
          0.925
         ],
         "yaxis": "y2"
        },
        {
         "hovertemplate": "subject=5354<br>sessionType=EDS_BL_Hard<br>sessionNum=%{x}<br>reward_rate=%{y}<extra></extra>",
         "legendgroup": "5354",
         "marker": {
          "color": "#FF97FF",
          "symbol": "circle"
         },
         "mode": "markers",
         "name": "5354",
         "orientation": "v",
         "showlegend": false,
         "type": "scatter",
         "x": [
          0,
          1
         ],
         "xaxis": "x3",
         "y": [
          0.7916666666666666,
          0.9033333333333333
         ],
         "yaxis": "y3"
        },
        {
         "hovertemplate": "subject=5354<br>sessionType=IDS<br>sessionNum=%{x}<br>reward_rate=%{y}<extra></extra>",
         "legendgroup": "5354",
         "marker": {
          "color": "#FF97FF",
          "symbol": "circle"
         },
         "mode": "markers",
         "name": "5354",
         "orientation": "v",
         "showlegend": false,
         "type": "scatter",
         "x": [
          0,
          1,
          2,
          3,
          4,
          5,
          6,
          7,
          8,
          9,
          10,
          11
         ],
         "xaxis": "x4",
         "y": [
          0.6783333333333333,
          0.735,
          0.8533333333333334,
          0.9166666666666666,
          0.62,
          0.5533333333333333,
          0.5666666666666667,
          0.6033333333333334,
          0.6333333333333333,
          0.725,
          0.7733333333333333,
          0.8333333333333334
         ],
         "yaxis": "y4"
        },
        {
         "hovertemplate": "subject=5354<br>sessionType=IDS_BL_Easy<br>sessionNum=%{x}<br>reward_rate=%{y}<extra></extra>",
         "legendgroup": "5354",
         "marker": {
          "color": "#FF97FF",
          "symbol": "circle"
         },
         "mode": "markers",
         "name": "5354",
         "orientation": "v",
         "showlegend": false,
         "type": "scatter",
         "x": [
          0,
          1,
          2,
          3
         ],
         "xaxis": "x5",
         "y": [
          0.8866666666666667,
          0.865,
          0.8233333333333334,
          0.8516666666666667
         ],
         "yaxis": "y5"
        },
        {
         "hovertemplate": "subject=5354<br>sessionType=RE<br>sessionNum=%{x}<br>reward_rate=%{y}<extra></extra>",
         "legendgroup": "5354",
         "marker": {
          "color": "#FF97FF",
          "symbol": "circle"
         },
         "mode": "markers",
         "name": "5354",
         "orientation": "v",
         "showlegend": false,
         "type": "scatter",
         "x": [
          0,
          1
         ],
         "xaxis": "x6",
         "y": [
          0.8483333333333334,
          0.8383333333333334
         ],
         "yaxis": "y6"
        },
        {
         "hovertemplate": "subject=5354<br>sessionType=Stair<br>sessionNum=%{x}<br>reward_rate=%{y}<extra></extra>",
         "legendgroup": "5354",
         "marker": {
          "color": "#FF97FF",
          "symbol": "circle"
         },
         "mode": "markers",
         "name": "5354",
         "orientation": "v",
         "showlegend": false,
         "type": "scatter",
         "x": [
          0,
          1,
          2,
          3,
          4,
          5
         ],
         "xaxis": "x7",
         "y": [
          0.82,
          0.7816666666666666,
          0.7566666666666667,
          0.805,
          0.7366666666666667,
          0.7412790697674418
         ],
         "yaxis": "y7"
        },
        {
         "hovertemplate": "subject=6832<br>sessionType=EDS<br>sessionNum=%{x}<br>reward_rate=%{y}<extra></extra>",
         "legendgroup": "6832",
         "marker": {
          "color": "#FECB52",
          "symbol": "circle"
         },
         "mode": "markers",
         "name": "6832",
         "orientation": "v",
         "showlegend": true,
         "type": "scatter",
         "x": [
          0,
          1,
          2,
          3,
          4,
          5,
          6,
          7,
          8,
          9,
          10,
          11,
          12,
          13
         ],
         "xaxis": "x",
         "y": [
          0.63,
          0.6016666666666667,
          0.705,
          0.8383333333333334,
          0.875,
          0.705,
          0.61,
          0.6266666666666667,
          0.65,
          0.68,
          0.7683333333333333,
          0.8116666666666666,
          0.855,
          0.9016666666666666
         ],
         "yaxis": "y"
        },
        {
         "hovertemplate": "subject=6832<br>sessionType=EDS_BL_Easy<br>sessionNum=%{x}<br>reward_rate=%{y}<extra></extra>",
         "legendgroup": "6832",
         "marker": {
          "color": "#FECB52",
          "symbol": "circle"
         },
         "mode": "markers",
         "name": "6832",
         "orientation": "v",
         "showlegend": false,
         "type": "scatter",
         "x": [
          0,
          1
         ],
         "xaxis": "x2",
         "y": [
          0.925,
          0.9233333333333333
         ],
         "yaxis": "y2"
        },
        {
         "hovertemplate": "subject=6832<br>sessionType=EDS_BL_Hard<br>sessionNum=%{x}<br>reward_rate=%{y}<extra></extra>",
         "legendgroup": "6832",
         "marker": {
          "color": "#FECB52",
          "symbol": "circle"
         },
         "mode": "markers",
         "name": "6832",
         "orientation": "v",
         "showlegend": false,
         "type": "scatter",
         "x": [
          0,
          1
         ],
         "xaxis": "x3",
         "y": [
          0.77,
          0.8233333333333334
         ],
         "yaxis": "y3"
        },
        {
         "hovertemplate": "subject=6832<br>sessionType=IDS<br>sessionNum=%{x}<br>reward_rate=%{y}<extra></extra>",
         "legendgroup": "6832",
         "marker": {
          "color": "#FECB52",
          "symbol": "circle"
         },
         "mode": "markers",
         "name": "6832",
         "orientation": "v",
         "showlegend": false,
         "type": "scatter",
         "x": [
          0,
          1,
          2,
          3,
          4,
          5,
          6,
          7,
          8
         ],
         "xaxis": "x4",
         "y": [
          0.6633333333333333,
          0.77,
          0.8983333333333333,
          0.9316666666666666,
          0.63,
          0.6616666666666666,
          0.8133333333333334,
          0.85,
          0.875
         ],
         "yaxis": "y4"
        },
        {
         "hovertemplate": "subject=6832<br>sessionType=IDS_BL_Easy<br>sessionNum=%{x}<br>reward_rate=%{y}<extra></extra>",
         "legendgroup": "6832",
         "marker": {
          "color": "#FECB52",
          "symbol": "circle"
         },
         "mode": "markers",
         "name": "6832",
         "orientation": "v",
         "showlegend": false,
         "type": "scatter",
         "x": [
          0,
          1,
          2,
          3
         ],
         "xaxis": "x5",
         "y": [
          0.9333333333333333,
          0.9733333333333334,
          0.8733333333333333,
          0.935
         ],
         "yaxis": "y5"
        },
        {
         "hovertemplate": "subject=6832<br>sessionType=RE<br>sessionNum=%{x}<br>reward_rate=%{y}<extra></extra>",
         "legendgroup": "6832",
         "marker": {
          "color": "#FECB52",
          "symbol": "circle"
         },
         "mode": "markers",
         "name": "6832",
         "orientation": "v",
         "showlegend": false,
         "type": "scatter",
         "x": [
          0,
          1
         ],
         "xaxis": "x6",
         "y": [
          0.8766666666666667,
          0.875
         ],
         "yaxis": "y6"
        },
        {
         "hovertemplate": "subject=6832<br>sessionType=Stair<br>sessionNum=%{x}<br>reward_rate=%{y}<extra></extra>",
         "legendgroup": "6832",
         "marker": {
          "color": "#FECB52",
          "symbol": "circle"
         },
         "mode": "markers",
         "name": "6832",
         "orientation": "v",
         "showlegend": false,
         "type": "scatter",
         "x": [
          0,
          1,
          2,
          3,
          4,
          5
         ],
         "xaxis": "x7",
         "y": [
          0.7966666666666666,
          0.7783333333333333,
          0.75,
          0.805,
          0.7716666666666666,
          0.7583333333333333
         ],
         "yaxis": "y7"
        },
        {
         "hovertemplate": "subject=6833<br>sessionType=EDS<br>sessionNum=%{x}<br>reward_rate=%{y}<extra></extra>",
         "legendgroup": "6833",
         "marker": {
          "color": "#636efa",
          "symbol": "circle"
         },
         "mode": "markers",
         "name": "6833",
         "orientation": "v",
         "showlegend": true,
         "type": "scatter",
         "x": [
          0,
          1,
          2,
          3,
          4,
          5,
          6,
          7,
          8,
          9,
          10,
          11,
          12
         ],
         "xaxis": "x",
         "y": [
          0.65,
          0.59,
          0.8834782608695653,
          0.7233333333333334,
          0.6116666666666667,
          0.6583333333333333,
          0.68,
          0.705,
          0.7483333333333333,
          0.75,
          0.8283333333333334,
          0.7683333333333333,
          0.9483333333333334
         ],
         "yaxis": "y"
        },
        {
         "hovertemplate": "subject=6833<br>sessionType=EDS_BL_Easy<br>sessionNum=%{x}<br>reward_rate=%{y}<extra></extra>",
         "legendgroup": "6833",
         "marker": {
          "color": "#636efa",
          "symbol": "circle"
         },
         "mode": "markers",
         "name": "6833",
         "orientation": "v",
         "showlegend": false,
         "type": "scatter",
         "x": [
          0,
          1
         ],
         "xaxis": "x2",
         "y": [
          0.9016666666666666,
          0.9583333333333334
         ],
         "yaxis": "y2"
        },
        {
         "hovertemplate": "subject=6833<br>sessionType=EDS_BL_Hard<br>sessionNum=%{x}<br>reward_rate=%{y}<extra></extra>",
         "legendgroup": "6833",
         "marker": {
          "color": "#636efa",
          "symbol": "circle"
         },
         "mode": "markers",
         "name": "6833",
         "orientation": "v",
         "showlegend": false,
         "type": "scatter",
         "x": [
          0,
          1
         ],
         "xaxis": "x3",
         "y": [
          0.74,
          0.7933333333333333
         ],
         "yaxis": "y3"
        },
        {
         "hovertemplate": "subject=6833<br>sessionType=IDS<br>sessionNum=%{x}<br>reward_rate=%{y}<extra></extra>",
         "legendgroup": "6833",
         "marker": {
          "color": "#636efa",
          "symbol": "circle"
         },
         "mode": "markers",
         "name": "6833",
         "orientation": "v",
         "showlegend": false,
         "type": "scatter",
         "x": [
          0,
          1,
          2,
          3,
          4,
          5,
          6,
          7
         ],
         "xaxis": "x4",
         "y": [
          0.8,
          0.8683333333333333,
          0.9083333333333333,
          0.6383333333333333,
          0.6066666666666667,
          0.74,
          0.87,
          0.87
         ],
         "yaxis": "y4"
        },
        {
         "hovertemplate": "subject=6833<br>sessionType=IDS_BL_Easy<br>sessionNum=%{x}<br>reward_rate=%{y}<extra></extra>",
         "legendgroup": "6833",
         "marker": {
          "color": "#636efa",
          "symbol": "circle"
         },
         "mode": "markers",
         "name": "6833",
         "orientation": "v",
         "showlegend": false,
         "type": "scatter",
         "x": [
          0,
          1,
          2,
          3
         ],
         "xaxis": "x5",
         "y": [
          0.9133333333333333,
          0.915,
          0.7683333333333333,
          0.9016666666666666
         ],
         "yaxis": "y5"
        },
        {
         "hovertemplate": "subject=6833<br>sessionType=RE<br>sessionNum=%{x}<br>reward_rate=%{y}<extra></extra>",
         "legendgroup": "6833",
         "marker": {
          "color": "#636efa",
          "symbol": "circle"
         },
         "mode": "markers",
         "name": "6833",
         "orientation": "v",
         "showlegend": false,
         "type": "scatter",
         "x": [
          0,
          1
         ],
         "xaxis": "x6",
         "y": [
          0.9066666666666666,
          0.8933333333333333
         ],
         "yaxis": "y6"
        },
        {
         "hovertemplate": "subject=6833<br>sessionType=Stair<br>sessionNum=%{x}<br>reward_rate=%{y}<extra></extra>",
         "legendgroup": "6833",
         "marker": {
          "color": "#636efa",
          "symbol": "circle"
         },
         "mode": "markers",
         "name": "6833",
         "orientation": "v",
         "showlegend": false,
         "type": "scatter",
         "x": [
          0,
          1,
          2,
          3,
          4,
          5
         ],
         "xaxis": "x7",
         "y": [
          0.8416666666666667,
          0.7616666666666667,
          0.7633333333333333,
          0.8083333333333333,
          0.7583333333333333,
          0.73
         ],
         "yaxis": "y7"
        },
        {
         "hovertemplate": "subject=6951<br>sessionType=EDS<br>sessionNum=%{x}<br>reward_rate=%{y}<extra></extra>",
         "legendgroup": "6951",
         "marker": {
          "color": "#EF553B",
          "symbol": "circle"
         },
         "mode": "markers",
         "name": "6951",
         "orientation": "v",
         "showlegend": true,
         "type": "scatter",
         "x": [
          0,
          1,
          2,
          3,
          4,
          5,
          6,
          7,
          8,
          9,
          10,
          11,
          12,
          13,
          14,
          15
         ],
         "xaxis": "x",
         "y": [
          0.7033333333333334,
          0.6283333333333333,
          0.6816666666666666,
          0.8283333333333334,
          0.95,
          0.66,
          0.6416666666666667,
          0.6416666666666667,
          0.6383333333333333,
          0.645,
          0.7133333333333334,
          0.8583333333333333,
          0.8283333333333334,
          0.9216666666666666,
          0.9316666666666666,
          0.92
         ],
         "yaxis": "y"
        },
        {
         "hovertemplate": "subject=6951<br>sessionType=EDS_BL_Easy<br>sessionNum=%{x}<br>reward_rate=%{y}<extra></extra>",
         "legendgroup": "6951",
         "marker": {
          "color": "#EF553B",
          "symbol": "circle"
         },
         "mode": "markers",
         "name": "6951",
         "orientation": "v",
         "showlegend": false,
         "type": "scatter",
         "x": [
          0,
          1
         ],
         "xaxis": "x2",
         "y": [
          0.9683333333333334,
          0.9883333333333333
         ],
         "yaxis": "y2"
        },
        {
         "hovertemplate": "subject=6951<br>sessionType=EDS_BL_Hard<br>sessionNum=%{x}<br>reward_rate=%{y}<extra></extra>",
         "legendgroup": "6951",
         "marker": {
          "color": "#EF553B",
          "symbol": "circle"
         },
         "mode": "markers",
         "name": "6951",
         "orientation": "v",
         "showlegend": false,
         "type": "scatter",
         "x": [
          0,
          1
         ],
         "xaxis": "x3",
         "y": [
          0.715,
          0.78
         ],
         "yaxis": "y3"
        },
        {
         "hovertemplate": "subject=6951<br>sessionType=IDS<br>sessionNum=%{x}<br>reward_rate=%{y}<extra></extra>",
         "legendgroup": "6951",
         "marker": {
          "color": "#EF553B",
          "symbol": "circle"
         },
         "mode": "markers",
         "name": "6951",
         "orientation": "v",
         "showlegend": false,
         "type": "scatter",
         "x": [
          0,
          1,
          2,
          3,
          4,
          5,
          6,
          7,
          8
         ],
         "xaxis": "x4",
         "y": [
          0.795,
          0.895,
          0.8733333333333333,
          0.955,
          0.6633333333333333,
          0.5833333333333334,
          0.63,
          0.7516666666666667,
          0.87
         ],
         "yaxis": "y4"
        },
        {
         "hovertemplate": "subject=6951<br>sessionType=IDS_BL_Easy<br>sessionNum=%{x}<br>reward_rate=%{y}<extra></extra>",
         "legendgroup": "6951",
         "marker": {
          "color": "#EF553B",
          "symbol": "circle"
         },
         "mode": "markers",
         "name": "6951",
         "orientation": "v",
         "showlegend": false,
         "type": "scatter",
         "x": [
          0,
          1,
          2
         ],
         "xaxis": "x5",
         "y": [
          0.9583333333333334,
          0.9733333333333334,
          0.8733333333333333
         ],
         "yaxis": "y5"
        },
        {
         "hovertemplate": "subject=6951<br>sessionType=RE<br>sessionNum=%{x}<br>reward_rate=%{y}<extra></extra>",
         "legendgroup": "6951",
         "marker": {
          "color": "#EF553B",
          "symbol": "circle"
         },
         "mode": "markers",
         "name": "6951",
         "orientation": "v",
         "showlegend": false,
         "type": "scatter",
         "x": [
          0,
          1
         ],
         "xaxis": "x6",
         "y": [
          0.9466666666666667,
          0.86
         ],
         "yaxis": "y6"
        },
        {
         "hovertemplate": "subject=6951<br>sessionType=Stair<br>sessionNum=%{x}<br>reward_rate=%{y}<extra></extra>",
         "legendgroup": "6951",
         "marker": {
          "color": "#EF553B",
          "symbol": "circle"
         },
         "mode": "markers",
         "name": "6951",
         "orientation": "v",
         "showlegend": false,
         "type": "scatter",
         "x": [
          0,
          1,
          2,
          3,
          4,
          5
         ],
         "xaxis": "x7",
         "y": [
          0.8183333333333334,
          0.7533333333333333,
          0.68,
          0.7583333333333333,
          0.7166666666666667,
          0.7333333333333333
         ],
         "yaxis": "y7"
        },
        {
         "hovertemplate": "subject=8012<br>sessionType=EDS<br>sessionNum=%{x}<br>reward_rate=%{y}<extra></extra>",
         "legendgroup": "8012",
         "marker": {
          "color": "#00cc96",
          "symbol": "circle"
         },
         "mode": "markers",
         "name": "8012",
         "orientation": "v",
         "showlegend": true,
         "type": "scatter",
         "x": [
          0,
          1,
          2,
          3,
          4,
          5,
          6,
          7,
          8
         ],
         "xaxis": "x",
         "y": [
          0.6316666666666667,
          0.5783333333333334,
          0.745,
          0.9033333333333333,
          0.7566666666666667,
          0.6933333333333334,
          0.7866666666666666,
          0.8583333333333333,
          0.9133333333333333
         ],
         "yaxis": "y"
        },
        {
         "hovertemplate": "subject=8012<br>sessionType=EDS_BL_Easy<br>sessionNum=%{x}<br>reward_rate=%{y}<extra></extra>",
         "legendgroup": "8012",
         "marker": {
          "color": "#00cc96",
          "symbol": "circle"
         },
         "mode": "markers",
         "name": "8012",
         "orientation": "v",
         "showlegend": false,
         "type": "scatter",
         "x": [
          0,
          1
         ],
         "xaxis": "x2",
         "y": [
          0.9216666666666666,
          0.9466666666666667
         ],
         "yaxis": "y2"
        },
        {
         "hovertemplate": "subject=8012<br>sessionType=EDS_BL_Hard<br>sessionNum=%{x}<br>reward_rate=%{y}<extra></extra>",
         "legendgroup": "8012",
         "marker": {
          "color": "#00cc96",
          "symbol": "circle"
         },
         "mode": "markers",
         "name": "8012",
         "orientation": "v",
         "showlegend": false,
         "type": "scatter",
         "x": [
          0,
          1
         ],
         "xaxis": "x3",
         "y": [
          0.7583333333333333,
          0.8116666666666666
         ],
         "yaxis": "y3"
        },
        {
         "hovertemplate": "subject=8012<br>sessionType=IDS<br>sessionNum=%{x}<br>reward_rate=%{y}<extra></extra>",
         "legendgroup": "8012",
         "marker": {
          "color": "#00cc96",
          "symbol": "circle"
         },
         "mode": "markers",
         "name": "8012",
         "orientation": "v",
         "showlegend": false,
         "type": "scatter",
         "x": [
          0,
          1,
          2,
          3,
          4,
          5
         ],
         "xaxis": "x4",
         "y": [
          0.63,
          0.88,
          0.9083333333333333,
          0.695,
          0.83,
          0.9216666666666666
         ],
         "yaxis": "y4"
        },
        {
         "hovertemplate": "subject=8012<br>sessionType=IDS_BL_Easy<br>sessionNum=%{x}<br>reward_rate=%{y}<extra></extra>",
         "legendgroup": "8012",
         "marker": {
          "color": "#00cc96",
          "symbol": "circle"
         },
         "mode": "markers",
         "name": "8012",
         "orientation": "v",
         "showlegend": false,
         "type": "scatter",
         "x": [
          0,
          1,
          2,
          3
         ],
         "xaxis": "x5",
         "y": [
          0.915,
          0.93,
          0.91,
          0.9183333333333333
         ],
         "yaxis": "y5"
        },
        {
         "hovertemplate": "subject=8012<br>sessionType=RE<br>sessionNum=%{x}<br>reward_rate=%{y}<extra></extra>",
         "legendgroup": "8012",
         "marker": {
          "color": "#00cc96",
          "symbol": "circle"
         },
         "mode": "markers",
         "name": "8012",
         "orientation": "v",
         "showlegend": false,
         "type": "scatter",
         "x": [
          0,
          1
         ],
         "xaxis": "x6",
         "y": [
          0.9616666666666667,
          0.9416666666666667
         ],
         "yaxis": "y6"
        },
        {
         "hovertemplate": "subject=8012<br>sessionType=Stair<br>sessionNum=%{x}<br>reward_rate=%{y}<extra></extra>",
         "legendgroup": "8012",
         "marker": {
          "color": "#00cc96",
          "symbol": "circle"
         },
         "mode": "markers",
         "name": "8012",
         "orientation": "v",
         "showlegend": false,
         "type": "scatter",
         "x": [
          0,
          1,
          2,
          3,
          4,
          5
         ],
         "xaxis": "x7",
         "y": [
          0.8333333333333334,
          0.7883333333333333,
          0.7683333333333333,
          0.7466666666666667,
          0.7383333333333333,
          0.7116666666666667
         ],
         "yaxis": "y7"
        },
        {
         "hovertemplate": "subject=8332<br>sessionType=EDS<br>sessionNum=%{x}<br>reward_rate=%{y}<extra></extra>",
         "legendgroup": "8332",
         "marker": {
          "color": "#ab63fa",
          "symbol": "circle"
         },
         "mode": "markers",
         "name": "8332",
         "orientation": "v",
         "showlegend": true,
         "type": "scatter",
         "x": [
          0,
          1,
          2,
          3,
          4,
          5,
          6,
          7,
          8,
          9,
          10,
          11,
          12,
          13,
          14,
          15,
          16,
          17,
          18,
          19,
          20,
          21,
          22,
          23,
          24,
          25
         ],
         "xaxis": "x",
         "y": [
          0.6516666666666666,
          0.6133333333333333,
          0.5766666666666667,
          0.62,
          0.6516666666666666,
          0.6966666666666667,
          0.6733333333333333,
          0.8083333333333333,
          0.8366666666666667,
          0.8466666666666667,
          0.8683333333333333,
          0.865,
          0.6983333333333334,
          0.6216666666666667,
          0.6866666666666666,
          0.655,
          0.69,
          0.6983333333333334,
          0.7666666666666667,
          0.8066666666666666,
          0.8066666666666666,
          0.8233333333333334,
          0.8066666666666666,
          0.9066666666666666,
          0.9333333333333333,
          0.955
         ],
         "yaxis": "y"
        },
        {
         "hovertemplate": "subject=8332<br>sessionType=EDS_BL_Easy<br>sessionNum=%{x}<br>reward_rate=%{y}<extra></extra>",
         "legendgroup": "8332",
         "marker": {
          "color": "#ab63fa",
          "symbol": "circle"
         },
         "mode": "markers",
         "name": "8332",
         "orientation": "v",
         "showlegend": false,
         "type": "scatter",
         "x": [
          0,
          1
         ],
         "xaxis": "x2",
         "y": [
          0.9316666666666666,
          0.9733333333333334
         ],
         "yaxis": "y2"
        },
        {
         "hovertemplate": "subject=8332<br>sessionType=EDS_BL_Hard<br>sessionNum=%{x}<br>reward_rate=%{y}<extra></extra>",
         "legendgroup": "8332",
         "marker": {
          "color": "#ab63fa",
          "symbol": "circle"
         },
         "mode": "markers",
         "name": "8332",
         "orientation": "v",
         "showlegend": false,
         "type": "scatter",
         "x": [
          0,
          1
         ],
         "xaxis": "x3",
         "y": [
          0.705,
          0.8016666666666666
         ],
         "yaxis": "y3"
        },
        {
         "hovertemplate": "subject=8332<br>sessionType=IDS<br>sessionNum=%{x}<br>reward_rate=%{y}<extra></extra>",
         "legendgroup": "8332",
         "marker": {
          "color": "#ab63fa",
          "symbol": "circle"
         },
         "mode": "markers",
         "name": "8332",
         "orientation": "v",
         "showlegend": false,
         "type": "scatter",
         "x": [
          0,
          1,
          2,
          3,
          4,
          5,
          6,
          7,
          8
         ],
         "xaxis": "x4",
         "y": [
          0.865,
          0.82,
          0.9333333333333333,
          0.9683333333333334,
          0.6366666666666667,
          0.5816666666666667,
          0.6683333333333333,
          0.8166666666666667,
          0.94
         ],
         "yaxis": "y4"
        },
        {
         "hovertemplate": "subject=8332<br>sessionType=IDS_BL_Easy<br>sessionNum=%{x}<br>reward_rate=%{y}<extra></extra>",
         "legendgroup": "8332",
         "marker": {
          "color": "#ab63fa",
          "symbol": "circle"
         },
         "mode": "markers",
         "name": "8332",
         "orientation": "v",
         "showlegend": false,
         "type": "scatter",
         "x": [
          0,
          1,
          2
         ],
         "xaxis": "x5",
         "y": [
          0.97,
          0.8516666666666667,
          0.95
         ],
         "yaxis": "y5"
        },
        {
         "hovertemplate": "subject=8332<br>sessionType=RE<br>sessionNum=%{x}<br>reward_rate=%{y}<extra></extra>",
         "legendgroup": "8332",
         "marker": {
          "color": "#ab63fa",
          "symbol": "circle"
         },
         "mode": "markers",
         "name": "8332",
         "orientation": "v",
         "showlegend": false,
         "type": "scatter",
         "x": [
          0,
          1
         ],
         "xaxis": "x6",
         "y": [
          0.9883333333333333,
          0.955
         ],
         "yaxis": "y6"
        },
        {
         "hovertemplate": "subject=8332<br>sessionType=Stair<br>sessionNum=%{x}<br>reward_rate=%{y}<extra></extra>",
         "legendgroup": "8332",
         "marker": {
          "color": "#ab63fa",
          "symbol": "circle"
         },
         "mode": "markers",
         "name": "8332",
         "orientation": "v",
         "showlegend": false,
         "type": "scatter",
         "x": [
          0,
          1,
          2,
          3,
          4,
          5
         ],
         "xaxis": "x7",
         "y": [
          0.7916666666666666,
          0.755,
          0.7033333333333334,
          0.755,
          0.755,
          0.7283333333333334
         ],
         "yaxis": "y7"
        },
        {
         "hovertemplate": "subject=8451<br>sessionType=EDS<br>sessionNum=%{x}<br>reward_rate=%{y}<extra></extra>",
         "legendgroup": "8451",
         "marker": {
          "color": "#FFA15A",
          "symbol": "circle"
         },
         "mode": "markers",
         "name": "8451",
         "orientation": "v",
         "showlegend": true,
         "type": "scatter",
         "x": [
          0,
          1,
          2,
          3,
          4,
          5,
          6,
          7,
          8,
          9,
          10,
          11,
          12
         ],
         "xaxis": "x",
         "y": [
          0.645,
          0.5816666666666667,
          0.7116666666666667,
          0.845,
          0.8216666666666667,
          0.945,
          0.925,
          0.9483333333333334,
          0.7333333333333333,
          0.61,
          0.71,
          0.825,
          0.8816666666666667
         ],
         "yaxis": "y"
        },
        {
         "hovertemplate": "subject=8451<br>sessionType=EDS_BL_Easy<br>sessionNum=%{x}<br>reward_rate=%{y}<extra></extra>",
         "legendgroup": "8451",
         "marker": {
          "color": "#FFA15A",
          "symbol": "circle"
         },
         "mode": "markers",
         "name": "8451",
         "orientation": "v",
         "showlegend": false,
         "type": "scatter",
         "x": [
          0
         ],
         "xaxis": "x2",
         "y": [
          0.9166666666666666
         ],
         "yaxis": "y2"
        },
        {
         "hovertemplate": "subject=8451<br>sessionType=EDS_BL_Hard<br>sessionNum=%{x}<br>reward_rate=%{y}<extra></extra>",
         "legendgroup": "8451",
         "marker": {
          "color": "#FFA15A",
          "symbol": "circle"
         },
         "mode": "markers",
         "name": "8451",
         "orientation": "v",
         "showlegend": false,
         "type": "scatter",
         "x": [
          0,
          1
         ],
         "xaxis": "x3",
         "y": [
          0.8483333333333334,
          0.8683333333333333
         ],
         "yaxis": "y3"
        },
        {
         "hovertemplate": "subject=8451<br>sessionType=IDS<br>sessionNum=%{x}<br>reward_rate=%{y}<extra></extra>",
         "legendgroup": "8451",
         "marker": {
          "color": "#FFA15A",
          "symbol": "circle"
         },
         "mode": "markers",
         "name": "8451",
         "orientation": "v",
         "showlegend": false,
         "type": "scatter",
         "x": [
          0,
          1,
          2,
          3,
          4,
          5,
          6,
          7,
          8,
          9
         ],
         "xaxis": "x4",
         "y": [
          0.855,
          0.9033333333333333,
          0.945,
          0.9616666666666667,
          0.6766666666666666,
          0.62,
          0.7633333333333333,
          0.7783333333333333,
          0.8816666666666667,
          0.9333333333333333
         ],
         "yaxis": "y4"
        },
        {
         "hovertemplate": "subject=8451<br>sessionType=IDS_BL_Easy<br>sessionNum=%{x}<br>reward_rate=%{y}<extra></extra>",
         "legendgroup": "8451",
         "marker": {
          "color": "#FFA15A",
          "symbol": "circle"
         },
         "mode": "markers",
         "name": "8451",
         "orientation": "v",
         "showlegend": false,
         "type": "scatter",
         "x": [
          0,
          1,
          2,
          3
         ],
         "xaxis": "x5",
         "y": [
          0.975,
          0.5,
          0.9366666666666666,
          0.9666666666666667
         ],
         "yaxis": "y5"
        },
        {
         "hovertemplate": "subject=8451<br>sessionType=RE<br>sessionNum=%{x}<br>reward_rate=%{y}<extra></extra>",
         "legendgroup": "8451",
         "marker": {
          "color": "#FFA15A",
          "symbol": "circle"
         },
         "mode": "markers",
         "name": "8451",
         "orientation": "v",
         "showlegend": false,
         "type": "scatter",
         "x": [
          0
         ],
         "xaxis": "x6",
         "y": [
          0.945
         ],
         "yaxis": "y6"
        },
        {
         "hovertemplate": "subject=8451<br>sessionType=Stair<br>sessionNum=%{x}<br>reward_rate=%{y}<extra></extra>",
         "legendgroup": "8451",
         "marker": {
          "color": "#FFA15A",
          "symbol": "circle"
         },
         "mode": "markers",
         "name": "8451",
         "orientation": "v",
         "showlegend": false,
         "type": "scatter",
         "x": [
          0,
          1,
          2,
          3,
          4,
          5
         ],
         "xaxis": "x7",
         "y": [
          0.8116666666666666,
          0.75,
          0.7616666666666667,
          0.705,
          0.69,
          0.7216666666666667
         ],
         "yaxis": "y7"
        }
       ],
       "layout": {
        "annotations": [
         {
          "font": {},
          "showarrow": false,
          "text": "sessionType=EDS",
          "x": 0.06285714285714285,
          "xanchor": "center",
          "xref": "paper",
          "y": 1,
          "yanchor": "bottom",
          "yref": "paper"
         },
         {
          "font": {},
          "showarrow": false,
          "text": "sessionType=EDS_BL_Easy",
          "x": 0.20857142857142852,
          "xanchor": "center",
          "xref": "paper",
          "y": 1,
          "yanchor": "bottom",
          "yref": "paper"
         },
         {
          "font": {},
          "showarrow": false,
          "text": "sessionType=EDS_BL_Hard",
          "x": 0.3542857142857142,
          "xanchor": "center",
          "xref": "paper",
          "y": 1,
          "yanchor": "bottom",
          "yref": "paper"
         },
         {
          "font": {},
          "showarrow": false,
          "text": "sessionType=IDS",
          "x": 0.5,
          "xanchor": "center",
          "xref": "paper",
          "y": 1,
          "yanchor": "bottom",
          "yref": "paper"
         },
         {
          "font": {},
          "showarrow": false,
          "text": "sessionType=IDS_BL_Easy",
          "x": 0.6457142857142856,
          "xanchor": "center",
          "xref": "paper",
          "y": 1,
          "yanchor": "bottom",
          "yref": "paper"
         },
         {
          "font": {},
          "showarrow": false,
          "text": "sessionType=RE",
          "x": 0.7914285714285713,
          "xanchor": "center",
          "xref": "paper",
          "y": 1,
          "yanchor": "bottom",
          "yref": "paper"
         },
         {
          "font": {},
          "showarrow": false,
          "text": "sessionType=Stair",
          "x": 0.937142857142857,
          "xanchor": "center",
          "xref": "paper",
          "y": 1,
          "yanchor": "bottom",
          "yref": "paper"
         }
        ],
        "legend": {
         "title": {
          "text": "subject"
         },
         "tracegroupgap": 0
        },
        "margin": {
         "t": 60
        },
        "template": {
         "data": {
          "bar": [
           {
            "error_x": {
             "color": "#f2f5fa"
            },
            "error_y": {
             "color": "#f2f5fa"
            },
            "marker": {
             "line": {
              "color": "rgb(17,17,17)",
              "width": 0.5
             },
             "pattern": {
              "fillmode": "overlay",
              "size": 10,
              "solidity": 0.2
             }
            },
            "type": "bar"
           }
          ],
          "barpolar": [
           {
            "marker": {
             "line": {
              "color": "rgb(17,17,17)",
              "width": 0.5
             },
             "pattern": {
              "fillmode": "overlay",
              "size": 10,
              "solidity": 0.2
             }
            },
            "type": "barpolar"
           }
          ],
          "carpet": [
           {
            "aaxis": {
             "endlinecolor": "#A2B1C6",
             "gridcolor": "#506784",
             "linecolor": "#506784",
             "minorgridcolor": "#506784",
             "startlinecolor": "#A2B1C6"
            },
            "baxis": {
             "endlinecolor": "#A2B1C6",
             "gridcolor": "#506784",
             "linecolor": "#506784",
             "minorgridcolor": "#506784",
             "startlinecolor": "#A2B1C6"
            },
            "type": "carpet"
           }
          ],
          "choropleth": [
           {
            "colorbar": {
             "outlinewidth": 0,
             "ticks": ""
            },
            "type": "choropleth"
           }
          ],
          "contour": [
           {
            "colorbar": {
             "outlinewidth": 0,
             "ticks": ""
            },
            "colorscale": [
             [
              0,
              "#0d0887"
             ],
             [
              0.1111111111111111,
              "#46039f"
             ],
             [
              0.2222222222222222,
              "#7201a8"
             ],
             [
              0.3333333333333333,
              "#9c179e"
             ],
             [
              0.4444444444444444,
              "#bd3786"
             ],
             [
              0.5555555555555556,
              "#d8576b"
             ],
             [
              0.6666666666666666,
              "#ed7953"
             ],
             [
              0.7777777777777778,
              "#fb9f3a"
             ],
             [
              0.8888888888888888,
              "#fdca26"
             ],
             [
              1,
              "#f0f921"
             ]
            ],
            "type": "contour"
           }
          ],
          "contourcarpet": [
           {
            "colorbar": {
             "outlinewidth": 0,
             "ticks": ""
            },
            "type": "contourcarpet"
           }
          ],
          "heatmap": [
           {
            "colorbar": {
             "outlinewidth": 0,
             "ticks": ""
            },
            "colorscale": [
             [
              0,
              "#0d0887"
             ],
             [
              0.1111111111111111,
              "#46039f"
             ],
             [
              0.2222222222222222,
              "#7201a8"
             ],
             [
              0.3333333333333333,
              "#9c179e"
             ],
             [
              0.4444444444444444,
              "#bd3786"
             ],
             [
              0.5555555555555556,
              "#d8576b"
             ],
             [
              0.6666666666666666,
              "#ed7953"
             ],
             [
              0.7777777777777778,
              "#fb9f3a"
             ],
             [
              0.8888888888888888,
              "#fdca26"
             ],
             [
              1,
              "#f0f921"
             ]
            ],
            "type": "heatmap"
           }
          ],
          "heatmapgl": [
           {
            "colorbar": {
             "outlinewidth": 0,
             "ticks": ""
            },
            "colorscale": [
             [
              0,
              "#0d0887"
             ],
             [
              0.1111111111111111,
              "#46039f"
             ],
             [
              0.2222222222222222,
              "#7201a8"
             ],
             [
              0.3333333333333333,
              "#9c179e"
             ],
             [
              0.4444444444444444,
              "#bd3786"
             ],
             [
              0.5555555555555556,
              "#d8576b"
             ],
             [
              0.6666666666666666,
              "#ed7953"
             ],
             [
              0.7777777777777778,
              "#fb9f3a"
             ],
             [
              0.8888888888888888,
              "#fdca26"
             ],
             [
              1,
              "#f0f921"
             ]
            ],
            "type": "heatmapgl"
           }
          ],
          "histogram": [
           {
            "marker": {
             "pattern": {
              "fillmode": "overlay",
              "size": 10,
              "solidity": 0.2
             }
            },
            "type": "histogram"
           }
          ],
          "histogram2d": [
           {
            "colorbar": {
             "outlinewidth": 0,
             "ticks": ""
            },
            "colorscale": [
             [
              0,
              "#0d0887"
             ],
             [
              0.1111111111111111,
              "#46039f"
             ],
             [
              0.2222222222222222,
              "#7201a8"
             ],
             [
              0.3333333333333333,
              "#9c179e"
             ],
             [
              0.4444444444444444,
              "#bd3786"
             ],
             [
              0.5555555555555556,
              "#d8576b"
             ],
             [
              0.6666666666666666,
              "#ed7953"
             ],
             [
              0.7777777777777778,
              "#fb9f3a"
             ],
             [
              0.8888888888888888,
              "#fdca26"
             ],
             [
              1,
              "#f0f921"
             ]
            ],
            "type": "histogram2d"
           }
          ],
          "histogram2dcontour": [
           {
            "colorbar": {
             "outlinewidth": 0,
             "ticks": ""
            },
            "colorscale": [
             [
              0,
              "#0d0887"
             ],
             [
              0.1111111111111111,
              "#46039f"
             ],
             [
              0.2222222222222222,
              "#7201a8"
             ],
             [
              0.3333333333333333,
              "#9c179e"
             ],
             [
              0.4444444444444444,
              "#bd3786"
             ],
             [
              0.5555555555555556,
              "#d8576b"
             ],
             [
              0.6666666666666666,
              "#ed7953"
             ],
             [
              0.7777777777777778,
              "#fb9f3a"
             ],
             [
              0.8888888888888888,
              "#fdca26"
             ],
             [
              1,
              "#f0f921"
             ]
            ],
            "type": "histogram2dcontour"
           }
          ],
          "mesh3d": [
           {
            "colorbar": {
             "outlinewidth": 0,
             "ticks": ""
            },
            "type": "mesh3d"
           }
          ],
          "parcoords": [
           {
            "line": {
             "colorbar": {
              "outlinewidth": 0,
              "ticks": ""
             }
            },
            "type": "parcoords"
           }
          ],
          "pie": [
           {
            "automargin": true,
            "type": "pie"
           }
          ],
          "scatter": [
           {
            "marker": {
             "line": {
              "color": "#283442"
             }
            },
            "type": "scatter"
           }
          ],
          "scatter3d": [
           {
            "line": {
             "colorbar": {
              "outlinewidth": 0,
              "ticks": ""
             }
            },
            "marker": {
             "colorbar": {
              "outlinewidth": 0,
              "ticks": ""
             }
            },
            "type": "scatter3d"
           }
          ],
          "scattercarpet": [
           {
            "marker": {
             "colorbar": {
              "outlinewidth": 0,
              "ticks": ""
             }
            },
            "type": "scattercarpet"
           }
          ],
          "scattergeo": [
           {
            "marker": {
             "colorbar": {
              "outlinewidth": 0,
              "ticks": ""
             }
            },
            "type": "scattergeo"
           }
          ],
          "scattergl": [
           {
            "marker": {
             "line": {
              "color": "#283442"
             }
            },
            "type": "scattergl"
           }
          ],
          "scattermapbox": [
           {
            "marker": {
             "colorbar": {
              "outlinewidth": 0,
              "ticks": ""
             }
            },
            "type": "scattermapbox"
           }
          ],
          "scatterpolar": [
           {
            "marker": {
             "colorbar": {
              "outlinewidth": 0,
              "ticks": ""
             }
            },
            "type": "scatterpolar"
           }
          ],
          "scatterpolargl": [
           {
            "marker": {
             "colorbar": {
              "outlinewidth": 0,
              "ticks": ""
             }
            },
            "type": "scatterpolargl"
           }
          ],
          "scatterternary": [
           {
            "marker": {
             "colorbar": {
              "outlinewidth": 0,
              "ticks": ""
             }
            },
            "type": "scatterternary"
           }
          ],
          "surface": [
           {
            "colorbar": {
             "outlinewidth": 0,
             "ticks": ""
            },
            "colorscale": [
             [
              0,
              "#0d0887"
             ],
             [
              0.1111111111111111,
              "#46039f"
             ],
             [
              0.2222222222222222,
              "#7201a8"
             ],
             [
              0.3333333333333333,
              "#9c179e"
             ],
             [
              0.4444444444444444,
              "#bd3786"
             ],
             [
              0.5555555555555556,
              "#d8576b"
             ],
             [
              0.6666666666666666,
              "#ed7953"
             ],
             [
              0.7777777777777778,
              "#fb9f3a"
             ],
             [
              0.8888888888888888,
              "#fdca26"
             ],
             [
              1,
              "#f0f921"
             ]
            ],
            "type": "surface"
           }
          ],
          "table": [
           {
            "cells": {
             "fill": {
              "color": "#506784"
             },
             "line": {
              "color": "rgb(17,17,17)"
             }
            },
            "header": {
             "fill": {
              "color": "#2a3f5f"
             },
             "line": {
              "color": "rgb(17,17,17)"
             }
            },
            "type": "table"
           }
          ]
         },
         "layout": {
          "annotationdefaults": {
           "arrowcolor": "#f2f5fa",
           "arrowhead": 0,
           "arrowwidth": 1
          },
          "autotypenumbers": "strict",
          "coloraxis": {
           "colorbar": {
            "outlinewidth": 0,
            "ticks": ""
           }
          },
          "colorscale": {
           "diverging": [
            [
             0,
             "#8e0152"
            ],
            [
             0.1,
             "#c51b7d"
            ],
            [
             0.2,
             "#de77ae"
            ],
            [
             0.3,
             "#f1b6da"
            ],
            [
             0.4,
             "#fde0ef"
            ],
            [
             0.5,
             "#f7f7f7"
            ],
            [
             0.6,
             "#e6f5d0"
            ],
            [
             0.7,
             "#b8e186"
            ],
            [
             0.8,
             "#7fbc41"
            ],
            [
             0.9,
             "#4d9221"
            ],
            [
             1,
             "#276419"
            ]
           ],
           "sequential": [
            [
             0,
             "#0d0887"
            ],
            [
             0.1111111111111111,
             "#46039f"
            ],
            [
             0.2222222222222222,
             "#7201a8"
            ],
            [
             0.3333333333333333,
             "#9c179e"
            ],
            [
             0.4444444444444444,
             "#bd3786"
            ],
            [
             0.5555555555555556,
             "#d8576b"
            ],
            [
             0.6666666666666666,
             "#ed7953"
            ],
            [
             0.7777777777777778,
             "#fb9f3a"
            ],
            [
             0.8888888888888888,
             "#fdca26"
            ],
            [
             1,
             "#f0f921"
            ]
           ],
           "sequentialminus": [
            [
             0,
             "#0d0887"
            ],
            [
             0.1111111111111111,
             "#46039f"
            ],
            [
             0.2222222222222222,
             "#7201a8"
            ],
            [
             0.3333333333333333,
             "#9c179e"
            ],
            [
             0.4444444444444444,
             "#bd3786"
            ],
            [
             0.5555555555555556,
             "#d8576b"
            ],
            [
             0.6666666666666666,
             "#ed7953"
            ],
            [
             0.7777777777777778,
             "#fb9f3a"
            ],
            [
             0.8888888888888888,
             "#fdca26"
            ],
            [
             1,
             "#f0f921"
            ]
           ]
          },
          "colorway": [
           "#636efa",
           "#EF553B",
           "#00cc96",
           "#ab63fa",
           "#FFA15A",
           "#19d3f3",
           "#FF6692",
           "#B6E880",
           "#FF97FF",
           "#FECB52"
          ],
          "font": {
           "color": "#f2f5fa"
          },
          "geo": {
           "bgcolor": "rgb(17,17,17)",
           "lakecolor": "rgb(17,17,17)",
           "landcolor": "rgb(17,17,17)",
           "showlakes": true,
           "showland": true,
           "subunitcolor": "#506784"
          },
          "hoverlabel": {
           "align": "left"
          },
          "hovermode": "closest",
          "mapbox": {
           "style": "dark"
          },
          "paper_bgcolor": "rgb(17,17,17)",
          "plot_bgcolor": "rgb(17,17,17)",
          "polar": {
           "angularaxis": {
            "gridcolor": "#506784",
            "linecolor": "#506784",
            "ticks": ""
           },
           "bgcolor": "rgb(17,17,17)",
           "radialaxis": {
            "gridcolor": "#506784",
            "linecolor": "#506784",
            "ticks": ""
           }
          },
          "scene": {
           "xaxis": {
            "backgroundcolor": "rgb(17,17,17)",
            "gridcolor": "#506784",
            "gridwidth": 2,
            "linecolor": "#506784",
            "showbackground": true,
            "ticks": "",
            "zerolinecolor": "#C8D4E3"
           },
           "yaxis": {
            "backgroundcolor": "rgb(17,17,17)",
            "gridcolor": "#506784",
            "gridwidth": 2,
            "linecolor": "#506784",
            "showbackground": true,
            "ticks": "",
            "zerolinecolor": "#C8D4E3"
           },
           "zaxis": {
            "backgroundcolor": "rgb(17,17,17)",
            "gridcolor": "#506784",
            "gridwidth": 2,
            "linecolor": "#506784",
            "showbackground": true,
            "ticks": "",
            "zerolinecolor": "#C8D4E3"
           }
          },
          "shapedefaults": {
           "line": {
            "color": "#f2f5fa"
           }
          },
          "sliderdefaults": {
           "bgcolor": "#C8D4E3",
           "bordercolor": "rgb(17,17,17)",
           "borderwidth": 1,
           "tickwidth": 0
          },
          "ternary": {
           "aaxis": {
            "gridcolor": "#506784",
            "linecolor": "#506784",
            "ticks": ""
           },
           "baxis": {
            "gridcolor": "#506784",
            "linecolor": "#506784",
            "ticks": ""
           },
           "bgcolor": "rgb(17,17,17)",
           "caxis": {
            "gridcolor": "#506784",
            "linecolor": "#506784",
            "ticks": ""
           }
          },
          "title": {
           "x": 0.05
          },
          "updatemenudefaults": {
           "bgcolor": "#506784",
           "borderwidth": 0
          },
          "xaxis": {
           "automargin": true,
           "gridcolor": "#283442",
           "linecolor": "#506784",
           "ticks": "",
           "title": {
            "standoff": 15
           },
           "zerolinecolor": "#283442",
           "zerolinewidth": 2
          },
          "yaxis": {
           "automargin": true,
           "gridcolor": "#283442",
           "linecolor": "#506784",
           "ticks": "",
           "title": {
            "standoff": 15
           },
           "zerolinecolor": "#283442",
           "zerolinewidth": 2
          }
         }
        },
        "title": {
         "text": "Reward Rates: Rat Experiment"
        },
        "xaxis": {
         "anchor": "y",
         "domain": [
          0,
          0.1257142857142857
         ],
         "title": {
          "text": "sessionNum"
         }
        },
        "xaxis2": {
         "anchor": "y2",
         "domain": [
          0.14571428571428569,
          0.27142857142857135
         ],
         "matches": "x",
         "title": {
          "text": "sessionNum"
         }
        },
        "xaxis3": {
         "anchor": "y3",
         "domain": [
          0.29142857142857137,
          0.41714285714285704
         ],
         "matches": "x",
         "title": {
          "text": "sessionNum"
         }
        },
        "xaxis4": {
         "anchor": "y4",
         "domain": [
          0.4371428571428571,
          0.5628571428571428
         ],
         "matches": "x",
         "title": {
          "text": "sessionNum"
         }
        },
        "xaxis5": {
         "anchor": "y5",
         "domain": [
          0.5828571428571427,
          0.7085714285714284
         ],
         "matches": "x",
         "title": {
          "text": "sessionNum"
         }
        },
        "xaxis6": {
         "anchor": "y6",
         "domain": [
          0.7285714285714284,
          0.8542857142857141
         ],
         "matches": "x",
         "title": {
          "text": "sessionNum"
         }
        },
        "xaxis7": {
         "anchor": "y7",
         "domain": [
          0.8742857142857142,
          0.9999999999999999
         ],
         "matches": "x",
         "title": {
          "text": "sessionNum"
         }
        },
        "yaxis": {
         "anchor": "x",
         "domain": [
          0,
          1
         ],
         "title": {
          "text": "reward_rate"
         }
        },
        "yaxis2": {
         "anchor": "x2",
         "domain": [
          0,
          1
         ],
         "matches": "y",
         "showticklabels": false
        },
        "yaxis3": {
         "anchor": "x3",
         "domain": [
          0,
          1
         ],
         "matches": "y",
         "showticklabels": false
        },
        "yaxis4": {
         "anchor": "x4",
         "domain": [
          0,
          1
         ],
         "matches": "y",
         "showticklabels": false
        },
        "yaxis5": {
         "anchor": "x5",
         "domain": [
          0,
          1
         ],
         "matches": "y",
         "showticklabels": false
        },
        "yaxis6": {
         "anchor": "x6",
         "domain": [
          0,
          1
         ],
         "matches": "y",
         "showticklabels": false
        },
        "yaxis7": {
         "anchor": "x7",
         "domain": [
          0,
          1
         ],
         "matches": "y",
         "showticklabels": false
        }
       }
      }
     },
     "metadata": {},
     "output_type": "display_data"
    }
   ],
   "source": [
    "(data,\n",
    " sequence_data,\n",
    " meta_data,\n",
    " StimCode,\n",
    " RespCode\n",
    " ) = load_data(config=_config, experiment_class='rat_experiment')\n",
    "qsd = QuerySequenceData(StimCode, RespCode)\n",
    "rewards, _qsd = reward_per_experiment(qsd, StimCode)\n",
    "\n",
    "# drop na\n",
    "rewards = rewards[~rewards.reward_rate.isna()]\n",
    "\n",
    "# plot\n",
    "plot_reward_experiment(rewards, title='Reward Rates: Rat Experiment')\n",
    "\n"
   ]
  },
  {
   "cell_type": "code",
   "execution_count": null,
   "metadata": {},
   "outputs": [],
   "source": []
  }
 ],
 "metadata": {
  "kernelspec": {
   "display_name": "Python 3",
   "language": "python",
   "name": "python3"
  },
  "language_info": {
   "codemirror_mode": {
    "name": "ipython",
    "version": 3
   },
   "file_extension": ".py",
   "mimetype": "text/x-python",
   "name": "python",
   "nbconvert_exporter": "python",
   "pygments_lexer": "ipython3",
   "version": "3.12.0"
  }
 },
 "nbformat": 4,
 "nbformat_minor": 2
}
