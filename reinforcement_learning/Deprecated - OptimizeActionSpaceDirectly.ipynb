{
 "cells": [
  {
   "cell_type": "markdown",
   "metadata": {},
   "source": [
    "# WorkSpace\n",
    "\n",
    "- https://www.pymc.io/projects/examples/en/latest/case_studies/reinforcement_learning.html\n",
    "- https://hannekedenouden.ruhosting.nl/RLtutorial/html/ModellingRecipe.html\n",
    "- https://docs.scipy.org/doc/scipy/reference/generated/scipy.optimize.minimize.html\n",
    "\n",
    "# Optimise the Action Space Directly\n",
    "\n",
    "What if instead of optimising the negative log likelihood, we optimise the action space directly?\n",
    "\n",
    "To do this we can minimize the `Sum of Square Residiuals` (`SSR`):\n",
    "\n",
    "$$\n",
    "SSR = \\frac{1}{N} \\sum_{n=1}^N \\left(y-\\hat{y} \\right)^2\n",
    "$$\n",
    "\n",
    "But in an RL context:\n",
    "\n",
    "\n",
    "$$\n",
    "SSR = \\frac{1}{N} \\sum_{n=1}^N \\left(Q-\\hat{Q} \\right)^2\n",
    "$$\n",
    "\n",
    "Noting that we do not have access to $\\hat{Q}$ directly, rather we infer $Q$ from the action space:\n",
    "\n",
    "$$\n",
    "SSR = \\frac{1}{N} \\sum_{n=1}^N \\left(A-\\hat{A} \\right)^2\n",
    "$$\n",
    "\n",
    "\n",
    "We then update $\\hat{Q}$ as a function of the parameter space $\\theta: \\{\\alpha, \\theta\\}$. \n",
    "\n",
    "### Learning Algorithm\n",
    "\n",
    "Where $A:Action$. We therefor:\n",
    "\n",
    "- Using parameters $\\{\\alpha, \\theta\\}$\n",
    "- Calculate the probability space $\\hat{P}$\n",
    "- Calculate the state value estimate $\\hat{Q}$\n",
    "- Calculate the action space $\\hat{A}$\n",
    "\n",
    "\n",
    "\n",
    "\n",
    "Therefore we locate:\n",
    "\n",
    "\n",
    "$$\n",
    "\\argmin_{\\alpha, \\theta} \\frac{1}{N} \\sum_{n=1}^N \\left(A-\\hat{A}(\\hat{Q}, \\hat{P}, \\alpha, \\theta) \\right)^2\n",
    "$$\n",
    "\n",
    "### Simulation\n",
    "\n",
    "To test the viability of this method, we perform a sensitivity analysis and assess the methods ability to recover simulated parameters.\n"
   ]
  },
  {
   "cell_type": "code",
   "execution_count": 1,
   "metadata": {},
   "outputs": [],
   "source": [
    "import plotly.graph_objects as go\n",
    "from scipy.optimize import minimize # finding optimal params in models\n",
    "from scipy import stats             # statistical tools\n",
    "import numpy as np                  # matrix/array functions\n",
    "import pandas as pd                 # loading and manipulating data\n",
    "import ipywidgets as widgets        # interactive display\n",
    "import matplotlib.pyplot as plt     # plotting\n",
    "%matplotlib inline\n",
    "\n",
    "np.random.seed(2021)                # set seed for reproducibility"
   ]
  },
  {
   "cell_type": "code",
   "execution_count": 2,
   "metadata": {},
   "outputs": [],
   "source": [
    "from src.rescorla_wagner_model import (RoscorlaWagner)\n",
    "from src.rescorla_wagner_model_plots import (RescorlaWagnerPlots)\n",
    "from src.rescorla_wagner_model_simulation import (RescorlaWagnerSimulate)\n",
    "from src.rescorla_wagner_model_diagnostics import (RoscorlaWagerModelDiagnostics)"
   ]
  },
  {
   "cell_type": "code",
   "execution_count": 3,
   "metadata": {},
   "outputs": [
    {
     "name": "stderr",
     "output_type": "stream",
     "text": [
      "<>:1: SyntaxWarning: invalid escape sequence '\\s'\n",
      "<>:1: SyntaxWarning: invalid escape sequence '\\s'\n",
      "/var/folders/kd/p1z7_f_974d7tkw1zmvskn_m0000gn/T/ipykernel_10304/4234314411.py:1: SyntaxWarning: invalid escape sequence '\\s'\n",
      "  \"\"\"\n"
     ]
    },
    {
     "data": {
      "text/plain": [
       "'\\n\\nOptimise the action space directly.\\n\\nOptimise the Action Space Directly.\\n\\nExplanation:\\n    What if instead of optimising the negative log likelihood, we optimise the action space directly?\\n\\n    To do this we can minimize the `Sum of Square Residiuals` (`SSR`):\\n\\n    $$SSR = \\x0crac{1}{N} \\\\sum_{n=1}^N \\\\left(y-\\\\hat{y} \\right)^2$$\\n\\n    But in an RL context:\\n\\n    $$SSR = \\x0crac{1}{N} \\\\sum_{n=1}^N \\\\left(Q-\\\\hat{Q} \\right)^2$$\\n\\n    Noting that we do not have access to $\\\\hat{Q}$ directly, but rather we update $\\\\hat{Q}$ as a function of the parameter space $\\theta: \\\\{\\x07lpha, \\theta\\\\}$. \\n\\n    Therefore we locate:\\n\\n    $$\\x07rgmin_{\\x07lpha, \\theta} \\x0crac{1}{N} \\\\sum_{n=1}^N \\\\left(Q-\\\\hat{Q}(\\x07lpha, \\theta) \\right)^2$$\\n\\n\\nParameters:\\n-----------\\n    : model_parameters (list[float]) : list of model parameters (alpha, theta)\\n        : alpha (float) : learning rate\\n        : theta (float) : inverse temperature\\n    : actions (array) : choices\\n    : rewards (array) : rewards\\n\\nReturns:\\n--------\\n    : negLL (float) : negative log-likelihood\\n\\nSource:\\n-------\\n    : https://shawnrhoads.github.io/gu-psyc-347/module-03-01_Models-of-Learning.html\\n'"
      ]
     },
     "execution_count": 3,
     "metadata": {},
     "output_type": "execute_result"
    }
   ],
   "source": [
    "    \"\"\"\n",
    "\n",
    "    Optimise the action space directly.\n",
    "\n",
    "    Optimise the Action Space Directly.\n",
    "\n",
    "    Explanation:\n",
    "        What if instead of optimising the negative log likelihood, we optimise the action space directly?\n",
    "\n",
    "        To do this we can minimize the `Sum of Square Residiuals` (`SSR`):\n",
    "\n",
    "        $$SSR = \\frac{1}{N} \\sum_{n=1}^N \\left(y-\\hat{y} \\right)^2$$\n",
    "\n",
    "        But in an RL context:\n",
    "\n",
    "        $$SSR = \\frac{1}{N} \\sum_{n=1}^N \\left(Q-\\hat{Q} \\right)^2$$\n",
    "\n",
    "        Noting that we do not have access to $\\hat{Q}$ directly, but rather we update $\\hat{Q}$ as a function of the parameter space $\\theta: \\{\\alpha, \\theta\\}$. \n",
    "\n",
    "        Therefore we locate:\n",
    "\n",
    "        $$\\argmin_{\\alpha, \\theta} \\frac{1}{N} \\sum_{n=1}^N \\left(Q-\\hat{Q}(\\alpha, \\theta) \\right)^2$$\n",
    "\n",
    "    \n",
    "    Parameters:\n",
    "    -----------\n",
    "        : model_parameters (list[float]) : list of model parameters (alpha, theta)\n",
    "            : alpha (float) : learning rate\n",
    "            : theta (float) : inverse temperature\n",
    "        : actions (array) : choices\n",
    "        : rewards (array) : rewards\n",
    "\n",
    "    Returns:\n",
    "    --------\n",
    "        : negLL (float) : negative log-likelihood\n",
    "\n",
    "    Source:\n",
    "    -------\n",
    "        : https://shawnrhoads.github.io/gu-psyc-347/module-03-01_Models-of-Learning.html\n",
    "    \"\"\""
   ]
  },
  {
   "cell_type": "code",
   "execution_count": 4,
   "metadata": {},
   "outputs": [],
   "source": [
    "# @staticmethod\n",
    "def direct_optimisation(model_parameters, actions, Q_init=[0.5, 0.5], noisy_choice=False):\n",
    "    \"\"\"\n",
    "\n",
    "    Params:\n",
    "    -------\n",
    "        : actions list[bool]: [0,1]\n",
    "        : Q_init list[int]: inital Q-values (bias).\n",
    "\n",
    "    \"\"\"\n",
    "\n",
    "    # extract params\n",
    "    alpha, theta = model_parameters\n",
    "\n",
    "    # predict actions\n",
    "    T = len(actions)\n",
    "    choiceProb = np.zeros((T), dtype=float)\n",
    "    action_pred = []\n",
    "\n",
    "    # assuming action space K = 2\n",
    "\n",
    "    for t in range(T):\n",
    "            \n",
    "        # compute choice probabilities for k=2\n",
    "        p0 = np.exp(theta*Q[0]) / (np.exp(theta*Q[0]) + np.exp(theta*Q[1]))\n",
    "        p = [p0, 1-p0]\n",
    "\n",
    "        # compute choice probability for actual choice\n",
    "        choiceProb[t] = p[actions[t]]\n",
    "\n",
    "        # predict action\n",
    "        if noisy_choice:\n",
    "            # random variability\n",
    "            if np.random.random_sample(1) < p0:\n",
    "                _action = 0\n",
    "            else:\n",
    "                _action = 1\n",
    "\n",
    "        else:\n",
    "            # (deterministic)\n",
    "            _action = np.argmax(p)\n",
    "        action_pred.append(_action)\n",
    "\n",
    "        # update Q-values\n",
    "        delta = rewards[t] - Q[actions[t]]\n",
    "        Q[actions[t]] = Q[actions[t]] + alpha * delta\n",
    "\n",
    "\n",
    "\n",
    "        \n",
    "\n",
    "\n",
    "\n",
    "\n"
   ]
  },
  {
   "cell_type": "code",
   "execution_count": 5,
   "metadata": {},
   "outputs": [],
   "source": [
    "# simulate results given params\n",
    "rws = RescorlaWagnerSimulate()\n",
    "params = [.2, 3]\n",
    "actions = [0,1,1,1,0]\n",
    "\n",
    "T = len(actions)\n",
    "# c, r, Q_stored = rws.simulate()"
   ]
  },
  {
   "cell_type": "code",
   "execution_count": 68,
   "metadata": {},
   "outputs": [],
   "source": [
    "def simulate_action_space(params, reward_vector, Q_init=None, noisy_choice=False):\n",
    "\n",
    "        alpha, theta = params\n",
    "        \n",
    "\n",
    "        T = len(reward_vector)\n",
    "        action_pred = np.zeros((T), dtype=int)\n",
    "\n",
    "        Q_hat = np.zeros((2, T), dtype=float)\n",
    "        if Q_init is None:\n",
    "            Q_init = [0.5, 0.5]\n",
    "        Q = Q_init\n",
    "    \n",
    "\n",
    "        for t in range(T):\n",
    "\n",
    "            # store values for Q_{t+1}\n",
    "            Q_hat[:, t] = Q\n",
    "            \n",
    "            # compute choice probabilities\n",
    "            p0 = np.exp(theta*Q[0]) / (np.exp(theta*Q[0]) + np.exp(theta*Q[1]))\n",
    "            p1 = 1 - p0\n",
    "\n",
    "            # make choice according to choice probababilities\n",
    "            # as weighted coin flip to make a choice\n",
    "            # choose stim 0 if random number is in the [0 p0] interval\n",
    "            # and 1 otherwise\n",
    "            if noisy_choice:\n",
    "                raise Exception('CANNOT BE NOISY.')\n",
    "                # if np.random.random_sample(1) < p0:\n",
    "                #     action_pred[t] = 0\n",
    "                # else:\n",
    "                #     action_pred[t] = 1\n",
    "            else:\n",
    "                # make choice without noise\n",
    "                action_pred[t] = np.argmax([p0, p1])\n",
    "            \n",
    "            # fetch actual reward\n",
    "            r = reward_vector[t]\n",
    "\n",
    "            # update values\n",
    "            delta = r - Q[action_pred[t]]\n",
    "            Q[action_pred[t]] = Q[action_pred[t]] + alpha * delta\n",
    "\n",
    "        return Q_hat, action_pred"
   ]
  },
  {
   "cell_type": "code",
   "execution_count": 72,
   "metadata": {},
   "outputs": [
    {
     "name": "stdout",
     "output_type": "stream",
     "text": [
      "Q_hat (init)  [0.5 0.5]\n"
     ]
    }
   ],
   "source": []
  },
  {
   "cell_type": "code",
   "execution_count": 73,
   "metadata": {},
   "outputs": [],
   "source": [
    "def binary_cross_entropy(y_true, y_pred):\n",
    "    \"\"\"\n",
    "    Compute the binary cross-entropy loss.\n",
    "\n",
    "    Parameters:\n",
    "    -----------\n",
    "    y_true : array-like of shape (n_samples,)\n",
    "        True binary labels (0 or 1).\n",
    "    y_pred : array-like of shape (n_samples,)\n",
    "        Predicted probabilities for the positive class (1).\n",
    "\n",
    "    Returns:\n",
    "    --------\n",
    "    float\n",
    "        Binary cross-entropy loss.\n",
    "    \"\"\"\n",
    "    y_true = np.array(y_true)\n",
    "    y_pred = np.array(y_pred)\n",
    "    \n",
    "    # Clip predictions to avoid log(0) error\n",
    "    y_pred = np.clip(y_pred, 1e-15, 1 - 1e-15)\n",
    "    \n",
    "    # Compute binary cross-entropy\n",
    "    bce = -np.mean(y_true * np.log(y_pred) + (1 - y_true) * np.log(1 - y_pred))\n",
    "    return bce\n"
   ]
  },
  {
   "cell_type": "code",
   "execution_count": 1,
   "metadata": {},
   "outputs": [],
   "source": [
    "def MSE(action, action_pred):\n",
    "    return np.mean((action - action_pred)**2)\n",
    "\n",
    "\n",
    "def MAE(y_true, y_pred):\n",
    "    return np.mean(np.abs(y_true - y_pred))\n",
    "\n",
    "\n",
    "\n",
    "def loss_function(\n",
    "        parameters,\n",
    "        actions,\n",
    "        Q_init=[0.5,0.5],\n",
    "        ):\n",
    "        _alpha, _theta = parameters\n",
    "        Q_hat, action_pred = simulate_action_space([_alpha, _theta], actions, Q_init=Q_init, noisy_choice=False)\n",
    "        mse = MSE(actions, action_pred)\n",
    "        # bce = binary_cross_entropy(actions, action_pred)\n",
    "\n",
    "        return mse\n",
    "            \n"
   ]
  },
  {
   "cell_type": "code",
   "execution_count": 2,
   "metadata": {},
   "outputs": [
    {
     "ename": "NameError",
     "evalue": "name 'RescorlaWagnerSimulate' is not defined",
     "output_type": "error",
     "traceback": [
      "\u001b[0;31m---------------------------------------------------------------------------\u001b[0m",
      "\u001b[0;31mNameError\u001b[0m                                 Traceback (most recent call last)",
      "Cell \u001b[0;32mIn[2], line 4\u001b[0m\n\u001b[1;32m      1\u001b[0m \u001b[38;5;66;03m# simualate\u001b[39;00m\n\u001b[1;32m      2\u001b[0m \u001b[38;5;66;03m# params\u001b[39;00m\n\u001b[1;32m      3\u001b[0m params \u001b[38;5;241m=\u001b[39m [\u001b[38;5;241m0.2\u001b[39m,\u001b[38;5;241m4\u001b[39m]\n\u001b[0;32m----> 4\u001b[0m srw \u001b[38;5;241m=\u001b[39m \u001b[43mRescorlaWagnerSimulate\u001b[49m()\n\u001b[1;32m      5\u001b[0m srw\u001b[38;5;241m.\u001b[39msimulate(params, T\u001b[38;5;241m=\u001b[39m\u001b[38;5;241m200\u001b[39m, mu\u001b[38;5;241m=\u001b[39m[\u001b[38;5;241m0.2\u001b[39m, \u001b[38;5;241m0.8\u001b[39m], noisy_choice\u001b[38;5;241m=\u001b[39m\u001b[38;5;28;01mTrue\u001b[39;00m)\n\u001b[1;32m      6\u001b[0m \u001b[38;5;66;03m# srw.simulate(params, T=200, mu=[0, 1], noisy_choice=True)\u001b[39;00m\n\u001b[1;32m      7\u001b[0m \n\u001b[1;32m      8\u001b[0m \n\u001b[1;32m      9\u001b[0m \u001b[38;5;66;03m# estimate\u001b[39;00m\n",
      "\u001b[0;31mNameError\u001b[0m: name 'RescorlaWagnerSimulate' is not defined"
     ]
    }
   ],
   "source": [
    "# simualate\n",
    "# params\n",
    "params = [0.2,4]\n",
    "srw = RescorlaWagnerSimulate()\n",
    "srw.simulate(params, T=200, mu=[0.2, 0.8], noisy_choice=True)\n",
    "# srw.simulate(params, T=200, mu=[0, 1], noisy_choice=True)\n",
    "\n",
    "\n",
    "# estimate\n",
    "actions = srw.c\n",
    "reward_vector = srw.r\n",
    "Q_hat, action_pred = simulate_action_space(params, reward_vector)\n",
    "# Q_hat, action_pred\n",
    "\n",
    "\n",
    "MSE_results = []\n",
    "Choice_prediction = []\n",
    "alpha_range=np.linspace(0,1,10)\n",
    "theta_range=np.linspace(1,10,10)\n",
    "_alphas, _thetas = [], []\n",
    "\n",
    "Q_init=[0.5,0.5]\n",
    "T = len(actions)\n",
    "for _alpha in alpha_range:\n",
    "    for _theta in theta_range:\n",
    "        _mse = loss_function([_alpha, _theta], actions, Q_init=Q_init)\n",
    "        # print(f'alpha: {round(_alpha, 2)}, theta: {round(_theta, 2)}, mse: {mse}')\n",
    "        MSE_results.append(_mse)\n",
    "        _alphas.append(_alpha)\n",
    "        _thetas.append(_theta)\n",
    "        \n",
    "\n",
    "\n",
    "    \n",
    "        # if _mse <= min_mse:\n",
    "        #     min_mse = _mse\n",
    "        #     parameter_estimates = (_alpha, _theta)\n",
    "            # Q_hat = _Q_hat\n",
    "            # print('-> new parameter estimate!')\n",
    "\n",
    "\n",
    "\n",
    "\n",
    "# import plotly.express as px\n",
    "# px.line(x=alpha_range, y=MSE_results)\n",
    "\n",
    "# create scatter matrix\n",
    "# get parameters\n",
    "idx = np.argmax(MSE_results)\n",
    "ALPHA, BETA = _alphas[idx], _thetas[idx]\n",
    "print(ALPHA, BETA)"
   ]
  },
  {
   "cell_type": "code",
   "execution_count": 78,
   "metadata": {},
   "outputs": [
    {
     "data": {
      "text/plain": [
       "array([0.19788417, 0.74920599])"
      ]
     },
     "execution_count": 78,
     "metadata": {},
     "output_type": "execute_result"
    }
   ],
   "source": [
    "Q_hat[0][:3],Q_hat[1][:3],\n",
    "Q_hat[0].shape\n",
    "Q_hat[:,0]"
   ]
  },
  {
   "cell_type": "code",
   "execution_count": 94,
   "metadata": {},
   "outputs": [
    {
     "data": {
      "text/plain": [
       "(array([0, 1, 0, 0, 1, 0, 0, 0, 1, 0, 0, 0, 1, 1, 1, 1, 1, 1, 1, 1, 1, 1,\n",
       "        0, 1, 1, 0, 1, 1, 1, 1, 1, 1, 1, 1, 1, 1, 1, 0, 1, 1, 1, 1, 1, 1,\n",
       "        1, 1, 1, 1, 1, 1, 1, 0, 1, 1, 1, 1, 1, 1, 1, 1, 1, 1, 1, 1, 1, 1,\n",
       "        0, 1, 1, 1, 1, 1, 1, 1, 1, 1, 1, 1, 1, 1, 1, 1, 1, 1, 1, 1, 0, 1,\n",
       "        1, 0, 1, 0, 1, 1, 1, 1, 1, 0, 0, 1, 1, 1, 1, 1, 1, 1, 1, 1, 1, 1,\n",
       "        1, 1, 1, 1, 1, 1, 1, 1, 1, 1, 1, 1, 1, 1, 1, 1, 1, 1, 1, 1, 1, 1,\n",
       "        1, 1, 1, 1, 1, 1, 1, 1, 1, 1, 1, 0, 1, 1, 1, 0, 1, 1, 1, 1, 1, 1,\n",
       "        1, 1, 1, 1, 1, 1, 1, 1, 1, 0, 1, 1, 1, 1, 1, 1, 1, 1, 1, 1, 1, 1,\n",
       "        1, 1, 1, 1, 1, 1, 1, 0, 0, 1, 1, 1, 1, 1, 1, 1, 1, 1, 0, 1, 1, 1,\n",
       "        1, 1]),\n",
       " array([0, 1, 1, 1, 1, 1, 1, 1, 1, 1, 1, 1, 1, 1, 1, 1, 1, 1, 1, 1, 1, 1,\n",
       "        1, 1, 1, 1, 1, 1, 1, 1, 1, 1, 1, 1, 1, 1, 1, 1, 0, 1, 1, 1, 1, 1,\n",
       "        1, 1, 1, 1, 1, 1, 1, 1, 1, 1, 1, 1, 1, 1, 1, 1, 1, 1, 1, 1, 1, 1,\n",
       "        1, 1, 1, 1, 1, 1, 1, 1, 1, 1, 1, 1, 1, 1, 1, 1, 1, 1, 1, 1, 1, 1,\n",
       "        1, 1, 0, 0, 0, 0, 0, 0, 0, 0, 0, 0, 0, 0, 0, 0, 0, 0, 0, 0, 0, 0,\n",
       "        0, 0, 0, 0, 0, 0, 0, 0, 0, 0, 0, 0, 0, 0, 0, 0, 0, 0, 0, 0, 0, 0,\n",
       "        0, 0, 0, 0, 0, 0, 0, 0, 0, 0, 0, 0, 0, 0, 0, 0, 0, 0, 0, 0, 0, 0,\n",
       "        0, 0, 0, 0, 0, 0, 0, 0, 0, 0, 0, 0, 0, 0, 0, 0, 0, 0, 0, 0, 0, 0,\n",
       "        0, 0, 0, 0, 0, 0, 0, 0, 0, 0, 0, 0, 0, 0, 0, 0, 0, 0, 0, 0, 0, 0,\n",
       "        0, 0]))"
      ]
     },
     "execution_count": 94,
     "metadata": {},
     "output_type": "execute_result"
    }
   ],
   "source": [
    "np.mean(action_pred==srw.c)\n",
    "\n",
    "MSE(srw.c, action_pred)\n",
    "(srw.c, action_pred)\n"
   ]
  },
  {
   "cell_type": "code",
   "execution_count": 91,
   "metadata": {},
   "outputs": [
    {
     "name": "stdout",
     "output_type": "stream",
     "text": [
      "Q_hat (init)  [0.5 0.5]\n"
     ]
    },
    {
     "data": {
      "image/png": "[encoded data removed]",
      "text/plain": [
       "<Figure size 1200x500 with 1 Axes>"
      ]
     },
     "metadata": {},
     "output_type": "display_data"
    },
    {
     "data": {
      "text/plain": [
       "<module 'matplotlib.pyplot' from '/Users/zachwolpe/miniforge3/envs/mlxgo/lib/python3.12/site-packages/matplotlib/pyplot.py'>"
      ]
     },
     "execution_count": 91,
     "metadata": {},
     "output_type": "execute_result"
    },
    {
     "data": {
      "image/png": "[encoded data removed]",
      "text/plain": [
       "<Figure size 640x480 with 1 Axes>"
      ]
     },
     "metadata": {},
     "output_type": "display_data"
    }
   ],
   "source": [
    "\n",
    "\n",
    "\n",
    "# simulate data\n",
    "PARAMS = [ALPHA, 4]\n",
    "PARAMS = [0.3, 4]\n",
    "PARAMS = [0.2, 4]\n",
    "PARAMS = [ALPHA, BETA]\n",
    "\n",
    "\n",
    "\n",
    "Q_hat, action_pred = simulate_action_space(params=PARAMS, reward_vector=srw.r, Q_init=[0.5, 0.5])\n",
    "print('Q_hat (init) ', Q_hat[:,0])\n",
    "\n",
    "ax = RescorlaWagnerPlots.plot_Q_values(srw.c, srw.r, Q_hat.T)\n",
    "plt.show();\n",
    "\n",
    "RescorlaWagnerPlots.plot_Q_estimates(Q_hat, srw.c)"
   ]
  },
  {
   "cell_type": "code",
   "execution_count": 34,
   "metadata": {},
   "outputs": [
    {
     "name": "stdout",
     "output_type": "stream",
     "text": [
      "[0.2, 4]\n"
     ]
    },
    {
     "data": {
      "image/png": "[encoded data removed]",
      "text/plain": [
       "<Figure size 1200x500 with 1 Axes>"
      ]
     },
     "metadata": {},
     "output_type": "display_data"
    },
    {
     "data": {
      "text/plain": [
       "<module 'matplotlib.pyplot' from '/Users/zachwolpe/miniforge3/envs/mlxgo/lib/python3.12/site-packages/matplotlib/pyplot.py'>"
      ]
     },
     "execution_count": 34,
     "metadata": {},
     "output_type": "execute_result"
    },
    {
     "data": {
      "image/png": "[encoded data removed]",
      "text/plain": [
       "<Figure size 640x480 with 1 Axes>"
      ]
     },
     "metadata": {},
     "output_type": "display_data"
    }
   ],
   "source": [
    "print(params)\n",
    "\n",
    "ax = RescorlaWagnerPlots.plot_Q_values(srw.c, srw.r, srw.Q_stored.T)\n",
    "plt.show();\n",
    "\n",
    "RescorlaWagnerPlots.plot_Q_estimates(srw.Q_stored, srw.r)"
   ]
  },
  {
   "cell_type": "code",
   "execution_count": 87,
   "metadata": {},
   "outputs": [
    {
     "data": {
      "application/vnd.plotly.v1+json": {
       "config": {
        "plotlyServerURL": "https://plot.ly"
       },
       "data": [
        {
         "hovertemplate": "x=%{x}<br>y=%{y}<br>z=%{z}<br>color=%{marker.color}<extra></extra>",
         "legendgroup": "",
         "marker": {
          "color": [
           0.875,
           0.875,
           0.875,
           0.875,
           0.875,
           0.875,
           0.875,
           0.875,
           0.875,
           0.875,
           0.89,
           0.875,
           0.875,
           0.875,
           0.875,
           0.875,
           0.875,
           0.875,
           0.875,
           0.875,
           0.885,
           0.095,
           0.905,
           0.875,
           0.875,
           0.875,
           0.875,
           0.875,
           0.875,
           0.875,
           0.885,
           0.095,
           0.905,
           0.875,
           0.875,
           0.875,
           0.875,
           0.875,
           0.875,
           0.875,
           0.885,
           0.095,
           0.905,
           0.875,
           0.875,
           0.875,
           0.875,
           0.875,
           0.875,
           0.875,
           0.885,
           0.095,
           0.905,
           0.875,
           0.875,
           0.875,
           0.875,
           0.875,
           0.875,
           0.875,
           0.885,
           0.095,
           0.905,
           0.875,
           0.875,
           0.875,
           0.875,
           0.875,
           0.875,
           0.875,
           0.885,
           0.095,
           0.905,
           0.875,
           0.875,
           0.875,
           0.875,
           0.875,
           0.875,
           0.875,
           0.885,
           0.095,
           0.905,
           0.875,
           0.875,
           0.875,
           0.875,
           0.875,
           0.875,
           0.875,
           0.875,
           0.875,
           0.875,
           0.875,
           0.875,
           0.875,
           0.875,
           0.875,
           0.875,
           0.875
          ],
          "coloraxis": "coloraxis",
          "symbol": "circle"
         },
         "mode": "markers",
         "name": "",
         "scene": "scene",
         "showlegend": false,
         "type": "scatter3d",
         "x": [
          0,
          0,
          0,
          0,
          0,
          0,
          0,
          0,
          0,
          0,
          0.1111111111111111,
          0.1111111111111111,
          0.1111111111111111,
          0.1111111111111111,
          0.1111111111111111,
          0.1111111111111111,
          0.1111111111111111,
          0.1111111111111111,
          0.1111111111111111,
          0.1111111111111111,
          0.2222222222222222,
          0.2222222222222222,
          0.2222222222222222,
          0.2222222222222222,
          0.2222222222222222,
          0.2222222222222222,
          0.2222222222222222,
          0.2222222222222222,
          0.2222222222222222,
          0.2222222222222222,
          0.3333333333333333,
          0.3333333333333333,
          0.3333333333333333,
          0.3333333333333333,
          0.3333333333333333,
          0.3333333333333333,
          0.3333333333333333,
          0.3333333333333333,
          0.3333333333333333,
          0.3333333333333333,
          0.4444444444444444,
          0.4444444444444444,
          0.4444444444444444,
          0.4444444444444444,
          0.4444444444444444,
          0.4444444444444444,
          0.4444444444444444,
          0.4444444444444444,
          0.4444444444444444,
          0.4444444444444444,
          0.5555555555555556,
          0.5555555555555556,
          0.5555555555555556,
          0.5555555555555556,
          0.5555555555555556,
          0.5555555555555556,
          0.5555555555555556,
          0.5555555555555556,
          0.5555555555555556,
          0.5555555555555556,
          0.6666666666666666,
          0.6666666666666666,
          0.6666666666666666,
          0.6666666666666666,
          0.6666666666666666,
          0.6666666666666666,
          0.6666666666666666,
          0.6666666666666666,
          0.6666666666666666,
          0.6666666666666666,
          0.7777777777777777,
          0.7777777777777777,
          0.7777777777777777,
          0.7777777777777777,
          0.7777777777777777,
          0.7777777777777777,
          0.7777777777777777,
          0.7777777777777777,
          0.7777777777777777,
          0.7777777777777777,
          0.8888888888888888,
          0.8888888888888888,
          0.8888888888888888,
          0.8888888888888888,
          0.8888888888888888,
          0.8888888888888888,
          0.8888888888888888,
          0.8888888888888888,
          0.8888888888888888,
          0.8888888888888888,
          1,
          1,
          1,
          1,
          1,
          1,
          1,
          1,
          1,
          1
         ],
         "y": [
          1,
          2,
          3,
          4,
          5,
          6,
          7,
          8,
          9,
          10,
          1,
          2,
          3,
          4,
          5,
          6,
          7,
          8,
          9,
          10,
          1,
          2,
          3,
          4,
          5,
          6,
          7,
          8,
          9,
          10,
          1,
          2,
          3,
          4,
          5,
          6,
          7,
          8,
          9,
          10,
          1,
          2,
          3,
          4,
          5,
          6,
          7,
          8,
          9,
          10,
          1,
          2,
          3,
          4,
          5,
          6,
          7,
          8,
          9,
          10,
          1,
          2,
          3,
          4,
          5,
          6,
          7,
          8,
          9,
          10,
          1,
          2,
          3,
          4,
          5,
          6,
          7,
          8,
          9,
          10,
          1,
          2,
          3,
          4,
          5,
          6,
          7,
          8,
          9,
          10,
          1,
          2,
          3,
          4,
          5,
          6,
          7,
          8,
          9,
          10
         ],
         "z": [
          0.875,
          0.875,
          0.875,
          0.875,
          0.875,
          0.875,
          0.875,
          0.875,
          0.875,
          0.875,
          0.89,
          0.875,
          0.875,
          0.875,
          0.875,
          0.875,
          0.875,
          0.875,
          0.875,
          0.875,
          0.885,
          0.095,
          0.905,
          0.875,
          0.875,
          0.875,
          0.875,
          0.875,
          0.875,
          0.875,
          0.885,
          0.095,
          0.905,
          0.875,
          0.875,
          0.875,
          0.875,
          0.875,
          0.875,
          0.875,
          0.885,
          0.095,
          0.905,
          0.875,
          0.875,
          0.875,
          0.875,
          0.875,
          0.875,
          0.875,
          0.885,
          0.095,
          0.905,
          0.875,
          0.875,
          0.875,
          0.875,
          0.875,
          0.875,
          0.875,
          0.885,
          0.095,
          0.905,
          0.875,
          0.875,
          0.875,
          0.875,
          0.875,
          0.875,
          0.875,
          0.885,
          0.095,
          0.905,
          0.875,
          0.875,
          0.875,
          0.875,
          0.875,
          0.875,
          0.875,
          0.885,
          0.095,
          0.905,
          0.875,
          0.875,
          0.875,
          0.875,
          0.875,
          0.875,
          0.875,
          0.875,
          0.875,
          0.875,
          0.875,
          0.875,
          0.875,
          0.875,
          0.875,
          0.875,
          0.875
         ]
        }
       ],
       "layout": {
        "coloraxis": {
         "colorbar": {
          "title": {
           "text": "color"
          }
         },
         "colorscale": [
          [
           0,
           "#0d0887"
          ],
          [
           0.1111111111111111,
           "#46039f"
          ],
          [
           0.2222222222222222,
           "#7201a8"
          ],
          [
           0.3333333333333333,
           "#9c179e"
          ],
          [
           0.4444444444444444,
           "#bd3786"
          ],
          [
           0.5555555555555556,
           "#d8576b"
          ],
          [
           0.6666666666666666,
           "#ed7953"
          ],
          [
           0.7777777777777778,
           "#fb9f3a"
          ],
          [
           0.8888888888888888,
           "#fdca26"
          ],
          [
           1,
           "#f0f921"
          ]
         ]
        },
        "legend": {
         "tracegroupgap": 0
        },
        "margin": {
         "t": 60
        },
        "scene": {
         "domain": {
          "x": [
           0,
           1
          ],
          "y": [
           0,
           1
          ]
         },
         "xaxis": {
          "title": {
           "text": "x"
          }
         },
         "yaxis": {
          "title": {
           "text": "y"
          }
         },
         "zaxis": {
          "title": {
           "text": "z"
          }
         }
        },
        "template": {
         "data": {
          "bar": [
           {
            "error_x": {
             "color": "#2a3f5f"
            },
            "error_y": {
             "color": "#2a3f5f"
            },
            "marker": {
             "line": {
              "color": "#E5ECF6",
              "width": 0.5
             },
             "pattern": {
              "fillmode": "overlay",
              "size": 10,
              "solidity": 0.2
             }
            },
            "type": "bar"
           }
          ],
          "barpolar": [
           {
            "marker": {
             "line": {
              "color": "#E5ECF6",
              "width": 0.5
             },
             "pattern": {
              "fillmode": "overlay",
              "size": 10,
              "solidity": 0.2
             }
            },
            "type": "barpolar"
           }
          ],
          "carpet": [
           {
            "aaxis": {
             "endlinecolor": "#2a3f5f",
             "gridcolor": "white",
             "linecolor": "white",
             "minorgridcolor": "white",
             "startlinecolor": "#2a3f5f"
            },
            "baxis": {
             "endlinecolor": "#2a3f5f",
             "gridcolor": "white",
             "linecolor": "white",
             "minorgridcolor": "white",
             "startlinecolor": "#2a3f5f"
            },
            "type": "carpet"
           }
          ],
          "choropleth": [
           {
            "colorbar": {
             "outlinewidth": 0,
             "ticks": ""
            },
            "type": "choropleth"
           }
          ],
          "contour": [
           {
            "colorbar": {
             "outlinewidth": 0,
             "ticks": ""
            },
            "colorscale": [
             [
              0,
              "#0d0887"
             ],
             [
              0.1111111111111111,
              "#46039f"
             ],
             [
              0.2222222222222222,
              "#7201a8"
             ],
             [
              0.3333333333333333,
              "#9c179e"
             ],
             [
              0.4444444444444444,
              "#bd3786"
             ],
             [
              0.5555555555555556,
              "#d8576b"
             ],
             [
              0.6666666666666666,
              "#ed7953"
             ],
             [
              0.7777777777777778,
              "#fb9f3a"
             ],
             [
              0.8888888888888888,
              "#fdca26"
             ],
             [
              1,
              "#f0f921"
             ]
            ],
            "type": "contour"
           }
          ],
          "contourcarpet": [
           {
            "colorbar": {
             "outlinewidth": 0,
             "ticks": ""
            },
            "type": "contourcarpet"
           }
          ],
          "heatmap": [
           {
            "colorbar": {
             "outlinewidth": 0,
             "ticks": ""
            },
            "colorscale": [
             [
              0,
              "#0d0887"
             ],
             [
              0.1111111111111111,
              "#46039f"
             ],
             [
              0.2222222222222222,
              "#7201a8"
             ],
             [
              0.3333333333333333,
              "#9c179e"
             ],
             [
              0.4444444444444444,
              "#bd3786"
             ],
             [
              0.5555555555555556,
              "#d8576b"
             ],
             [
              0.6666666666666666,
              "#ed7953"
             ],
             [
              0.7777777777777778,
              "#fb9f3a"
             ],
             [
              0.8888888888888888,
              "#fdca26"
             ],
             [
              1,
              "#f0f921"
             ]
            ],
            "type": "heatmap"
           }
          ],
          "heatmapgl": [
           {
            "colorbar": {
             "outlinewidth": 0,
             "ticks": ""
            },
            "colorscale": [
             [
              0,
              "#0d0887"
             ],
             [
              0.1111111111111111,
              "#46039f"
             ],
             [
              0.2222222222222222,
              "#7201a8"
             ],
             [
              0.3333333333333333,
              "#9c179e"
             ],
             [
              0.4444444444444444,
              "#bd3786"
             ],
             [
              0.5555555555555556,
              "#d8576b"
             ],
             [
              0.6666666666666666,
              "#ed7953"
             ],
             [
              0.7777777777777778,
              "#fb9f3a"
             ],
             [
              0.8888888888888888,
              "#fdca26"
             ],
             [
              1,
              "#f0f921"
             ]
            ],
            "type": "heatmapgl"
           }
          ],
          "histogram": [
           {
            "marker": {
             "pattern": {
              "fillmode": "overlay",
              "size": 10,
              "solidity": 0.2
             }
            },
            "type": "histogram"
           }
          ],
          "histogram2d": [
           {
            "colorbar": {
             "outlinewidth": 0,
             "ticks": ""
            },
            "colorscale": [
             [
              0,
              "#0d0887"
             ],
             [
              0.1111111111111111,
              "#46039f"
             ],
             [
              0.2222222222222222,
              "#7201a8"
             ],
             [
              0.3333333333333333,
              "#9c179e"
             ],
             [
              0.4444444444444444,
              "#bd3786"
             ],
             [
              0.5555555555555556,
              "#d8576b"
             ],
             [
              0.6666666666666666,
              "#ed7953"
             ],
             [
              0.7777777777777778,
              "#fb9f3a"
             ],
             [
              0.8888888888888888,
              "#fdca26"
             ],
             [
              1,
              "#f0f921"
             ]
            ],
            "type": "histogram2d"
           }
          ],
          "histogram2dcontour": [
           {
            "colorbar": {
             "outlinewidth": 0,
             "ticks": ""
            },
            "colorscale": [
             [
              0,
              "#0d0887"
             ],
             [
              0.1111111111111111,
              "#46039f"
             ],
             [
              0.2222222222222222,
              "#7201a8"
             ],
             [
              0.3333333333333333,
              "#9c179e"
             ],
             [
              0.4444444444444444,
              "#bd3786"
             ],
             [
              0.5555555555555556,
              "#d8576b"
             ],
             [
              0.6666666666666666,
              "#ed7953"
             ],
             [
              0.7777777777777778,
              "#fb9f3a"
             ],
             [
              0.8888888888888888,
              "#fdca26"
             ],
             [
              1,
              "#f0f921"
             ]
            ],
            "type": "histogram2dcontour"
           }
          ],
          "mesh3d": [
           {
            "colorbar": {
             "outlinewidth": 0,
             "ticks": ""
            },
            "type": "mesh3d"
           }
          ],
          "parcoords": [
           {
            "line": {
             "colorbar": {
              "outlinewidth": 0,
              "ticks": ""
             }
            },
            "type": "parcoords"
           }
          ],
          "pie": [
           {
            "automargin": true,
            "type": "pie"
           }
          ],
          "scatter": [
           {
            "fillpattern": {
             "fillmode": "overlay",
             "size": 10,
             "solidity": 0.2
            },
            "type": "scatter"
           }
          ],
          "scatter3d": [
           {
            "line": {
             "colorbar": {
              "outlinewidth": 0,
              "ticks": ""
             }
            },
            "marker": {
             "colorbar": {
              "outlinewidth": 0,
              "ticks": ""
             }
            },
            "type": "scatter3d"
           }
          ],
          "scattercarpet": [
           {
            "marker": {
             "colorbar": {
              "outlinewidth": 0,
              "ticks": ""
             }
            },
            "type": "scattercarpet"
           }
          ],
          "scattergeo": [
           {
            "marker": {
             "colorbar": {
              "outlinewidth": 0,
              "ticks": ""
             }
            },
            "type": "scattergeo"
           }
          ],
          "scattergl": [
           {
            "marker": {
             "colorbar": {
              "outlinewidth": 0,
              "ticks": ""
             }
            },
            "type": "scattergl"
           }
          ],
          "scattermapbox": [
           {
            "marker": {
             "colorbar": {
              "outlinewidth": 0,
              "ticks": ""
             }
            },
            "type": "scattermapbox"
           }
          ],
          "scatterpolar": [
           {
            "marker": {
             "colorbar": {
              "outlinewidth": 0,
              "ticks": ""
             }
            },
            "type": "scatterpolar"
           }
          ],
          "scatterpolargl": [
           {
            "marker": {
             "colorbar": {
              "outlinewidth": 0,
              "ticks": ""
             }
            },
            "type": "scatterpolargl"
           }
          ],
          "scatterternary": [
           {
            "marker": {
             "colorbar": {
              "outlinewidth": 0,
              "ticks": ""
             }
            },
            "type": "scatterternary"
           }
          ],
          "surface": [
           {
            "colorbar": {
             "outlinewidth": 0,
             "ticks": ""
            },
            "colorscale": [
             [
              0,
              "#0d0887"
             ],
             [
              0.1111111111111111,
              "#46039f"
             ],
             [
              0.2222222222222222,
              "#7201a8"
             ],
             [
              0.3333333333333333,
              "#9c179e"
             ],
             [
              0.4444444444444444,
              "#bd3786"
             ],
             [
              0.5555555555555556,
              "#d8576b"
             ],
             [
              0.6666666666666666,
              "#ed7953"
             ],
             [
              0.7777777777777778,
              "#fb9f3a"
             ],
             [
              0.8888888888888888,
              "#fdca26"
             ],
             [
              1,
              "#f0f921"
             ]
            ],
            "type": "surface"
           }
          ],
          "table": [
           {
            "cells": {
             "fill": {
              "color": "#EBF0F8"
             },
             "line": {
              "color": "white"
             }
            },
            "header": {
             "fill": {
              "color": "#C8D4E3"
             },
             "line": {
              "color": "white"
             }
            },
            "type": "table"
           }
          ]
         },
         "layout": {
          "annotationdefaults": {
           "arrowcolor": "#2a3f5f",
           "arrowhead": 0,
           "arrowwidth": 1
          },
          "autotypenumbers": "strict",
          "coloraxis": {
           "colorbar": {
            "outlinewidth": 0,
            "ticks": ""
           }
          },
          "colorscale": {
           "diverging": [
            [
             0,
             "#8e0152"
            ],
            [
             0.1,
             "#c51b7d"
            ],
            [
             0.2,
             "#de77ae"
            ],
            [
             0.3,
             "#f1b6da"
            ],
            [
             0.4,
             "#fde0ef"
            ],
            [
             0.5,
             "#f7f7f7"
            ],
            [
             0.6,
             "#e6f5d0"
            ],
            [
             0.7,
             "#b8e186"
            ],
            [
             0.8,
             "#7fbc41"
            ],
            [
             0.9,
             "#4d9221"
            ],
            [
             1,
             "#276419"
            ]
           ],
           "sequential": [
            [
             0,
             "#0d0887"
            ],
            [
             0.1111111111111111,
             "#46039f"
            ],
            [
             0.2222222222222222,
             "#7201a8"
            ],
            [
             0.3333333333333333,
             "#9c179e"
            ],
            [
             0.4444444444444444,
             "#bd3786"
            ],
            [
             0.5555555555555556,
             "#d8576b"
            ],
            [
             0.6666666666666666,
             "#ed7953"
            ],
            [
             0.7777777777777778,
             "#fb9f3a"
            ],
            [
             0.8888888888888888,
             "#fdca26"
            ],
            [
             1,
             "#f0f921"
            ]
           ],
           "sequentialminus": [
            [
             0,
             "#0d0887"
            ],
            [
             0.1111111111111111,
             "#46039f"
            ],
            [
             0.2222222222222222,
             "#7201a8"
            ],
            [
             0.3333333333333333,
             "#9c179e"
            ],
            [
             0.4444444444444444,
             "#bd3786"
            ],
            [
             0.5555555555555556,
             "#d8576b"
            ],
            [
             0.6666666666666666,
             "#ed7953"
            ],
            [
             0.7777777777777778,
             "#fb9f3a"
            ],
            [
             0.8888888888888888,
             "#fdca26"
            ],
            [
             1,
             "#f0f921"
            ]
           ]
          },
          "colorway": [
           "#636efa",
           "#EF553B",
           "#00cc96",
           "#ab63fa",
           "#FFA15A",
           "#19d3f3",
           "#FF6692",
           "#B6E880",
           "#FF97FF",
           "#FECB52"
          ],
          "font": {
           "color": "#2a3f5f"
          },
          "geo": {
           "bgcolor": "white",
           "lakecolor": "white",
           "landcolor": "#E5ECF6",
           "showlakes": true,
           "showland": true,
           "subunitcolor": "white"
          },
          "hoverlabel": {
           "align": "left"
          },
          "hovermode": "closest",
          "mapbox": {
           "style": "light"
          },
          "paper_bgcolor": "white",
          "plot_bgcolor": "#E5ECF6",
          "polar": {
           "angularaxis": {
            "gridcolor": "white",
            "linecolor": "white",
            "ticks": ""
           },
           "bgcolor": "#E5ECF6",
           "radialaxis": {
            "gridcolor": "white",
            "linecolor": "white",
            "ticks": ""
           }
          },
          "scene": {
           "xaxis": {
            "backgroundcolor": "#E5ECF6",
            "gridcolor": "white",
            "gridwidth": 2,
            "linecolor": "white",
            "showbackground": true,
            "ticks": "",
            "zerolinecolor": "white"
           },
           "yaxis": {
            "backgroundcolor": "#E5ECF6",
            "gridcolor": "white",
            "gridwidth": 2,
            "linecolor": "white",
            "showbackground": true,
            "ticks": "",
            "zerolinecolor": "white"
           },
           "zaxis": {
            "backgroundcolor": "#E5ECF6",
            "gridcolor": "white",
            "gridwidth": 2,
            "linecolor": "white",
            "showbackground": true,
            "ticks": "",
            "zerolinecolor": "white"
           }
          },
          "shapedefaults": {
           "line": {
            "color": "#2a3f5f"
           }
          },
          "ternary": {
           "aaxis": {
            "gridcolor": "white",
            "linecolor": "white",
            "ticks": ""
           },
           "baxis": {
            "gridcolor": "white",
            "linecolor": "white",
            "ticks": ""
           },
           "bgcolor": "#E5ECF6",
           "caxis": {
            "gridcolor": "white",
            "linecolor": "white",
            "ticks": ""
           }
          },
          "title": {
           "x": 0.05
          },
          "xaxis": {
           "automargin": true,
           "gridcolor": "white",
           "linecolor": "white",
           "ticks": "",
           "title": {
            "standoff": 15
           },
           "zerolinecolor": "white",
           "zerolinewidth": 2
          },
          "yaxis": {
           "automargin": true,
           "gridcolor": "white",
           "linecolor": "white",
           "ticks": "",
           "title": {
            "standoff": 15
           },
           "zerolinecolor": "white",
           "zerolinewidth": 2
          }
         }
        }
       }
      }
     },
     "metadata": {},
     "output_type": "display_data"
    }
   ],
   "source": [
    "\n",
    "import plotly.express as px\n",
    "fig = px.scatter_3d( x=_alphas, y=_thetas, z=MSE_results,\n",
    "              color=MSE_results)\n",
    "fig.show()"
   ]
  },
  {
   "cell_type": "code",
   "execution_count": null,
   "metadata": {},
   "outputs": [],
   "source": [
    "\n",
    "from scipy.optimize import minimize\n",
    "\n",
    "\n",
    "def minimize_scikit(actions, init_guess, Q_init=[0.5,0.5], alpha_bound=(0, 1), theta_bound=(1, 50),):\n",
    "    bounds=(alpha_bound, theta_bound)\n",
    "    result = minimize(\n",
    "                    fun=loss_function,\n",
    "                    x0=init_guess,\n",
    "                    args=(actions, Q_init), #  other params\n",
    "                    bounds=bounds\n",
    "                    )\n",
    "    return result\n",
    "\n"
   ]
  },
  {
   "cell_type": "code",
   "execution_count": null,
   "metadata": {},
   "outputs": [
    {
     "data": {
      "text/plain": [
       "  message: CONVERGENCE: NORM_OF_PROJECTED_GRADIENT_<=_PGTOL\n",
       "  success: True\n",
       "   status: 0\n",
       "      fun: 0.44\n",
       "        x: [ 1.438e-07  1.000e+00]\n",
       "      nit: 1\n",
       "      jac: [ 1.000e+06  5.000e+06]\n",
       "     nfev: 63\n",
       "     njev: 21\n",
       " hess_inv: <2x2 LbfgsInvHessProduct with dtype=float64>"
      ]
     },
     "execution_count": 82,
     "metadata": {},
     "output_type": "execute_result"
    }
   ],
   "source": [
    "actions = srw.c\n",
    "minimize_scikit(actions, init_guess=[0,0])"
   ]
  },
  {
   "cell_type": "code",
   "execution_count": null,
   "metadata": {},
   "outputs": [],
   "source": [
    "\n",
    "\n",
    "\n",
    "def minimize_bute_force(\n",
    "        actions,\n",
    "        Q_init=[0.5,0.5],\n",
    "        alpha_range=np.linspace(0,1,10),\n",
    "        theta_range=np.linspace(1,15,10),\n",
    "        ):\n",
    "\n",
    "\n",
    "        min_mse = np.inf\n",
    "        parameter_estimates = (None, None)\n",
    "        Q_hat = None\n",
    "\n",
    "        T = len(actions)\n",
    "        for _alpha in alpha_range:\n",
    "            for _theta in theta_range:\n",
    "                _mse = loss_function([_alpha, _theta], actions, Q_init=Q_init)\n",
    "                # print(f'alpha: {round(_alpha, 2)}, theta: {round(_theta, 2)}, mse: {mse}')\n",
    "                if _mse <= min_mse:\n",
    "                    min_mse = _mse\n",
    "                    parameter_estimates = (_alpha, _theta)\n",
    "                    # Q_hat = _Q_hat\n",
    "                    # print('-> new parameter estimate!')\n",
    "\n",
    "        return min_mse, parameter_estimates\n",
    "    "
   ]
  },
  {
   "cell_type": "code",
   "execution_count": null,
   "metadata": {},
   "outputs": [],
   "source": [
    "params = [0.2,4]\n",
    "\n",
    "reward_vector = srw.r\n",
    "Q_hat, action_pred = simulate_action_space(params, reward_vector)\n",
    "# Q_hat, action_pred"
   ]
  },
  {
   "cell_type": "code",
   "execution_count": null,
   "metadata": {},
   "outputs": [
    {
     "name": "stderr",
     "output_type": "stream",
     "text": [
      "100%|██████████| 10/10 [05:29<00:00, 32.98s/it]\n"
     ]
    }
   ],
   "source": [
    "alpha_true_range = np.linspace(0,1,10)\n",
    "theta_true_range = np.linspace(1,10,10)\n",
    "\n",
    "\n",
    "results = {'alpha (true)':[], 'alpha (pred)':[], 'theta (true)':[], 'theta (pred)':[]}\n",
    "\n",
    "res_nll = np.inf\n",
    "\n",
    "from tqdm import tqdm\n",
    "for alpha in tqdm(alpha_true_range):\n",
    "    for theta in theta_true_range:\n",
    "        params = (alpha, theta)\n",
    "\n",
    "# for params in zip(alpha_true_range, theta_true_range):\n",
    "\n",
    "        # generate data\n",
    "        srw = RescorlaWagnerSimulate()\n",
    "        srw.simulate(params, T=100, mu=[0.2, 0.8], noisy_choice=True)\n",
    "\n",
    "        # fit parameters\n",
    "        # params = [a,b]\n",
    "\n",
    "        # reward_vector = srw.r\n",
    "        # simulate_action_space()\n",
    "\n",
    "\n",
    "        action_true = srw.c\n",
    "        # min_mse, param_fits = minimize_bute_force(action_true)\n",
    "        for alpha_INIT in alpha_true_range:\n",
    "            for theta_INIT in theta_true_range:\n",
    "                result = minimize_scikit(action_true, init_guess=[alpha_INIT, theta_INIT])\n",
    "                if result.fun < res_nll:\n",
    "                    res_nll = result.fun\n",
    "                    param_fits = result.x\n",
    "     \n",
    "        \n",
    "\n",
    "        \n",
    "\n",
    "\n",
    "        # fit parametes\n",
    "        # param_fits, BIC = RoscorlaWagner.fit_rescorla_wagner_model_n_times(\n",
    "        #     action_vector=srw.c,\n",
    "        #     reward_vector=srw.r,\n",
    "        #     alpha_range=np.linspace(0,1,10),\n",
    "        #     theta_range=np.linspace(1,15,10),\n",
    "        #     alpha_bound=(0,1),\n",
    "        #     theta_bound=(1,25))\n",
    "\n",
    "        # store results\n",
    "        results['alpha (true)'].append(params[0])\n",
    "        results['alpha (pred)'].append(param_fits[0])\n",
    "        results['theta (true)'].append(params[1])\n",
    "        results['theta (pred)'].append(param_fits[1])\n",
    "       \n",
    "        \n",
    "    "
   ]
  },
  {
   "cell_type": "code",
   "execution_count": null,
   "metadata": {},
   "outputs": [
    {
     "name": "stdout",
     "output_type": "stream",
     "text": [
      "(100, 4)\n"
     ]
    },
    {
     "data": {
      "application/vnd.plotly.v1+json": {
       "config": {
        "plotlyServerURL": "https://plot.ly"
       },
       "data": [
        {
         "mode": "markers",
         "name": "alpha",
         "type": "scatter",
         "x": [
          0,
          0,
          0,
          0,
          0,
          0,
          0,
          0,
          0,
          0,
          0.1111111111111111,
          0.1111111111111111,
          0.1111111111111111,
          0.1111111111111111,
          0.1111111111111111,
          0.1111111111111111,
          0.1111111111111111,
          0.1111111111111111,
          0.1111111111111111,
          0.1111111111111111,
          0.2222222222222222,
          0.2222222222222222,
          0.2222222222222222,
          0.2222222222222222,
          0.2222222222222222,
          0.2222222222222222,
          0.2222222222222222,
          0.2222222222222222,
          0.2222222222222222,
          0.2222222222222222,
          0.3333333333333333,
          0.3333333333333333,
          0.3333333333333333,
          0.3333333333333333,
          0.3333333333333333,
          0.3333333333333333,
          0.3333333333333333,
          0.3333333333333333,
          0.3333333333333333,
          0.3333333333333333,
          0.4444444444444444,
          0.4444444444444444,
          0.4444444444444444,
          0.4444444444444444,
          0.4444444444444444,
          0.4444444444444444,
          0.4444444444444444,
          0.4444444444444444,
          0.4444444444444444,
          0.4444444444444444,
          0.5555555555555556,
          0.5555555555555556,
          0.5555555555555556,
          0.5555555555555556,
          0.5555555555555556,
          0.5555555555555556,
          0.5555555555555556,
          0.5555555555555556,
          0.5555555555555556,
          0.5555555555555556,
          0.6666666666666666,
          0.6666666666666666,
          0.6666666666666666,
          0.6666666666666666,
          0.6666666666666666,
          0.6666666666666666,
          0.6666666666666666,
          0.6666666666666666,
          0.6666666666666666,
          0.6666666666666666,
          0.7777777777777777,
          0.7777777777777777,
          0.7777777777777777,
          0.7777777777777777,
          0.7777777777777777,
          0.7777777777777777,
          0.7777777777777777,
          0.7777777777777777,
          0.7777777777777777,
          0.7777777777777777,
          0.8888888888888888,
          0.8888888888888888,
          0.8888888888888888,
          0.8888888888888888,
          0.8888888888888888,
          0.8888888888888888,
          0.8888888888888888,
          0.8888888888888888,
          0.8888888888888888,
          0.8888888888888888,
          1,
          1,
          1,
          1,
          1,
          1,
          1,
          1,
          1,
          1
         ],
         "xaxis": "x",
         "y": [
          0.9999994226732297,
          0.9999994226732297,
          0.9999994226732297,
          0.9999994226732297,
          0,
          1,
          1,
          1,
          1,
          1,
          0.2222222222222222,
          0,
          0.666666670142335,
          0.44444444955906576,
          0.5555555555555556,
          0.6666666666666666,
          0.6666666666666666,
          0.6666666666666666,
          0.6666666666666666,
          0.6666666662059041,
          0.6666666662059041,
          0.6666666662059041,
          0.6666666662059041,
          0.6666666662059041,
          0.6666666662059041,
          0.6666666662059041,
          0.6666666662059041,
          0.6666666662059041,
          0.6666666662059041,
          0.6666666662059041,
          0.6666666662059041,
          0.6666666662059041,
          0.6666666662059041,
          0.6666666662059041,
          0.6666666662059041,
          0.6666666662059041,
          0.6666666662059041,
          0.6666666662059041,
          0.6666666662059041,
          0.6666666662059041,
          0.6666666662059041,
          0.6666666662059041,
          0.6666666662059041,
          0.6666666662059041,
          0.6666666662059041,
          0.6666666662059041,
          0.6666666662059041,
          0.6666666662059041,
          0.6666666662059041,
          0.6666666662059041,
          0.6666666662059041,
          0.6666666662059041,
          0.6666666662059041,
          0.6666666662059041,
          0.6666666662059041,
          0.6666666662059041,
          0.6666666662059041,
          0.6666666662059041,
          0.6666666662059041,
          0.6666666662059041,
          0.6666666662059041,
          0.6666666662059041,
          0.6666666662059041,
          0.6666666662059041,
          0.6666666662059041,
          0.6666666662059041,
          0.6666666662059041,
          0.6666666662059041,
          0.6666666662059041,
          0.6666666662059041,
          0.6666666662059041,
          0.6666666662059041,
          0.6666666662059041,
          0.6666666662059041,
          0.6666666662059041,
          0.6666666662059041,
          0.6666666662059041,
          0.6666666662059041,
          0.6666666662059041,
          0.6666666662059041,
          0.6666666662059041,
          0.6666666662059041,
          0.6666666662059041,
          0.6666666662059041,
          0.6666666662059041,
          0.6666666662059041,
          0.6666666662059041,
          0.6666666662059041,
          0.6666666662059041,
          0.6666666662059041,
          0.6666666662059041,
          0.6666666662059041,
          0.6666666662059041,
          0.6666666662059041,
          0.6666666662059041,
          0.6666666662059041,
          0.6666666662059041,
          0.6666666662059041,
          0.6666666662059041,
          0.6666666662059041
         ],
         "yaxis": "y"
        },
        {
         "marker": {
          "color": "black"
         },
         "mode": "lines",
         "name": "y=x",
         "showlegend": false,
         "type": "scatter",
         "x": [
          0,
          0.010101010101010102,
          0.020202020202020204,
          0.030303030303030304,
          0.04040404040404041,
          0.05050505050505051,
          0.06060606060606061,
          0.07070707070707072,
          0.08080808080808081,
          0.09090909090909091,
          0.10101010101010102,
          0.11111111111111112,
          0.12121212121212122,
          0.13131313131313133,
          0.14141414141414144,
          0.15151515151515152,
          0.16161616161616163,
          0.17171717171717174,
          0.18181818181818182,
          0.19191919191919193,
          0.20202020202020204,
          0.21212121212121213,
          0.22222222222222224,
          0.23232323232323235,
          0.24242424242424243,
          0.25252525252525254,
          0.26262626262626265,
          0.27272727272727276,
          0.2828282828282829,
          0.29292929292929293,
          0.30303030303030304,
          0.31313131313131315,
          0.32323232323232326,
          0.33333333333333337,
          0.3434343434343435,
          0.3535353535353536,
          0.36363636363636365,
          0.37373737373737376,
          0.38383838383838387,
          0.393939393939394,
          0.4040404040404041,
          0.4141414141414142,
          0.42424242424242425,
          0.43434343434343436,
          0.4444444444444445,
          0.4545454545454546,
          0.4646464646464647,
          0.4747474747474748,
          0.48484848484848486,
          0.494949494949495,
          0.5050505050505051,
          0.5151515151515152,
          0.5252525252525253,
          0.5353535353535354,
          0.5454545454545455,
          0.5555555555555556,
          0.5656565656565657,
          0.5757575757575758,
          0.5858585858585859,
          0.595959595959596,
          0.6060606060606061,
          0.6161616161616162,
          0.6262626262626263,
          0.6363636363636365,
          0.6464646464646465,
          0.6565656565656566,
          0.6666666666666667,
          0.6767676767676768,
          0.686868686868687,
          0.696969696969697,
          0.7070707070707072,
          0.7171717171717172,
          0.7272727272727273,
          0.7373737373737375,
          0.7474747474747475,
          0.7575757575757577,
          0.7676767676767677,
          0.7777777777777778,
          0.787878787878788,
          0.797979797979798,
          0.8080808080808082,
          0.8181818181818182,
          0.8282828282828284,
          0.8383838383838385,
          0.8484848484848485,
          0.8585858585858587,
          0.8686868686868687,
          0.8787878787878789,
          0.888888888888889,
          0.8989898989898991,
          0.9090909090909092,
          0.9191919191919192,
          0.9292929292929294,
          0.9393939393939394,
          0.9494949494949496,
          0.9595959595959597,
          0.9696969696969697,
          0.9797979797979799,
          0.98989898989899,
          1
         ],
         "xaxis": "x",
         "y": [
          0,
          0.010101010101010102,
          0.020202020202020204,
          0.030303030303030304,
          0.04040404040404041,
          0.05050505050505051,
          0.06060606060606061,
          0.07070707070707072,
          0.08080808080808081,
          0.09090909090909091,
          0.10101010101010102,
          0.11111111111111112,
          0.12121212121212122,
          0.13131313131313133,
          0.14141414141414144,
          0.15151515151515152,
          0.16161616161616163,
          0.17171717171717174,
          0.18181818181818182,
          0.19191919191919193,
          0.20202020202020204,
          0.21212121212121213,
          0.22222222222222224,
          0.23232323232323235,
          0.24242424242424243,
          0.25252525252525254,
          0.26262626262626265,
          0.27272727272727276,
          0.2828282828282829,
          0.29292929292929293,
          0.30303030303030304,
          0.31313131313131315,
          0.32323232323232326,
          0.33333333333333337,
          0.3434343434343435,
          0.3535353535353536,
          0.36363636363636365,
          0.37373737373737376,
          0.38383838383838387,
          0.393939393939394,
          0.4040404040404041,
          0.4141414141414142,
          0.42424242424242425,
          0.43434343434343436,
          0.4444444444444445,
          0.4545454545454546,
          0.4646464646464647,
          0.4747474747474748,
          0.48484848484848486,
          0.494949494949495,
          0.5050505050505051,
          0.5151515151515152,
          0.5252525252525253,
          0.5353535353535354,
          0.5454545454545455,
          0.5555555555555556,
          0.5656565656565657,
          0.5757575757575758,
          0.5858585858585859,
          0.595959595959596,
          0.6060606060606061,
          0.6161616161616162,
          0.6262626262626263,
          0.6363636363636365,
          0.6464646464646465,
          0.6565656565656566,
          0.6666666666666667,
          0.6767676767676768,
          0.686868686868687,
          0.696969696969697,
          0.7070707070707072,
          0.7171717171717172,
          0.7272727272727273,
          0.7373737373737375,
          0.7474747474747475,
          0.7575757575757577,
          0.7676767676767677,
          0.7777777777777778,
          0.787878787878788,
          0.797979797979798,
          0.8080808080808082,
          0.8181818181818182,
          0.8282828282828284,
          0.8383838383838385,
          0.8484848484848485,
          0.8585858585858587,
          0.8686868686868687,
          0.8787878787878789,
          0.888888888888889,
          0.8989898989898991,
          0.9090909090909092,
          0.9191919191919192,
          0.9292929292929294,
          0.9393939393939394,
          0.9494949494949496,
          0.9595959595959597,
          0.9696969696969697,
          0.9797979797979799,
          0.98989898989899,
          1
         ],
         "yaxis": "y"
        },
        {
         "mode": "markers",
         "name": "theta",
         "type": "scatter",
         "x": [
          1,
          2,
          3,
          4,
          5,
          6,
          7,
          8,
          9,
          10,
          1,
          2,
          3,
          4,
          5,
          6,
          7,
          8,
          9,
          10,
          1,
          2,
          3,
          4,
          5,
          6,
          7,
          8,
          9,
          10,
          1,
          2,
          3,
          4,
          5,
          6,
          7,
          8,
          9,
          10,
          1,
          2,
          3,
          4,
          5,
          6,
          7,
          8,
          9,
          10,
          1,
          2,
          3,
          4,
          5,
          6,
          7,
          8,
          9,
          10,
          1,
          2,
          3,
          4,
          5,
          6,
          7,
          8,
          9,
          10,
          1,
          2,
          3,
          4,
          5,
          6,
          7,
          8,
          9,
          10,
          1,
          2,
          3,
          4,
          5,
          6,
          7,
          8,
          9,
          10,
          1,
          2,
          3,
          4,
          5,
          6,
          7,
          8,
          9,
          10
         ],
         "xaxis": "x2",
         "y": [
          3.9999982680196893,
          3.9999982680196893,
          3.9999982680196893,
          3.9999982680196893,
          2,
          8,
          8,
          8,
          8,
          8,
          6,
          6,
          9.999999906156953,
          8.000000387641101,
          8,
          9,
          9,
          9,
          9,
          9.999999993779706,
          9.999999993779706,
          9.999999993779706,
          9.999999993779706,
          9.999999993779706,
          9.999999993779706,
          9.999999993779706,
          9.999999993779706,
          9.999999993779706,
          9.999999993779706,
          9.999999993779706,
          9.999999993779706,
          9.999999993779706,
          9.999999993779706,
          9.999999993779706,
          9.999999993779706,
          9.999999993779706,
          9.999999993779706,
          9.999999993779706,
          9.999999993779706,
          9.999999993779706,
          9.999999993779706,
          9.999999993779706,
          9.999999993779706,
          9.999999993779706,
          9.999999993779706,
          9.999999993779706,
          9.999999993779706,
          9.999999993779706,
          9.999999993779706,
          9.999999993779706,
          9.999999993779706,
          9.999999993779706,
          9.999999993779706,
          9.999999993779706,
          9.999999993779706,
          9.999999993779706,
          9.999999993779706,
          9.999999993779706,
          9.999999993779706,
          9.999999993779706,
          9.999999993779706,
          9.999999993779706,
          9.999999993779706,
          9.999999993779706,
          9.999999993779706,
          9.999999993779706,
          9.999999993779706,
          9.999999993779706,
          9.999999993779706,
          9.999999993779706,
          9.999999993779706,
          9.999999993779706,
          9.999999993779706,
          9.999999993779706,
          9.999999993779706,
          9.999999993779706,
          9.999999993779706,
          9.999999993779706,
          9.999999993779706,
          9.999999993779706,
          9.999999993779706,
          9.999999993779706,
          9.999999993779706,
          9.999999993779706,
          9.999999993779706,
          9.999999993779706,
          9.999999993779706,
          9.999999993779706,
          9.999999993779706,
          9.999999993779706,
          9.999999993779706,
          9.999999993779706,
          9.999999993779706,
          9.999999993779706,
          9.999999993779706,
          9.999999993779706,
          9.999999993779706,
          9.999999993779706,
          9.999999993779706,
          9.999999993779706
         ],
         "yaxis": "y2"
        },
        {
         "marker": {
          "color": "black"
         },
         "mode": "lines",
         "name": "y=x",
         "showlegend": false,
         "type": "scatter",
         "x": [
          0,
          0.10101010101010101,
          0.20202020202020202,
          0.30303030303030304,
          0.40404040404040403,
          0.5050505050505051,
          0.6060606060606061,
          0.7070707070707071,
          0.8080808080808081,
          0.9090909090909091,
          1.0101010101010102,
          1.1111111111111112,
          1.2121212121212122,
          1.3131313131313131,
          1.4141414141414141,
          1.5151515151515151,
          1.6161616161616161,
          1.7171717171717171,
          1.8181818181818181,
          1.9191919191919191,
          2.0202020202020203,
          2.121212121212121,
          2.2222222222222223,
          2.323232323232323,
          2.4242424242424243,
          2.525252525252525,
          2.6262626262626263,
          2.727272727272727,
          2.8282828282828283,
          2.929292929292929,
          3.0303030303030303,
          3.131313131313131,
          3.2323232323232323,
          3.3333333333333335,
          3.4343434343434343,
          3.5353535353535355,
          3.6363636363636362,
          3.7373737373737375,
          3.8383838383838382,
          3.9393939393939394,
          4.040404040404041,
          4.141414141414141,
          4.242424242424242,
          4.343434343434343,
          4.444444444444445,
          4.545454545454545,
          4.646464646464646,
          4.747474747474747,
          4.848484848484849,
          4.94949494949495,
          5.05050505050505,
          5.151515151515151,
          5.252525252525253,
          5.353535353535354,
          5.454545454545454,
          5.555555555555555,
          5.656565656565657,
          5.757575757575758,
          5.858585858585858,
          5.959595959595959,
          6.0606060606060606,
          6.161616161616162,
          6.262626262626262,
          6.363636363636363,
          6.4646464646464645,
          6.565656565656566,
          6.666666666666667,
          6.767676767676767,
          6.8686868686868685,
          6.96969696969697,
          7.070707070707071,
          7.171717171717171,
          7.2727272727272725,
          7.373737373737374,
          7.474747474747475,
          7.575757575757575,
          7.6767676767676765,
          7.777777777777778,
          7.878787878787879,
          7.979797979797979,
          8.080808080808081,
          8.181818181818182,
          8.282828282828282,
          8.383838383838384,
          8.484848484848484,
          8.585858585858587,
          8.686868686868687,
          8.787878787878787,
          8.88888888888889,
          8.98989898989899,
          9.09090909090909,
          9.191919191919192,
          9.292929292929292,
          9.393939393939394,
          9.494949494949495,
          9.595959595959595,
          9.696969696969697,
          9.797979797979798,
          9.8989898989899,
          10
         ],
         "xaxis": "x2",
         "y": [
          0,
          0.10101010101010101,
          0.20202020202020202,
          0.30303030303030304,
          0.40404040404040403,
          0.5050505050505051,
          0.6060606060606061,
          0.7070707070707071,
          0.8080808080808081,
          0.9090909090909091,
          1.0101010101010102,
          1.1111111111111112,
          1.2121212121212122,
          1.3131313131313131,
          1.4141414141414141,
          1.5151515151515151,
          1.6161616161616161,
          1.7171717171717171,
          1.8181818181818181,
          1.9191919191919191,
          2.0202020202020203,
          2.121212121212121,
          2.2222222222222223,
          2.323232323232323,
          2.4242424242424243,
          2.525252525252525,
          2.6262626262626263,
          2.727272727272727,
          2.8282828282828283,
          2.929292929292929,
          3.0303030303030303,
          3.131313131313131,
          3.2323232323232323,
          3.3333333333333335,
          3.4343434343434343,
          3.5353535353535355,
          3.6363636363636362,
          3.7373737373737375,
          3.8383838383838382,
          3.9393939393939394,
          4.040404040404041,
          4.141414141414141,
          4.242424242424242,
          4.343434343434343,
          4.444444444444445,
          4.545454545454545,
          4.646464646464646,
          4.747474747474747,
          4.848484848484849,
          4.94949494949495,
          5.05050505050505,
          5.151515151515151,
          5.252525252525253,
          5.353535353535354,
          5.454545454545454,
          5.555555555555555,
          5.656565656565657,
          5.757575757575758,
          5.858585858585858,
          5.959595959595959,
          6.0606060606060606,
          6.161616161616162,
          6.262626262626262,
          6.363636363636363,
          6.4646464646464645,
          6.565656565656566,
          6.666666666666667,
          6.767676767676767,
          6.8686868686868685,
          6.96969696969697,
          7.070707070707071,
          7.171717171717171,
          7.2727272727272725,
          7.373737373737374,
          7.474747474747475,
          7.575757575757575,
          7.6767676767676765,
          7.777777777777778,
          7.878787878787879,
          7.979797979797979,
          8.080808080808081,
          8.181818181818182,
          8.282828282828282,
          8.383838383838384,
          8.484848484848484,
          8.585858585858587,
          8.686868686868687,
          8.787878787878787,
          8.88888888888889,
          8.98989898989899,
          9.09090909090909,
          9.191919191919192,
          9.292929292929292,
          9.393939393939394,
          9.494949494949495,
          9.595959595959595,
          9.696969696969697,
          9.797979797979798,
          9.8989898989899,
          10
         ],
         "yaxis": "y2"
        }
       ],
       "layout": {
        "height": 600,
        "template": {
         "data": {
          "scatter": [
           {
            "type": "scatter"
           }
          ]
         }
        },
        "title": {
         "text": "Sensitivity Analysis: Parameter Stability Estimate"
        },
        "width": 800,
        "xaxis": {
         "anchor": "y",
         "domain": [
          0,
          0.45
         ]
        },
        "xaxis2": {
         "anchor": "y2",
         "domain": [
          0.55,
          1
         ]
        },
        "yaxis": {
         "anchor": "x",
         "domain": [
          0,
          1
         ]
        },
        "yaxis2": {
         "anchor": "x2",
         "domain": [
          0,
          1
         ]
        }
       }
      }
     },
     "metadata": {},
     "output_type": "display_data"
    }
   ],
   "source": [
    "from plotly.subplots import make_subplots\n",
    "import plotly.graph_objects as go\n",
    "\n",
    "_results = pd.DataFrame(results)\n",
    "print(_results.shape)\n",
    "_results.head()\n",
    "\n",
    "fig = make_subplots(rows=1, cols=2)\n",
    "\n",
    "fig.add_trace(\n",
    "    go.Scatter(x=_results['alpha (true)'], y=_results['alpha (pred)'], mode='markers', name='alpha'),\n",
    "    row=1, col=1\n",
    ")\n",
    "\n",
    "# add linear line\n",
    "_x = np.linspace(0,1,100)\n",
    "_y = _x\n",
    "fig.add_trace(go.Scatter(x=_x, y=_y, mode='lines', marker_color='black', name='y=x', showlegend=False),row=1, col=1)\n",
    "\n",
    "fig.add_trace(\n",
    "    go.Scatter(x=_results['theta (true)'], y=_results['theta (pred)'], mode='markers', name='theta'),\n",
    "    row=1, col=2\n",
    ")\n",
    "# add linear line\n",
    "_x = np.linspace(0,10,100)\n",
    "_y = _x\n",
    "fig.add_trace(go.Scatter(x=_x, y=_y, mode='lines', marker_color='black', name='y=x', showlegend=False),row=1, col=2)\n",
    "\n",
    "fig.update_layout(height=600, width=800, title_text=\"Sensitivity Analysis: Parameter Stability Estimate\", template='none')\n",
    "fig.show()"
   ]
  },
  {
   "cell_type": "code",
   "execution_count": null,
   "metadata": {},
   "outputs": [],
   "source": []
  },
  {
   "cell_type": "markdown",
   "metadata": {},
   "source": [
    "# Addtional Plot"
   ]
  },
  {
   "cell_type": "code",
   "execution_count": null,
   "metadata": {},
   "outputs": [],
   "source": []
  },
  {
   "cell_type": "code",
   "execution_count": null,
   "metadata": {},
   "outputs": [
    {
     "data": {
      "image/png": "[encoded data removed]",
      "text/plain": [
       "<Figure size 1200x500 with 1 Axes>"
      ]
     },
     "metadata": {},
     "output_type": "display_data"
    }
   ],
   "source": [
    "\n",
    "\n",
    "ax = RescorlaWagnerPlots.plot_Q_values(srw.c, srw.r, srw.Q_stored.T)\n",
    "ax;"
   ]
  },
  {
   "cell_type": "code",
   "execution_count": null,
   "metadata": {},
   "outputs": [
    {
     "data": {
      "text/plain": [
       "array([[0.5, 0.5],\n",
       "       [0.5, 1. ],\n",
       "       [0.5, 1. ],\n",
       "       [0.5, 1. ],\n",
       "       [0.5, 1. ],\n",
       "       [0.5, 1. ],\n",
       "       [0.5, 1. ],\n",
       "       [0.5, 1. ],\n",
       "       [0.5, 1. ],\n",
       "       [0.5, 1. ],\n",
       "       [0.5, 0. ],\n",
       "       [0. , 0. ],\n",
       "       [0. , 1. ],\n",
       "       [0. , 0. ],\n",
       "       [0. , 1. ],\n",
       "       [0. , 1. ],\n",
       "       [0. , 1. ],\n",
       "       [0. , 1. ],\n",
       "       [0. , 0. ],\n",
       "       [0. , 0. ],\n",
       "       [0. , 0. ],\n",
       "       [0. , 0. ],\n",
       "       [0. , 0. ],\n",
       "       [0. , 0. ],\n",
       "       [1. , 0. ],\n",
       "       [0. , 0. ],\n",
       "       [1. , 0. ],\n",
       "       [0. , 0. ],\n",
       "       [0. , 1. ],\n",
       "       [0. , 1. ],\n",
       "       [0. , 0. ],\n",
       "       [0. , 0. ],\n",
       "       [0. , 0. ],\n",
       "       [0. , 0. ],\n",
       "       [0. , 0. ],\n",
       "       [0. , 0. ],\n",
       "       [0. , 0. ],\n",
       "       [0. , 0. ],\n",
       "       [0. , 1. ],\n",
       "       [0. , 1. ],\n",
       "       [0. , 1. ],\n",
       "       [0. , 1. ],\n",
       "       [0. , 1. ],\n",
       "       [0. , 1. ],\n",
       "       [0. , 1. ],\n",
       "       [0. , 0. ],\n",
       "       [0. , 1. ],\n",
       "       [0. , 1. ],\n",
       "       [0. , 1. ],\n",
       "       [0. , 1. ],\n",
       "       [0. , 1. ],\n",
       "       [0. , 1. ],\n",
       "       [0. , 1. ],\n",
       "       [0. , 1. ],\n",
       "       [0. , 0. ],\n",
       "       [0. , 0. ],\n",
       "       [0. , 0. ],\n",
       "       [0. , 1. ],\n",
       "       [0. , 1. ],\n",
       "       [0. , 1. ],\n",
       "       [0. , 0. ],\n",
       "       [0. , 0. ],\n",
       "       [0. , 0. ],\n",
       "       [0. , 1. ],\n",
       "       [0. , 0. ],\n",
       "       [0. , 0. ],\n",
       "       [0. , 0. ],\n",
       "       [0. , 1. ],\n",
       "       [0. , 1. ],\n",
       "       [0. , 1. ],\n",
       "       [0. , 1. ],\n",
       "       [0. , 1. ],\n",
       "       [0. , 1. ],\n",
       "       [0. , 1. ],\n",
       "       [0. , 1. ],\n",
       "       [0. , 0. ],\n",
       "       [0. , 0. ],\n",
       "       [0. , 0. ],\n",
       "       [0. , 1. ],\n",
       "       [0. , 1. ],\n",
       "       [0. , 1. ],\n",
       "       [0. , 1. ],\n",
       "       [0. , 1. ],\n",
       "       [0. , 1. ],\n",
       "       [0. , 0. ],\n",
       "       [0. , 0. ],\n",
       "       [0. , 0. ],\n",
       "       [0. , 1. ],\n",
       "       [0. , 1. ],\n",
       "       [0. , 1. ],\n",
       "       [0. , 1. ],\n",
       "       [0. , 1. ],\n",
       "       [0. , 0. ],\n",
       "       [0. , 0. ],\n",
       "       [0. , 0. ],\n",
       "       [0. , 1. ],\n",
       "       [0. , 1. ],\n",
       "       [0. , 1. ],\n",
       "       [0. , 1. ],\n",
       "       [0. , 0. ]])"
      ]
     },
     "execution_count": 89,
     "metadata": {},
     "output_type": "execute_result"
    }
   ],
   "source": []
  },
  {
   "cell_type": "code",
   "execution_count": null,
   "metadata": {},
   "outputs": [],
   "source": []
  }
 ],
 "metadata": {
  "kernelspec": {
   "display_name": "Python 3",
   "language": "python",
   "name": "python3"
  },
  "language_info": {
   "codemirror_mode": {
    "name": "ipython",
    "version": 3
   },
   "file_extension": ".py",
   "mimetype": "text/x-python",
   "name": "python",
   "nbconvert_exporter": "python",
   "pygments_lexer": "ipython3",
   "version": "3.12.0"
  }
 },
 "nbformat": 4,
 "nbformat_minor": 2
}
